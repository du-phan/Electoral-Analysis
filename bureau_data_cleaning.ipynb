{
 "cells": [
  {
   "cell_type": "code",
   "execution_count": 124,
   "metadata": {
    "collapsed": true
   },
   "outputs": [],
   "source": [
    "import pandas as pd\n",
    "import numpy as np\n",
    "from IPython.display import Image"
   ]
  },
  {
   "cell_type": "code",
   "execution_count": 125,
   "metadata": {
    "collapsed": false
   },
   "outputs": [],
   "source": [
    "bureau = pd.read_csv('original_data/regionale2015_bureau.txt', sep=\";\", encoding='utf8' )"
   ]
  },
  {
   "cell_type": "code",
   "execution_count": 126,
   "metadata": {
    "collapsed": false
   },
   "outputs": [
    {
     "data": {
      "text/html": [
       "<div>\n",
       "<table border=\"1\" class=\"dataframe\">\n",
       "  <thead>\n",
       "    <tr style=\"text-align: right;\">\n",
       "      <th></th>\n",
       "      <th>NUMTOUR</th>\n",
       "      <th>CODDPT</th>\n",
       "      <th>CODSUBCOM</th>\n",
       "      <th>LIBSUBCOM</th>\n",
       "      <th>CODBURVOT</th>\n",
       "      <th>NBRINS</th>\n",
       "      <th>SUM(M.NBRVOT)</th>\n",
       "      <th>SUM(M.NBREXP)</th>\n",
       "      <th>NUMDEPCAND</th>\n",
       "      <th>NOMPSN</th>\n",
       "      <th>PREPSN</th>\n",
       "      <th>CODNUA</th>\n",
       "      <th>SUM(V.NBRVOIX)</th>\n",
       "    </tr>\n",
       "  </thead>\n",
       "  <tbody>\n",
       "    <tr>\n",
       "      <th>0</th>\n",
       "      <td>1</td>\n",
       "      <td>1</td>\n",
       "      <td>1</td>\n",
       "      <td>L'Abergement-Clémenciat</td>\n",
       "      <td>1</td>\n",
       "      <td>584</td>\n",
       "      <td>323</td>\n",
       "      <td>320</td>\n",
       "      <td>6</td>\n",
       "      <td>QUEYRANNE</td>\n",
       "      <td>Jean-Jack</td>\n",
       "      <td>LUG</td>\n",
       "      <td>76</td>\n",
       "    </tr>\n",
       "    <tr>\n",
       "      <th>1</th>\n",
       "      <td>1</td>\n",
       "      <td>1</td>\n",
       "      <td>1</td>\n",
       "      <td>L'Abergement-Clémenciat</td>\n",
       "      <td>1</td>\n",
       "      <td>584</td>\n",
       "      <td>323</td>\n",
       "      <td>320</td>\n",
       "      <td>8</td>\n",
       "      <td>CUKIERMAN</td>\n",
       "      <td>Cécile</td>\n",
       "      <td>LCOM</td>\n",
       "      <td>8</td>\n",
       "    </tr>\n",
       "    <tr>\n",
       "      <th>2</th>\n",
       "      <td>1</td>\n",
       "      <td>1</td>\n",
       "      <td>1</td>\n",
       "      <td>L'Abergement-Clémenciat</td>\n",
       "      <td>1</td>\n",
       "      <td>584</td>\n",
       "      <td>323</td>\n",
       "      <td>320</td>\n",
       "      <td>5</td>\n",
       "      <td>KOHLHAAS</td>\n",
       "      <td>Jean-Charles</td>\n",
       "      <td>LVEG</td>\n",
       "      <td>15</td>\n",
       "    </tr>\n",
       "    <tr>\n",
       "      <th>3</th>\n",
       "      <td>1</td>\n",
       "      <td>1</td>\n",
       "      <td>1</td>\n",
       "      <td>L'Abergement-Clémenciat</td>\n",
       "      <td>1</td>\n",
       "      <td>584</td>\n",
       "      <td>323</td>\n",
       "      <td>320</td>\n",
       "      <td>7</td>\n",
       "      <td>BOUDOT</td>\n",
       "      <td>Christophe</td>\n",
       "      <td>LFN</td>\n",
       "      <td>109</td>\n",
       "    </tr>\n",
       "    <tr>\n",
       "      <th>4</th>\n",
       "      <td>1</td>\n",
       "      <td>1</td>\n",
       "      <td>1</td>\n",
       "      <td>L'Abergement-Clémenciat</td>\n",
       "      <td>1</td>\n",
       "      <td>584</td>\n",
       "      <td>323</td>\n",
       "      <td>320</td>\n",
       "      <td>3</td>\n",
       "      <td>FÉDÈLE</td>\n",
       "      <td>Alain</td>\n",
       "      <td>LDIV</td>\n",
       "      <td>1</td>\n",
       "    </tr>\n",
       "  </tbody>\n",
       "</table>\n",
       "</div>"
      ],
      "text/plain": [
       "   NUMTOUR CODDPT  CODSUBCOM                LIBSUBCOM CODBURVOT  NBRINS  \\\n",
       "0        1      1          1  L'Abergement-Clémenciat         1     584   \n",
       "1        1      1          1  L'Abergement-Clémenciat         1     584   \n",
       "2        1      1          1  L'Abergement-Clémenciat         1     584   \n",
       "3        1      1          1  L'Abergement-Clémenciat         1     584   \n",
       "4        1      1          1  L'Abergement-Clémenciat         1     584   \n",
       "\n",
       "   SUM(M.NBRVOT)  SUM(M.NBREXP)  NUMDEPCAND     NOMPSN        PREPSN CODNUA  \\\n",
       "0            323            320           6  QUEYRANNE     Jean-Jack    LUG   \n",
       "1            323            320           8  CUKIERMAN        Cécile   LCOM   \n",
       "2            323            320           5   KOHLHAAS  Jean-Charles   LVEG   \n",
       "3            323            320           7     BOUDOT    Christophe    LFN   \n",
       "4            323            320           3     FÉDÈLE         Alain   LDIV   \n",
       "\n",
       "   SUM(V.NBRVOIX)  \n",
       "0              76  \n",
       "1               8  \n",
       "2              15  \n",
       "3             109  \n",
       "4               1  "
      ]
     },
     "execution_count": 126,
     "metadata": {},
     "output_type": "execute_result"
    }
   ],
   "source": [
    "bureau.head()"
   ]
  },
  {
   "cell_type": "code",
   "execution_count": 127,
   "metadata": {
    "collapsed": true
   },
   "outputs": [],
   "source": [
    "import unicodedata\n",
    "\n",
    "def unicode_to_string(word):\n",
    "    if word == False: # there are some town that are named Faux, which confused the program \n",
    "        word = u'Faux'\n",
    "    if pd.isnull(word):\n",
    "        return \n",
    "    else:\n",
    "        return unicodedata.normalize('NFKD', word).encode('ascii','ignore')\n",
    "    \n",
    "def data_to_string(data):\n",
    "    new_data = data.copy()\n",
    "    \n",
    "    #col_title_unicode = new_data.columns.values.tolist()\n",
    "    #col_title = map(unicode_to_string,col_title_unicode)\n",
    "    #new_data.columns = col_title\n",
    "    \n",
    "    for col in new_data.columns:\n",
    "        not_nan_index = [not ind for ind in new_data[col].isnull()]\n",
    "        not_nan_value = new_data[col][not_nan_index]\n",
    "        if type(not_nan_value.iloc[0]) == unicode: #check the first not-NaN value\n",
    "            new_data[col] = map(unicode_to_string,new_data[col]) \n",
    "    return new_data"
   ]
  },
  {
   "cell_type": "code",
   "execution_count": 128,
   "metadata": {
    "collapsed": false
   },
   "outputs": [],
   "source": [
    "bureau = data_to_string(bureau)"
   ]
  },
  {
   "cell_type": "code",
   "execution_count": 129,
   "metadata": {
    "collapsed": false
   },
   "outputs": [
    {
     "data": {
      "text/plain": [
       "str"
      ]
     },
     "execution_count": 129,
     "metadata": {},
     "output_type": "execute_result"
    }
   ],
   "source": [
    "type(bureau['LIBSUBCOM'][1])"
   ]
  },
  {
   "cell_type": "code",
   "execution_count": 134,
   "metadata": {
    "collapsed": false
   },
   "outputs": [
    {
     "data": {
      "text/html": [
       "<div>\n",
       "<table border=\"1\" class=\"dataframe\">\n",
       "  <thead>\n",
       "    <tr style=\"text-align: right;\">\n",
       "      <th></th>\n",
       "      <th>NUMTOUR</th>\n",
       "      <th>CODDPT</th>\n",
       "      <th>CODSUBCOM</th>\n",
       "      <th>LIBSUBCOM</th>\n",
       "      <th>CODBURVOT</th>\n",
       "      <th>NBRINS</th>\n",
       "      <th>SUM(M.NBRVOT)</th>\n",
       "      <th>SUM(M.NBREXP)</th>\n",
       "      <th>NUMDEPCAND</th>\n",
       "      <th>NOMPSN</th>\n",
       "      <th>PREPSN</th>\n",
       "      <th>CODNUA</th>\n",
       "      <th>SUM(V.NBRVOIX)</th>\n",
       "    </tr>\n",
       "  </thead>\n",
       "  <tbody>\n",
       "    <tr>\n",
       "      <th>14436</th>\n",
       "      <td>1</td>\n",
       "      <td>3</td>\n",
       "      <td>31</td>\n",
       "      <td>Bizeneuille</td>\n",
       "      <td>1</td>\n",
       "      <td>227</td>\n",
       "      <td>139</td>\n",
       "      <td>134</td>\n",
       "      <td>4</td>\n",
       "      <td>RAMBAUD</td>\n",
       "      <td>Gerbert</td>\n",
       "      <td>LDLF</td>\n",
       "      <td>5</td>\n",
       "    </tr>\n",
       "    <tr>\n",
       "      <th>14437</th>\n",
       "      <td>1</td>\n",
       "      <td>3</td>\n",
       "      <td>31</td>\n",
       "      <td>Bizeneuille</td>\n",
       "      <td>1</td>\n",
       "      <td>227</td>\n",
       "      <td>139</td>\n",
       "      <td>134</td>\n",
       "      <td>7</td>\n",
       "      <td>BOUDOT</td>\n",
       "      <td>Christophe</td>\n",
       "      <td>LFN</td>\n",
       "      <td>25</td>\n",
       "    </tr>\n",
       "    <tr>\n",
       "      <th>14438</th>\n",
       "      <td>1</td>\n",
       "      <td>3</td>\n",
       "      <td>31</td>\n",
       "      <td>Bizeneuille</td>\n",
       "      <td>1</td>\n",
       "      <td>227</td>\n",
       "      <td>139</td>\n",
       "      <td>134</td>\n",
       "      <td>6</td>\n",
       "      <td>QUEYRANNE</td>\n",
       "      <td>Jean-Jack</td>\n",
       "      <td>LUG</td>\n",
       "      <td>34</td>\n",
       "    </tr>\n",
       "    <tr>\n",
       "      <th>14439</th>\n",
       "      <td>1</td>\n",
       "      <td>3</td>\n",
       "      <td>31</td>\n",
       "      <td>Bizeneuille</td>\n",
       "      <td>1</td>\n",
       "      <td>227</td>\n",
       "      <td>139</td>\n",
       "      <td>134</td>\n",
       "      <td>9</td>\n",
       "      <td>WAUQUIEZ</td>\n",
       "      <td>Laurent</td>\n",
       "      <td>LUD</td>\n",
       "      <td>50</td>\n",
       "    </tr>\n",
       "    <tr>\n",
       "      <th>14440</th>\n",
       "      <td>1</td>\n",
       "      <td>3</td>\n",
       "      <td>31</td>\n",
       "      <td>Bizeneuille</td>\n",
       "      <td>1</td>\n",
       "      <td>227</td>\n",
       "      <td>139</td>\n",
       "      <td>134</td>\n",
       "      <td>2</td>\n",
       "      <td>GOMEZ</td>\n",
       "      <td>Chantal</td>\n",
       "      <td>LEXG</td>\n",
       "      <td>3</td>\n",
       "    </tr>\n",
       "    <tr>\n",
       "      <th>14441</th>\n",
       "      <td>1</td>\n",
       "      <td>3</td>\n",
       "      <td>31</td>\n",
       "      <td>Bizeneuille</td>\n",
       "      <td>1</td>\n",
       "      <td>227</td>\n",
       "      <td>139</td>\n",
       "      <td>134</td>\n",
       "      <td>8</td>\n",
       "      <td>CUKIERMAN</td>\n",
       "      <td>Cecile</td>\n",
       "      <td>LCOM</td>\n",
       "      <td>14</td>\n",
       "    </tr>\n",
       "    <tr>\n",
       "      <th>14442</th>\n",
       "      <td>1</td>\n",
       "      <td>3</td>\n",
       "      <td>31</td>\n",
       "      <td>Bizeneuille</td>\n",
       "      <td>1</td>\n",
       "      <td>227</td>\n",
       "      <td>139</td>\n",
       "      <td>134</td>\n",
       "      <td>5</td>\n",
       "      <td>KOHLHAAS</td>\n",
       "      <td>Jean-Charles</td>\n",
       "      <td>LVEG</td>\n",
       "      <td>3</td>\n",
       "    </tr>\n",
       "    <tr>\n",
       "      <th>14443</th>\n",
       "      <td>1</td>\n",
       "      <td>3</td>\n",
       "      <td>31</td>\n",
       "      <td>Bizeneuille</td>\n",
       "      <td>1</td>\n",
       "      <td>227</td>\n",
       "      <td>139</td>\n",
       "      <td>134</td>\n",
       "      <td>10</td>\n",
       "      <td>LAFOND</td>\n",
       "      <td>Eric</td>\n",
       "      <td>LDVD</td>\n",
       "      <td>0</td>\n",
       "    </tr>\n",
       "    <tr>\n",
       "      <th>14444</th>\n",
       "      <td>1</td>\n",
       "      <td>3</td>\n",
       "      <td>31</td>\n",
       "      <td>Bizeneuille</td>\n",
       "      <td>1</td>\n",
       "      <td>227</td>\n",
       "      <td>139</td>\n",
       "      <td>134</td>\n",
       "      <td>3</td>\n",
       "      <td>FEDELE</td>\n",
       "      <td>Alain</td>\n",
       "      <td>LDIV</td>\n",
       "      <td>0</td>\n",
       "    </tr>\n",
       "  </tbody>\n",
       "</table>\n",
       "</div>"
      ],
      "text/plain": [
       "       NUMTOUR CODDPT  CODSUBCOM    LIBSUBCOM CODBURVOT  NBRINS  \\\n",
       "14436        1      3         31  Bizeneuille         1     227   \n",
       "14437        1      3         31  Bizeneuille         1     227   \n",
       "14438        1      3         31  Bizeneuille         1     227   \n",
       "14439        1      3         31  Bizeneuille         1     227   \n",
       "14440        1      3         31  Bizeneuille         1     227   \n",
       "14441        1      3         31  Bizeneuille         1     227   \n",
       "14442        1      3         31  Bizeneuille         1     227   \n",
       "14443        1      3         31  Bizeneuille         1     227   \n",
       "14444        1      3         31  Bizeneuille         1     227   \n",
       "\n",
       "       SUM(M.NBRVOT)  SUM(M.NBREXP)  NUMDEPCAND     NOMPSN        PREPSN  \\\n",
       "14436            139            134           4    RAMBAUD       Gerbert   \n",
       "14437            139            134           7     BOUDOT    Christophe   \n",
       "14438            139            134           6  QUEYRANNE     Jean-Jack   \n",
       "14439            139            134           9   WAUQUIEZ       Laurent   \n",
       "14440            139            134           2      GOMEZ       Chantal   \n",
       "14441            139            134           8  CUKIERMAN        Cecile   \n",
       "14442            139            134           5   KOHLHAAS  Jean-Charles   \n",
       "14443            139            134          10     LAFOND          Eric   \n",
       "14444            139            134           3     FEDELE         Alain   \n",
       "\n",
       "      CODNUA  SUM(V.NBRVOIX)  \n",
       "14436   LDLF               5  \n",
       "14437    LFN              25  \n",
       "14438    LUG              34  \n",
       "14439    LUD              50  \n",
       "14440   LEXG               3  \n",
       "14441   LCOM              14  \n",
       "14442   LVEG               3  \n",
       "14443   LDVD               0  \n",
       "14444   LDIV               0  "
      ]
     },
     "execution_count": 134,
     "metadata": {},
     "output_type": "execute_result"
    }
   ],
   "source": [
    "bureau[bureau['LIBSUBCOM'] == 'Bizeneuille']"
   ]
  },
  {
   "cell_type": "code",
   "execution_count": 116,
   "metadata": {
    "collapsed": false
   },
   "outputs": [],
   "source": [
    "abzac = bureau[(bureau['LIBSUBCOM'] == 'Merignac') & (bureau['CODDPT']==33)]"
   ]
  },
  {
   "cell_type": "code",
   "execution_count": 119,
   "metadata": {
    "collapsed": false
   },
   "outputs": [
    {
     "data": {
      "text/plain": [
       "50"
      ]
     },
     "execution_count": 119,
     "metadata": {},
     "output_type": "execute_result"
    }
   ],
   "source": [
    "len(abzac['CODBURVOT'].unique())"
   ]
  },
  {
   "cell_type": "code",
   "execution_count": null,
   "metadata": {
    "collapsed": true
   },
   "outputs": [],
   "source": []
  },
  {
   "cell_type": "code",
   "execution_count": null,
   "metadata": {
    "collapsed": true
   },
   "outputs": [],
   "source": []
  },
  {
   "cell_type": "code",
   "execution_count": null,
   "metadata": {
    "collapsed": true
   },
   "outputs": [],
   "source": []
  },
  {
   "cell_type": "code",
   "execution_count": 116,
   "metadata": {
    "collapsed": true
   },
   "outputs": [],
   "source": [
    "t = df[df['LIBSUBCOM'] == 'Olivet']"
   ]
  },
  {
   "cell_type": "code",
   "execution_count": 118,
   "metadata": {
    "collapsed": false
   },
   "outputs": [
    {
     "data": {
      "text/plain": [
       "array([1L, 2L, 3L, 4L, 5L, 6L, 7L, 8L, 9L, 10L, 11L, 12L, 13L, 14L, 15L,\n",
       "       16L, 17L], dtype=object)"
      ]
     },
     "execution_count": 118,
     "metadata": {},
     "output_type": "execute_result"
    }
   ],
   "source": [
    "t['CODBURVOT'].unique()"
   ]
  },
  {
   "cell_type": "code",
   "execution_count": null,
   "metadata": {
    "collapsed": true
   },
   "outputs": [],
   "source": []
  },
  {
   "cell_type": "code",
   "execution_count": null,
   "metadata": {
    "collapsed": true
   },
   "outputs": [],
   "source": []
  },
  {
   "cell_type": "code",
   "execution_count": null,
   "metadata": {
    "collapsed": true
   },
   "outputs": [],
   "source": []
  },
  {
   "cell_type": "code",
   "execution_count": 77,
   "metadata": {
    "collapsed": false
   },
   "outputs": [],
   "source": [
    "montpellier = df.loc[df['LIBSUBCOM'] == 'Montpellier']"
   ]
  },
  {
   "cell_type": "code",
   "execution_count": 78,
   "metadata": {
    "collapsed": false
   },
   "outputs": [
    {
     "data": {
      "text/plain": [
       "array([1L, 2L, 3L, 4L, 5L, 6L, 7L, 8L, 9L, 10L, 11L, 12L, 13L, 14L, 15L,\n",
       "       16L, 17L, 18L, 19L, 20L, 21L, 22L, 23L, 24L, 25L, 26L, 27L, 28L,\n",
       "       29L, 30L, 31L, 32L, 33L, 34L, 35L, 36L, 37L, 38L, 39L, 40L, 41L,\n",
       "       42L, 43L, 44L, 45L, 46L, 47L, 48L, 49L, 50L, 51L, 52L, 53L, 54L,\n",
       "       55L, 56L, 57L, 58L, 59L, 60L, 61L, 62L, 64L, 65L, 66L, 67L, 68L,\n",
       "       69L, 70L, 71L, 72L, 73L, 74L, 75L, 76L, 77L, 78L, 79L, 80L, 81L,\n",
       "       82L, 83L, 84L, 85L, 86L, 87L, 88L, 89L, 90L, 91L, 92L, 93L, 94L,\n",
       "       95L, 96L, 97L, 98L, 99L, 100L, 101L, 102L, 103L, 104L, 105L, 106L,\n",
       "       107L, 108L, 109L, 110L, 111L, 112L, 113L, 114L, 115L, 116L, 117L,\n",
       "       118L, 119L, 120L, 121L, 122L, 123L, 124L, 125L, 126L, 127L, 128L,\n",
       "       129L, 130L, 131L, 132L, 133L, 134L, 630L], dtype=object)"
      ]
     },
     "execution_count": 78,
     "metadata": {},
     "output_type": "execute_result"
    }
   ],
   "source": [
    "montpellier['CODBURVOT'].unique()"
   ]
  },
  {
   "cell_type": "code",
   "execution_count": 84,
   "metadata": {
    "collapsed": true
   },
   "outputs": [],
   "source": [
    "metz = df.loc[df['LIBSUBCOM']=='Metz']"
   ]
  },
  {
   "cell_type": "code",
   "execution_count": 86,
   "metadata": {
    "collapsed": false
   },
   "outputs": [
    {
     "data": {
      "text/plain": [
       "array([101L, 111L, 121L, 122L, 131L, 132L, 141L, 151L, 152L, 161L, 171L,\n",
       "       172L, 175L, 181L, 182L, 185L, 186L, 191L, 192L, 195L, 196L, 197L,\n",
       "       198L, 201L, 211L, 212L, 221L, 225L, 226L, 231L, 241L, 242L, 251L,\n",
       "       252L, 261L, 262L, 263L, 271L, 272L, 281L, 282L, 283L, 291L, 292L,\n",
       "       293L, 301L, 302L, 303L, 321L, 322L, 323L, 331L, 332L, 341L, 342L,\n",
       "       343L, 351L, 352L, 353L, 361L, 362L, 371L, 372L, 373L, 381L, 382L,\n",
       "       383L, 385L, 391L, 392L, 395L], dtype=object)"
      ]
     },
     "execution_count": 86,
     "metadata": {},
     "output_type": "execute_result"
    }
   ],
   "source": [
    "metz['CODBURVOT'].unique()"
   ]
  },
  {
   "cell_type": "code",
   "execution_count": 46,
   "metadata": {
    "collapsed": true
   },
   "outputs": [],
   "source": [
    "df2 = pd.read_csv('original_data/comsimp2015.csv')"
   ]
  },
  {
   "cell_type": "code",
   "execution_count": 49,
   "metadata": {
    "collapsed": false
   },
   "outputs": [
    {
     "data": {
      "image/png": "[encoded data removed]",
      "text/plain": [
       "<IPython.core.display.Image object>"
      ]
     },
     "execution_count": 49,
     "metadata": {},
     "output_type": "execute_result"
    }
   ],
   "source": [
    "Image(filename='images/canton.png') "
   ]
  },
  {
   "cell_type": "code",
   "execution_count": 69,
   "metadata": {
    "collapsed": false
   },
   "outputs": [
    {
     "data": {
      "text/html": [
       "<div>\n",
       "<table border=\"1\" class=\"dataframe\">\n",
       "  <thead>\n",
       "    <tr style=\"text-align: right;\">\n",
       "      <th></th>\n",
       "      <th>CDC</th>\n",
       "      <th>CHEFLIEU</th>\n",
       "      <th>REG</th>\n",
       "      <th>DEP</th>\n",
       "      <th>COM</th>\n",
       "      <th>AR</th>\n",
       "      <th>CT</th>\n",
       "      <th>TNCC</th>\n",
       "      <th>ARTMAJ</th>\n",
       "      <th>NCC</th>\n",
       "      <th>ARTMIN</th>\n",
       "      <th>NCCENR</th>\n",
       "    </tr>\n",
       "  </thead>\n",
       "  <tbody>\n",
       "    <tr>\n",
       "      <th>2014</th>\n",
       "      <td>1</td>\n",
       "      <td>3</td>\n",
       "      <td>93</td>\n",
       "      <td>6</td>\n",
       "      <td>88</td>\n",
       "      <td>2</td>\n",
       "      <td>99</td>\n",
       "      <td>0</td>\n",
       "      <td>NaN</td>\n",
       "      <td>NICE</td>\n",
       "      <td>NaN</td>\n",
       "      <td>Nice</td>\n",
       "    </tr>\n",
       "  </tbody>\n",
       "</table>\n",
       "</div>"
      ],
      "text/plain": [
       "      CDC  CHEFLIEU  REG DEP  COM  AR  CT  TNCC ARTMAJ   NCC ARTMIN NCCENR\n",
       "2014    1         3   93   6   88   2  99     0    NaN  NICE    NaN   Nice"
      ]
     },
     "execution_count": 69,
     "metadata": {},
     "output_type": "execute_result"
    }
   ],
   "source": [
    "df2[(df2['DEP']=='6') &(df2['COM']==88)]"
   ]
  },
  {
   "cell_type": "code",
   "execution_count": null,
   "metadata": {
    "collapsed": true
   },
   "outputs": [],
   "source": [
    "t = df['df']"
   ]
  },
  {
   "cell_type": "code",
   "execution_count": null,
   "metadata": {
    "collapsed": true
   },
   "outputs": [],
   "source": []
  },
  {
   "cell_type": "code",
   "execution_count": null,
   "metadata": {
    "collapsed": true
   },
   "outputs": [],
   "source": []
  },
  {
   "cell_type": "code",
   "execution_count": null,
   "metadata": {
    "collapsed": true
   },
   "outputs": [],
   "source": []
  },
  {
   "cell_type": "code",
   "execution_count": 23,
   "metadata": {
    "collapsed": false
   },
   "outputs": [
    {
     "data": {
      "text/plain": [
       "(679967, 13)"
      ]
     },
     "execution_count": 23,
     "metadata": {},
     "output_type": "execute_result"
    }
   ],
   "source": [
    "df.shape "
   ]
  },
  {
   "cell_type": "code",
   "execution_count": 19,
   "metadata": {
    "collapsed": false
   },
   "outputs": [],
   "source": [
    "test = df[df['LIBSUBCOM']=='Nice'].copy()"
   ]
  },
  {
   "cell_type": "code",
   "execution_count": 21,
   "metadata": {
    "collapsed": false
   },
   "outputs": [
    {
     "data": {
      "text/html": [
       "<div>\n",
       "<table border=\"1\" class=\"dataframe\">\n",
       "  <thead>\n",
       "    <tr style=\"text-align: right;\">\n",
       "      <th></th>\n",
       "      <th>NUMTOUR</th>\n",
       "      <th>CODDPT</th>\n",
       "      <th>CODSUBCOM</th>\n",
       "      <th>LIBSUBCOM</th>\n",
       "      <th>CODBURVOT</th>\n",
       "      <th>NBRINS</th>\n",
       "      <th>SUM(M.NBRVOT)</th>\n",
       "      <th>SUM(M.NBREXP)</th>\n",
       "      <th>NUMDEPCAND</th>\n",
       "      <th>NOMPSN</th>\n",
       "      <th>PREPSN</th>\n",
       "      <th>CODNUA</th>\n",
       "      <th>SUM(V.NBRVOIX)</th>\n",
       "    </tr>\n",
       "  </thead>\n",
       "  <tbody>\n",
       "    <tr>\n",
       "      <th>27583</th>\n",
       "      <td>1</td>\n",
       "      <td>6</td>\n",
       "      <td>88</td>\n",
       "      <td>Nice</td>\n",
       "      <td>101</td>\n",
       "      <td>824</td>\n",
       "      <td>376</td>\n",
       "      <td>372</td>\n",
       "      <td>2</td>\n",
       "      <td>ROMANI</td>\n",
       "      <td>Daniel</td>\n",
       "      <td>LDIV</td>\n",
       "      <td>3</td>\n",
       "    </tr>\n",
       "    <tr>\n",
       "      <th>27584</th>\n",
       "      <td>1</td>\n",
       "      <td>6</td>\n",
       "      <td>88</td>\n",
       "      <td>Nice</td>\n",
       "      <td>101</td>\n",
       "      <td>824</td>\n",
       "      <td>376</td>\n",
       "      <td>372</td>\n",
       "      <td>6</td>\n",
       "      <td>CAMARD</td>\n",
       "      <td>Sophie</td>\n",
       "      <td>LVEG</td>\n",
       "      <td>11</td>\n",
       "    </tr>\n",
       "    <tr>\n",
       "      <th>27585</th>\n",
       "      <td>1</td>\n",
       "      <td>6</td>\n",
       "      <td>88</td>\n",
       "      <td>Nice</td>\n",
       "      <td>101</td>\n",
       "      <td>824</td>\n",
       "      <td>376</td>\n",
       "      <td>372</td>\n",
       "      <td>10</td>\n",
       "      <td>GOVERNATORI</td>\n",
       "      <td>Jean Marc</td>\n",
       "      <td>LECO</td>\n",
       "      <td>11</td>\n",
       "    </tr>\n",
       "    <tr>\n",
       "      <th>27586</th>\n",
       "      <td>1</td>\n",
       "      <td>6</td>\n",
       "      <td>88</td>\n",
       "      <td>Nice</td>\n",
       "      <td>101</td>\n",
       "      <td>824</td>\n",
       "      <td>376</td>\n",
       "      <td>372</td>\n",
       "      <td>5</td>\n",
       "      <td>MAR�CHAL-LE PEN</td>\n",
       "      <td>Marion</td>\n",
       "      <td>LFN</td>\n",
       "      <td>93</td>\n",
       "    </tr>\n",
       "    <tr>\n",
       "      <th>27587</th>\n",
       "      <td>1</td>\n",
       "      <td>6</td>\n",
       "      <td>88</td>\n",
       "      <td>Nice</td>\n",
       "      <td>101</td>\n",
       "      <td>824</td>\n",
       "      <td>376</td>\n",
       "      <td>372</td>\n",
       "      <td>3</td>\n",
       "      <td>BONNET</td>\n",
       "      <td>Isabelle</td>\n",
       "      <td>LEXG</td>\n",
       "      <td>4</td>\n",
       "    </tr>\n",
       "  </tbody>\n",
       "</table>\n",
       "</div>"
      ],
      "text/plain": [
       "       NUMTOUR CODDPT  CODSUBCOM LIBSUBCOM CODBURVOT  NBRINS  SUM(M.NBRVOT)  \\\n",
       "27583        1      6         88      Nice       101     824            376   \n",
       "27584        1      6         88      Nice       101     824            376   \n",
       "27585        1      6         88      Nice       101     824            376   \n",
       "27586        1      6         88      Nice       101     824            376   \n",
       "27587        1      6         88      Nice       101     824            376   \n",
       "\n",
       "       SUM(M.NBREXP)  NUMDEPCAND           NOMPSN     PREPSN CODNUA  \\\n",
       "27583            372           2           ROMANI     Daniel   LDIV   \n",
       "27584            372           6           CAMARD     Sophie   LVEG   \n",
       "27585            372          10      GOVERNATORI  Jean Marc   LECO   \n",
       "27586            372           5  MAR�CHAL-LE PEN     Marion    LFN   \n",
       "27587            372           3           BONNET   Isabelle   LEXG   \n",
       "\n",
       "       SUM(V.NBRVOIX)  \n",
       "27583               3  \n",
       "27584              11  \n",
       "27585              11  \n",
       "27586              93  \n",
       "27587               4  "
      ]
     },
     "execution_count": 21,
     "metadata": {},
     "output_type": "execute_result"
    }
   ],
   "source": [
    "test.head()"
   ]
  },
  {
   "cell_type": "code",
   "execution_count": 133,
   "metadata": {
    "collapsed": false
   },
   "outputs": [
    {
     "data": {
      "text/html": [
       "<div>\n",
       "<table border=\"1\" class=\"dataframe\">\n",
       "  <thead>\n",
       "    <tr style=\"text-align: right;\">\n",
       "      <th></th>\n",
       "      <th>NUMTOUR</th>\n",
       "      <th>CODDPT</th>\n",
       "      <th>CODSUBCOM</th>\n",
       "      <th>LIBSUBCOM</th>\n",
       "      <th>CODBURVOT</th>\n",
       "      <th>NBRINS</th>\n",
       "      <th>SUM(M.NBRVOT)</th>\n",
       "      <th>SUM(M.NBREXP)</th>\n",
       "      <th>NUMDEPCAND</th>\n",
       "      <th>NOMPSN</th>\n",
       "      <th>PREPSN</th>\n",
       "      <th>CODNUA</th>\n",
       "      <th>SUM(V.NBRVOIX)</th>\n",
       "    </tr>\n",
       "  </thead>\n",
       "  <tbody>\n",
       "    <tr>\n",
       "      <th>0</th>\n",
       "      <td>1</td>\n",
       "      <td>1</td>\n",
       "      <td>1</td>\n",
       "      <td>L'Abergement-Cl�menciat</td>\n",
       "      <td>1</td>\n",
       "      <td>584</td>\n",
       "      <td>323</td>\n",
       "      <td>320</td>\n",
       "      <td>6</td>\n",
       "      <td>QUEYRANNE</td>\n",
       "      <td>Jean-Jack</td>\n",
       "      <td>LUG</td>\n",
       "      <td>76</td>\n",
       "    </tr>\n",
       "    <tr>\n",
       "      <th>1</th>\n",
       "      <td>1</td>\n",
       "      <td>1</td>\n",
       "      <td>1</td>\n",
       "      <td>L'Abergement-Cl�menciat</td>\n",
       "      <td>1</td>\n",
       "      <td>584</td>\n",
       "      <td>323</td>\n",
       "      <td>320</td>\n",
       "      <td>8</td>\n",
       "      <td>CUKIERMAN</td>\n",
       "      <td>C�cile</td>\n",
       "      <td>LCOM</td>\n",
       "      <td>8</td>\n",
       "    </tr>\n",
       "    <tr>\n",
       "      <th>2</th>\n",
       "      <td>1</td>\n",
       "      <td>1</td>\n",
       "      <td>1</td>\n",
       "      <td>L'Abergement-Cl�menciat</td>\n",
       "      <td>1</td>\n",
       "      <td>584</td>\n",
       "      <td>323</td>\n",
       "      <td>320</td>\n",
       "      <td>5</td>\n",
       "      <td>KOHLHAAS</td>\n",
       "      <td>Jean-Charles</td>\n",
       "      <td>LVEG</td>\n",
       "      <td>15</td>\n",
       "    </tr>\n",
       "    <tr>\n",
       "      <th>3</th>\n",
       "      <td>1</td>\n",
       "      <td>1</td>\n",
       "      <td>1</td>\n",
       "      <td>L'Abergement-Cl�menciat</td>\n",
       "      <td>1</td>\n",
       "      <td>584</td>\n",
       "      <td>323</td>\n",
       "      <td>320</td>\n",
       "      <td>7</td>\n",
       "      <td>BOUDOT</td>\n",
       "      <td>Christophe</td>\n",
       "      <td>LFN</td>\n",
       "      <td>109</td>\n",
       "    </tr>\n",
       "    <tr>\n",
       "      <th>4</th>\n",
       "      <td>1</td>\n",
       "      <td>1</td>\n",
       "      <td>1</td>\n",
       "      <td>L'Abergement-Cl�menciat</td>\n",
       "      <td>1</td>\n",
       "      <td>584</td>\n",
       "      <td>323</td>\n",
       "      <td>320</td>\n",
       "      <td>3</td>\n",
       "      <td>F�D�LE</td>\n",
       "      <td>Alain</td>\n",
       "      <td>LDIV</td>\n",
       "      <td>1</td>\n",
       "    </tr>\n",
       "  </tbody>\n",
       "</table>\n",
       "</div>"
      ],
      "text/plain": [
       "   NUMTOUR CODDPT  CODSUBCOM                LIBSUBCOM CODBURVOT  NBRINS  \\\n",
       "0        1      1          1  L'Abergement-Cl�menciat         1     584   \n",
       "1        1      1          1  L'Abergement-Cl�menciat         1     584   \n",
       "2        1      1          1  L'Abergement-Cl�menciat         1     584   \n",
       "3        1      1          1  L'Abergement-Cl�menciat         1     584   \n",
       "4        1      1          1  L'Abergement-Cl�menciat         1     584   \n",
       "\n",
       "   SUM(M.NBRVOT)  SUM(M.NBREXP)  NUMDEPCAND     NOMPSN        PREPSN CODNUA  \\\n",
       "0            323            320           6  QUEYRANNE     Jean-Jack    LUG   \n",
       "1            323            320           8  CUKIERMAN        C�cile   LCOM   \n",
       "2            323            320           5   KOHLHAAS  Jean-Charles   LVEG   \n",
       "3            323            320           7     BOUDOT    Christophe    LFN   \n",
       "4            323            320           3     F�D�LE         Alain   LDIV   \n",
       "\n",
       "   SUM(V.NBRVOIX)  \n",
       "0              76  \n",
       "1               8  \n",
       "2              15  \n",
       "3             109  \n",
       "4               1  "
      ]
     },
     "execution_count": 133,
     "metadata": {},
     "output_type": "execute_result"
    }
   ],
   "source": [
    "bureau.head()"
   ]
  },
  {
   "cell_type": "code",
   "execution_count": 143,
   "metadata": {
    "collapsed": false
   },
   "outputs": [
    {
     "data": {
      "text/plain": [
       "(679967, 13)"
      ]
     },
     "execution_count": 143,
     "metadata": {},
     "output_type": "execute_result"
    }
   ],
   "source": [
    "bureau.shape"
   ]
  },
  {
   "cell_type": "code",
   "execution_count": 120,
   "metadata": {
    "collapsed": true
   },
   "outputs": [],
   "source": [
    "test2 = bureau.groupby(['LIBSUBCOM','CODBURVOT']).size()"
   ]
  },
  {
   "cell_type": "code",
   "execution_count": 122,
   "metadata": {
    "collapsed": false
   },
   "outputs": [
    {
     "data": {
      "text/plain": [
       "LIBSUBCOM               CODBURVOT\n",
       "Aast                    1            10\n",
       "Abainville              1             9\n",
       "Abancourt               1            18\n",
       "Abaucourt               1             9\n",
       "Abaucourt-Hautecourt    1             9\n",
       "Abbans-Dessous          0001         10\n",
       "Abbans-Dessus           0001         10\n",
       "Abbaretz                1            10\n",
       "Abbecourt               1            18\n",
       "Abbenans                0001         10\n",
       "Abbeville               1             9\n",
       "                        2             9\n",
       "                        3             9\n",
       "                        4             9\n",
       "                        5             9\n",
       "                        6             9\n",
       "                        7             9\n",
       "                        8             9\n",
       "                        9             9\n",
       "                        10            9\n",
       "                        11            9\n",
       "                        12            9\n",
       "                        13            9\n",
       "                        14            9\n",
       "                        15            9\n",
       "                        16            9\n",
       "                        17            9\n",
       "Abbeville-Saint-Lucien  1             9\n",
       "Abbeville-la-Riviere    1            13\n",
       "Abbeville-les-Conflans  1             9\n",
       "                                     ..\n",
       "Zetting                 2             9\n",
       "Zevaco                  1            12\n",
       "Zicavo                  1            12\n",
       "Zigliara                1            12\n",
       "Zilia                   1            12\n",
       "Zilling                 1             9\n",
       "Zillisheim              1             9\n",
       "                        2             9\n",
       "                        3             9\n",
       "Zimmerbach              1             9\n",
       "Zimmersheim             1             9\n",
       "Zimming                 1             9\n",
       "Zincourt                1             9\n",
       "Zinswiller              1             9\n",
       "Zittersheim             1             9\n",
       "Zoebersdorf             1             9\n",
       "Zommange                1             9\n",
       "Zonza                   1            12\n",
       "                        2            12\n",
       "                        3            12\n",
       "Zoteux                  1             9\n",
       "Zouafques               1             9\n",
       "Zoufftgen               1             9\n",
       "Zoza                    1            12\n",
       "Zuani                   1            12\n",
       "Zudausques              1             9\n",
       "Zutkerque               1             9\n",
       "                        2             9\n",
       "Zuydcoote               1             9\n",
       "Zuytpeene               1             9\n",
       "dtype: int64"
      ]
     },
     "execution_count": 122,
     "metadata": {},
     "output_type": "execute_result"
    }
   ],
   "source": [
    "test2"
   ]
  },
  {
   "cell_type": "code",
   "execution_count": 121,
   "metadata": {
    "collapsed": false
   },
   "outputs": [
    {
     "data": {
      "text/plain": [
       "65394"
      ]
     },
     "execution_count": 121,
     "metadata": {},
     "output_type": "execute_result"
    }
   ],
   "source": [
    "len(test2)"
   ]
  },
  {
   "cell_type": "code",
   "execution_count": 123,
   "metadata": {
    "collapsed": false
   },
   "outputs": [
    {
     "data": {
      "text/plain": [
       "(679967, 13)"
      ]
     },
     "execution_count": 123,
     "metadata": {},
     "output_type": "execute_result"
    }
   ],
   "source": [
    "bureau.shape"
   ]
  },
  {
   "cell_type": "code",
   "execution_count": 138,
   "metadata": {
    "collapsed": false
   },
   "outputs": [
    {
     "data": {
      "text/plain": [
       "18"
      ]
     },
     "execution_count": 138,
     "metadata": {},
     "output_type": "execute_result"
    }
   ],
   "source": [
    "test2[2]"
   ]
  },
  {
   "cell_type": "code",
   "execution_count": null,
   "metadata": {
    "collapsed": true
   },
   "outputs": [],
   "source": []
  },
  {
   "cell_type": "code",
   "execution_count": null,
   "metadata": {
    "collapsed": true
   },
   "outputs": [],
   "source": []
  },
  {
   "cell_type": "code",
   "execution_count": null,
   "metadata": {
    "collapsed": true
   },
   "outputs": [],
   "source": []
  },
  {
   "cell_type": "code",
   "execution_count": null,
   "metadata": {
    "collapsed": true
   },
   "outputs": [],
   "source": []
  },
  {
   "cell_type": "code",
   "execution_count": null,
   "metadata": {
    "collapsed": true
   },
   "outputs": [],
   "source": []
  },
  {
   "cell_type": "code",
   "execution_count": null,
   "metadata": {
    "collapsed": true
   },
   "outputs": [],
   "source": [
    "import json\n",
    "\n",
    "with open('original_data/canton.json') as f:\n",
    "    data = json.load(f)\n",
    "\n",
    "for feature in data['features']:\n",
    "    print feature['geometry']['type']\n",
    "    print feature['geometry']['coordinates']"
   ]
  },
  {
   "cell_type": "code",
   "execution_count": null,
   "metadata": {
    "collapsed": true
   },
   "outputs": [],
   "source": []
  },
  {
   "cell_type": "code",
   "execution_count": null,
   "metadata": {
    "collapsed": true
   },
   "outputs": [],
   "source": []
  },
  {
   "cell_type": "code",
   "execution_count": null,
   "metadata": {
    "collapsed": true
   },
   "outputs": [],
   "source": []
  },
  {
   "cell_type": "code",
   "execution_count": null,
   "metadata": {
    "collapsed": true
   },
   "outputs": [],
   "source": []
  },
  {
   "cell_type": "code",
   "execution_count": null,
   "metadata": {
    "collapsed": true
   },
   "outputs": [],
   "source": []
  },
  {
   "cell_type": "code",
   "execution_count": null,
   "metadata": {
    "collapsed": true
   },
   "outputs": [],
   "source": []
  },
  {
   "cell_type": "code",
   "execution_count": null,
   "metadata": {
    "collapsed": true
   },
   "outputs": [],
   "source": []
  },
  {
   "cell_type": "code",
   "execution_count": null,
   "metadata": {
    "collapsed": true
   },
   "outputs": [],
   "source": []
  },
  {
   "cell_type": "code",
   "execution_count": null,
   "metadata": {
    "collapsed": true
   },
   "outputs": [],
   "source": []
  },
  {
   "cell_type": "code",
   "execution_count": null,
   "metadata": {
    "collapsed": true
   },
   "outputs": [],
   "source": []
  },
  {
   "cell_type": "code",
   "execution_count": null,
   "metadata": {
    "collapsed": true
   },
   "outputs": [],
   "source": []
  },
  {
   "cell_type": "code",
   "execution_count": null,
   "metadata": {
    "collapsed": true
   },
   "outputs": [],
   "source": []
  }
 ],
 "metadata": {
  "kernelspec": {
   "display_name": "Python 2",
   "language": "python",
   "name": "python2"
  },
  "language_info": {
   "codemirror_mode": {
    "name": "ipython",
    "version": 2
   },
   "file_extension": ".py",
   "mimetype": "text/x-python",
   "name": "python",
   "nbconvert_exporter": "python",
   "pygments_lexer": "ipython2",
   "version": "2.7.11"
  }
 },
 "nbformat": 4,
 "nbformat_minor": 0
}
