{
 "cells": [
  {
   "cell_type": "markdown",
   "metadata": {},
   "source": [
    "#### We start with some map plotting"
   ]
  },
  {
   "cell_type": "code",
   "execution_count": 1,
   "metadata": {
    "collapsed": false
   },
   "outputs": [],
   "source": [
    "import folium\n",
    "import geopandas\n",
    "import fiona\n",
    "import matplotlib.pyplot as plt\n",
    "from shapely.geometry import Polygon\n",
    "import pandas as pd\n",
    "import numpy as np\n",
    "from pyproj import Proj, transform\n",
    "\n",
    "%matplotlib inline"
   ]
  },
  {
   "cell_type": "code",
   "execution_count": 2,
   "metadata": {
    "collapsed": false
   },
   "outputs": [],
   "source": [
    "iris_zone_latlon = geopandas.GeoDataFrame.from_file('data/iris_talence.js')"
   ]
  },
  {
   "cell_type": "code",
   "execution_count": 3,
   "metadata": {
    "collapsed": true
   },
   "outputs": [],
   "source": [
    "iris_zone_latlon.to_file('data/iris_zone_latlon', driver=\"ESRI Shapefile\")"
   ]
  },
  {
   "cell_type": "code",
   "execution_count": 3,
   "metadata": {
    "collapsed": false
   },
   "outputs": [
    {
     "data": {
      "text/html": [
       "<div>\n",
       "<table border=\"1\" class=\"dataframe\">\n",
       "  <thead>\n",
       "    <tr style=\"text-align: right;\">\n",
       "      <th></th>\n",
       "      <th>DCOMIRIS</th>\n",
       "      <th>DEPCOM</th>\n",
       "      <th>IRIS</th>\n",
       "      <th>NOM_COM</th>\n",
       "      <th>NOM_IRIS</th>\n",
       "      <th>TYP_IRIS</th>\n",
       "      <th>geometry</th>\n",
       "    </tr>\n",
       "  </thead>\n",
       "  <tbody>\n",
       "    <tr>\n",
       "      <th>0</th>\n",
       "      <td>335220112</td>\n",
       "      <td>33522</td>\n",
       "      <td>0112</td>\n",
       "      <td>Talence</td>\n",
       "      <td>Thouars 2</td>\n",
       "      <td>H</td>\n",
       "      <td>POLYGON ((-0.587543196053298 44.78908756888363...</td>\n",
       "    </tr>\n",
       "    <tr>\n",
       "      <th>1</th>\n",
       "      <td>335220102</td>\n",
       "      <td>33522</td>\n",
       "      <td>0102</td>\n",
       "      <td>Talence</td>\n",
       "      <td>La Fauvette</td>\n",
       "      <td>H</td>\n",
       "      <td>POLYGON ((-0.587032337621043 44.81515751477936...</td>\n",
       "    </tr>\n",
       "    <tr>\n",
       "      <th>2</th>\n",
       "      <td>335220108</td>\n",
       "      <td>33522</td>\n",
       "      <td>0108</td>\n",
       "      <td>Talence</td>\n",
       "      <td>Peylanne-Leysotte</td>\n",
       "      <td>H</td>\n",
       "      <td>POLYGON ((-0.5828804443461369 44.8048544065047...</td>\n",
       "    </tr>\n",
       "    <tr>\n",
       "      <th>3</th>\n",
       "      <td>335220103</td>\n",
       "      <td>33522</td>\n",
       "      <td>0103</td>\n",
       "      <td>Talence</td>\n",
       "      <td>Combattants-Bijou</td>\n",
       "      <td>H</td>\n",
       "      <td>POLYGON ((-0.590734733544139 44.78731246999818...</td>\n",
       "    </tr>\n",
       "    <tr>\n",
       "      <th>4</th>\n",
       "      <td>335220105</td>\n",
       "      <td>33522</td>\n",
       "      <td>0105</td>\n",
       "      <td>Talence</td>\n",
       "      <td>Cauderes</td>\n",
       "      <td>H</td>\n",
       "      <td>POLYGON ((-0.587032337621043 44.81515751477936...</td>\n",
       "    </tr>\n",
       "    <tr>\n",
       "      <th>5</th>\n",
       "      <td>335220113</td>\n",
       "      <td>33522</td>\n",
       "      <td>0113</td>\n",
       "      <td>Talence</td>\n",
       "      <td>Thouars 1</td>\n",
       "      <td>H</td>\n",
       "      <td>POLYGON ((-0.590734733544139 44.78731246999818...</td>\n",
       "    </tr>\n",
       "    <tr>\n",
       "      <th>6</th>\n",
       "      <td>335220110</td>\n",
       "      <td>33522</td>\n",
       "      <td>0110</td>\n",
       "      <td>Talence</td>\n",
       "      <td>Megret</td>\n",
       "      <td>H</td>\n",
       "      <td>POLYGON ((-0.589329054641736 44.80295051298793...</td>\n",
       "    </tr>\n",
       "    <tr>\n",
       "      <th>7</th>\n",
       "      <td>335220109</td>\n",
       "      <td>33522</td>\n",
       "      <td>0109</td>\n",
       "      <td>Talence</td>\n",
       "      <td>Plume-La-Boule</td>\n",
       "      <td>H</td>\n",
       "      <td>POLYGON ((-0.591909983144453 44.79381924440587...</td>\n",
       "    </tr>\n",
       "    <tr>\n",
       "      <th>8</th>\n",
       "      <td>335220107</td>\n",
       "      <td>33522</td>\n",
       "      <td>0107</td>\n",
       "      <td>Talence</td>\n",
       "      <td>Saint-Genes</td>\n",
       "      <td>H</td>\n",
       "      <td>POLYGON ((-0.585092624083788 44.81789608008269...</td>\n",
       "    </tr>\n",
       "    <tr>\n",
       "      <th>9</th>\n",
       "      <td>335220111</td>\n",
       "      <td>33522</td>\n",
       "      <td>0111</td>\n",
       "      <td>Talence</td>\n",
       "      <td>Lycee</td>\n",
       "      <td>H</td>\n",
       "      <td>POLYGON ((-0.589329054641736 44.80295051298793...</td>\n",
       "    </tr>\n",
       "    <tr>\n",
       "      <th>10</th>\n",
       "      <td>335220104</td>\n",
       "      <td>33522</td>\n",
       "      <td>0104</td>\n",
       "      <td>Talence</td>\n",
       "      <td>Medoquine-Haut-Brion</td>\n",
       "      <td>H</td>\n",
       "      <td>POLYGON ((-0.593565835299949 44.8179281783697,...</td>\n",
       "    </tr>\n",
       "    <tr>\n",
       "      <th>11</th>\n",
       "      <td>335220101</td>\n",
       "      <td>33522</td>\n",
       "      <td>0101</td>\n",
       "      <td>Talence</td>\n",
       "      <td>Poste-Mairie</td>\n",
       "      <td>H</td>\n",
       "      <td>POLYGON ((-0.587032337621043 44.81515751477936...</td>\n",
       "    </tr>\n",
       "    <tr>\n",
       "      <th>12</th>\n",
       "      <td>335220106</td>\n",
       "      <td>33522</td>\n",
       "      <td>0106</td>\n",
       "      <td>Talence</td>\n",
       "      <td>E. Zola</td>\n",
       "      <td>H</td>\n",
       "      <td>POLYGON ((-0.586481982859646 44.82204495016847...</td>\n",
       "    </tr>\n",
       "  </tbody>\n",
       "</table>\n",
       "</div>"
      ],
      "text/plain": [
       "     DCOMIRIS DEPCOM  IRIS  NOM_COM              NOM_IRIS TYP_IRIS  \\\n",
       "0   335220112  33522  0112  Talence             Thouars 2        H   \n",
       "1   335220102  33522  0102  Talence           La Fauvette        H   \n",
       "2   335220108  33522  0108  Talence     Peylanne-Leysotte        H   \n",
       "3   335220103  33522  0103  Talence     Combattants-Bijou        H   \n",
       "4   335220105  33522  0105  Talence              Cauderes        H   \n",
       "5   335220113  33522  0113  Talence             Thouars 1        H   \n",
       "6   335220110  33522  0110  Talence                Megret        H   \n",
       "7   335220109  33522  0109  Talence        Plume-La-Boule        H   \n",
       "8   335220107  33522  0107  Talence           Saint-Genes        H   \n",
       "9   335220111  33522  0111  Talence                 Lycee        H   \n",
       "10  335220104  33522  0104  Talence  Medoquine-Haut-Brion        H   \n",
       "11  335220101  33522  0101  Talence          Poste-Mairie        H   \n",
       "12  335220106  33522  0106  Talence               E. Zola        H   \n",
       "\n",
       "                                             geometry  \n",
       "0   POLYGON ((-0.587543196053298 44.78908756888363...  \n",
       "1   POLYGON ((-0.587032337621043 44.81515751477936...  \n",
       "2   POLYGON ((-0.5828804443461369 44.8048544065047...  \n",
       "3   POLYGON ((-0.590734733544139 44.78731246999818...  \n",
       "4   POLYGON ((-0.587032337621043 44.81515751477936...  \n",
       "5   POLYGON ((-0.590734733544139 44.78731246999818...  \n",
       "6   POLYGON ((-0.589329054641736 44.80295051298793...  \n",
       "7   POLYGON ((-0.591909983144453 44.79381924440587...  \n",
       "8   POLYGON ((-0.585092624083788 44.81789608008269...  \n",
       "9   POLYGON ((-0.589329054641736 44.80295051298793...  \n",
       "10  POLYGON ((-0.593565835299949 44.8179281783697,...  \n",
       "11  POLYGON ((-0.587032337621043 44.81515751477936...  \n",
       "12  POLYGON ((-0.586481982859646 44.82204495016847...  "
      ]
     },
     "execution_count": 3,
     "metadata": {},
     "output_type": "execute_result"
    }
   ],
   "source": [
    "iris_zone_latlon #lat-lon"
   ]
  },
  {
   "cell_type": "code",
   "execution_count": 7,
   "metadata": {
    "collapsed": false
   },
   "outputs": [],
   "source": [
    "def reverse_coord(df):\n",
    "    new_df = df.copy()\n",
    "    new_df.drop('geometry', axis=1, inplace=True)\n",
    "    new_geometry = []\n",
    "    for pol in df.geometry:\n",
    "        lat, lon = pol.exterior.coords.xy\n",
    "        new_pol = Polygon([(x,y) for x,y in zip(lon,lat)])\n",
    "        new_geometry.append(new_pol)\n",
    "    new_df['geometry'] = new_geometry\n",
    "    return new_df"
   ]
  },
  {
   "cell_type": "code",
   "execution_count": 5,
   "metadata": {
    "collapsed": false
   },
   "outputs": [
    {
     "data": {
      "text/html": [
       "<div>\n",
       "<table border=\"1\" class=\"dataframe\">\n",
       "  <thead>\n",
       "    <tr style=\"text-align: right;\">\n",
       "      <th></th>\n",
       "      <th>DCOMIRIS</th>\n",
       "      <th>DEPCOM</th>\n",
       "      <th>IRIS</th>\n",
       "      <th>NOM_COM</th>\n",
       "      <th>NOM_IRIS</th>\n",
       "      <th>TYP_IRIS</th>\n",
       "      <th>geometry</th>\n",
       "    </tr>\n",
       "  </thead>\n",
       "  <tbody>\n",
       "    <tr>\n",
       "      <th>0</th>\n",
       "      <td>335220112</td>\n",
       "      <td>33522</td>\n",
       "      <td>0112</td>\n",
       "      <td>Talence</td>\n",
       "      <td>Thouars 2</td>\n",
       "      <td>H</td>\n",
       "      <td>POLYGON ((44.78908756888363 -0.587543196053298...</td>\n",
       "    </tr>\n",
       "    <tr>\n",
       "      <th>1</th>\n",
       "      <td>335220102</td>\n",
       "      <td>33522</td>\n",
       "      <td>0102</td>\n",
       "      <td>Talence</td>\n",
       "      <td>La Fauvette</td>\n",
       "      <td>H</td>\n",
       "      <td>POLYGON ((44.81515751477936 -0.587032337621043...</td>\n",
       "    </tr>\n",
       "    <tr>\n",
       "      <th>2</th>\n",
       "      <td>335220108</td>\n",
       "      <td>33522</td>\n",
       "      <td>0108</td>\n",
       "      <td>Talence</td>\n",
       "      <td>Peylanne-Leysotte</td>\n",
       "      <td>H</td>\n",
       "      <td>POLYGON ((44.80485440650479 -0.582880444346136...</td>\n",
       "    </tr>\n",
       "    <tr>\n",
       "      <th>3</th>\n",
       "      <td>335220103</td>\n",
       "      <td>33522</td>\n",
       "      <td>0103</td>\n",
       "      <td>Talence</td>\n",
       "      <td>Combattants-Bijou</td>\n",
       "      <td>H</td>\n",
       "      <td>POLYGON ((44.78731246999818 -0.590734733544139...</td>\n",
       "    </tr>\n",
       "    <tr>\n",
       "      <th>4</th>\n",
       "      <td>335220105</td>\n",
       "      <td>33522</td>\n",
       "      <td>0105</td>\n",
       "      <td>Talence</td>\n",
       "      <td>Cauderes</td>\n",
       "      <td>H</td>\n",
       "      <td>POLYGON ((44.81515751477936 -0.587032337621043...</td>\n",
       "    </tr>\n",
       "    <tr>\n",
       "      <th>5</th>\n",
       "      <td>335220113</td>\n",
       "      <td>33522</td>\n",
       "      <td>0113</td>\n",
       "      <td>Talence</td>\n",
       "      <td>Thouars 1</td>\n",
       "      <td>H</td>\n",
       "      <td>POLYGON ((44.78731246999818 -0.590734733544139...</td>\n",
       "    </tr>\n",
       "    <tr>\n",
       "      <th>6</th>\n",
       "      <td>335220110</td>\n",
       "      <td>33522</td>\n",
       "      <td>0110</td>\n",
       "      <td>Talence</td>\n",
       "      <td>Megret</td>\n",
       "      <td>H</td>\n",
       "      <td>POLYGON ((44.80295051298793 -0.589329054641736...</td>\n",
       "    </tr>\n",
       "    <tr>\n",
       "      <th>7</th>\n",
       "      <td>335220109</td>\n",
       "      <td>33522</td>\n",
       "      <td>0109</td>\n",
       "      <td>Talence</td>\n",
       "      <td>Plume-La-Boule</td>\n",
       "      <td>H</td>\n",
       "      <td>POLYGON ((44.79381924440587 -0.591909983144453...</td>\n",
       "    </tr>\n",
       "    <tr>\n",
       "      <th>8</th>\n",
       "      <td>335220107</td>\n",
       "      <td>33522</td>\n",
       "      <td>0107</td>\n",
       "      <td>Talence</td>\n",
       "      <td>Saint-Genes</td>\n",
       "      <td>H</td>\n",
       "      <td>POLYGON ((44.81789608008269 -0.585092624083788...</td>\n",
       "    </tr>\n",
       "    <tr>\n",
       "      <th>9</th>\n",
       "      <td>335220111</td>\n",
       "      <td>33522</td>\n",
       "      <td>0111</td>\n",
       "      <td>Talence</td>\n",
       "      <td>Lycee</td>\n",
       "      <td>H</td>\n",
       "      <td>POLYGON ((44.80295051298793 -0.589329054641736...</td>\n",
       "    </tr>\n",
       "    <tr>\n",
       "      <th>10</th>\n",
       "      <td>335220104</td>\n",
       "      <td>33522</td>\n",
       "      <td>0104</td>\n",
       "      <td>Talence</td>\n",
       "      <td>Medoquine-Haut-Brion</td>\n",
       "      <td>H</td>\n",
       "      <td>POLYGON ((44.8179281783697 -0.593565835299949,...</td>\n",
       "    </tr>\n",
       "    <tr>\n",
       "      <th>11</th>\n",
       "      <td>335220101</td>\n",
       "      <td>33522</td>\n",
       "      <td>0101</td>\n",
       "      <td>Talence</td>\n",
       "      <td>Poste-Mairie</td>\n",
       "      <td>H</td>\n",
       "      <td>POLYGON ((44.81515751477936 -0.587032337621043...</td>\n",
       "    </tr>\n",
       "    <tr>\n",
       "      <th>12</th>\n",
       "      <td>335220106</td>\n",
       "      <td>33522</td>\n",
       "      <td>0106</td>\n",
       "      <td>Talence</td>\n",
       "      <td>E. Zola</td>\n",
       "      <td>H</td>\n",
       "      <td>POLYGON ((44.82204495016847 -0.586481982859646...</td>\n",
       "    </tr>\n",
       "  </tbody>\n",
       "</table>\n",
       "</div>"
      ],
      "text/plain": [
       "     DCOMIRIS DEPCOM  IRIS  NOM_COM              NOM_IRIS TYP_IRIS  \\\n",
       "0   335220112  33522  0112  Talence             Thouars 2        H   \n",
       "1   335220102  33522  0102  Talence           La Fauvette        H   \n",
       "2   335220108  33522  0108  Talence     Peylanne-Leysotte        H   \n",
       "3   335220103  33522  0103  Talence     Combattants-Bijou        H   \n",
       "4   335220105  33522  0105  Talence              Cauderes        H   \n",
       "5   335220113  33522  0113  Talence             Thouars 1        H   \n",
       "6   335220110  33522  0110  Talence                Megret        H   \n",
       "7   335220109  33522  0109  Talence        Plume-La-Boule        H   \n",
       "8   335220107  33522  0107  Talence           Saint-Genes        H   \n",
       "9   335220111  33522  0111  Talence                 Lycee        H   \n",
       "10  335220104  33522  0104  Talence  Medoquine-Haut-Brion        H   \n",
       "11  335220101  33522  0101  Talence          Poste-Mairie        H   \n",
       "12  335220106  33522  0106  Talence               E. Zola        H   \n",
       "\n",
       "                                             geometry  \n",
       "0   POLYGON ((44.78908756888363 -0.587543196053298...  \n",
       "1   POLYGON ((44.81515751477936 -0.587032337621043...  \n",
       "2   POLYGON ((44.80485440650479 -0.582880444346136...  \n",
       "3   POLYGON ((44.78731246999818 -0.590734733544139...  \n",
       "4   POLYGON ((44.81515751477936 -0.587032337621043...  \n",
       "5   POLYGON ((44.78731246999818 -0.590734733544139...  \n",
       "6   POLYGON ((44.80295051298793 -0.589329054641736...  \n",
       "7   POLYGON ((44.79381924440587 -0.591909983144453...  \n",
       "8   POLYGON ((44.81789608008269 -0.585092624083788...  \n",
       "9   POLYGON ((44.80295051298793 -0.589329054641736...  \n",
       "10  POLYGON ((44.8179281783697 -0.593565835299949,...  \n",
       "11  POLYGON ((44.81515751477936 -0.587032337621043...  \n",
       "12  POLYGON ((44.82204495016847 -0.586481982859646...  "
      ]
     },
     "execution_count": 5,
     "metadata": {},
     "output_type": "execute_result"
    }
   ],
   "source": [
    "iris_zone_lonlat = reverse_coord(iris_zone_latlon) #lon-lat\n",
    "iris_zone_lonlat"
   ]
  },
  {
   "cell_type": "code",
   "execution_count": 6,
   "metadata": {
    "collapsed": false
   },
   "outputs": [
    {
     "data": {
      "text/html": [
       "<div>\n",
       "<table border=\"1\" class=\"dataframe\">\n",
       "  <thead>\n",
       "    <tr style=\"text-align: right;\">\n",
       "      <th></th>\n",
       "      <th>IRIS</th>\n",
       "      <th>NOM_IRIS</th>\n",
       "      <th>centroid</th>\n",
       "    </tr>\n",
       "  </thead>\n",
       "  <tbody>\n",
       "    <tr>\n",
       "      <th>0</th>\n",
       "      <td>0112</td>\n",
       "      <td>Thouars 2</td>\n",
       "      <td>POINT (44.79354224595853 -0.5848378519031359)</td>\n",
       "    </tr>\n",
       "    <tr>\n",
       "      <th>1</th>\n",
       "      <td>0102</td>\n",
       "      <td>La Fauvette</td>\n",
       "      <td>POINT (44.81019141508219 -0.5818717980131292)</td>\n",
       "    </tr>\n",
       "    <tr>\n",
       "      <th>2</th>\n",
       "      <td>0108</td>\n",
       "      <td>Peylanne-Leysotte</td>\n",
       "      <td>POINT (44.80424036466194 -0.5779499329224149)</td>\n",
       "    </tr>\n",
       "    <tr>\n",
       "      <th>3</th>\n",
       "      <td>0103</td>\n",
       "      <td>Combattants-Bijou</td>\n",
       "      <td>POINT (44.79742045661789 -0.5992888795417041)</td>\n",
       "    </tr>\n",
       "    <tr>\n",
       "      <th>4</th>\n",
       "      <td>0105</td>\n",
       "      <td>Cauderes</td>\n",
       "      <td>POINT (44.81514417677343 -0.5801863670719747)</td>\n",
       "    </tr>\n",
       "    <tr>\n",
       "      <th>5</th>\n",
       "      <td>0113</td>\n",
       "      <td>Thouars 1</td>\n",
       "      <td>POINT (44.79150077627097 -0.5887326627452812)</td>\n",
       "    </tr>\n",
       "    <tr>\n",
       "      <th>6</th>\n",
       "      <td>0110</td>\n",
       "      <td>Megret</td>\n",
       "      <td>POINT (44.79927485755307 -0.5919257460871858)</td>\n",
       "    </tr>\n",
       "    <tr>\n",
       "      <th>7</th>\n",
       "      <td>0109</td>\n",
       "      <td>Plume-La-Boule</td>\n",
       "      <td>POINT (44.79972205684665 -0.5856002761892566)</td>\n",
       "    </tr>\n",
       "    <tr>\n",
       "      <th>8</th>\n",
       "      <td>0107</td>\n",
       "      <td>Saint-Genes</td>\n",
       "      <td>POINT (44.81940028009768 -0.5838082234652153)</td>\n",
       "    </tr>\n",
       "    <tr>\n",
       "      <th>9</th>\n",
       "      <td>0111</td>\n",
       "      <td>Lycee</td>\n",
       "      <td>POINT (44.80352365819188 -0.5950218072979759)</td>\n",
       "    </tr>\n",
       "    <tr>\n",
       "      <th>10</th>\n",
       "      <td>0104</td>\n",
       "      <td>Medoquine-Haut-Brion</td>\n",
       "      <td>POINT (44.81475648100048 -0.5999059492618299)</td>\n",
       "    </tr>\n",
       "    <tr>\n",
       "      <th>11</th>\n",
       "      <td>0101</td>\n",
       "      <td>Poste-Mairie</td>\n",
       "      <td>POINT (44.81162087216995 -0.5915264538983555)</td>\n",
       "    </tr>\n",
       "    <tr>\n",
       "      <th>12</th>\n",
       "      <td>0106</td>\n",
       "      <td>E. Zola</td>\n",
       "      <td>POINT (44.82060321623511 -0.5912111011561622)</td>\n",
       "    </tr>\n",
       "  </tbody>\n",
       "</table>\n",
       "</div>"
      ],
      "text/plain": [
       "    IRIS              NOM_IRIS                                       centroid\n",
       "0   0112             Thouars 2  POINT (44.79354224595853 -0.5848378519031359)\n",
       "1   0102           La Fauvette  POINT (44.81019141508219 -0.5818717980131292)\n",
       "2   0108     Peylanne-Leysotte  POINT (44.80424036466194 -0.5779499329224149)\n",
       "3   0103     Combattants-Bijou  POINT (44.79742045661789 -0.5992888795417041)\n",
       "4   0105              Cauderes  POINT (44.81514417677343 -0.5801863670719747)\n",
       "5   0113             Thouars 1  POINT (44.79150077627097 -0.5887326627452812)\n",
       "6   0110                Megret  POINT (44.79927485755307 -0.5919257460871858)\n",
       "7   0109        Plume-La-Boule  POINT (44.79972205684665 -0.5856002761892566)\n",
       "8   0107           Saint-Genes  POINT (44.81940028009768 -0.5838082234652153)\n",
       "9   0111                 Lycee  POINT (44.80352365819188 -0.5950218072979759)\n",
       "10  0104  Medoquine-Haut-Brion  POINT (44.81475648100048 -0.5999059492618299)\n",
       "11  0101          Poste-Mairie  POINT (44.81162087216995 -0.5915264538983555)\n",
       "12  0106               E. Zola  POINT (44.82060321623511 -0.5912111011561622)"
      ]
     },
     "execution_count": 6,
     "metadata": {},
     "output_type": "execute_result"
    }
   ],
   "source": [
    "iris_centroid = pd.DataFrame()\n",
    "iris_centroid['IRIS'] = iris_zone_lonlat.IRIS\n",
    "iris_centroid['NOM_IRIS'] = iris_zone_lonlat.NOM_IRIS\n",
    "iris_centroid['centroid'] = iris_zone_lonlat.geometry.centroid\n",
    "iris_centroid"
   ]
  },
  {
   "cell_type": "code",
   "execution_count": 7,
   "metadata": {
    "collapsed": false
   },
   "outputs": [
    {
     "data": {
      "text/plain": [
       "<matplotlib.axes._subplots.AxesSubplot at 0x1114ac7d0>"
      ]
     },
     "execution_count": 7,
     "metadata": {},
     "output_type": "execute_result"
    },
    {
     "data": {
      "image/png": "[encoded data removed]",
      "text/plain": [
       "<matplotlib.figure.Figure at 0x1114ac110>"
      ]
     },
     "metadata": {},
     "output_type": "display_data"
    }
   ],
   "source": [
    "plt.figure(figsize=(8,8))\n",
    "iris_zone_lonlat.plot()"
   ]
  },
  {
   "cell_type": "code",
   "execution_count": 8,
   "metadata": {
    "collapsed": false
   },
   "outputs": [
    {
     "data": {
      "text/plain": [
       "<matplotlib.axes._subplots.AxesSubplot at 0x1113ffd50>"
      ]
     },
     "execution_count": 8,
     "metadata": {},
     "output_type": "execute_result"
    },
    {
     "data": {
      "image/png": "[encoded data removed]",
      "text/plain": [
       "<matplotlib.figure.Figure at 0x113e17b90>"
      ]
     },
     "metadata": {},
     "output_type": "display_data"
    }
   ],
   "source": [
    "plt.figure(figsize=(8,8))\n",
    "iris_zone_latlon.plot()"
   ]
  },
  {
   "cell_type": "code",
   "execution_count": 9,
   "metadata": {
    "collapsed": false
   },
   "outputs": [],
   "source": [
    "#talence_map = folium.Map(location=[44.80477, -0.59543], zoom_start=14)"
   ]
  },
  {
   "cell_type": "code",
   "execution_count": 10,
   "metadata": {
    "collapsed": false
   },
   "outputs": [],
   "source": [
    "#folium.GeoJson(data=iris_zone_latlon,\n",
    "#               style_function = lambda x: {'fillColor': 'green', 'color': 'green','weight': 5 ,'fillOpacity':0.25}).add_to(talence_map)"
   ]
  },
  {
   "cell_type": "code",
   "execution_count": 11,
   "metadata": {
    "collapsed": false
   },
   "outputs": [],
   "source": [
    "#talence_map"
   ]
  },
  {
   "cell_type": "code",
   "execution_count": 12,
   "metadata": {
    "collapsed": false
   },
   "outputs": [],
   "source": [
    "#for index,zone in iris_centroid.iterrows():\n",
    "    #print zone['centroid'].x, zone['centroid'].y\n",
    "    #print zone['NOM_IRIS']\n",
    "    #folium.Marker([zone['centroid'].x, zone['centroid'].y],popup = zone['NOM_IRIS'],icon=folium.Icon(color='green')).add_to(talence_map)"
   ]
  },
  {
   "cell_type": "code",
   "execution_count": 13,
   "metadata": {
    "collapsed": false
   },
   "outputs": [],
   "source": [
    "#talence_map"
   ]
  },
  {
   "cell_type": "code",
   "execution_count": 4,
   "metadata": {
    "collapsed": false
   },
   "outputs": [],
   "source": [
    "import ast\n",
    "def txt_to_df(file):\n",
    "    txt = [line.rstrip('\\n') for line in open(file)]\n",
    "    txt = ''.join(txt)\n",
    "    lst = ast.literal_eval(txt)\n",
    "    \n",
    "    df = geopandas.GeoDataFrame(columns = ['geometry'])\n",
    "    df.crs= {'init': 'epsg:4326', 'no_defs': True}\n",
    "    \n",
    "    for poly in lst:\n",
    "        geom = Polygon(poly)\n",
    "        df.loc[len(df)] = geom\n",
    "        \n",
    "        \n",
    "    return df"
   ]
  },
  {
   "cell_type": "code",
   "execution_count": 8,
   "metadata": {
    "collapsed": false
   },
   "outputs": [],
   "source": [
    "bureau_vote_lonlat = txt_to_df('data/bdv.txt')\n",
    "bureau_vote_latlon = reverse_coord(bureau_vote_lonlat)"
   ]
  },
  {
   "cell_type": "code",
   "execution_count": 10,
   "metadata": {
    "collapsed": false
   },
   "outputs": [],
   "source": [
    "bureau_vote_latlon.to_file('data/bureau_vote_latlon', driver=\"ESRI Shapefile\") "
   ]
  },
  {
   "cell_type": "code",
   "execution_count": 11,
   "metadata": {
    "collapsed": false
   },
   "outputs": [
    {
     "data": {
      "text/html": [
       "<div>\n",
       "<table border=\"1\" class=\"dataframe\">\n",
       "  <thead>\n",
       "    <tr style=\"text-align: right;\">\n",
       "      <th></th>\n",
       "      <th>geometry</th>\n",
       "    </tr>\n",
       "  </thead>\n",
       "  <tbody>\n",
       "    <tr>\n",
       "      <th>0</th>\n",
       "      <td>POLYGON ((-0.588413 44.807702, -0.586268 44.80...</td>\n",
       "    </tr>\n",
       "    <tr>\n",
       "      <th>1</th>\n",
       "      <td>POLYGON ((-0.5840919999999999 44.802496, -0.58...</td>\n",
       "    </tr>\n",
       "    <tr>\n",
       "      <th>2</th>\n",
       "      <td>POLYGON ((-0.584997 44.808468, -0.578787000000...</td>\n",
       "    </tr>\n",
       "    <tr>\n",
       "      <th>3</th>\n",
       "      <td>POLYGON ((-0.60165 44.80826, -0.594673 44.8034...</td>\n",
       "    </tr>\n",
       "    <tr>\n",
       "      <th>4</th>\n",
       "      <td>POLYGON ((-0.590767 44.82018, -0.587901 44.818...</td>\n",
       "    </tr>\n",
       "  </tbody>\n",
       "</table>\n",
       "</div>"
      ],
      "text/plain": [
       "                                            geometry\n",
       "0  POLYGON ((-0.588413 44.807702, -0.586268 44.80...\n",
       "1  POLYGON ((-0.5840919999999999 44.802496, -0.58...\n",
       "2  POLYGON ((-0.584997 44.808468, -0.578787000000...\n",
       "3  POLYGON ((-0.60165 44.80826, -0.594673 44.8034...\n",
       "4  POLYGON ((-0.590767 44.82018, -0.587901 44.818..."
      ]
     },
     "execution_count": 11,
     "metadata": {},
     "output_type": "execute_result"
    }
   ],
   "source": [
    "bureau_vote_latlon.head()"
   ]
  },
  {
   "cell_type": "code",
   "execution_count": 16,
   "metadata": {
    "collapsed": false
   },
   "outputs": [
    {
     "data": {
      "text/html": [
       "<div>\n",
       "<table border=\"1\" class=\"dataframe\">\n",
       "  <thead>\n",
       "    <tr style=\"text-align: right;\">\n",
       "      <th></th>\n",
       "      <th>centroid</th>\n",
       "    </tr>\n",
       "  </thead>\n",
       "  <tbody>\n",
       "    <tr>\n",
       "      <th>0</th>\n",
       "      <td>POINT (44.81195305984733 -0.5859840685745001)</td>\n",
       "    </tr>\n",
       "    <tr>\n",
       "      <th>1</th>\n",
       "      <td>POINT (44.80661008402815 -0.5836718341599018)</td>\n",
       "    </tr>\n",
       "    <tr>\n",
       "      <th>2</th>\n",
       "      <td>POINT (44.80985081135471 -0.5790936864639455)</td>\n",
       "    </tr>\n",
       "    <tr>\n",
       "      <th>3</th>\n",
       "      <td>POINT (44.81007374325603 -0.5942578703170318)</td>\n",
       "    </tr>\n",
       "    <tr>\n",
       "      <th>4</th>\n",
       "      <td>POINT (44.82129728012114 -0.5873934346195356)</td>\n",
       "    </tr>\n",
       "  </tbody>\n",
       "</table>\n",
       "</div>"
      ],
      "text/plain": [
       "                                        centroid\n",
       "0  POINT (44.81195305984733 -0.5859840685745001)\n",
       "1  POINT (44.80661008402815 -0.5836718341599018)\n",
       "2  POINT (44.80985081135471 -0.5790936864639455)\n",
       "3  POINT (44.81007374325603 -0.5942578703170318)\n",
       "4  POINT (44.82129728012114 -0.5873934346195356)"
      ]
     },
     "execution_count": 16,
     "metadata": {},
     "output_type": "execute_result"
    }
   ],
   "source": [
    "bdv_centroid = pd.DataFrame()\n",
    "bdv_centroid['centroid'] = bureau_vote_lonlat.geometry.centroid\n",
    "bdv_centroid.head()"
   ]
  },
  {
   "cell_type": "code",
   "execution_count": 17,
   "metadata": {
    "collapsed": false
   },
   "outputs": [
    {
     "data": {
      "text/html": [
       "<div>\n",
       "<table border=\"1\" class=\"dataframe\">\n",
       "  <thead>\n",
       "    <tr style=\"text-align: right;\">\n",
       "      <th></th>\n",
       "      <th>geometry</th>\n",
       "    </tr>\n",
       "  </thead>\n",
       "  <tbody>\n",
       "    <tr>\n",
       "      <th>0</th>\n",
       "      <td>POLYGON ((-0.588413 44.807702, -0.586268 44.80...</td>\n",
       "    </tr>\n",
       "    <tr>\n",
       "      <th>1</th>\n",
       "      <td>POLYGON ((-0.5840919999999999 44.802496, -0.58...</td>\n",
       "    </tr>\n",
       "    <tr>\n",
       "      <th>2</th>\n",
       "      <td>POLYGON ((-0.584997 44.808468, -0.578787000000...</td>\n",
       "    </tr>\n",
       "    <tr>\n",
       "      <th>3</th>\n",
       "      <td>POLYGON ((-0.60165 44.80826, -0.594673 44.8034...</td>\n",
       "    </tr>\n",
       "    <tr>\n",
       "      <th>4</th>\n",
       "      <td>POLYGON ((-0.590767 44.82018, -0.587901 44.818...</td>\n",
       "    </tr>\n",
       "  </tbody>\n",
       "</table>\n",
       "</div>"
      ],
      "text/plain": [
       "                                            geometry\n",
       "0  POLYGON ((-0.588413 44.807702, -0.586268 44.80...\n",
       "1  POLYGON ((-0.5840919999999999 44.802496, -0.58...\n",
       "2  POLYGON ((-0.584997 44.808468, -0.578787000000...\n",
       "3  POLYGON ((-0.60165 44.80826, -0.594673 44.8034...\n",
       "4  POLYGON ((-0.590767 44.82018, -0.587901 44.818..."
      ]
     },
     "execution_count": 17,
     "metadata": {},
     "output_type": "execute_result"
    }
   ],
   "source": [
    "bureau_vote_latlon.head()"
   ]
  },
  {
   "cell_type": "code",
   "execution_count": 18,
   "metadata": {
    "collapsed": false
   },
   "outputs": [
    {
     "data": {
      "text/html": [
       "<div>\n",
       "<table border=\"1\" class=\"dataframe\">\n",
       "  <thead>\n",
       "    <tr style=\"text-align: right;\">\n",
       "      <th></th>\n",
       "      <th>geometry</th>\n",
       "    </tr>\n",
       "  </thead>\n",
       "  <tbody>\n",
       "    <tr>\n",
       "      <th>0</th>\n",
       "      <td>POLYGON ((44.807702 -0.588413, 44.807446 -0.58...</td>\n",
       "    </tr>\n",
       "    <tr>\n",
       "      <th>1</th>\n",
       "      <td>POLYGON ((44.802496 -0.5840919999999999, 44.80...</td>\n",
       "    </tr>\n",
       "    <tr>\n",
       "      <th>2</th>\n",
       "      <td>POLYGON ((44.808468 -0.584997, 44.806715 -0.57...</td>\n",
       "    </tr>\n",
       "    <tr>\n",
       "      <th>3</th>\n",
       "      <td>POLYGON ((44.80826 -0.60165, 44.803464 -0.5946...</td>\n",
       "    </tr>\n",
       "    <tr>\n",
       "      <th>4</th>\n",
       "      <td>POLYGON ((44.82018 -0.590767, 44.818651 -0.587...</td>\n",
       "    </tr>\n",
       "  </tbody>\n",
       "</table>\n",
       "</div>"
      ],
      "text/plain": [
       "                                            geometry\n",
       "0  POLYGON ((44.807702 -0.588413, 44.807446 -0.58...\n",
       "1  POLYGON ((44.802496 -0.5840919999999999, 44.80...\n",
       "2  POLYGON ((44.808468 -0.584997, 44.806715 -0.57...\n",
       "3  POLYGON ((44.80826 -0.60165, 44.803464 -0.5946...\n",
       "4  POLYGON ((44.82018 -0.590767, 44.818651 -0.587..."
      ]
     },
     "execution_count": 18,
     "metadata": {},
     "output_type": "execute_result"
    }
   ],
   "source": [
    "bureau_vote_lonlat.head()"
   ]
  },
  {
   "cell_type": "code",
   "execution_count": 19,
   "metadata": {
    "collapsed": false
   },
   "outputs": [],
   "source": [
    "#folium.GeoJson(data=bureau_vote_latlon, \n",
    "               #style_function = lambda x: {'fillColor': 'red','color':'red', 'weight':2,'fillOpacity':0.3}).add_to(talence_map)"
   ]
  },
  {
   "cell_type": "code",
   "execution_count": 20,
   "metadata": {
    "collapsed": false
   },
   "outputs": [],
   "source": [
    "#for index,bdv in bdv_centroid.iterrows():\n",
    "    #print bdv['centroid'].x, bdv['centroid'].y\n",
    "    #folium.Marker([bdv['centroid'].x, bdv['centroid'].y], popup = str(index) , icon=folium.Icon(color='red') ).add_to(talence_map) "
   ]
  },
  {
   "cell_type": "code",
   "execution_count": 21,
   "metadata": {
    "collapsed": false
   },
   "outputs": [],
   "source": [
    "#talence_map"
   ]
  },
  {
   "cell_type": "code",
   "execution_count": null,
   "metadata": {
    "collapsed": true
   },
   "outputs": [],
   "source": []
  },
  {
   "cell_type": "code",
   "execution_count": 22,
   "metadata": {
    "collapsed": true
   },
   "outputs": [],
   "source": [
    "talence_map = folium.Map(location=[44.80477, -0.59543], zoom_start=14)"
   ]
  },
  {
   "cell_type": "code",
   "execution_count": 23,
   "metadata": {
    "collapsed": false
   },
   "outputs": [
    {
     "data": {
      "text/plain": [
       "<folium.features.GeoJson at 0x114283950>"
      ]
     },
     "execution_count": 23,
     "metadata": {},
     "output_type": "execute_result"
    }
   ],
   "source": [
    "folium.GeoJson(data=iris_zone_latlon,\n",
    "               style_function = lambda x: {'fillColor': 'green', 'color': 'green','weight': 5 ,'fillOpacity':0.25}).add_to(talence_map)"
   ]
  },
  {
   "cell_type": "code",
   "execution_count": 24,
   "metadata": {
    "collapsed": false
   },
   "outputs": [
    {
     "data": {
      "text/plain": [
       "<folium.features.GeoJson at 0x113bcfad0>"
      ]
     },
     "execution_count": 24,
     "metadata": {},
     "output_type": "execute_result"
    }
   ],
   "source": [
    "folium.GeoJson(data=bureau_vote_latlon, \n",
    "               style_function = lambda x: {'fillColor': 'red','color':'red', 'weight':2,'fillOpacity':0.3}).add_to(talence_map)"
   ]
  },
  {
   "cell_type": "code",
   "execution_count": 25,
   "metadata": {
    "collapsed": true
   },
   "outputs": [],
   "source": [
    "for index,zone in iris_centroid.iterrows():\n",
    "    #print zone['centroid'].x, zone['centroid'].y\n",
    "    #print zone['NOM_IRIS']\n",
    "    folium.Marker([zone['centroid'].x, zone['centroid'].y],popup = zone['NOM_IRIS'],icon=folium.Icon(color='green')).add_to(talence_map)"
   ]
  },
  {
   "cell_type": "code",
   "execution_count": 26,
   "metadata": {
    "collapsed": true
   },
   "outputs": [],
   "source": [
    "for index,bdv in bdv_centroid.iterrows():\n",
    "    #print bdv['centroid'].x, bdv['centroid'].y\n",
    "    folium.Marker([bdv['centroid'].x, bdv['centroid'].y], popup = str(index) , icon=folium.Icon(color='red') ).add_to(talence_map) "
   ]
  },
  {
   "cell_type": "code",
   "execution_count": 27,
   "metadata": {
    "collapsed": false
   },
   "outputs": [
    {
     "data": {
      "text/html": [
       "<div style=\"width:100%;\"><div style=\"position:relative;width:100%;height:0;padding-bottom:60%;\"><iframe src=\"data:text/html;base64,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\" style=\"position:absolute;width:100%;height:100%;left:0;top:0;\"></iframe></div></div>"
      ],
      "text/plain": [
       "<folium.folium.Map at 0x114283890>"
      ]
     },
     "execution_count": 27,
     "metadata": {},
     "output_type": "execute_result"
    }
   ],
   "source": [
    "talence_map"
   ]
  },
  {
   "cell_type": "code",
   "execution_count": null,
   "metadata": {
    "collapsed": true
   },
   "outputs": [],
   "source": []
  },
  {
   "cell_type": "code",
   "execution_count": null,
   "metadata": {
    "collapsed": true
   },
   "outputs": [],
   "source": []
  },
  {
   "cell_type": "code",
   "execution_count": null,
   "metadata": {
    "collapsed": true
   },
   "outputs": [],
   "source": []
  },
  {
   "cell_type": "code",
   "execution_count": null,
   "metadata": {
    "collapsed": true
   },
   "outputs": [],
   "source": []
  },
  {
   "cell_type": "markdown",
   "metadata": {},
   "source": [
    "### Compute overlapping area"
   ]
  },
  {
   "cell_type": "code",
   "execution_count": 28,
   "metadata": {
    "collapsed": false
   },
   "outputs": [
    {
     "data": {
      "text/html": [
       "<div>\n",
       "<table border=\"1\" class=\"dataframe\">\n",
       "  <thead>\n",
       "    <tr style=\"text-align: right;\">\n",
       "      <th></th>\n",
       "      <th>DCOMIRIS</th>\n",
       "      <th>DEPCOM</th>\n",
       "      <th>IRIS</th>\n",
       "      <th>NOM_COM</th>\n",
       "      <th>NOM_IRIS</th>\n",
       "      <th>TYP_IRIS</th>\n",
       "      <th>geometry</th>\n",
       "    </tr>\n",
       "  </thead>\n",
       "  <tbody>\n",
       "    <tr>\n",
       "      <th>0</th>\n",
       "      <td>335220112</td>\n",
       "      <td>33522</td>\n",
       "      <td>0112</td>\n",
       "      <td>Talence</td>\n",
       "      <td>Thouars 2</td>\n",
       "      <td>H</td>\n",
       "      <td>POLYGON ((44.78908756888363 -0.587543196053298...</td>\n",
       "    </tr>\n",
       "    <tr>\n",
       "      <th>1</th>\n",
       "      <td>335220102</td>\n",
       "      <td>33522</td>\n",
       "      <td>0102</td>\n",
       "      <td>Talence</td>\n",
       "      <td>La Fauvette</td>\n",
       "      <td>H</td>\n",
       "      <td>POLYGON ((44.81515751477936 -0.587032337621043...</td>\n",
       "    </tr>\n",
       "    <tr>\n",
       "      <th>2</th>\n",
       "      <td>335220108</td>\n",
       "      <td>33522</td>\n",
       "      <td>0108</td>\n",
       "      <td>Talence</td>\n",
       "      <td>Peylanne-Leysotte</td>\n",
       "      <td>H</td>\n",
       "      <td>POLYGON ((44.80485440650479 -0.582880444346136...</td>\n",
       "    </tr>\n",
       "    <tr>\n",
       "      <th>3</th>\n",
       "      <td>335220103</td>\n",
       "      <td>33522</td>\n",
       "      <td>0103</td>\n",
       "      <td>Talence</td>\n",
       "      <td>Combattants-Bijou</td>\n",
       "      <td>H</td>\n",
       "      <td>POLYGON ((44.78731246999818 -0.590734733544139...</td>\n",
       "    </tr>\n",
       "    <tr>\n",
       "      <th>4</th>\n",
       "      <td>335220105</td>\n",
       "      <td>33522</td>\n",
       "      <td>0105</td>\n",
       "      <td>Talence</td>\n",
       "      <td>Cauderes</td>\n",
       "      <td>H</td>\n",
       "      <td>POLYGON ((44.81515751477936 -0.587032337621043...</td>\n",
       "    </tr>\n",
       "  </tbody>\n",
       "</table>\n",
       "</div>"
      ],
      "text/plain": [
       "    DCOMIRIS DEPCOM  IRIS  NOM_COM           NOM_IRIS TYP_IRIS  \\\n",
       "0  335220112  33522  0112  Talence          Thouars 2        H   \n",
       "1  335220102  33522  0102  Talence        La Fauvette        H   \n",
       "2  335220108  33522  0108  Talence  Peylanne-Leysotte        H   \n",
       "3  335220103  33522  0103  Talence  Combattants-Bijou        H   \n",
       "4  335220105  33522  0105  Talence           Cauderes        H   \n",
       "\n",
       "                                            geometry  \n",
       "0  POLYGON ((44.78908756888363 -0.587543196053298...  \n",
       "1  POLYGON ((44.81515751477936 -0.587032337621043...  \n",
       "2  POLYGON ((44.80485440650479 -0.582880444346136...  \n",
       "3  POLYGON ((44.78731246999818 -0.590734733544139...  \n",
       "4  POLYGON ((44.81515751477936 -0.587032337621043...  "
      ]
     },
     "execution_count": 28,
     "metadata": {},
     "output_type": "execute_result"
    }
   ],
   "source": [
    "iris_zone_lonlat.head()"
   ]
  },
  {
   "cell_type": "code",
   "execution_count": 29,
   "metadata": {
    "collapsed": false
   },
   "outputs": [
    {
     "data": {
      "text/html": [
       "<div>\n",
       "<table border=\"1\" class=\"dataframe\">\n",
       "  <thead>\n",
       "    <tr style=\"text-align: right;\">\n",
       "      <th></th>\n",
       "      <th>geometry</th>\n",
       "    </tr>\n",
       "  </thead>\n",
       "  <tbody>\n",
       "    <tr>\n",
       "      <th>0</th>\n",
       "      <td>POLYGON ((44.807702 -0.588413, 44.807446 -0.58...</td>\n",
       "    </tr>\n",
       "    <tr>\n",
       "      <th>1</th>\n",
       "      <td>POLYGON ((44.802496 -0.5840919999999999, 44.80...</td>\n",
       "    </tr>\n",
       "    <tr>\n",
       "      <th>2</th>\n",
       "      <td>POLYGON ((44.808468 -0.584997, 44.806715 -0.57...</td>\n",
       "    </tr>\n",
       "    <tr>\n",
       "      <th>3</th>\n",
       "      <td>POLYGON ((44.80826 -0.60165, 44.803464 -0.5946...</td>\n",
       "    </tr>\n",
       "    <tr>\n",
       "      <th>4</th>\n",
       "      <td>POLYGON ((44.82018 -0.590767, 44.818651 -0.587...</td>\n",
       "    </tr>\n",
       "  </tbody>\n",
       "</table>\n",
       "</div>"
      ],
      "text/plain": [
       "                                            geometry\n",
       "0  POLYGON ((44.807702 -0.588413, 44.807446 -0.58...\n",
       "1  POLYGON ((44.802496 -0.5840919999999999, 44.80...\n",
       "2  POLYGON ((44.808468 -0.584997, 44.806715 -0.57...\n",
       "3  POLYGON ((44.80826 -0.60165, 44.803464 -0.5946...\n",
       "4  POLYGON ((44.82018 -0.590767, 44.818651 -0.587..."
      ]
     },
     "execution_count": 29,
     "metadata": {},
     "output_type": "execute_result"
    }
   ],
   "source": [
    "bureau_vote_lonlat.head()"
   ]
  },
  {
   "cell_type": "code",
   "execution_count": 30,
   "metadata": {
    "collapsed": false
   },
   "outputs": [],
   "source": [
    "def compute_overlap_area(iris_zone_lonlat, bureau_vote_lonlat): \n",
    "    overlap_zone = geopandas.GeoDataFrame(columns = ['bdv_id','DCOMIRIS','NOM_IRIS','geometry','overlap_percentage'])\n",
    "    overlap_zone.crs = {'init':'epsg:4326', 'no_defs':True}\n",
    "    for index_bdv, bdv in bureau_vote_lonlat.iterrows():\n",
    "        for index_iris, iris in iris_zone_lonlat.iterrows():\n",
    "            if bdv['geometry'].intersects(iris['geometry']):\n",
    "                overlap_geom = bdv['geometry'].intersection(iris['geometry'])\n",
    "                overlap_area = overlap_geom.area\n",
    "                #print type(overlap_zone)\n",
    "                overlap_zone.loc[len(overlap_zone)] = [index_bdv,\n",
    "                                                       iris['DCOMIRIS'],\n",
    "                                                       iris['NOM_IRIS'],\n",
    "                                                       overlap_geom,\n",
    "                                                       float(overlap_area)/iris['geometry'].area * 100 ]\n",
    "    return overlap_zone\n",
    "           "
   ]
  },
  {
   "cell_type": "code",
   "execution_count": 31,
   "metadata": {
    "collapsed": false
   },
   "outputs": [],
   "source": [
    "overlap_zone = compute_overlap_area(iris_zone_lonlat, bureau_vote_lonlat)"
   ]
  },
  {
   "cell_type": "code",
   "execution_count": 32,
   "metadata": {
    "collapsed": false
   },
   "outputs": [
    {
     "data": {
      "text/html": [
       "<div>\n",
       "<table border=\"1\" class=\"dataframe\">\n",
       "  <thead>\n",
       "    <tr style=\"text-align: right;\">\n",
       "      <th></th>\n",
       "      <th>bdv_id</th>\n",
       "      <th>DCOMIRIS</th>\n",
       "      <th>NOM_IRIS</th>\n",
       "      <th>geometry</th>\n",
       "      <th>overlap_percentage</th>\n",
       "    </tr>\n",
       "  </thead>\n",
       "  <tbody>\n",
       "    <tr>\n",
       "      <th>0</th>\n",
       "      <td>0</td>\n",
       "      <td>335220102</td>\n",
       "      <td>La Fauvette</td>\n",
       "      <td>POLYGON ((44.8075980099622 -0.5859827927160718...</td>\n",
       "      <td>32.044260</td>\n",
       "    </tr>\n",
       "    <tr>\n",
       "      <th>1</th>\n",
       "      <td>0</td>\n",
       "      <td>335220105</td>\n",
       "      <td>Cauderes</td>\n",
       "      <td>POLYGON ((44.81242302107591 -0.582208663490257...</td>\n",
       "      <td>18.267020</td>\n",
       "    </tr>\n",
       "    <tr>\n",
       "      <th>2</th>\n",
       "      <td>0</td>\n",
       "      <td>335220101</td>\n",
       "      <td>Poste-Mairie</td>\n",
       "      <td>POLYGON ((44.807702 -0.588413, 44.807446 -0.58...</td>\n",
       "      <td>18.729996</td>\n",
       "    </tr>\n",
       "    <tr>\n",
       "      <th>3</th>\n",
       "      <td>1</td>\n",
       "      <td>335220102</td>\n",
       "      <td>La Fauvette</td>\n",
       "      <td>POLYGON ((44.80847796788409 -0.580737969755348...</td>\n",
       "      <td>33.000796</td>\n",
       "    </tr>\n",
       "    <tr>\n",
       "      <th>4</th>\n",
       "      <td>1</td>\n",
       "      <td>335220108</td>\n",
       "      <td>Peylanne-Leysotte</td>\n",
       "      <td>POLYGON ((44.8040061123703 -0.5811023878013025...</td>\n",
       "      <td>13.938283</td>\n",
       "    </tr>\n",
       "  </tbody>\n",
       "</table>\n",
       "</div>"
      ],
      "text/plain": [
       "   bdv_id   DCOMIRIS           NOM_IRIS  \\\n",
       "0       0  335220102        La Fauvette   \n",
       "1       0  335220105           Cauderes   \n",
       "2       0  335220101       Poste-Mairie   \n",
       "3       1  335220102        La Fauvette   \n",
       "4       1  335220108  Peylanne-Leysotte   \n",
       "\n",
       "                                            geometry  overlap_percentage  \n",
       "0  POLYGON ((44.8075980099622 -0.5859827927160718...           32.044260  \n",
       "1  POLYGON ((44.81242302107591 -0.582208663490257...           18.267020  \n",
       "2  POLYGON ((44.807702 -0.588413, 44.807446 -0.58...           18.729996  \n",
       "3  POLYGON ((44.80847796788409 -0.580737969755348...           33.000796  \n",
       "4  POLYGON ((44.8040061123703 -0.5811023878013025...           13.938283  "
      ]
     },
     "execution_count": 32,
     "metadata": {},
     "output_type": "execute_result"
    }
   ],
   "source": [
    "overlap_zone.head()"
   ]
  },
  {
   "cell_type": "code",
   "execution_count": 33,
   "metadata": {
    "collapsed": false
   },
   "outputs": [
    {
     "data": {
      "text/html": [
       "<div>\n",
       "<table border=\"1\" class=\"dataframe\">\n",
       "  <thead>\n",
       "    <tr style=\"text-align: right;\">\n",
       "      <th></th>\n",
       "      <th>bdv_id</th>\n",
       "      <th>DCOMIRIS</th>\n",
       "      <th>NOM_IRIS</th>\n",
       "      <th>geometry</th>\n",
       "      <th>overlap_percentage</th>\n",
       "    </tr>\n",
       "  </thead>\n",
       "  <tbody>\n",
       "    <tr>\n",
       "      <th>29</th>\n",
       "      <td>10</td>\n",
       "      <td>335220102</td>\n",
       "      <td>La Fauvette</td>\n",
       "      <td>POLYGON ((44.81205382451436 -0.579848945112840...</td>\n",
       "      <td>0.952511</td>\n",
       "    </tr>\n",
       "    <tr>\n",
       "      <th>30</th>\n",
       "      <td>10</td>\n",
       "      <td>335220105</td>\n",
       "      <td>Cauderes</td>\n",
       "      <td>POLYGON ((44.813408 -0.579963, 44.812053824514...</td>\n",
       "      <td>21.922897</td>\n",
       "    </tr>\n",
       "  </tbody>\n",
       "</table>\n",
       "</div>"
      ],
      "text/plain": [
       "    bdv_id   DCOMIRIS     NOM_IRIS  \\\n",
       "29      10  335220102  La Fauvette   \n",
       "30      10  335220105     Cauderes   \n",
       "\n",
       "                                             geometry  overlap_percentage  \n",
       "29  POLYGON ((44.81205382451436 -0.579848945112840...            0.952511  \n",
       "30  POLYGON ((44.813408 -0.579963, 44.812053824514...           21.922897  "
      ]
     },
     "execution_count": 33,
     "metadata": {},
     "output_type": "execute_result"
    }
   ],
   "source": [
    "overlap_zone[overlap_zone['bdv_id']==10]"
   ]
  },
  {
   "cell_type": "code",
   "execution_count": 34,
   "metadata": {
    "collapsed": false
   },
   "outputs": [],
   "source": [
    "overlap_zone_excel = overlap_zone.drop('geometry',1)"
   ]
  },
  {
   "cell_type": "code",
   "execution_count": 35,
   "metadata": {
    "collapsed": false
   },
   "outputs": [
    {
     "data": {
      "text/html": [
       "<div>\n",
       "<table border=\"1\" class=\"dataframe\">\n",
       "  <thead>\n",
       "    <tr style=\"text-align: right;\">\n",
       "      <th></th>\n",
       "      <th>bdv_id</th>\n",
       "      <th>DCOMIRIS</th>\n",
       "      <th>NOM_IRIS</th>\n",
       "      <th>overlap_percentage</th>\n",
       "    </tr>\n",
       "  </thead>\n",
       "  <tbody>\n",
       "    <tr>\n",
       "      <th>0</th>\n",
       "      <td>0</td>\n",
       "      <td>335220102</td>\n",
       "      <td>La Fauvette</td>\n",
       "      <td>32.044260</td>\n",
       "    </tr>\n",
       "    <tr>\n",
       "      <th>1</th>\n",
       "      <td>0</td>\n",
       "      <td>335220105</td>\n",
       "      <td>Cauderes</td>\n",
       "      <td>18.267020</td>\n",
       "    </tr>\n",
       "    <tr>\n",
       "      <th>2</th>\n",
       "      <td>0</td>\n",
       "      <td>335220101</td>\n",
       "      <td>Poste-Mairie</td>\n",
       "      <td>18.729996</td>\n",
       "    </tr>\n",
       "    <tr>\n",
       "      <th>3</th>\n",
       "      <td>1</td>\n",
       "      <td>335220102</td>\n",
       "      <td>La Fauvette</td>\n",
       "      <td>33.000796</td>\n",
       "    </tr>\n",
       "    <tr>\n",
       "      <th>4</th>\n",
       "      <td>1</td>\n",
       "      <td>335220108</td>\n",
       "      <td>Peylanne-Leysotte</td>\n",
       "      <td>13.938283</td>\n",
       "    </tr>\n",
       "  </tbody>\n",
       "</table>\n",
       "</div>"
      ],
      "text/plain": [
       "   bdv_id   DCOMIRIS           NOM_IRIS  overlap_percentage\n",
       "0       0  335220102        La Fauvette           32.044260\n",
       "1       0  335220105           Cauderes           18.267020\n",
       "2       0  335220101       Poste-Mairie           18.729996\n",
       "3       1  335220102        La Fauvette           33.000796\n",
       "4       1  335220108  Peylanne-Leysotte           13.938283"
      ]
     },
     "execution_count": 35,
     "metadata": {},
     "output_type": "execute_result"
    }
   ],
   "source": [
    "overlap_zone_excel.head()"
   ]
  },
  {
   "cell_type": "code",
   "execution_count": 36,
   "metadata": {
    "collapsed": false
   },
   "outputs": [],
   "source": [
    "#writer = pd.ExcelWriter('result/overlap_zone_talence.xlsx')\n",
    "#overlap_zone_excel.to_excel(writer,'Sheet1')\n",
    "#writer.save()"
   ]
  },
  {
   "cell_type": "code",
   "execution_count": 37,
   "metadata": {
    "collapsed": false
   },
   "outputs": [],
   "source": [
    "#overlap_zone.to_file('result/overlap_zone_talence',driver=\"GeoJSON\")"
   ]
  },
  {
   "cell_type": "code",
   "execution_count": 38,
   "metadata": {
    "collapsed": false
   },
   "outputs": [],
   "source": [
    "#overlap_zone.to_file('result/overlap_zone/overlap_zone_talence_shp/overlap_zone_talence', driver=\"ESRI Shapefile\")"
   ]
  },
  {
   "cell_type": "code",
   "execution_count": 39,
   "metadata": {
    "collapsed": false
   },
   "outputs": [],
   "source": [
    "#iris_zone_lonlat.to_file('data/iris_zone_lonlat', driver = 'ESRI Shapefile')"
   ]
  },
  {
   "cell_type": "code",
   "execution_count": 40,
   "metadata": {
    "collapsed": true
   },
   "outputs": [],
   "source": [
    "#bureau_vote_lonlat.to_file('data/bureau_vote_lonlat', driver = 'ESRI Shapefile')"
   ]
  },
  {
   "cell_type": "code",
   "execution_count": 41,
   "metadata": {
    "collapsed": false
   },
   "outputs": [],
   "source": [
    "#talence_map.save('map/talence.html')"
   ]
  },
  {
   "cell_type": "code",
   "execution_count": null,
   "metadata": {
    "collapsed": true
   },
   "outputs": [],
   "source": []
  },
  {
   "cell_type": "code",
   "execution_count": null,
   "metadata": {
    "collapsed": true
   },
   "outputs": [],
   "source": []
  }
 ],
 "metadata": {
  "kernelspec": {
   "display_name": "Python 2",
   "language": "python",
   "name": "python2"
  },
  "language_info": {
   "codemirror_mode": {
    "name": "ipython",
    "version": 2
   },
   "file_extension": ".py",
   "mimetype": "text/x-python",
   "name": "python",
   "nbconvert_exporter": "python",
   "pygments_lexer": "ipython2",
   "version": "2.7.11"
  }
 },
 "nbformat": 4,
 "nbformat_minor": 0
}
