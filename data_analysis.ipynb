{
 "cells": [
  {
   "cell_type": "code",
   "execution_count": 37,
   "metadata": {
    "collapsed": true
   },
   "outputs": [],
   "source": [
    "import pandas as pd\n",
    "import numpy as np\n",
    "import scipy\n",
    "from scipy.stats.stats import pearsonr   \n",
    "import matplotlib.pyplot as plt"
   ]
  },
  {
   "cell_type": "code",
   "execution_count": 38,
   "metadata": {
    "collapsed": true
   },
   "outputs": [],
   "source": [
    "data_right = pd.read_excel('full_data_right.xlsx')\n",
    "data_left = pd.read_excel('full_data_left.xlsx')\n",
    "data_er = pd.read_excel('full_data_er.xlsx')"
   ]
  },
  {
   "cell_type": "code",
   "execution_count": 39,
   "metadata": {
    "collapsed": true
   },
   "outputs": [],
   "source": [
    "import unicodedata\n",
    "\n",
    "def unicode_to_string(word):\n",
    "    if pd.isnull(word):\n",
    "        return \n",
    "    else:\n",
    "        return unicodedata.normalize('NFKD', word).encode('ascii','ignore')\n",
    "    \n",
    "def data_to_string(data):\n",
    "    new_data = data.copy()\n",
    "    \n",
    "    col_title_unicode = new_data.columns.values.tolist()\n",
    "    col_title = map(unicode_to_string,col_title_unicode)\n",
    "    new_data.columns = col_title\n",
    "    \n",
    "    for col in new_data.columns:\n",
    "        not_nan_index = [not ind for ind in new_data[col].isnull()]\n",
    "        not_nan_value = new_data[col][not_nan_index]\n",
    "        if type(not_nan_value.iloc[0]) == unicode: #check the first not-NaN value\n",
    "            new_data[col] = map(unicode_to_string,new_data[col])\n",
    "            \n",
    "    return new_data"
   ]
  },
  {
   "cell_type": "code",
   "execution_count": 40,
   "metadata": {
    "collapsed": true
   },
   "outputs": [],
   "source": [
    "def float_to_int(data):\n",
    "    new_data = data.copy()    \n",
    "    for col in new_data.columns:\n",
    "        if '%' in col: \n",
    "            # Here we add this condition because the variable %voix needs to be in float format \n",
    "            # Need to think more about this in case we have more float-fotmat data \n",
    "            continue\n",
    "        else: \n",
    "            not_nan_index = [not ind for ind in new_data[col].isnull()]\n",
    "            not_nan_value = new_data[col][not_nan_index]\n",
    "            if type(not_nan_value.iloc[0]) == np.float64: #check the first not-NaN value\n",
    "                new_data[col] = new_data[col].round()\n",
    "    return new_data"
   ]
  },
  {
   "cell_type": "code",
   "execution_count": 41,
   "metadata": {
    "collapsed": false
   },
   "outputs": [],
   "source": [
    "data_right = data_to_string(data_right)\n",
    "data_right = float_to_int(data_right)\n",
    "\n",
    "data_left = data_to_string(data_left)\n",
    "data_left = float_to_int(data_left)\n",
    "\n",
    "data_er = data_to_string(data_er)\n",
    "data_er = float_to_int(data_er)"
   ]
  },
  {
   "cell_type": "markdown",
   "metadata": {},
   "source": [
    "### We will create a new data frame containing only the variable needed. We drop all the others variables. "
   ]
  },
  {
   "cell_type": "code",
   "execution_count": 42,
   "metadata": {
    "collapsed": true
   },
   "outputs": [],
   "source": [
    "def create_final_data(data):\n",
    "    new_data = data.copy()\n",
    "    title = data.columns.tolist()\n",
    "    dropping_index = []\n",
    "    keeping_variable = ['Code Insee','% Voix/Ins','% Voix/Exp','% immigrant','% C12_POP15P_CS1','% C12_POP15P_CS2','% C12_POP15P_CS3',\n",
    "                        '% C12_POP15P_CS4','% C12_POP15P_CS5', '% C12_POP15P_CS6','% C12_POP15P_CS7', '% C12_POP15P_CS8',\n",
    "                        'SNHM12','Total ']\n",
    "    for index, variable in enumerate(title): \n",
    "        if variable not in keeping_variable:\n",
    "            dropping_index.append(index)\n",
    "    new_data = new_data.drop(new_data.columns[dropping_index], axis = 1)\n",
    "    return new_data"
   ]
  },
  {
   "cell_type": "code",
   "execution_count": 43,
   "metadata": {
    "collapsed": false
   },
   "outputs": [],
   "source": [
    "selected_data_right = create_final_data(data_right)\n",
    "selected_data_left = create_final_data(data_left)\n",
    "selected_data_er = create_final_data(data_er)"
   ]
  },
  {
   "cell_type": "code",
   "execution_count": 47,
   "metadata": {
    "collapsed": true
   },
   "outputs": [],
   "source": [
    "def create_cor_table(data):\n",
    "    variable_list = data.columns.tolist()\n",
    "    columns_list = ['D/Agriculteurs','D/Artisans','D/Cadres','D/Prof_Intermediaire','D/Employes', \n",
    "               'D/Ouvrier', 'D/Retraite', 'D/Autre','D/Immigrants','D/salaire'] # this list must be in the order of\n",
    "                                                                                # the data's column list\n",
    "    cor_right_party = pd.DataFrame(columns = columns_list)\n",
    "    counter = 3 # because the first 3 variables in the variable list are not important \n",
    "    for col in columns_list:\n",
    "        extract_data = data[['% Voix/Exp', variable_list[counter]]]\n",
    "        extract_data = extract_data.dropna()\n",
    "        cor = pearsonr(extract_data[extract_data.columns[0]], extract_data[extract_data.columns[1]])[0] * 100\n",
    "        cor_right_party[col] = [cor]\n",
    "        counter += 1 \n",
    "    return cor_right_party"
   ]
  },
  {
   "cell_type": "code",
   "execution_count": 48,
   "metadata": {
    "collapsed": false
   },
   "outputs": [],
   "source": [
    "correlation_right_party = create_cor_table(selected_data_right)\n",
    "correlation_left_party = create_cor_table(selected_data_left)\n",
    "correlation_er_party = create_cor_table(selected_data_er)\n",
    "correlation_table = pd.concat([correlation_right_party, correlation_left_party, correlation_er_party])"
   ]
  },
  {
   "cell_type": "code",
   "execution_count": 50,
   "metadata": {
    "collapsed": false
   },
   "outputs": [],
   "source": [
    "correlation_table.index = ['Right', 'Left', 'Extreme Right']"
   ]
  },
  {
   "cell_type": "code",
   "execution_count": 52,
   "metadata": {
    "collapsed": false
   },
   "outputs": [
    {
     "data": {
      "text/html": [
       "<div>\n",
       "<table border=\"1\" class=\"dataframe\">\n",
       "  <thead>\n",
       "    <tr style=\"text-align: right;\">\n",
       "      <th></th>\n",
       "      <th>Right</th>\n",
       "      <th>Left</th>\n",
       "      <th>Extreme Right</th>\n",
       "    </tr>\n",
       "  </thead>\n",
       "  <tbody>\n",
       "    <tr>\n",
       "      <th>D/Agriculteurs</th>\n",
       "      <td>17.898836</td>\n",
       "      <td>-3.876219</td>\n",
       "      <td>-10.988869</td>\n",
       "    </tr>\n",
       "    <tr>\n",
       "      <th>D/Artisans</th>\n",
       "      <td>-1.428497</td>\n",
       "      <td>9.725289</td>\n",
       "      <td>-8.881199</td>\n",
       "    </tr>\n",
       "    <tr>\n",
       "      <th>D/Cadres</th>\n",
       "      <td>6.420419</td>\n",
       "      <td>1.926759</td>\n",
       "      <td>-11.209943</td>\n",
       "    </tr>\n",
       "    <tr>\n",
       "      <th>D/Prof_Intermediaire</th>\n",
       "      <td>-3.340594</td>\n",
       "      <td>-1.687218</td>\n",
       "      <td>2.111625</td>\n",
       "    </tr>\n",
       "    <tr>\n",
       "      <th>D/Employes</th>\n",
       "      <td>-9.659553</td>\n",
       "      <td>-4.289384</td>\n",
       "      <td>13.264534</td>\n",
       "    </tr>\n",
       "    <tr>\n",
       "      <th>D/Ouvrier</th>\n",
       "      <td>-1.314590</td>\n",
       "      <td>-23.814793</td>\n",
       "      <td>27.399715</td>\n",
       "    </tr>\n",
       "    <tr>\n",
       "      <th>D/Retraite</th>\n",
       "      <td>3.449550</td>\n",
       "      <td>14.949167</td>\n",
       "      <td>-19.263977</td>\n",
       "    </tr>\n",
       "    <tr>\n",
       "      <th>D/Autre</th>\n",
       "      <td>-11.855126</td>\n",
       "      <td>4.547704</td>\n",
       "      <td>10.093556</td>\n",
       "    </tr>\n",
       "    <tr>\n",
       "      <th>D/Immigrants</th>\n",
       "      <td>-12.480203</td>\n",
       "      <td>20.117342</td>\n",
       "      <td>-10.755233</td>\n",
       "    </tr>\n",
       "    <tr>\n",
       "      <th>D/salaire</th>\n",
       "      <td>38.137980</td>\n",
       "      <td>-15.832417</td>\n",
       "      <td>-23.728283</td>\n",
       "    </tr>\n",
       "  </tbody>\n",
       "</table>\n",
       "</div>"
      ],
      "text/plain": [
       "                          Right       Left  Extreme Right\n",
       "D/Agriculteurs        17.898836  -3.876219     -10.988869\n",
       "D/Artisans            -1.428497   9.725289      -8.881199\n",
       "D/Cadres               6.420419   1.926759     -11.209943\n",
       "D/Prof_Intermediaire  -3.340594  -1.687218       2.111625\n",
       "D/Employes            -9.659553  -4.289384      13.264534\n",
       "D/Ouvrier             -1.314590 -23.814793      27.399715\n",
       "D/Retraite             3.449550  14.949167     -19.263977\n",
       "D/Autre              -11.855126   4.547704      10.093556\n",
       "D/Immigrants         -12.480203  20.117342     -10.755233\n",
       "D/salaire             38.137980 -15.832417     -23.728283"
      ]
     },
     "execution_count": 52,
     "metadata": {},
     "output_type": "execute_result"
    }
   ],
   "source": [
    "correlation_table.T"
   ]
  },
  {
   "cell_type": "code",
   "execution_count": null,
   "metadata": {
    "collapsed": true
   },
   "outputs": [],
   "source": []
  }
 ],
 "metadata": {
  "kernelspec": {
   "display_name": "Python 2",
   "language": "python",
   "name": "python2"
  },
  "language_info": {
   "codemirror_mode": {
    "name": "ipython",
    "version": 2
   },
   "file_extension": ".py",
   "mimetype": "text/x-python",
   "name": "python",
   "nbconvert_exporter": "python",
   "pygments_lexer": "ipython2",
   "version": "2.7.11"
  }
 },
 "nbformat": 4,
 "nbformat_minor": 0
}
