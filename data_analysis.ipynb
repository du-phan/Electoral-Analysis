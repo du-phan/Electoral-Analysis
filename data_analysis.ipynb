{
 "cells": [
  {
   "cell_type": "code",
   "execution_count": 70,
   "metadata": {
    "collapsed": true
   },
   "outputs": [],
   "source": [
    "import pandas as pd\n",
    "import numpy as np\n",
    "import scipy\n",
    "from scipy.stats.stats import pearsonr   \n",
    "import matplotlib.pyplot as plt"
   ]
  },
  {
   "cell_type": "code",
   "execution_count": 71,
   "metadata": {
    "collapsed": true
   },
   "outputs": [],
   "source": [
    "data_right = pd.read_excel('full_data_right.xlsx')"
   ]
  },
  {
   "cell_type": "code",
   "execution_count": 73,
   "metadata": {
    "collapsed": true
   },
   "outputs": [],
   "source": [
    "import unicodedata\n",
    "\n",
    "def unicode_to_string(word):\n",
    "    if pd.isnull(word):\n",
    "        return \n",
    "    else:\n",
    "        return unicodedata.normalize('NFKD', word).encode('ascii','ignore')\n",
    "    \n",
    "def data_to_string(data):\n",
    "    new_data = data.copy()\n",
    "    \n",
    "    col_title_unicode = new_data.columns.values.tolist()\n",
    "    col_title = map(unicode_to_string,col_title_unicode)\n",
    "    new_data.columns = col_title\n",
    "    \n",
    "    for col in new_data.columns:\n",
    "        not_nan_index = [not ind for ind in new_data[col].isnull()]\n",
    "        not_nan_value = new_data[col][not_nan_index]\n",
    "        if type(not_nan_value.iloc[0]) == unicode: #check the first not-NaN value\n",
    "            new_data[col] = map(unicode_to_string,new_data[col])\n",
    "            \n",
    "    return new_data"
   ]
  },
  {
   "cell_type": "code",
   "execution_count": 74,
   "metadata": {
    "collapsed": true
   },
   "outputs": [],
   "source": [
    "def float_to_int(data):\n",
    "    new_data = data.copy()    \n",
    "    for col in new_data.columns:\n",
    "        if '%' in col: \n",
    "            # Here we add this condition because the variable %voix needs to be in float format \n",
    "            # Need to think more about this in case we have more float-fotmat data \n",
    "            continue\n",
    "        else: \n",
    "            not_nan_index = [not ind for ind in new_data[col].isnull()]\n",
    "            not_nan_value = new_data[col][not_nan_index]\n",
    "            if type(not_nan_value.iloc[0]) == np.float64: #check the first not-NaN value\n",
    "                new_data[col] = new_data[col].round()\n",
    "    return new_data"
   ]
  },
  {
   "cell_type": "code",
   "execution_count": 75,
   "metadata": {
    "collapsed": false
   },
   "outputs": [],
   "source": [
    "data_right = data_to_string(data_right)\n",
    "data_right = float_to_int(data_right)"
   ]
  },
  {
   "cell_type": "code",
   "execution_count": 76,
   "metadata": {
    "collapsed": false
   },
   "outputs": [
    {
     "data": {
      "text/html": [
       "<div>\n",
       "<table border=\"1\" class=\"dataframe\">\n",
       "  <thead>\n",
       "    <tr style=\"text-align: right;\">\n",
       "      <th></th>\n",
       "      <th>Code Insee</th>\n",
       "      <th>Voix</th>\n",
       "      <th>% Voix/Ins</th>\n",
       "      <th>% Voix/Exp</th>\n",
       "      <th>% Abs/Ins</th>\n",
       "      <th>REG</th>\n",
       "      <th>DEP</th>\n",
       "      <th>Libelle de la commune</th>\n",
       "      <th>P12_POP</th>\n",
       "      <th>P12_POP0014</th>\n",
       "      <th>...</th>\n",
       "      <th>SNHMHO12</th>\n",
       "      <th>SNHM1812</th>\n",
       "      <th>SNHM2612</th>\n",
       "      <th>SNHM5012</th>\n",
       "      <th>SNHMF1812</th>\n",
       "      <th>SNHMF2612</th>\n",
       "      <th>SNHMF5012</th>\n",
       "      <th>SNHMH1812</th>\n",
       "      <th>SNHMH2612</th>\n",
       "      <th>SNHMH5012</th>\n",
       "    </tr>\n",
       "  </thead>\n",
       "  <tbody>\n",
       "    <tr>\n",
       "      <th>0</th>\n",
       "      <td>1001</td>\n",
       "      <td>107</td>\n",
       "      <td>18.32</td>\n",
       "      <td>33.44</td>\n",
       "      <td>44.69</td>\n",
       "      <td>82</td>\n",
       "      <td>01</td>\n",
       "      <td>L'Abergement-Clemenciat</td>\n",
       "      <td>777</td>\n",
       "      <td>178</td>\n",
       "      <td>...</td>\n",
       "      <td>NaN</td>\n",
       "      <td>NaN</td>\n",
       "      <td>NaN</td>\n",
       "      <td>NaN</td>\n",
       "      <td>NaN</td>\n",
       "      <td>NaN</td>\n",
       "      <td>NaN</td>\n",
       "      <td>NaN</td>\n",
       "      <td>NaN</td>\n",
       "      <td>NaN</td>\n",
       "    </tr>\n",
       "    <tr>\n",
       "      <th>1</th>\n",
       "      <td>1002</td>\n",
       "      <td>32</td>\n",
       "      <td>14.28</td>\n",
       "      <td>25.20</td>\n",
       "      <td>41.52</td>\n",
       "      <td>82</td>\n",
       "      <td>01</td>\n",
       "      <td>L'Abergement-de-Varey</td>\n",
       "      <td>235</td>\n",
       "      <td>44</td>\n",
       "      <td>...</td>\n",
       "      <td>NaN</td>\n",
       "      <td>NaN</td>\n",
       "      <td>NaN</td>\n",
       "      <td>NaN</td>\n",
       "      <td>NaN</td>\n",
       "      <td>NaN</td>\n",
       "      <td>NaN</td>\n",
       "      <td>NaN</td>\n",
       "      <td>NaN</td>\n",
       "      <td>NaN</td>\n",
       "    </tr>\n",
       "    <tr>\n",
       "      <th>2</th>\n",
       "      <td>1004</td>\n",
       "      <td>1096</td>\n",
       "      <td>13.45</td>\n",
       "      <td>29.76</td>\n",
       "      <td>53.34</td>\n",
       "      <td>82</td>\n",
       "      <td>01</td>\n",
       "      <td>Amberieu-en-Bugey</td>\n",
       "      <td>14233</td>\n",
       "      <td>3038</td>\n",
       "      <td>...</td>\n",
       "      <td>11</td>\n",
       "      <td>10</td>\n",
       "      <td>13</td>\n",
       "      <td>15</td>\n",
       "      <td>9</td>\n",
       "      <td>11</td>\n",
       "      <td>12</td>\n",
       "      <td>10</td>\n",
       "      <td>14</td>\n",
       "      <td>18</td>\n",
       "    </tr>\n",
       "    <tr>\n",
       "      <th>3</th>\n",
       "      <td>1005</td>\n",
       "      <td>168</td>\n",
       "      <td>14.38</td>\n",
       "      <td>31.22</td>\n",
       "      <td>52.23</td>\n",
       "      <td>82</td>\n",
       "      <td>01</td>\n",
       "      <td>Amberieux-en-Dombes</td>\n",
       "      <td>1642</td>\n",
       "      <td>338</td>\n",
       "      <td>...</td>\n",
       "      <td>NaN</td>\n",
       "      <td>NaN</td>\n",
       "      <td>NaN</td>\n",
       "      <td>NaN</td>\n",
       "      <td>NaN</td>\n",
       "      <td>NaN</td>\n",
       "      <td>NaN</td>\n",
       "      <td>NaN</td>\n",
       "      <td>NaN</td>\n",
       "      <td>NaN</td>\n",
       "    </tr>\n",
       "    <tr>\n",
       "      <th>4</th>\n",
       "      <td>1006</td>\n",
       "      <td>22</td>\n",
       "      <td>20.56</td>\n",
       "      <td>42.31</td>\n",
       "      <td>49.53</td>\n",
       "      <td>82</td>\n",
       "      <td>01</td>\n",
       "      <td>Ambleon</td>\n",
       "      <td>110</td>\n",
       "      <td>12</td>\n",
       "      <td>...</td>\n",
       "      <td>NaN</td>\n",
       "      <td>NaN</td>\n",
       "      <td>NaN</td>\n",
       "      <td>NaN</td>\n",
       "      <td>NaN</td>\n",
       "      <td>NaN</td>\n",
       "      <td>NaN</td>\n",
       "      <td>NaN</td>\n",
       "      <td>NaN</td>\n",
       "      <td>NaN</td>\n",
       "    </tr>\n",
       "  </tbody>\n",
       "</table>\n",
       "<p>5 rows × 161 columns</p>\n",
       "</div>"
      ],
      "text/plain": [
       "   Code Insee  Voix  % Voix/Ins  % Voix/Exp  % Abs/Ins  REG DEP  \\\n",
       "0        1001   107       18.32       33.44      44.69   82  01   \n",
       "1        1002    32       14.28       25.20      41.52   82  01   \n",
       "2        1004  1096       13.45       29.76      53.34   82  01   \n",
       "3        1005   168       14.38       31.22      52.23   82  01   \n",
       "4        1006    22       20.56       42.31      49.53   82  01   \n",
       "\n",
       "     Libelle de la commune  P12_POP  P12_POP0014    ...      SNHMHO12  \\\n",
       "0  L'Abergement-Clemenciat      777          178    ...           NaN   \n",
       "1    L'Abergement-de-Varey      235           44    ...           NaN   \n",
       "2        Amberieu-en-Bugey    14233         3038    ...            11   \n",
       "3      Amberieux-en-Dombes     1642          338    ...           NaN   \n",
       "4                  Ambleon      110           12    ...           NaN   \n",
       "\n",
       "   SNHM1812  SNHM2612  SNHM5012  SNHMF1812  SNHMF2612  SNHMF5012  SNHMH1812  \\\n",
       "0       NaN       NaN       NaN        NaN        NaN        NaN        NaN   \n",
       "1       NaN       NaN       NaN        NaN        NaN        NaN        NaN   \n",
       "2        10        13        15          9         11         12         10   \n",
       "3       NaN       NaN       NaN        NaN        NaN        NaN        NaN   \n",
       "4       NaN       NaN       NaN        NaN        NaN        NaN        NaN   \n",
       "\n",
       "   SNHMH2612  SNHMH5012  \n",
       "0        NaN        NaN  \n",
       "1        NaN        NaN  \n",
       "2         14         18  \n",
       "3        NaN        NaN  \n",
       "4        NaN        NaN  \n",
       "\n",
       "[5 rows x 161 columns]"
      ]
     },
     "execution_count": 76,
     "metadata": {},
     "output_type": "execute_result"
    }
   ],
   "source": [
    "data_right.head()"
   ]
  },
  {
   "cell_type": "markdown",
   "metadata": {},
   "source": [
    "### We will create a new data frame containing only the variable needed. We drop all the others variables. "
   ]
  },
  {
   "cell_type": "code",
   "execution_count": 77,
   "metadata": {
    "collapsed": true
   },
   "outputs": [],
   "source": [
    "def create_final_data(data):\n",
    "    new_data = data.copy()\n",
    "    title = data.columns.tolist()\n",
    "    dropping_index = []\n",
    "    keeping_variable = ['Code Insee','% Voix/Ins','% Voix/Exp','% immigrant','% C12_POP15P_CS1','% C12_POP15P_CS2','% C12_POP15P_CS3',\n",
    "                        '% C12_POP15P_CS4','% C12_POP15P_CS5', '% C12_POP15P_CS6','% C12_POP15P_CS7', '% C12_POP15P_CS8',\n",
    "                        'SNHM12','Total ']\n",
    "    for index, variable in enumerate(title): \n",
    "        if variable not in keeping_variable:\n",
    "            dropping_index.append(index)\n",
    "    new_data = new_data.drop(new_data.columns[dropping_index], axis = 1)\n",
    "    return new_data"
   ]
  },
  {
   "cell_type": "code",
   "execution_count": 78,
   "metadata": {
    "collapsed": false
   },
   "outputs": [],
   "source": [
    "data2 = create_final_data(data_right)"
   ]
  },
  {
   "cell_type": "code",
   "execution_count": 81,
   "metadata": {
    "collapsed": false
   },
   "outputs": [
    {
     "data": {
      "text/html": [
       "<div>\n",
       "<table border=\"1\" class=\"dataframe\">\n",
       "  <thead>\n",
       "    <tr style=\"text-align: right;\">\n",
       "      <th></th>\n",
       "      <th>Code Insee</th>\n",
       "      <th>% Voix/Ins</th>\n",
       "      <th>% Voix/Exp</th>\n",
       "      <th>% C12_POP15P_CS1</th>\n",
       "      <th>% C12_POP15P_CS2</th>\n",
       "      <th>% C12_POP15P_CS3</th>\n",
       "      <th>% C12_POP15P_CS4</th>\n",
       "      <th>% C12_POP15P_CS5</th>\n",
       "      <th>% C12_POP15P_CS6</th>\n",
       "      <th>% C12_POP15P_CS7</th>\n",
       "      <th>% C12_POP15P_CS8</th>\n",
       "      <th>% immigrant</th>\n",
       "      <th>SNHM12</th>\n",
       "    </tr>\n",
       "  </thead>\n",
       "  <tbody>\n",
       "    <tr>\n",
       "      <th>0</th>\n",
       "      <td>1001</td>\n",
       "      <td>18.32</td>\n",
       "      <td>33.44</td>\n",
       "      <td>2.588997</td>\n",
       "      <td>0.647249</td>\n",
       "      <td>12.944984</td>\n",
       "      <td>14.239482</td>\n",
       "      <td>18.770227</td>\n",
       "      <td>11.650485</td>\n",
       "      <td>27.022654</td>\n",
       "      <td>12.297735</td>\n",
       "      <td>4.173623</td>\n",
       "      <td>NaN</td>\n",
       "    </tr>\n",
       "    <tr>\n",
       "      <th>1</th>\n",
       "      <td>1002</td>\n",
       "      <td>14.28</td>\n",
       "      <td>25.20</td>\n",
       "      <td>0.000000</td>\n",
       "      <td>2.116402</td>\n",
       "      <td>10.582011</td>\n",
       "      <td>27.513228</td>\n",
       "      <td>4.232804</td>\n",
       "      <td>16.931217</td>\n",
       "      <td>33.862434</td>\n",
       "      <td>4.232804</td>\n",
       "      <td>2.105263</td>\n",
       "      <td>NaN</td>\n",
       "    </tr>\n",
       "    <tr>\n",
       "      <th>2</th>\n",
       "      <td>1004</td>\n",
       "      <td>13.45</td>\n",
       "      <td>29.76</td>\n",
       "      <td>0.000000</td>\n",
       "      <td>2.818540</td>\n",
       "      <td>6.451324</td>\n",
       "      <td>15.595920</td>\n",
       "      <td>17.143880</td>\n",
       "      <td>17.197566</td>\n",
       "      <td>25.590551</td>\n",
       "      <td>15.211167</td>\n",
       "      <td>12.048946</td>\n",
       "      <td>13</td>\n",
       "    </tr>\n",
       "    <tr>\n",
       "      <th>3</th>\n",
       "      <td>1005</td>\n",
       "      <td>14.38</td>\n",
       "      <td>31.22</td>\n",
       "      <td>0.000000</td>\n",
       "      <td>5.611068</td>\n",
       "      <td>8.147579</td>\n",
       "      <td>17.524981</td>\n",
       "      <td>18.139892</td>\n",
       "      <td>14.681015</td>\n",
       "      <td>25.288240</td>\n",
       "      <td>10.607225</td>\n",
       "      <td>4.528012</td>\n",
       "      <td>NaN</td>\n",
       "    </tr>\n",
       "    <tr>\n",
       "      <th>4</th>\n",
       "      <td>1006</td>\n",
       "      <td>20.56</td>\n",
       "      <td>42.31</td>\n",
       "      <td>0.000000</td>\n",
       "      <td>0.000000</td>\n",
       "      <td>4.651163</td>\n",
       "      <td>18.604651</td>\n",
       "      <td>18.604651</td>\n",
       "      <td>9.302326</td>\n",
       "      <td>40.697674</td>\n",
       "      <td>9.302326</td>\n",
       "      <td>8.000000</td>\n",
       "      <td>NaN</td>\n",
       "    </tr>\n",
       "  </tbody>\n",
       "</table>\n",
       "</div>"
      ],
      "text/plain": [
       "   Code Insee  % Voix/Ins  % Voix/Exp  % C12_POP15P_CS1  % C12_POP15P_CS2  \\\n",
       "0        1001       18.32       33.44          2.588997          0.647249   \n",
       "1        1002       14.28       25.20          0.000000          2.116402   \n",
       "2        1004       13.45       29.76          0.000000          2.818540   \n",
       "3        1005       14.38       31.22          0.000000          5.611068   \n",
       "4        1006       20.56       42.31          0.000000          0.000000   \n",
       "\n",
       "   % C12_POP15P_CS3  % C12_POP15P_CS4  % C12_POP15P_CS5  % C12_POP15P_CS6  \\\n",
       "0         12.944984         14.239482         18.770227         11.650485   \n",
       "1         10.582011         27.513228          4.232804         16.931217   \n",
       "2          6.451324         15.595920         17.143880         17.197566   \n",
       "3          8.147579         17.524981         18.139892         14.681015   \n",
       "4          4.651163         18.604651         18.604651          9.302326   \n",
       "\n",
       "   % C12_POP15P_CS7  % C12_POP15P_CS8  % immigrant  SNHM12  \n",
       "0         27.022654         12.297735     4.173623     NaN  \n",
       "1         33.862434          4.232804     2.105263     NaN  \n",
       "2         25.590551         15.211167    12.048946      13  \n",
       "3         25.288240         10.607225     4.528012     NaN  \n",
       "4         40.697674          9.302326     8.000000     NaN  "
      ]
     },
     "execution_count": 81,
     "metadata": {},
     "output_type": "execute_result"
    }
   ],
   "source": [
    "data2.head() "
   ]
  },
  {
   "cell_type": "code",
   "execution_count": 82,
   "metadata": {
    "collapsed": false
   },
   "outputs": [],
   "source": [
    "voix_immigrant = data2[['Code Insee','% Voix/Exp','% immigrant']]"
   ]
  },
  {
   "cell_type": "code",
   "execution_count": 83,
   "metadata": {
    "collapsed": false
   },
   "outputs": [
    {
     "data": {
      "text/html": [
       "<div>\n",
       "<table border=\"1\" class=\"dataframe\">\n",
       "  <thead>\n",
       "    <tr style=\"text-align: right;\">\n",
       "      <th></th>\n",
       "      <th>Code Insee</th>\n",
       "      <th>% Voix/Exp</th>\n",
       "      <th>% immigrant</th>\n",
       "    </tr>\n",
       "  </thead>\n",
       "  <tbody>\n",
       "    <tr>\n",
       "      <th>0</th>\n",
       "      <td>1001</td>\n",
       "      <td>33.44</td>\n",
       "      <td>4.173623</td>\n",
       "    </tr>\n",
       "    <tr>\n",
       "      <th>1</th>\n",
       "      <td>1002</td>\n",
       "      <td>25.20</td>\n",
       "      <td>2.105263</td>\n",
       "    </tr>\n",
       "    <tr>\n",
       "      <th>2</th>\n",
       "      <td>1004</td>\n",
       "      <td>29.76</td>\n",
       "      <td>12.048946</td>\n",
       "    </tr>\n",
       "    <tr>\n",
       "      <th>3</th>\n",
       "      <td>1005</td>\n",
       "      <td>31.22</td>\n",
       "      <td>4.528012</td>\n",
       "    </tr>\n",
       "    <tr>\n",
       "      <th>4</th>\n",
       "      <td>1006</td>\n",
       "      <td>42.31</td>\n",
       "      <td>8.000000</td>\n",
       "    </tr>\n",
       "  </tbody>\n",
       "</table>\n",
       "</div>"
      ],
      "text/plain": [
       "   Code Insee  % Voix/Exp  % immigrant\n",
       "0        1001       33.44     4.173623\n",
       "1        1002       25.20     2.105263\n",
       "2        1004       29.76    12.048946\n",
       "3        1005       31.22     4.528012\n",
       "4        1006       42.31     8.000000"
      ]
     },
     "execution_count": 83,
     "metadata": {},
     "output_type": "execute_result"
    }
   ],
   "source": [
    "voix_immigrant = voix_immigrant.dropna()\n",
    "voix_immigrant.head()"
   ]
  },
  {
   "cell_type": "code",
   "execution_count": 84,
   "metadata": {
    "collapsed": false
   },
   "outputs": [],
   "source": [
    "plt.hist(voix_immigrant['% Voix/Exp'])\n",
    "plt.show()"
   ]
  },
  {
   "cell_type": "code",
   "execution_count": 57,
   "metadata": {
    "collapsed": false
   },
   "outputs": [
    {
     "name": "stderr",
     "output_type": "stream",
     "text": [
      "//anaconda/lib/python2.7/site-packages/matplotlib/collections.py:590: FutureWarning: elementwise comparison failed; returning scalar instead, but in the future will perform elementwise comparison\n",
      "  if self._edgecolors == str('face'):\n"
     ]
    }
   ],
   "source": [
    "plt.scatter(voix_immigrant['% Voix/Exp'], voix_immigrant['% immigrant'])\n",
    "plt.show() "
   ]
  },
  {
   "cell_type": "code",
   "execution_count": 69,
   "metadata": {
    "collapsed": false
   },
   "outputs": [
    {
     "data": {
      "text/plain": [
       "-12.480203475887857"
      ]
     },
     "execution_count": 69,
     "metadata": {},
     "output_type": "execute_result"
    }
   ],
   "source": [
    "pearsonr(voix_immigrant['% Voix/Exp'], voix_immigrant['% immigrant'])[0]*100"
   ]
  },
  {
   "cell_type": "code",
   "execution_count": 108,
   "metadata": {
    "collapsed": false
   },
   "outputs": [
    {
     "data": {
      "text/plain": [
       "['Code Insee',\n",
       " '% Voix/Ins',\n",
       " '% Voix/Exp',\n",
       " '% C12_POP15P_CS1',\n",
       " '% C12_POP15P_CS2',\n",
       " '% C12_POP15P_CS3',\n",
       " '% C12_POP15P_CS4',\n",
       " '% C12_POP15P_CS5',\n",
       " '% C12_POP15P_CS6',\n",
       " '% C12_POP15P_CS7',\n",
       " '% C12_POP15P_CS8',\n",
       " '% immigrant',\n",
       " 'SNHM12']"
      ]
     },
     "execution_count": 108,
     "metadata": {},
     "output_type": "execute_result"
    }
   ],
   "source": [
    "data2.columns.tolist()"
   ]
  },
  {
   "cell_type": "code",
   "execution_count": 146,
   "metadata": {
    "collapsed": true
   },
   "outputs": [],
   "source": [
    "def create_cor_table(data):\n",
    "    variable_list = data.columns.tolist()\n",
    "    columns_list = ['D/Immigrants', 'D/Agriculteurs','D/Artisans','D/Cadres','D/Prof_Intermediaire','D/Employes', \n",
    "               'D/Ouvrier', 'D/Retraite', 'D/Autre']\n",
    "    cor_right_party = pd.DataFrame(columns = columns_list)\n",
    "    counter = 3 # because the first 3 variables in the variable list are not important \n",
    "    for col in columns_list:\n",
    "        extract_data = data[['% Voix/Exp', variable_list[counter]]]\n",
    "        extract_data = extract_data.dropna()\n",
    "        cor = pearsonr(extract_data[extract_data.columns[0]], extract_data[extract_data.columns[1]])[0] * 100\n",
    "        cor_right_party[col] = [cor]\n",
    "        counter += 1 \n",
    "    return cor_right_party"
   ]
  },
  {
   "cell_type": "code",
   "execution_count": 147,
   "metadata": {
    "collapsed": false
   },
   "outputs": [],
   "source": [
    "correlation_right_party = create_cor_table(data2)"
   ]
  },
  {
   "cell_type": "code",
   "execution_count": 148,
   "metadata": {
    "collapsed": false
   },
   "outputs": [
    {
     "data": {
      "text/html": [
       "<div>\n",
       "<table border=\"1\" class=\"dataframe\">\n",
       "  <thead>\n",
       "    <tr style=\"text-align: right;\">\n",
       "      <th></th>\n",
       "      <th>D/Immigrants</th>\n",
       "      <th>D/Agriculteurs</th>\n",
       "      <th>D/Artisans</th>\n",
       "      <th>D/Cadres</th>\n",
       "      <th>D/Prof_Intermediaire</th>\n",
       "      <th>D/Employes</th>\n",
       "      <th>D/Ouvrier</th>\n",
       "      <th>D/Retraite</th>\n",
       "      <th>D/Autre</th>\n",
       "    </tr>\n",
       "  </thead>\n",
       "  <tbody>\n",
       "    <tr>\n",
       "      <th>0</th>\n",
       "      <td>17.898836</td>\n",
       "      <td>-1.428497</td>\n",
       "      <td>6.420419</td>\n",
       "      <td>-3.340594</td>\n",
       "      <td>-9.659553</td>\n",
       "      <td>-1.31459</td>\n",
       "      <td>3.44955</td>\n",
       "      <td>-11.855126</td>\n",
       "      <td>-12.480203</td>\n",
       "    </tr>\n",
       "  </tbody>\n",
       "</table>\n",
       "</div>"
      ],
      "text/plain": [
       "   D/Immigrants  D/Agriculteurs  D/Artisans  D/Cadres  D/Prof_Intermediaire  \\\n",
       "0     17.898836       -1.428497    6.420419 -3.340594             -9.659553   \n",
       "\n",
       "   D/Employes  D/Ouvrier  D/Retraite    D/Autre  \n",
       "0    -1.31459    3.44955  -11.855126 -12.480203  "
      ]
     },
     "execution_count": 148,
     "metadata": {},
     "output_type": "execute_result"
    }
   ],
   "source": [
    "correlation_right_party"
   ]
  },
  {
   "cell_type": "code",
   "execution_count": null,
   "metadata": {
    "collapsed": true
   },
   "outputs": [],
   "source": []
  },
  {
   "cell_type": "code",
   "execution_count": null,
   "metadata": {
    "collapsed": true
   },
   "outputs": [],
   "source": []
  },
  {
   "cell_type": "code",
   "execution_count": null,
   "metadata": {
    "collapsed": true
   },
   "outputs": [],
   "source": []
  },
  {
   "cell_type": "code",
   "execution_count": null,
   "metadata": {
    "collapsed": true
   },
   "outputs": [],
   "source": []
  },
  {
   "cell_type": "code",
   "execution_count": null,
   "metadata": {
    "collapsed": true
   },
   "outputs": [],
   "source": []
  },
  {
   "cell_type": "code",
   "execution_count": null,
   "metadata": {
    "collapsed": true
   },
   "outputs": [],
   "source": []
  },
  {
   "cell_type": "code",
   "execution_count": null,
   "metadata": {
    "collapsed": true
   },
   "outputs": [],
   "source": []
  },
  {
   "cell_type": "code",
   "execution_count": null,
   "metadata": {
    "collapsed": true
   },
   "outputs": [],
   "source": []
  },
  {
   "cell_type": "code",
   "execution_count": null,
   "metadata": {
    "collapsed": true
   },
   "outputs": [],
   "source": []
  },
  {
   "cell_type": "code",
   "execution_count": 141,
   "metadata": {
    "collapsed": false
   },
   "outputs": [],
   "source": [
    "columns = ['D/Immigrants', 'D/Agriculteurs','D/Artisans','D/Cadres','D/Prof_Intermediaire','D/Employes', \n",
    "               'D/Ouvrier', 'D/Retraite', 'D/Autre']\n",
    "d = pd.DataFrame(columns = columns)"
   ]
  },
  {
   "cell_type": "code",
   "execution_count": 142,
   "metadata": {
    "collapsed": false
   },
   "outputs": [
    {
     "data": {
      "text/html": [
       "<div>\n",
       "<table border=\"1\" class=\"dataframe\">\n",
       "  <thead>\n",
       "    <tr style=\"text-align: right;\">\n",
       "      <th></th>\n",
       "      <th>D/Immigrants</th>\n",
       "      <th>D/Agriculteurs</th>\n",
       "      <th>D/Artisans</th>\n",
       "      <th>D/Cadres</th>\n",
       "      <th>D/Prof_Intermediaire</th>\n",
       "      <th>D/Employes</th>\n",
       "      <th>D/Ouvrier</th>\n",
       "      <th>D/Retraite</th>\n",
       "      <th>D/Autre</th>\n",
       "    </tr>\n",
       "  </thead>\n",
       "  <tbody>\n",
       "    <tr>\n",
       "      <th>0</th>\n",
       "      <td>1</td>\n",
       "      <td>NaN</td>\n",
       "      <td>NaN</td>\n",
       "      <td>NaN</td>\n",
       "      <td>NaN</td>\n",
       "      <td>NaN</td>\n",
       "      <td>NaN</td>\n",
       "      <td>NaN</td>\n",
       "      <td>NaN</td>\n",
       "    </tr>\n",
       "  </tbody>\n",
       "</table>\n",
       "</div>"
      ],
      "text/plain": [
       "   D/Immigrants D/Agriculteurs D/Artisans D/Cadres D/Prof_Intermediaire  \\\n",
       "0             1            NaN        NaN      NaN                  NaN   \n",
       "\n",
       "  D/Employes D/Ouvrier D/Retraite D/Autre  \n",
       "0        NaN       NaN        NaN     NaN  "
      ]
     },
     "execution_count": 142,
     "metadata": {},
     "output_type": "execute_result"
    }
   ],
   "source": [
    "d['D/Immigrants'] = [1]\n",
    "d"
   ]
  },
  {
   "cell_type": "code",
   "execution_count": 136,
   "metadata": {
    "collapsed": false
   },
   "outputs": [
    {
     "data": {
      "text/plain": [
       "36640"
      ]
     },
     "execution_count": 136,
     "metadata": {},
     "output_type": "execute_result"
    }
   ],
   "source": [
    "voix_agriculteur = data2[['% Voix/Exp','% C12_POP15P_CS1']]\n",
    "len(voix_agriculteur)"
   ]
  },
  {
   "cell_type": "code",
   "execution_count": 101,
   "metadata": {
    "collapsed": false
   },
   "outputs": [
    {
     "data": {
      "text/plain": [
       "36628"
      ]
     },
     "execution_count": 101,
     "metadata": {},
     "output_type": "execute_result"
    }
   ],
   "source": [
    "voix_agriculteur = voix_agriculteur.dropna()\n",
    "len(voix_agriculteur)"
   ]
  },
  {
   "cell_type": "code",
   "execution_count": 119,
   "metadata": {
    "collapsed": false
   },
   "outputs": [
    {
     "data": {
      "text/plain": [
       "0.17898836389870007"
      ]
     },
     "execution_count": 119,
     "metadata": {},
     "output_type": "execute_result"
    }
   ],
   "source": [
    "pearsonr(voix_agriculteur['% Voix/Exp'], voix_agriculteur['% C12_POP15P_CS1'])[0]"
   ]
  },
  {
   "cell_type": "code",
   "execution_count": null,
   "metadata": {
    "collapsed": true
   },
   "outputs": [],
   "source": []
  },
  {
   "cell_type": "code",
   "execution_count": 74,
   "metadata": {
    "collapsed": false
   },
   "outputs": [],
   "source": [
    "tit = data3.columns.tolist()\n",
    "tit.remove('% Voix/Ins')"
   ]
  },
  {
   "cell_type": "code",
   "execution_count": 76,
   "metadata": {
    "collapsed": false
   },
   "outputs": [],
   "source": [
    "tit.remove('% Voix/Exp')"
   ]
  },
  {
   "cell_type": "code",
   "execution_count": 84,
   "metadata": {
    "collapsed": false
   },
   "outputs": [
    {
     "ename": "ValueError",
     "evalue": "list.remove(x): x not in list",
     "output_type": "error",
     "traceback": [
      "\u001b[1;31m---------------------------------------------------------------------------\u001b[0m",
      "\u001b[1;31mValueError\u001b[0m                                Traceback (most recent call last)",
      "\u001b[1;32m<ipython-input-84-5dbf327bcb93>\u001b[0m in \u001b[0;36m<module>\u001b[1;34m()\u001b[0m\n\u001b[1;32m----> 1\u001b[1;33m \u001b[0mtit\u001b[0m\u001b[1;33m.\u001b[0m\u001b[0mremove\u001b[0m\u001b[1;33m(\u001b[0m\u001b[1;34m'SNHM12'\u001b[0m\u001b[1;33m)\u001b[0m\u001b[1;33m\u001b[0m\u001b[0m\n\u001b[0m\u001b[0;32m      2\u001b[0m \u001b[0mtit\u001b[0m\u001b[1;33m\u001b[0m\u001b[0m\n",
      "\u001b[1;31mValueError\u001b[0m: list.remove(x): x not in list"
     ]
    }
   ],
   "source": [
    "tit.remove('SNHM12')"
   ]
  },
  {
   "cell_type": "code",
   "execution_count": 85,
   "metadata": {
    "collapsed": false
   },
   "outputs": [],
   "source": [
    "dat = data3.groupby(tit)"
   ]
  },
  {
   "cell_type": "code",
   "execution_count": 86,
   "metadata": {
    "collapsed": false
   },
   "outputs": [
    {
     "data": {
      "text/html": [
       "<div>\n",
       "<table border=\"1\" class=\"dataframe\">\n",
       "  <thead>\n",
       "    <tr style=\"text-align: right;\">\n",
       "      <th></th>\n",
       "      <th></th>\n",
       "      <th></th>\n",
       "      <th></th>\n",
       "      <th></th>\n",
       "      <th></th>\n",
       "      <th></th>\n",
       "      <th></th>\n",
       "      <th></th>\n",
       "      <th></th>\n",
       "      <th>% Voix/Ins</th>\n",
       "      <th>% Voix/Exp</th>\n",
       "      <th>SNHM12</th>\n",
       "    </tr>\n",
       "    <tr>\n",
       "      <th>Code Insee</th>\n",
       "      <th>C12_POP15P_CS1</th>\n",
       "      <th>C12_POP15P_CS2</th>\n",
       "      <th>C12_POP15P_CS3</th>\n",
       "      <th>C12_POP15P_CS4</th>\n",
       "      <th>C12_POP15P_CS5</th>\n",
       "      <th>C12_POP15P_CS6</th>\n",
       "      <th>C12_POP15P_CS7</th>\n",
       "      <th>C12_POP15P_CS8</th>\n",
       "      <th>Total immigrant</th>\n",
       "      <th></th>\n",
       "      <th></th>\n",
       "      <th></th>\n",
       "    </tr>\n",
       "  </thead>\n",
       "  <tbody>\n",
       "    <tr>\n",
       "      <th>1001</th>\n",
       "      <th>16</th>\n",
       "      <th>4</th>\n",
       "      <th>80</th>\n",
       "      <th>88</th>\n",
       "      <th>116</th>\n",
       "      <th>72</th>\n",
       "      <th>167</th>\n",
       "      <th>76</th>\n",
       "      <th>25</th>\n",
       "      <td>18.32</td>\n",
       "      <td>33.44</td>\n",
       "      <td>NaN</td>\n",
       "    </tr>\n",
       "    <tr>\n",
       "      <th>1002</th>\n",
       "      <th>0</th>\n",
       "      <th>4</th>\n",
       "      <th>20</th>\n",
       "      <th>52</th>\n",
       "      <th>8</th>\n",
       "      <th>32</th>\n",
       "      <th>64</th>\n",
       "      <th>8</th>\n",
       "      <th>4</th>\n",
       "      <td>12.05</td>\n",
       "      <td>21.26</td>\n",
       "      <td>NaN</td>\n",
       "    </tr>\n",
       "  </tbody>\n",
       "</table>\n",
       "</div>"
      ],
      "text/plain": [
       "                                                                                                                                                    % Voix/Ins  \\\n",
       "Code Insee C12_POP15P_CS1 C12_POP15P_CS2 C12_POP15P_CS3 C12_POP15P_CS4 C12_POP15P_CS5 C12_POP15P_CS6 C12_POP15P_CS7 C12_POP15P_CS8 Total immigrant               \n",
       "1001       16             4              80             88             116            72             167            76             25                    18.32   \n",
       "1002       0              4              20             52             8              32             64             8              4                     12.05   \n",
       "\n",
       "                                                                                                                                                    % Voix/Exp  \\\n",
       "Code Insee C12_POP15P_CS1 C12_POP15P_CS2 C12_POP15P_CS3 C12_POP15P_CS4 C12_POP15P_CS5 C12_POP15P_CS6 C12_POP15P_CS7 C12_POP15P_CS8 Total immigrant               \n",
       "1001       16             4              80             88             116            72             167            76             25                    33.44   \n",
       "1002       0              4              20             52             8              32             64             8              4                     21.26   \n",
       "\n",
       "                                                                                                                                                    SNHM12  \n",
       "Code Insee C12_POP15P_CS1 C12_POP15P_CS2 C12_POP15P_CS3 C12_POP15P_CS4 C12_POP15P_CS5 C12_POP15P_CS6 C12_POP15P_CS7 C12_POP15P_CS8 Total immigrant          \n",
       "1001       16             4              80             88             116            72             167            76             25                  NaN  \n",
       "1002       0              4              20             52             8              32             64             8              4                   NaN  "
      ]
     },
     "execution_count": 86,
     "metadata": {},
     "output_type": "execute_result"
    }
   ],
   "source": [
    "dat.aggregate(np.sum)"
   ]
  },
  {
   "cell_type": "code",
   "execution_count": 87,
   "metadata": {
    "collapsed": false
   },
   "outputs": [
    {
     "data": {
      "text/html": [
       "<div>\n",
       "<table border=\"1\" class=\"dataframe\">\n",
       "  <thead>\n",
       "    <tr style=\"text-align: right;\">\n",
       "      <th></th>\n",
       "      <th>Code Insee</th>\n",
       "      <th>% Voix/Ins</th>\n",
       "      <th>% Voix/Exp</th>\n",
       "      <th>C12_POP15P_CS1</th>\n",
       "      <th>C12_POP15P_CS2</th>\n",
       "      <th>C12_POP15P_CS3</th>\n",
       "      <th>C12_POP15P_CS4</th>\n",
       "      <th>C12_POP15P_CS5</th>\n",
       "      <th>C12_POP15P_CS6</th>\n",
       "      <th>C12_POP15P_CS7</th>\n",
       "      <th>C12_POP15P_CS8</th>\n",
       "      <th>Total immigrant</th>\n",
       "      <th>SNHM12</th>\n",
       "    </tr>\n",
       "  </thead>\n",
       "  <tbody>\n",
       "    <tr>\n",
       "      <th>0</th>\n",
       "      <td>1001</td>\n",
       "      <td>0.00</td>\n",
       "      <td>0.00</td>\n",
       "      <td>16</td>\n",
       "      <td>4</td>\n",
       "      <td>80</td>\n",
       "      <td>88</td>\n",
       "      <td>116</td>\n",
       "      <td>72</td>\n",
       "      <td>167</td>\n",
       "      <td>76</td>\n",
       "      <td>25</td>\n",
       "      <td>NaN</td>\n",
       "    </tr>\n",
       "    <tr>\n",
       "      <th>1</th>\n",
       "      <td>1001</td>\n",
       "      <td>1.20</td>\n",
       "      <td>2.19</td>\n",
       "      <td>16</td>\n",
       "      <td>4</td>\n",
       "      <td>80</td>\n",
       "      <td>88</td>\n",
       "      <td>116</td>\n",
       "      <td>72</td>\n",
       "      <td>167</td>\n",
       "      <td>76</td>\n",
       "      <td>25</td>\n",
       "      <td>NaN</td>\n",
       "    </tr>\n",
       "    <tr>\n",
       "      <th>2</th>\n",
       "      <td>1001</td>\n",
       "      <td>17.12</td>\n",
       "      <td>31.25</td>\n",
       "      <td>16</td>\n",
       "      <td>4</td>\n",
       "      <td>80</td>\n",
       "      <td>88</td>\n",
       "      <td>116</td>\n",
       "      <td>72</td>\n",
       "      <td>167</td>\n",
       "      <td>76</td>\n",
       "      <td>25</td>\n",
       "      <td>NaN</td>\n",
       "    </tr>\n",
       "    <tr>\n",
       "      <th>3</th>\n",
       "      <td>1002</td>\n",
       "      <td>12.05</td>\n",
       "      <td>21.26</td>\n",
       "      <td>0</td>\n",
       "      <td>4</td>\n",
       "      <td>20</td>\n",
       "      <td>52</td>\n",
       "      <td>8</td>\n",
       "      <td>32</td>\n",
       "      <td>64</td>\n",
       "      <td>8</td>\n",
       "      <td>4</td>\n",
       "      <td>NaN</td>\n",
       "    </tr>\n",
       "    <tr>\n",
       "      <th>4</th>\n",
       "      <td>1002</td>\n",
       "      <td>0.00</td>\n",
       "      <td>0.00</td>\n",
       "      <td>0</td>\n",
       "      <td>4</td>\n",
       "      <td>20</td>\n",
       "      <td>52</td>\n",
       "      <td>8</td>\n",
       "      <td>32</td>\n",
       "      <td>64</td>\n",
       "      <td>8</td>\n",
       "      <td>4</td>\n",
       "      <td>NaN</td>\n",
       "    </tr>\n",
       "  </tbody>\n",
       "</table>\n",
       "</div>"
      ],
      "text/plain": [
       "   Code Insee  % Voix/Ins  % Voix/Exp  C12_POP15P_CS1  C12_POP15P_CS2  \\\n",
       "0        1001        0.00        0.00              16               4   \n",
       "1        1001        1.20        2.19              16               4   \n",
       "2        1001       17.12       31.25              16               4   \n",
       "3        1002       12.05       21.26               0               4   \n",
       "4        1002        0.00        0.00               0               4   \n",
       "\n",
       "   C12_POP15P_CS3  C12_POP15P_CS4  C12_POP15P_CS5  C12_POP15P_CS6  \\\n",
       "0              80              88             116              72   \n",
       "1              80              88             116              72   \n",
       "2              80              88             116              72   \n",
       "3              20              52               8              32   \n",
       "4              20              52               8              32   \n",
       "\n",
       "   C12_POP15P_CS7  C12_POP15P_CS8  Total immigrant  SNHM12  \n",
       "0             167              76               25     NaN  \n",
       "1             167              76               25     NaN  \n",
       "2             167              76               25     NaN  \n",
       "3              64               8                4     NaN  \n",
       "4              64               8                4     NaN  "
      ]
     },
     "execution_count": 87,
     "metadata": {},
     "output_type": "execute_result"
    }
   ],
   "source": [
    "data3"
   ]
  },
  {
   "cell_type": "code",
   "execution_count": null,
   "metadata": {
    "collapsed": true
   },
   "outputs": [],
   "source": []
  },
  {
   "cell_type": "code",
   "execution_count": null,
   "metadata": {
    "collapsed": false
   },
   "outputs": [],
   "source": [
    "plt.hist(y,bins=np.arange(min(y), max(y) + 10, 10))\n",
    "plt.show()"
   ]
  },
  {
   "cell_type": "code",
   "execution_count": 47,
   "metadata": {
    "collapsed": false
   },
   "outputs": [
    {
     "data": {
      "text/plain": [
       "array([ 15.93846154,  15.93846154,  15.93846154, ...,   0.        ,\n",
       "         0.        ,   8.2930232 ])"
      ]
     },
     "execution_count": 47,
     "metadata": {},
     "output_type": "execute_result"
    }
   ],
   "source": [
    "x"
   ]
  },
  {
   "cell_type": "code",
   "execution_count": 45,
   "metadata": {
    "collapsed": false
   },
   "outputs": [
    {
     "data": {
      "text/plain": [
       "(0.79617014831975552, 0.41371200873701036)"
      ]
     },
     "execution_count": 45,
     "metadata": {},
     "output_type": "execute_result"
    }
   ],
   "source": [
    "x = scipy.array([-0.65499887,  2.34644428, 3.0])\n",
    "y = scipy.array([-1.46049758,  3.86537321, 21.0])\n",
    "pearsonr(x,y)"
   ]
  },
  {
   "cell_type": "code",
   "execution_count": null,
   "metadata": {
    "collapsed": true
   },
   "outputs": [],
   "source": []
  },
  {
   "cell_type": "code",
   "execution_count": null,
   "metadata": {
    "collapsed": true
   },
   "outputs": [],
   "source": []
  },
  {
   "cell_type": "code",
   "execution_count": null,
   "metadata": {
    "collapsed": true
   },
   "outputs": [],
   "source": []
  },
  {
   "cell_type": "code",
   "execution_count": null,
   "metadata": {
    "collapsed": true
   },
   "outputs": [],
   "source": []
  },
  {
   "cell_type": "code",
   "execution_count": null,
   "metadata": {
    "collapsed": true
   },
   "outputs": [],
   "source": []
  },
  {
   "cell_type": "code",
   "execution_count": null,
   "metadata": {
    "collapsed": true
   },
   "outputs": [],
   "source": []
  },
  {
   "cell_type": "code",
   "execution_count": null,
   "metadata": {
    "collapsed": true
   },
   "outputs": [],
   "source": []
  },
  {
   "cell_type": "code",
   "execution_count": null,
   "metadata": {
    "collapsed": true
   },
   "outputs": [],
   "source": []
  },
  {
   "cell_type": "code",
   "execution_count": null,
   "metadata": {
    "collapsed": true
   },
   "outputs": [],
   "source": []
  },
  {
   "cell_type": "code",
   "execution_count": null,
   "metadata": {
    "collapsed": true
   },
   "outputs": [],
   "source": []
  },
  {
   "cell_type": "code",
   "execution_count": null,
   "metadata": {
    "collapsed": true
   },
   "outputs": [],
   "source": []
  },
  {
   "cell_type": "code",
   "execution_count": null,
   "metadata": {
    "collapsed": true
   },
   "outputs": [],
   "source": []
  },
  {
   "cell_type": "code",
   "execution_count": null,
   "metadata": {
    "collapsed": true
   },
   "outputs": [],
   "source": []
  },
  {
   "cell_type": "code",
   "execution_count": null,
   "metadata": {
    "collapsed": true
   },
   "outputs": [],
   "source": []
  },
  {
   "cell_type": "code",
   "execution_count": null,
   "metadata": {
    "collapsed": true
   },
   "outputs": [],
   "source": []
  }
 ],
 "metadata": {
  "kernelspec": {
   "display_name": "Python 2",
   "language": "python",
   "name": "python2"
  },
  "language_info": {
   "codemirror_mode": {
    "name": "ipython",
    "version": 2
   },
   "file_extension": ".py",
   "mimetype": "text/x-python",
   "name": "python",
   "nbconvert_exporter": "python",
   "pygments_lexer": "ipython2",
   "version": "2.7.11"
  }
 },
 "nbformat": 4,
 "nbformat_minor": 0
}
