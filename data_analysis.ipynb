{
 "cells": [
  {
   "cell_type": "code",
   "execution_count": 1,
   "metadata": {
    "collapsed": true
   },
   "outputs": [],
   "source": [
    "import pandas as pd\n",
    "import numpy as np\n",
    "import scipy\n",
    "from scipy.stats.stats import pearsonr   \n",
    "import matplotlib.pyplot as plt"
   ]
  },
  {
   "cell_type": "code",
   "execution_count": 2,
   "metadata": {
    "collapsed": true
   },
   "outputs": [],
   "source": [
    "data = pd.read_excel('full_data_right.xlsx')"
   ]
  },
  {
   "cell_type": "code",
   "execution_count": 4,
   "metadata": {
    "collapsed": true
   },
   "outputs": [],
   "source": [
    "import unicodedata\n",
    "\n",
    "def unicode_to_string(word):\n",
    "    if pd.isnull(word):\n",
    "        return \n",
    "    else:\n",
    "        return unicodedata.normalize('NFKD', word).encode('ascii','ignore')\n",
    "    \n",
    "def data_to_string(data):\n",
    "    new_data = data.copy()\n",
    "    \n",
    "    col_title_unicode = new_data.columns.values.tolist()\n",
    "    col_title = map(unicode_to_string,col_title_unicode)\n",
    "    new_data.columns = col_title\n",
    "    \n",
    "    for col in new_data.columns:\n",
    "        not_nan_index = [not ind for ind in new_data[col].isnull()]\n",
    "        not_nan_value = new_data[col][not_nan_index]\n",
    "        if type(not_nan_value.iloc[0]) == unicode: #check the first not-NaN value\n",
    "            new_data[col] = map(unicode_to_string,new_data[col])\n",
    "            \n",
    "    return new_data"
   ]
  },
  {
   "cell_type": "code",
   "execution_count": 5,
   "metadata": {
    "collapsed": true
   },
   "outputs": [],
   "source": [
    "def float_to_int(data):\n",
    "    new_data = data.copy()    \n",
    "    for col in new_data.columns:\n",
    "        not_nan_index = [not ind for ind in new_data[col].isnull()]\n",
    "        not_nan_value = new_data[col][not_nan_index]\n",
    "        if type(not_nan_value.iloc[0]) == np.float64: #check the first not-NaN value\n",
    "            new_data[col] = new_data[col].round()\n",
    "    return new_data"
   ]
  },
  {
   "cell_type": "code",
   "execution_count": null,
   "metadata": {
    "collapsed": false
   },
   "outputs": [],
   "source": [
    "data = data_to_string(data)\n",
    "data = float_to_int(data)"
   ]
  },
  {
   "cell_type": "code",
   "execution_count": null,
   "metadata": {
    "collapsed": false
   },
   "outputs": [],
   "source": [
    "data.head()"
   ]
  },
  {
   "cell_type": "code",
   "execution_count": null,
   "metadata": {
    "collapsed": true
   },
   "outputs": [],
   "source": []
  },
  {
   "cell_type": "code",
   "execution_count": null,
   "metadata": {
    "collapsed": true
   },
   "outputs": [],
   "source": []
  },
  {
   "cell_type": "markdown",
   "metadata": {},
   "source": [
    "### We will create a new data frame containing only the variable needed. We drop all the others variables. "
   ]
  },
  {
   "cell_type": "code",
   "execution_count": 31,
   "metadata": {
    "collapsed": true
   },
   "outputs": [],
   "source": [
    "def create_final_data(data):\n",
    "    new_data = data.copy()\n",
    "    title = data.columns.tolist()\n",
    "    dropping_index = []\n",
    "    keeping_variable = ['Code Insee','% Voix/Ins','% Voix/Exp','C12_POP15P_CS1','C12_POP15P_CS2','C12_POP15P_CS3','C12_POP15P_CS4','C12_POP15P_CS5', 'C12_POP15P_CS6',\n",
    "                       'C12_POP15P_CS7', 'C12_POP15P_CS8','SNHM12']\n",
    "    for index, variable in enumerate(title): \n",
    "        if variable not in keeping_variable:\n",
    "            dropping_index.append(index)\n",
    "    new_data = new_data.drop(new_data.columns[dropping_index], axis = 1)\n",
    "    return new_data"
   ]
  },
  {
   "cell_type": "code",
   "execution_count": 32,
   "metadata": {
    "collapsed": false
   },
   "outputs": [],
   "source": [
    "data2 = create_final_data(data)"
   ]
  },
  {
   "cell_type": "code",
   "execution_count": 33,
   "metadata": {
    "collapsed": false
   },
   "outputs": [
    {
     "data": {
      "text/html": [
       "<div>\n",
       "<table border=\"1\" class=\"dataframe\">\n",
       "  <thead>\n",
       "    <tr style=\"text-align: right;\">\n",
       "      <th></th>\n",
       "      <th>Code Insee</th>\n",
       "      <th>% Voix/Ins</th>\n",
       "      <th>% Voix/Exp</th>\n",
       "      <th>C12_POP15P_CS1</th>\n",
       "      <th>C12_POP15P_CS2</th>\n",
       "      <th>C12_POP15P_CS3</th>\n",
       "      <th>C12_POP15P_CS4</th>\n",
       "      <th>C12_POP15P_CS5</th>\n",
       "      <th>C12_POP15P_CS6</th>\n",
       "      <th>C12_POP15P_CS7</th>\n",
       "      <th>C12_POP15P_CS8</th>\n",
       "      <th>SNHM12</th>\n",
       "    </tr>\n",
       "  </thead>\n",
       "  <tbody>\n",
       "    <tr>\n",
       "      <th>0</th>\n",
       "      <td>1001</td>\n",
       "      <td>0.00</td>\n",
       "      <td>0.00</td>\n",
       "      <td>15.938462</td>\n",
       "      <td>3.984615</td>\n",
       "      <td>79.692308</td>\n",
       "      <td>87.661538</td>\n",
       "      <td>115.553846</td>\n",
       "      <td>71.723077</td>\n",
       "      <td>167.353846</td>\n",
       "      <td>75.707692</td>\n",
       "      <td>NaN</td>\n",
       "    </tr>\n",
       "    <tr>\n",
       "      <th>1</th>\n",
       "      <td>1001</td>\n",
       "      <td>1.20</td>\n",
       "      <td>2.19</td>\n",
       "      <td>15.938462</td>\n",
       "      <td>3.984615</td>\n",
       "      <td>79.692308</td>\n",
       "      <td>87.661538</td>\n",
       "      <td>115.553846</td>\n",
       "      <td>71.723077</td>\n",
       "      <td>167.353846</td>\n",
       "      <td>75.707692</td>\n",
       "      <td>NaN</td>\n",
       "    </tr>\n",
       "    <tr>\n",
       "      <th>2</th>\n",
       "      <td>1001</td>\n",
       "      <td>17.12</td>\n",
       "      <td>31.25</td>\n",
       "      <td>15.938462</td>\n",
       "      <td>3.984615</td>\n",
       "      <td>79.692308</td>\n",
       "      <td>87.661538</td>\n",
       "      <td>115.553846</td>\n",
       "      <td>71.723077</td>\n",
       "      <td>167.353846</td>\n",
       "      <td>75.707692</td>\n",
       "      <td>NaN</td>\n",
       "    </tr>\n",
       "    <tr>\n",
       "      <th>3</th>\n",
       "      <td>1002</td>\n",
       "      <td>12.05</td>\n",
       "      <td>21.26</td>\n",
       "      <td>0.000000</td>\n",
       "      <td>4.017094</td>\n",
       "      <td>20.085470</td>\n",
       "      <td>52.222222</td>\n",
       "      <td>8.034188</td>\n",
       "      <td>32.136752</td>\n",
       "      <td>64.273504</td>\n",
       "      <td>8.034188</td>\n",
       "      <td>NaN</td>\n",
       "    </tr>\n",
       "    <tr>\n",
       "      <th>4</th>\n",
       "      <td>1002</td>\n",
       "      <td>0.00</td>\n",
       "      <td>0.00</td>\n",
       "      <td>0.000000</td>\n",
       "      <td>4.017094</td>\n",
       "      <td>20.085470</td>\n",
       "      <td>52.222222</td>\n",
       "      <td>8.034188</td>\n",
       "      <td>32.136752</td>\n",
       "      <td>64.273504</td>\n",
       "      <td>8.034188</td>\n",
       "      <td>NaN</td>\n",
       "    </tr>\n",
       "  </tbody>\n",
       "</table>\n",
       "</div>"
      ],
      "text/plain": [
       "   Code Insee  % Voix/Ins  % Voix/Exp  C12_POP15P_CS1  C12_POP15P_CS2  \\\n",
       "0        1001        0.00        0.00       15.938462        3.984615   \n",
       "1        1001        1.20        2.19       15.938462        3.984615   \n",
       "2        1001       17.12       31.25       15.938462        3.984615   \n",
       "3        1002       12.05       21.26        0.000000        4.017094   \n",
       "4        1002        0.00        0.00        0.000000        4.017094   \n",
       "\n",
       "   C12_POP15P_CS3  C12_POP15P_CS4  C12_POP15P_CS5  C12_POP15P_CS6  \\\n",
       "0       79.692308       87.661538      115.553846       71.723077   \n",
       "1       79.692308       87.661538      115.553846       71.723077   \n",
       "2       79.692308       87.661538      115.553846       71.723077   \n",
       "3       20.085470       52.222222        8.034188       32.136752   \n",
       "4       20.085470       52.222222        8.034188       32.136752   \n",
       "\n",
       "   C12_POP15P_CS7  C12_POP15P_CS8  SNHM12  \n",
       "0      167.353846       75.707692     NaN  \n",
       "1      167.353846       75.707692     NaN  \n",
       "2      167.353846       75.707692     NaN  \n",
       "3       64.273504        8.034188     NaN  \n",
       "4       64.273504        8.034188     NaN  "
      ]
     },
     "execution_count": 33,
     "metadata": {},
     "output_type": "execute_result"
    }
   ],
   "source": [
    "data2.head() "
   ]
  },
  {
   "cell_type": "code",
   "execution_count": 35,
   "metadata": {
    "collapsed": false
   },
   "outputs": [
    {
     "data": {
      "text/plain": [
       "(nan, 1.0)"
      ]
     },
     "execution_count": 35,
     "metadata": {},
     "output_type": "execute_result"
    }
   ],
   "source": [
    "pearsonr(data2['% Voix/Exp'], data2['C12_POP15P_CS1'])"
   ]
  },
  {
   "cell_type": "code",
   "execution_count": 63,
   "metadata": {
    "collapsed": false
   },
   "outputs": [
    {
     "data": {
      "text/html": [
       "<div>\n",
       "<table border=\"1\" class=\"dataframe\">\n",
       "  <thead>\n",
       "    <tr style=\"text-align: right;\">\n",
       "      <th></th>\n",
       "      <th>Code Insee</th>\n",
       "      <th>% Voix/Ins</th>\n",
       "      <th>% Voix/Exp</th>\n",
       "      <th>C12_POP15P_CS1</th>\n",
       "      <th>C12_POP15P_CS2</th>\n",
       "      <th>C12_POP15P_CS3</th>\n",
       "      <th>C12_POP15P_CS4</th>\n",
       "      <th>C12_POP15P_CS5</th>\n",
       "      <th>C12_POP15P_CS6</th>\n",
       "      <th>C12_POP15P_CS7</th>\n",
       "      <th>C12_POP15P_CS8</th>\n",
       "      <th>SNHM12</th>\n",
       "    </tr>\n",
       "  </thead>\n",
       "  <tbody>\n",
       "    <tr>\n",
       "      <th>0</th>\n",
       "      <td>1001</td>\n",
       "      <td>0.00</td>\n",
       "      <td>0.00</td>\n",
       "      <td>15.938462</td>\n",
       "      <td>3.984615</td>\n",
       "      <td>79.692308</td>\n",
       "      <td>87.661538</td>\n",
       "      <td>115.553846</td>\n",
       "      <td>71.723077</td>\n",
       "      <td>167.353846</td>\n",
       "      <td>75.707692</td>\n",
       "      <td>NaN</td>\n",
       "    </tr>\n",
       "    <tr>\n",
       "      <th>1</th>\n",
       "      <td>1001</td>\n",
       "      <td>1.20</td>\n",
       "      <td>2.19</td>\n",
       "      <td>15.938462</td>\n",
       "      <td>3.984615</td>\n",
       "      <td>79.692308</td>\n",
       "      <td>87.661538</td>\n",
       "      <td>115.553846</td>\n",
       "      <td>71.723077</td>\n",
       "      <td>167.353846</td>\n",
       "      <td>75.707692</td>\n",
       "      <td>NaN</td>\n",
       "    </tr>\n",
       "    <tr>\n",
       "      <th>2</th>\n",
       "      <td>1001</td>\n",
       "      <td>17.12</td>\n",
       "      <td>31.25</td>\n",
       "      <td>15.938462</td>\n",
       "      <td>3.984615</td>\n",
       "      <td>79.692308</td>\n",
       "      <td>87.661538</td>\n",
       "      <td>115.553846</td>\n",
       "      <td>71.723077</td>\n",
       "      <td>167.353846</td>\n",
       "      <td>75.707692</td>\n",
       "      <td>NaN</td>\n",
       "    </tr>\n",
       "    <tr>\n",
       "      <th>3</th>\n",
       "      <td>1002</td>\n",
       "      <td>12.05</td>\n",
       "      <td>21.26</td>\n",
       "      <td>0.000000</td>\n",
       "      <td>4.017094</td>\n",
       "      <td>20.085470</td>\n",
       "      <td>52.222222</td>\n",
       "      <td>8.034188</td>\n",
       "      <td>32.136752</td>\n",
       "      <td>64.273504</td>\n",
       "      <td>8.034188</td>\n",
       "      <td>NaN</td>\n",
       "    </tr>\n",
       "    <tr>\n",
       "      <th>4</th>\n",
       "      <td>1002</td>\n",
       "      <td>0.00</td>\n",
       "      <td>0.00</td>\n",
       "      <td>0.000000</td>\n",
       "      <td>4.017094</td>\n",
       "      <td>20.085470</td>\n",
       "      <td>52.222222</td>\n",
       "      <td>8.034188</td>\n",
       "      <td>32.136752</td>\n",
       "      <td>64.273504</td>\n",
       "      <td>8.034188</td>\n",
       "      <td>NaN</td>\n",
       "    </tr>\n",
       "  </tbody>\n",
       "</table>\n",
       "</div>"
      ],
      "text/plain": [
       "   Code Insee  % Voix/Ins  % Voix/Exp  C12_POP15P_CS1  C12_POP15P_CS2  \\\n",
       "0        1001        0.00        0.00       15.938462        3.984615   \n",
       "1        1001        1.20        2.19       15.938462        3.984615   \n",
       "2        1001       17.12       31.25       15.938462        3.984615   \n",
       "3        1002       12.05       21.26        0.000000        4.017094   \n",
       "4        1002        0.00        0.00        0.000000        4.017094   \n",
       "\n",
       "   C12_POP15P_CS3  C12_POP15P_CS4  C12_POP15P_CS5  C12_POP15P_CS6  \\\n",
       "0       79.692308       87.661538      115.553846       71.723077   \n",
       "1       79.692308       87.661538      115.553846       71.723077   \n",
       "2       79.692308       87.661538      115.553846       71.723077   \n",
       "3       20.085470       52.222222        8.034188       32.136752   \n",
       "4       20.085470       52.222222        8.034188       32.136752   \n",
       "\n",
       "   C12_POP15P_CS7  C12_POP15P_CS8  SNHM12  \n",
       "0      167.353846       75.707692     NaN  \n",
       "1      167.353846       75.707692     NaN  \n",
       "2      167.353846       75.707692     NaN  \n",
       "3       64.273504        8.034188     NaN  \n",
       "4       64.273504        8.034188     NaN  "
      ]
     },
     "execution_count": 63,
     "metadata": {},
     "output_type": "execute_result"
    }
   ],
   "source": [
    "data3 = data2.iloc[:5]\n",
    "data3"
   ]
  },
  {
   "cell_type": "code",
   "execution_count": 93,
   "metadata": {
    "collapsed": false
   },
   "outputs": [],
   "source": [
    "d = data2.copy() \n",
    "d = d.dropna()"
   ]
  },
  {
   "cell_type": "code",
   "execution_count": 94,
   "metadata": {
    "collapsed": true
   },
   "outputs": [],
   "source": [
    "x = d['% Voix/Exp'].tolist()\n",
    "y = d['C12_POP15P_CS3'].tolist()"
   ]
  },
  {
   "cell_type": "code",
   "execution_count": 95,
   "metadata": {
    "collapsed": false
   },
   "outputs": [
    {
     "name": "stdout",
     "output_type": "stream",
     "text": [
      "88552 12696\n"
     ]
    }
   ],
   "source": [
    "print len(data2), len(d)"
   ]
  },
  {
   "cell_type": "code",
   "execution_count": null,
   "metadata": {
    "collapsed": false
   },
   "outputs": [],
   "source": [
    "plt.hist(y,bins=np.arange(min(y), max(y) + 10, 10))\n",
    "plt.show()"
   ]
  },
  {
   "cell_type": "code",
   "execution_count": 47,
   "metadata": {
    "collapsed": false
   },
   "outputs": [
    {
     "data": {
      "text/plain": [
       "array([ 15.93846154,  15.93846154,  15.93846154, ...,   0.        ,\n",
       "         0.        ,   8.2930232 ])"
      ]
     },
     "execution_count": 47,
     "metadata": {},
     "output_type": "execute_result"
    }
   ],
   "source": [
    "x"
   ]
  },
  {
   "cell_type": "code",
   "execution_count": 45,
   "metadata": {
    "collapsed": false
   },
   "outputs": [
    {
     "data": {
      "text/plain": [
       "(0.79617014831975552, 0.41371200873701036)"
      ]
     },
     "execution_count": 45,
     "metadata": {},
     "output_type": "execute_result"
    }
   ],
   "source": [
    "x = scipy.array([-0.65499887,  2.34644428, 3.0])\n",
    "y = scipy.array([-1.46049758,  3.86537321, 21.0])\n",
    "pearsonr(x,y)"
   ]
  },
  {
   "cell_type": "code",
   "execution_count": null,
   "metadata": {
    "collapsed": true
   },
   "outputs": [],
   "source": []
  },
  {
   "cell_type": "code",
   "execution_count": null,
   "metadata": {
    "collapsed": true
   },
   "outputs": [],
   "source": []
  },
  {
   "cell_type": "code",
   "execution_count": null,
   "metadata": {
    "collapsed": true
   },
   "outputs": [],
   "source": []
  },
  {
   "cell_type": "code",
   "execution_count": null,
   "metadata": {
    "collapsed": true
   },
   "outputs": [],
   "source": []
  },
  {
   "cell_type": "code",
   "execution_count": null,
   "metadata": {
    "collapsed": true
   },
   "outputs": [],
   "source": []
  },
  {
   "cell_type": "code",
   "execution_count": null,
   "metadata": {
    "collapsed": true
   },
   "outputs": [],
   "source": []
  },
  {
   "cell_type": "code",
   "execution_count": null,
   "metadata": {
    "collapsed": true
   },
   "outputs": [],
   "source": []
  }
 ],
 "metadata": {
  "kernelspec": {
   "display_name": "Python 2",
   "language": "python",
   "name": "python2"
  },
  "language_info": {
   "codemirror_mode": {
    "name": "ipython",
    "version": 2
   },
   "file_extension": ".py",
   "mimetype": "text/x-python",
   "name": "python",
   "nbconvert_exporter": "python",
   "pygments_lexer": "ipython2",
   "version": "2.7.11"
  }
 },
 "nbformat": 4,
 "nbformat_minor": 0
}
