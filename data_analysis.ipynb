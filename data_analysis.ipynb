{
 "cells": [
  {
   "cell_type": "code",
   "execution_count": 1,
   "metadata": {
    "collapsed": true
   },
   "outputs": [],
   "source": [
    "import pandas as pd\n",
    "import numpy as np\n",
    "import scipy\n",
    "from scipy.stats.stats import pearsonr   \n",
    "import matplotlib.pyplot as plt"
   ]
  },
  {
   "cell_type": "code",
   "execution_count": 7,
   "metadata": {
    "collapsed": true
   },
   "outputs": [],
   "source": [
    "data = pd.read_excel('full_data_right.xlsx')"
   ]
  },
  {
   "cell_type": "code",
   "execution_count": 8,
   "metadata": {
    "collapsed": true
   },
   "outputs": [],
   "source": [
    "import unicodedata\n",
    "\n",
    "def unicode_to_string(word):\n",
    "    if pd.isnull(word):\n",
    "        return \n",
    "    else:\n",
    "        return unicodedata.normalize('NFKD', word).encode('ascii','ignore')\n",
    "    \n",
    "def data_to_string(data):\n",
    "    new_data = data.copy()\n",
    "    \n",
    "    col_title_unicode = new_data.columns.values.tolist()\n",
    "    col_title = map(unicode_to_string,col_title_unicode)\n",
    "    new_data.columns = col_title\n",
    "    \n",
    "    for col in new_data.columns:\n",
    "        not_nan_index = [not ind for ind in new_data[col].isnull()]\n",
    "        not_nan_value = new_data[col][not_nan_index]\n",
    "        if type(not_nan_value.iloc[0]) == unicode: #check the first not-NaN value\n",
    "            new_data[col] = map(unicode_to_string,new_data[col])\n",
    "            \n",
    "    return new_data"
   ]
  },
  {
   "cell_type": "code",
   "execution_count": 25,
   "metadata": {
    "collapsed": true
   },
   "outputs": [],
   "source": [
    "def float_to_int(data):\n",
    "    new_data = data.copy()    \n",
    "    for col in new_data.columns:\n",
    "        if '% Voix' in col: \n",
    "            # Here we add this condition because the variable %voix needs to be in float format \n",
    "            # Need to think more about this in case we have more float-fotmat data \n",
    "            continue\n",
    "        else: \n",
    "            not_nan_index = [not ind for ind in new_data[col].isnull()]\n",
    "            not_nan_value = new_data[col][not_nan_index]\n",
    "            if type(not_nan_value.iloc[0]) == np.float64: #check the first not-NaN value\n",
    "                new_data[col] = new_data[col].round()\n",
    "    return new_data"
   ]
  },
  {
   "cell_type": "code",
   "execution_count": 29,
   "metadata": {
    "collapsed": false
   },
   "outputs": [],
   "source": [
    "#data2 = data.copy()\n",
    "#data2 = data_to_string(data2)\n",
    "#data2 = float_to_int(data2)\n",
    "data = data_to_string(data)\n",
    "data = float_to_int(data)"
   ]
  },
  {
   "cell_type": "code",
   "execution_count": 30,
   "metadata": {
    "collapsed": false
   },
   "outputs": [
    {
     "data": {
      "text/html": [
       "<div>\n",
       "<table border=\"1\" class=\"dataframe\">\n",
       "  <thead>\n",
       "    <tr style=\"text-align: right;\">\n",
       "      <th></th>\n",
       "      <th>Code Insee</th>\n",
       "      <th>NListe</th>\n",
       "      <th>Nuance Liste</th>\n",
       "      <th>Voix</th>\n",
       "      <th>% Voix/Ins</th>\n",
       "      <th>% Voix/Exp</th>\n",
       "      <th>REG</th>\n",
       "      <th>DEP</th>\n",
       "      <th>Libelle de la commune</th>\n",
       "      <th>P12_POP</th>\n",
       "      <th>...</th>\n",
       "      <th>SNHMHO12</th>\n",
       "      <th>SNHM1812</th>\n",
       "      <th>SNHM2612</th>\n",
       "      <th>SNHM5012</th>\n",
       "      <th>SNHMF1812</th>\n",
       "      <th>SNHMF2612</th>\n",
       "      <th>SNHMF5012</th>\n",
       "      <th>SNHMH1812</th>\n",
       "      <th>SNHMH2612</th>\n",
       "      <th>SNHMH5012</th>\n",
       "    </tr>\n",
       "  </thead>\n",
       "  <tbody>\n",
       "    <tr>\n",
       "      <th>0</th>\n",
       "      <td>1001</td>\n",
       "      <td>2</td>\n",
       "      <td>LDVD</td>\n",
       "      <td>0</td>\n",
       "      <td>0.00</td>\n",
       "      <td>0.00</td>\n",
       "      <td>82</td>\n",
       "      <td>01</td>\n",
       "      <td>L'Abergement-Clemenciat</td>\n",
       "      <td>777</td>\n",
       "      <td>...</td>\n",
       "      <td>NaN</td>\n",
       "      <td>NaN</td>\n",
       "      <td>NaN</td>\n",
       "      <td>NaN</td>\n",
       "      <td>NaN</td>\n",
       "      <td>NaN</td>\n",
       "      <td>NaN</td>\n",
       "      <td>NaN</td>\n",
       "      <td>NaN</td>\n",
       "      <td>NaN</td>\n",
       "    </tr>\n",
       "    <tr>\n",
       "      <th>1</th>\n",
       "      <td>1001</td>\n",
       "      <td>9</td>\n",
       "      <td>LDLF</td>\n",
       "      <td>7</td>\n",
       "      <td>1.20</td>\n",
       "      <td>2.19</td>\n",
       "      <td>82</td>\n",
       "      <td>01</td>\n",
       "      <td>L'Abergement-Clemenciat</td>\n",
       "      <td>777</td>\n",
       "      <td>...</td>\n",
       "      <td>NaN</td>\n",
       "      <td>NaN</td>\n",
       "      <td>NaN</td>\n",
       "      <td>NaN</td>\n",
       "      <td>NaN</td>\n",
       "      <td>NaN</td>\n",
       "      <td>NaN</td>\n",
       "      <td>NaN</td>\n",
       "      <td>NaN</td>\n",
       "      <td>NaN</td>\n",
       "    </tr>\n",
       "    <tr>\n",
       "      <th>2</th>\n",
       "      <td>1001</td>\n",
       "      <td>6</td>\n",
       "      <td>LUD</td>\n",
       "      <td>100</td>\n",
       "      <td>17.12</td>\n",
       "      <td>31.25</td>\n",
       "      <td>82</td>\n",
       "      <td>01</td>\n",
       "      <td>L'Abergement-Clemenciat</td>\n",
       "      <td>777</td>\n",
       "      <td>...</td>\n",
       "      <td>NaN</td>\n",
       "      <td>NaN</td>\n",
       "      <td>NaN</td>\n",
       "      <td>NaN</td>\n",
       "      <td>NaN</td>\n",
       "      <td>NaN</td>\n",
       "      <td>NaN</td>\n",
       "      <td>NaN</td>\n",
       "      <td>NaN</td>\n",
       "      <td>NaN</td>\n",
       "    </tr>\n",
       "    <tr>\n",
       "      <th>3</th>\n",
       "      <td>1002</td>\n",
       "      <td>6</td>\n",
       "      <td>LUD</td>\n",
       "      <td>27</td>\n",
       "      <td>12.05</td>\n",
       "      <td>21.26</td>\n",
       "      <td>82</td>\n",
       "      <td>01</td>\n",
       "      <td>L'Abergement-de-Varey</td>\n",
       "      <td>235</td>\n",
       "      <td>...</td>\n",
       "      <td>NaN</td>\n",
       "      <td>NaN</td>\n",
       "      <td>NaN</td>\n",
       "      <td>NaN</td>\n",
       "      <td>NaN</td>\n",
       "      <td>NaN</td>\n",
       "      <td>NaN</td>\n",
       "      <td>NaN</td>\n",
       "      <td>NaN</td>\n",
       "      <td>NaN</td>\n",
       "    </tr>\n",
       "    <tr>\n",
       "      <th>4</th>\n",
       "      <td>1002</td>\n",
       "      <td>2</td>\n",
       "      <td>LDVD</td>\n",
       "      <td>0</td>\n",
       "      <td>0.00</td>\n",
       "      <td>0.00</td>\n",
       "      <td>82</td>\n",
       "      <td>01</td>\n",
       "      <td>L'Abergement-de-Varey</td>\n",
       "      <td>235</td>\n",
       "      <td>...</td>\n",
       "      <td>NaN</td>\n",
       "      <td>NaN</td>\n",
       "      <td>NaN</td>\n",
       "      <td>NaN</td>\n",
       "      <td>NaN</td>\n",
       "      <td>NaN</td>\n",
       "      <td>NaN</td>\n",
       "      <td>NaN</td>\n",
       "      <td>NaN</td>\n",
       "      <td>NaN</td>\n",
       "    </tr>\n",
       "  </tbody>\n",
       "</table>\n",
       "<p>5 rows × 154 columns</p>\n",
       "</div>"
      ],
      "text/plain": [
       "   Code Insee  NListe Nuance Liste  Voix  % Voix/Ins  % Voix/Exp  REG DEP  \\\n",
       "0        1001       2         LDVD     0        0.00        0.00   82  01   \n",
       "1        1001       9         LDLF     7        1.20        2.19   82  01   \n",
       "2        1001       6          LUD   100       17.12       31.25   82  01   \n",
       "3        1002       6          LUD    27       12.05       21.26   82  01   \n",
       "4        1002       2         LDVD     0        0.00        0.00   82  01   \n",
       "\n",
       "     Libelle de la commune  P12_POP    ...      SNHMHO12  SNHM1812  SNHM2612  \\\n",
       "0  L'Abergement-Clemenciat      777    ...           NaN       NaN       NaN   \n",
       "1  L'Abergement-Clemenciat      777    ...           NaN       NaN       NaN   \n",
       "2  L'Abergement-Clemenciat      777    ...           NaN       NaN       NaN   \n",
       "3    L'Abergement-de-Varey      235    ...           NaN       NaN       NaN   \n",
       "4    L'Abergement-de-Varey      235    ...           NaN       NaN       NaN   \n",
       "\n",
       "   SNHM5012  SNHMF1812  SNHMF2612  SNHMF5012  SNHMH1812  SNHMH2612  SNHMH5012  \n",
       "0       NaN        NaN        NaN        NaN        NaN        NaN        NaN  \n",
       "1       NaN        NaN        NaN        NaN        NaN        NaN        NaN  \n",
       "2       NaN        NaN        NaN        NaN        NaN        NaN        NaN  \n",
       "3       NaN        NaN        NaN        NaN        NaN        NaN        NaN  \n",
       "4       NaN        NaN        NaN        NaN        NaN        NaN        NaN  \n",
       "\n",
       "[5 rows x 154 columns]"
      ]
     },
     "execution_count": 30,
     "metadata": {},
     "output_type": "execute_result"
    }
   ],
   "source": [
    "data.head()"
   ]
  },
  {
   "cell_type": "code",
   "execution_count": 34,
   "metadata": {
    "collapsed": false
   },
   "outputs": [
    {
     "data": {
      "text/plain": [
       "['Code Insee',\n",
       " 'NListe',\n",
       " 'Nuance Liste',\n",
       " 'Voix',\n",
       " '% Voix/Ins',\n",
       " '% Voix/Exp',\n",
       " 'REG',\n",
       " 'DEP',\n",
       " 'Libelle de la commune',\n",
       " 'P12_POP',\n",
       " 'P12_POP0014',\n",
       " 'P12_POP1529',\n",
       " 'P12_POP3044',\n",
       " 'P12_POP4559',\n",
       " 'P12_POP6074',\n",
       " 'P12_POP7589',\n",
       " 'P12_POP90P',\n",
       " 'P12_POPH',\n",
       " 'P12_H0014',\n",
       " 'P12_H1529',\n",
       " 'P12_H3044',\n",
       " 'P12_H4559',\n",
       " 'P12_H6074',\n",
       " 'P12_H7589',\n",
       " 'P12_H90P',\n",
       " 'P12_H0019',\n",
       " 'P12_H2064',\n",
       " 'P12_H65P',\n",
       " 'P12_POPF',\n",
       " 'P12_F0014',\n",
       " 'P12_F1529',\n",
       " 'P12_F3044',\n",
       " 'P12_F4559',\n",
       " 'P12_F6074',\n",
       " 'P12_F7589',\n",
       " 'P12_F90P',\n",
       " 'P12_F0019',\n",
       " 'P12_F2064',\n",
       " 'P12_F65P',\n",
       " 'P12_POP01P',\n",
       " 'P12_POP01P_IRAN1',\n",
       " 'P12_POP01P_IRAN2',\n",
       " 'P12_POP01P_IRAN3',\n",
       " 'P12_POP01P_IRAN4',\n",
       " 'P12_POP01P_IRAN5',\n",
       " 'P12_POP01P_IRAN6',\n",
       " 'P12_POP01P_IRAN7',\n",
       " 'P12_POP0114_IRAN2P',\n",
       " 'P12_POP0114_IRAN2',\n",
       " 'P12_POP0114_IRAN3P',\n",
       " 'P12_POP1524_IRAN2P',\n",
       " 'P12_POP1524_IRAN2',\n",
       " 'P12_POP1524_IRAN3P',\n",
       " 'P12_POP2554_IRAN2P',\n",
       " 'P12_POP2554_IRAN2',\n",
       " 'P12_POP2554_IRAN3P',\n",
       " 'P12_POP55P_IRAN2P',\n",
       " 'P12_POP55P_IRAN2',\n",
       " 'P12_POP55P_IRAN3P',\n",
       " 'C12_POP15P',\n",
       " 'C12_POP15P_CS1',\n",
       " 'C12_POP15P_CS2',\n",
       " 'C12_POP15P_CS3',\n",
       " 'C12_POP15P_CS4',\n",
       " 'C12_POP15P_CS5',\n",
       " 'C12_POP15P_CS6',\n",
       " 'C12_POP15P_CS7',\n",
       " 'C12_POP15P_CS8',\n",
       " 'C12_H15P',\n",
       " 'C12_H15P_CS1',\n",
       " 'C12_H15P_CS2',\n",
       " 'C12_H15P_CS3',\n",
       " 'C12_H15P_CS4',\n",
       " 'C12_H15P_CS5',\n",
       " 'C12_H15P_CS6',\n",
       " 'C12_H15P_CS7',\n",
       " 'C12_H15P_CS8',\n",
       " 'C12_F15P',\n",
       " 'C12_F15P_CS1',\n",
       " 'C12_F15P_CS2',\n",
       " 'C12_F15P_CS3',\n",
       " 'C12_F15P_CS4',\n",
       " 'C12_F15P_CS5',\n",
       " 'C12_F15P_CS6',\n",
       " 'C12_F15P_CS7',\n",
       " 'C12_F15P_CS8',\n",
       " 'C12_POP1524',\n",
       " 'C12_POP1524_CS1',\n",
       " 'C12_POP1524_CS2',\n",
       " 'C12_POP1524_CS3',\n",
       " 'C12_POP1524_CS4',\n",
       " 'C12_POP1524_CS5',\n",
       " 'C12_POP1524_CS6',\n",
       " 'C12_POP1524_CS7',\n",
       " 'C12_POP1524_CS8',\n",
       " 'C12_POP2554',\n",
       " 'C12_POP2554_CS1',\n",
       " 'C12_POP2554_CS2',\n",
       " 'C12_POP2554_CS3',\n",
       " 'C12_POP2554_CS4',\n",
       " 'C12_POP2554_CS5',\n",
       " 'C12_POP2554_CS6',\n",
       " 'C12_POP2554_CS7',\n",
       " 'C12_POP2554_CS8',\n",
       " 'C12_POP55P',\n",
       " 'C12_POP55P_CS1',\n",
       " 'C12_POP55P_CS2',\n",
       " 'C12_POP55P_CS3',\n",
       " 'C12_POP55P_CS4',\n",
       " 'C12_POP55P_CS5',\n",
       " 'C12_POP55P_CS6',\n",
       " 'C12_POP55P_CS7',\n",
       " 'C12_POP55P_CS8',\n",
       " 'Total immigrant',\n",
       " 'AGE400_IMMI1_SEXE1',\n",
       " 'AGE400_IMMI1_SEXE2',\n",
       " 'AGE400_IMMI2_SEXE1',\n",
       " 'AGE400_IMMI2_SEXE2',\n",
       " 'AGE415_IMMI1_SEXE1',\n",
       " 'AGE415_IMMI1_SEXE2',\n",
       " 'AGE415_IMMI2_SEXE1',\n",
       " 'AGE415_IMMI2_SEXE2',\n",
       " 'AGE425_IMMI1_SEXE1',\n",
       " 'AGE425_IMMI1_SEXE2',\n",
       " 'AGE425_IMMI2_SEXE1',\n",
       " 'AGE425_IMMI2_SEXE2',\n",
       " 'AGE455_IMMI1_SEXE1',\n",
       " 'AGE455_IMMI1_SEXE2',\n",
       " 'AGE455_IMMI2_SEXE1',\n",
       " 'AGE455_IMMI2_SEXE2',\n",
       " 'SNHM12',\n",
       " 'SNHMC12',\n",
       " 'SNHMP12',\n",
       " 'SNHME12',\n",
       " 'SNHMO12',\n",
       " 'SNHMF12',\n",
       " 'SNHMFC12',\n",
       " 'SNHMFP12',\n",
       " 'SNHMFE12',\n",
       " 'SNHMFO12',\n",
       " 'SNHMH12',\n",
       " 'SNHMHC12',\n",
       " 'SNHMHP12',\n",
       " 'SNHMHE12',\n",
       " 'SNHMHO12',\n",
       " 'SNHM1812',\n",
       " 'SNHM2612',\n",
       " 'SNHM5012',\n",
       " 'SNHMF1812',\n",
       " 'SNHMF2612',\n",
       " 'SNHMF5012',\n",
       " 'SNHMH1812',\n",
       " 'SNHMH2612',\n",
       " 'SNHMH5012']"
      ]
     },
     "execution_count": 34,
     "metadata": {},
     "output_type": "execute_result"
    }
   ],
   "source": [
    "data.columns.tolist()"
   ]
  },
  {
   "cell_type": "code",
   "execution_count": null,
   "metadata": {
    "collapsed": true
   },
   "outputs": [],
   "source": []
  },
  {
   "cell_type": "markdown",
   "metadata": {},
   "source": [
    "### We will create a new data frame containing only the variable needed. We drop all the others variables. "
   ]
  },
  {
   "cell_type": "code",
   "execution_count": 35,
   "metadata": {
    "collapsed": true
   },
   "outputs": [],
   "source": [
    "def create_final_data(data):\n",
    "    new_data = data.copy()\n",
    "    title = data.columns.tolist()\n",
    "    dropping_index = []\n",
    "    keeping_variable = ['Code Insee','% Voix/Ins','% Voix/Exp','Total immigrant','C12_POP15P_CS1','C12_POP15P_CS2','C12_POP15P_CS3','C12_POP15P_CS4','C12_POP15P_CS5', 'C12_POP15P_CS6',\n",
    "                       'C12_POP15P_CS7', 'C12_POP15P_CS8','SNHM12','Total ']\n",
    "    for index, variable in enumerate(title): \n",
    "        if variable not in keeping_variable:\n",
    "            dropping_index.append(index)\n",
    "    new_data = new_data.drop(new_data.columns[dropping_index], axis = 1)\n",
    "    return new_data"
   ]
  },
  {
   "cell_type": "code",
   "execution_count": 36,
   "metadata": {
    "collapsed": false
   },
   "outputs": [],
   "source": [
    "data2 = create_final_data(data)"
   ]
  },
  {
   "cell_type": "code",
   "execution_count": 37,
   "metadata": {
    "collapsed": false
   },
   "outputs": [
    {
     "data": {
      "text/html": [
       "<div>\n",
       "<table border=\"1\" class=\"dataframe\">\n",
       "  <thead>\n",
       "    <tr style=\"text-align: right;\">\n",
       "      <th></th>\n",
       "      <th>Code Insee</th>\n",
       "      <th>% Voix/Ins</th>\n",
       "      <th>% Voix/Exp</th>\n",
       "      <th>C12_POP15P_CS1</th>\n",
       "      <th>C12_POP15P_CS2</th>\n",
       "      <th>C12_POP15P_CS3</th>\n",
       "      <th>C12_POP15P_CS4</th>\n",
       "      <th>C12_POP15P_CS5</th>\n",
       "      <th>C12_POP15P_CS6</th>\n",
       "      <th>C12_POP15P_CS7</th>\n",
       "      <th>C12_POP15P_CS8</th>\n",
       "      <th>Total immigrant</th>\n",
       "      <th>SNHM12</th>\n",
       "    </tr>\n",
       "  </thead>\n",
       "  <tbody>\n",
       "    <tr>\n",
       "      <th>0</th>\n",
       "      <td>1001</td>\n",
       "      <td>0.00</td>\n",
       "      <td>0.00</td>\n",
       "      <td>16</td>\n",
       "      <td>4</td>\n",
       "      <td>80</td>\n",
       "      <td>88</td>\n",
       "      <td>116</td>\n",
       "      <td>72</td>\n",
       "      <td>167</td>\n",
       "      <td>76</td>\n",
       "      <td>25</td>\n",
       "      <td>NaN</td>\n",
       "    </tr>\n",
       "    <tr>\n",
       "      <th>1</th>\n",
       "      <td>1001</td>\n",
       "      <td>1.20</td>\n",
       "      <td>2.19</td>\n",
       "      <td>16</td>\n",
       "      <td>4</td>\n",
       "      <td>80</td>\n",
       "      <td>88</td>\n",
       "      <td>116</td>\n",
       "      <td>72</td>\n",
       "      <td>167</td>\n",
       "      <td>76</td>\n",
       "      <td>25</td>\n",
       "      <td>NaN</td>\n",
       "    </tr>\n",
       "    <tr>\n",
       "      <th>2</th>\n",
       "      <td>1001</td>\n",
       "      <td>17.12</td>\n",
       "      <td>31.25</td>\n",
       "      <td>16</td>\n",
       "      <td>4</td>\n",
       "      <td>80</td>\n",
       "      <td>88</td>\n",
       "      <td>116</td>\n",
       "      <td>72</td>\n",
       "      <td>167</td>\n",
       "      <td>76</td>\n",
       "      <td>25</td>\n",
       "      <td>NaN</td>\n",
       "    </tr>\n",
       "    <tr>\n",
       "      <th>3</th>\n",
       "      <td>1002</td>\n",
       "      <td>12.05</td>\n",
       "      <td>21.26</td>\n",
       "      <td>0</td>\n",
       "      <td>4</td>\n",
       "      <td>20</td>\n",
       "      <td>52</td>\n",
       "      <td>8</td>\n",
       "      <td>32</td>\n",
       "      <td>64</td>\n",
       "      <td>8</td>\n",
       "      <td>4</td>\n",
       "      <td>NaN</td>\n",
       "    </tr>\n",
       "    <tr>\n",
       "      <th>4</th>\n",
       "      <td>1002</td>\n",
       "      <td>0.00</td>\n",
       "      <td>0.00</td>\n",
       "      <td>0</td>\n",
       "      <td>4</td>\n",
       "      <td>20</td>\n",
       "      <td>52</td>\n",
       "      <td>8</td>\n",
       "      <td>32</td>\n",
       "      <td>64</td>\n",
       "      <td>8</td>\n",
       "      <td>4</td>\n",
       "      <td>NaN</td>\n",
       "    </tr>\n",
       "  </tbody>\n",
       "</table>\n",
       "</div>"
      ],
      "text/plain": [
       "   Code Insee  % Voix/Ins  % Voix/Exp  C12_POP15P_CS1  C12_POP15P_CS2  \\\n",
       "0        1001        0.00        0.00              16               4   \n",
       "1        1001        1.20        2.19              16               4   \n",
       "2        1001       17.12       31.25              16               4   \n",
       "3        1002       12.05       21.26               0               4   \n",
       "4        1002        0.00        0.00               0               4   \n",
       "\n",
       "   C12_POP15P_CS3  C12_POP15P_CS4  C12_POP15P_CS5  C12_POP15P_CS6  \\\n",
       "0              80              88             116              72   \n",
       "1              80              88             116              72   \n",
       "2              80              88             116              72   \n",
       "3              20              52               8              32   \n",
       "4              20              52               8              32   \n",
       "\n",
       "   C12_POP15P_CS7  C12_POP15P_CS8  Total immigrant  SNHM12  \n",
       "0             167              76               25     NaN  \n",
       "1             167              76               25     NaN  \n",
       "2             167              76               25     NaN  \n",
       "3              64               8                4     NaN  \n",
       "4              64               8                4     NaN  "
      ]
     },
     "execution_count": 37,
     "metadata": {},
     "output_type": "execute_result"
    }
   ],
   "source": [
    "data2.head() "
   ]
  },
  {
   "cell_type": "code",
   "execution_count": null,
   "metadata": {
    "collapsed": true
   },
   "outputs": [],
   "source": []
  },
  {
   "cell_type": "code",
   "execution_count": 89,
   "metadata": {
    "collapsed": false
   },
   "outputs": [],
   "source": [
    "voix_immigrant = data2[['Code Insee','% Voix/Exp','Total immigrant']]"
   ]
  },
  {
   "cell_type": "code",
   "execution_count": 92,
   "metadata": {
    "collapsed": false
   },
   "outputs": [
    {
     "data": {
      "text/html": [
       "<div>\n",
       "<table border=\"1\" class=\"dataframe\">\n",
       "  <thead>\n",
       "    <tr style=\"text-align: right;\">\n",
       "      <th></th>\n",
       "      <th>Code Insee</th>\n",
       "      <th>% Voix/Exp</th>\n",
       "      <th>Total immigrant</th>\n",
       "    </tr>\n",
       "  </thead>\n",
       "  <tbody>\n",
       "    <tr>\n",
       "      <th>0</th>\n",
       "      <td>1001</td>\n",
       "      <td>0.00</td>\n",
       "      <td>25</td>\n",
       "    </tr>\n",
       "    <tr>\n",
       "      <th>1</th>\n",
       "      <td>1001</td>\n",
       "      <td>2.19</td>\n",
       "      <td>25</td>\n",
       "    </tr>\n",
       "    <tr>\n",
       "      <th>2</th>\n",
       "      <td>1001</td>\n",
       "      <td>31.25</td>\n",
       "      <td>25</td>\n",
       "    </tr>\n",
       "  </tbody>\n",
       "</table>\n",
       "</div>"
      ],
      "text/plain": [
       "   Code Insee  % Voix/Exp  Total immigrant\n",
       "0        1001        0.00               25\n",
       "1        1001        2.19               25\n",
       "2        1001       31.25               25"
      ]
     },
     "execution_count": 92,
     "metadata": {},
     "output_type": "execute_result"
    }
   ],
   "source": [
    "voix_immigrant = voix_immigrant.dropna()\n",
    "voix_immigrant.head(3)"
   ]
  },
  {
   "cell_type": "code",
   "execution_count": 93,
   "metadata": {
    "collapsed": true
   },
   "outputs": [],
   "source": [
    "voix_immigrant = voix_immigrant.groupby(['Code Insee', 'Total immigrant'])"
   ]
  },
  {
   "cell_type": "code",
   "execution_count": 94,
   "metadata": {
    "collapsed": true
   },
   "outputs": [],
   "source": [
    "voix_immigrant = voix_immigrant.aggregate(np.sum)\n"
   ]
  },
  {
   "cell_type": "code",
   "execution_count": 103,
   "metadata": {
    "collapsed": false
   },
   "outputs": [
    {
     "data": {
      "text/html": [
       "<div>\n",
       "<table border=\"1\" class=\"dataframe\">\n",
       "  <thead>\n",
       "    <tr style=\"text-align: right;\">\n",
       "      <th></th>\n",
       "      <th></th>\n",
       "      <th>% Voix/Exp</th>\n",
       "    </tr>\n",
       "    <tr>\n",
       "      <th>Code Insee</th>\n",
       "      <th>Total immigrant</th>\n",
       "      <th></th>\n",
       "    </tr>\n",
       "  </thead>\n",
       "  <tbody>\n",
       "    <tr>\n",
       "      <th>1001</th>\n",
       "      <th>25</th>\n",
       "      <td>33.44</td>\n",
       "    </tr>\n",
       "    <tr>\n",
       "      <th>1002</th>\n",
       "      <th>4</th>\n",
       "      <td>25.20</td>\n",
       "    </tr>\n",
       "    <tr>\n",
       "      <th>1004</th>\n",
       "      <th>1349</th>\n",
       "      <td>29.76</td>\n",
       "    </tr>\n",
       "    <tr>\n",
       "      <th>1005</th>\n",
       "      <th>59</th>\n",
       "      <td>31.22</td>\n",
       "    </tr>\n",
       "    <tr>\n",
       "      <th>1006</th>\n",
       "      <th>8</th>\n",
       "      <td>42.31</td>\n",
       "    </tr>\n",
       "  </tbody>\n",
       "</table>\n",
       "</div>"
      ],
      "text/plain": [
       "                            % Voix/Exp\n",
       "Code Insee Total immigrant            \n",
       "1001       25                    33.44\n",
       "1002       4                     25.20\n",
       "1004       1349                  29.76\n",
       "1005       59                    31.22\n",
       "1006       8                     42.31"
      ]
     },
     "execution_count": 103,
     "metadata": {},
     "output_type": "execute_result"
    }
   ],
   "source": [
    "voix_immigrant.head()"
   ]
  },
  {
   "cell_type": "code",
   "execution_count": 104,
   "metadata": {
    "collapsed": false
   },
   "outputs": [
    {
     "ename": "KeyError",
     "evalue": "'Total immigrant'",
     "output_type": "error",
     "traceback": [
      "\u001b[1;31m---------------------------------------------------------------------------\u001b[0m",
      "\u001b[1;31mKeyError\u001b[0m                                  Traceback (most recent call last)",
      "\u001b[1;32m<ipython-input-104-f1798bcfdb51>\u001b[0m in \u001b[0;36m<module>\u001b[1;34m()\u001b[0m\n\u001b[1;32m----> 1\u001b[1;33m \u001b[0mi\u001b[0m \u001b[1;33m=\u001b[0m \u001b[0mvoix_immigrant\u001b[0m\u001b[1;33m[\u001b[0m\u001b[1;34m'Total immigrant'\u001b[0m\u001b[1;33m]\u001b[0m\u001b[1;33m.\u001b[0m\u001b[0mtolist\u001b[0m\u001b[1;33m(\u001b[0m\u001b[1;33m)\u001b[0m\u001b[1;33m\u001b[0m\u001b[0m\n\u001b[0m",
      "\u001b[1;32mC:\\Users\\tphan\\AppData\\Local\\Continuum\\Anaconda2\\lib\\site-packages\\pandas\\core\\frame.pyc\u001b[0m in \u001b[0;36m__getitem__\u001b[1;34m(self, key)\u001b[0m\n\u001b[0;32m   1912\u001b[0m             \u001b[1;32mreturn\u001b[0m \u001b[0mself\u001b[0m\u001b[1;33m.\u001b[0m\u001b[0m_getitem_multilevel\u001b[0m\u001b[1;33m(\u001b[0m\u001b[0mkey\u001b[0m\u001b[1;33m)\u001b[0m\u001b[1;33m\u001b[0m\u001b[0m\n\u001b[0;32m   1913\u001b[0m         \u001b[1;32melse\u001b[0m\u001b[1;33m:\u001b[0m\u001b[1;33m\u001b[0m\u001b[0m\n\u001b[1;32m-> 1914\u001b[1;33m             \u001b[1;32mreturn\u001b[0m \u001b[0mself\u001b[0m\u001b[1;33m.\u001b[0m\u001b[0m_getitem_column\u001b[0m\u001b[1;33m(\u001b[0m\u001b[0mkey\u001b[0m\u001b[1;33m)\u001b[0m\u001b[1;33m\u001b[0m\u001b[0m\n\u001b[0m\u001b[0;32m   1915\u001b[0m \u001b[1;33m\u001b[0m\u001b[0m\n\u001b[0;32m   1916\u001b[0m     \u001b[1;32mdef\u001b[0m \u001b[0m_getitem_column\u001b[0m\u001b[1;33m(\u001b[0m\u001b[0mself\u001b[0m\u001b[1;33m,\u001b[0m \u001b[0mkey\u001b[0m\u001b[1;33m)\u001b[0m\u001b[1;33m:\u001b[0m\u001b[1;33m\u001b[0m\u001b[0m\n",
      "\u001b[1;32mC:\\Users\\tphan\\AppData\\Local\\Continuum\\Anaconda2\\lib\\site-packages\\pandas\\core\\frame.pyc\u001b[0m in \u001b[0;36m_getitem_column\u001b[1;34m(self, key)\u001b[0m\n\u001b[0;32m   1919\u001b[0m         \u001b[1;31m# get column\u001b[0m\u001b[1;33m\u001b[0m\u001b[1;33m\u001b[0m\u001b[0m\n\u001b[0;32m   1920\u001b[0m         \u001b[1;32mif\u001b[0m \u001b[0mself\u001b[0m\u001b[1;33m.\u001b[0m\u001b[0mcolumns\u001b[0m\u001b[1;33m.\u001b[0m\u001b[0mis_unique\u001b[0m\u001b[1;33m:\u001b[0m\u001b[1;33m\u001b[0m\u001b[0m\n\u001b[1;32m-> 1921\u001b[1;33m             \u001b[1;32mreturn\u001b[0m \u001b[0mself\u001b[0m\u001b[1;33m.\u001b[0m\u001b[0m_get_item_cache\u001b[0m\u001b[1;33m(\u001b[0m\u001b[0mkey\u001b[0m\u001b[1;33m)\u001b[0m\u001b[1;33m\u001b[0m\u001b[0m\n\u001b[0m\u001b[0;32m   1922\u001b[0m \u001b[1;33m\u001b[0m\u001b[0m\n\u001b[0;32m   1923\u001b[0m         \u001b[1;31m# duplicate columns & possible reduce dimensionaility\u001b[0m\u001b[1;33m\u001b[0m\u001b[1;33m\u001b[0m\u001b[0m\n",
      "\u001b[1;32mC:\\Users\\tphan\\AppData\\Local\\Continuum\\Anaconda2\\lib\\site-packages\\pandas\\core\\generic.pyc\u001b[0m in \u001b[0;36m_get_item_cache\u001b[1;34m(self, item)\u001b[0m\n\u001b[0;32m   1088\u001b[0m         \u001b[0mres\u001b[0m \u001b[1;33m=\u001b[0m \u001b[0mcache\u001b[0m\u001b[1;33m.\u001b[0m\u001b[0mget\u001b[0m\u001b[1;33m(\u001b[0m\u001b[0mitem\u001b[0m\u001b[1;33m)\u001b[0m\u001b[1;33m\u001b[0m\u001b[0m\n\u001b[0;32m   1089\u001b[0m         \u001b[1;32mif\u001b[0m \u001b[0mres\u001b[0m \u001b[1;32mis\u001b[0m \u001b[0mNone\u001b[0m\u001b[1;33m:\u001b[0m\u001b[1;33m\u001b[0m\u001b[0m\n\u001b[1;32m-> 1090\u001b[1;33m             \u001b[0mvalues\u001b[0m \u001b[1;33m=\u001b[0m \u001b[0mself\u001b[0m\u001b[1;33m.\u001b[0m\u001b[0m_data\u001b[0m\u001b[1;33m.\u001b[0m\u001b[0mget\u001b[0m\u001b[1;33m(\u001b[0m\u001b[0mitem\u001b[0m\u001b[1;33m)\u001b[0m\u001b[1;33m\u001b[0m\u001b[0m\n\u001b[0m\u001b[0;32m   1091\u001b[0m             \u001b[0mres\u001b[0m \u001b[1;33m=\u001b[0m \u001b[0mself\u001b[0m\u001b[1;33m.\u001b[0m\u001b[0m_box_item_values\u001b[0m\u001b[1;33m(\u001b[0m\u001b[0mitem\u001b[0m\u001b[1;33m,\u001b[0m \u001b[0mvalues\u001b[0m\u001b[1;33m)\u001b[0m\u001b[1;33m\u001b[0m\u001b[0m\n\u001b[0;32m   1092\u001b[0m             \u001b[0mcache\u001b[0m\u001b[1;33m[\u001b[0m\u001b[0mitem\u001b[0m\u001b[1;33m]\u001b[0m \u001b[1;33m=\u001b[0m \u001b[0mres\u001b[0m\u001b[1;33m\u001b[0m\u001b[0m\n",
      "\u001b[1;32mC:\\Users\\tphan\\AppData\\Local\\Continuum\\Anaconda2\\lib\\site-packages\\pandas\\core\\internals.pyc\u001b[0m in \u001b[0;36mget\u001b[1;34m(self, item, fastpath)\u001b[0m\n\u001b[0;32m   3100\u001b[0m \u001b[1;33m\u001b[0m\u001b[0m\n\u001b[0;32m   3101\u001b[0m             \u001b[1;32mif\u001b[0m \u001b[1;32mnot\u001b[0m \u001b[0misnull\u001b[0m\u001b[1;33m(\u001b[0m\u001b[0mitem\u001b[0m\u001b[1;33m)\u001b[0m\u001b[1;33m:\u001b[0m\u001b[1;33m\u001b[0m\u001b[0m\n\u001b[1;32m-> 3102\u001b[1;33m                 \u001b[0mloc\u001b[0m \u001b[1;33m=\u001b[0m \u001b[0mself\u001b[0m\u001b[1;33m.\u001b[0m\u001b[0mitems\u001b[0m\u001b[1;33m.\u001b[0m\u001b[0mget_loc\u001b[0m\u001b[1;33m(\u001b[0m\u001b[0mitem\u001b[0m\u001b[1;33m)\u001b[0m\u001b[1;33m\u001b[0m\u001b[0m\n\u001b[0m\u001b[0;32m   3103\u001b[0m             \u001b[1;32melse\u001b[0m\u001b[1;33m:\u001b[0m\u001b[1;33m\u001b[0m\u001b[0m\n\u001b[0;32m   3104\u001b[0m                 \u001b[0mindexer\u001b[0m \u001b[1;33m=\u001b[0m \u001b[0mnp\u001b[0m\u001b[1;33m.\u001b[0m\u001b[0marange\u001b[0m\u001b[1;33m(\u001b[0m\u001b[0mlen\u001b[0m\u001b[1;33m(\u001b[0m\u001b[0mself\u001b[0m\u001b[1;33m.\u001b[0m\u001b[0mitems\u001b[0m\u001b[1;33m)\u001b[0m\u001b[1;33m)\u001b[0m\u001b[1;33m[\u001b[0m\u001b[0misnull\u001b[0m\u001b[1;33m(\u001b[0m\u001b[0mself\u001b[0m\u001b[1;33m.\u001b[0m\u001b[0mitems\u001b[0m\u001b[1;33m)\u001b[0m\u001b[1;33m]\u001b[0m\u001b[1;33m\u001b[0m\u001b[0m\n",
      "\u001b[1;32mC:\\Users\\tphan\\AppData\\Local\\Continuum\\Anaconda2\\lib\\site-packages\\pandas\\core\\index.pyc\u001b[0m in \u001b[0;36mget_loc\u001b[1;34m(self, key, method, tolerance)\u001b[0m\n\u001b[0;32m   1690\u001b[0m                 raise ValueError('tolerance argument only valid if using pad, '\n\u001b[0;32m   1691\u001b[0m                                  'backfill or nearest lookups')\n\u001b[1;32m-> 1692\u001b[1;33m             \u001b[1;32mreturn\u001b[0m \u001b[0mself\u001b[0m\u001b[1;33m.\u001b[0m\u001b[0m_engine\u001b[0m\u001b[1;33m.\u001b[0m\u001b[0mget_loc\u001b[0m\u001b[1;33m(\u001b[0m\u001b[0m_values_from_object\u001b[0m\u001b[1;33m(\u001b[0m\u001b[0mkey\u001b[0m\u001b[1;33m)\u001b[0m\u001b[1;33m)\u001b[0m\u001b[1;33m\u001b[0m\u001b[0m\n\u001b[0m\u001b[0;32m   1693\u001b[0m \u001b[1;33m\u001b[0m\u001b[0m\n\u001b[0;32m   1694\u001b[0m         indexer = self.get_indexer([key], method=method,\n",
      "\u001b[1;32mpandas\\index.pyx\u001b[0m in \u001b[0;36mpandas.index.IndexEngine.get_loc (pandas\\index.c:3979)\u001b[1;34m()\u001b[0m\n",
      "\u001b[1;32mpandas\\index.pyx\u001b[0m in \u001b[0;36mpandas.index.IndexEngine.get_loc (pandas\\index.c:3843)\u001b[1;34m()\u001b[0m\n",
      "\u001b[1;32mpandas\\hashtable.pyx\u001b[0m in \u001b[0;36mpandas.hashtable.PyObjectHashTable.get_item (pandas\\hashtable.c:12265)\u001b[1;34m()\u001b[0m\n",
      "\u001b[1;32mpandas\\hashtable.pyx\u001b[0m in \u001b[0;36mpandas.hashtable.PyObjectHashTable.get_item (pandas\\hashtable.c:12216)\u001b[1;34m()\u001b[0m\n",
      "\u001b[1;31mKeyError\u001b[0m: 'Total immigrant'"
     ]
    }
   ],
   "source": [
    "i = voix_immigrant['Total immigrant'].tolist()"
   ]
  },
  {
   "cell_type": "code",
   "execution_count": 101,
   "metadata": {
    "collapsed": false
   },
   "outputs": [
    {
     "ename": "KeyError",
     "evalue": "'Total immigrant'",
     "output_type": "error",
     "traceback": [
      "\u001b[1;31m---------------------------------------------------------------------------\u001b[0m",
      "\u001b[1;31mKeyError\u001b[0m                                  Traceback (most recent call last)",
      "\u001b[1;32m<ipython-input-101-91bc8adcb5ac>\u001b[0m in \u001b[0;36m<module>\u001b[1;34m()\u001b[0m\n\u001b[0;32m      1\u001b[0m \u001b[0mv\u001b[0m \u001b[1;33m=\u001b[0m \u001b[0mvoix_immigrant\u001b[0m\u001b[1;33m[\u001b[0m\u001b[1;34m'% Voix/Exp'\u001b[0m\u001b[1;33m]\u001b[0m\u001b[1;33m.\u001b[0m\u001b[0mtolist\u001b[0m\u001b[1;33m(\u001b[0m\u001b[1;33m)\u001b[0m\u001b[1;33m\u001b[0m\u001b[0m\n\u001b[1;32m----> 2\u001b[1;33m \u001b[0mi\u001b[0m \u001b[1;33m=\u001b[0m \u001b[0mvoix_immigrant\u001b[0m\u001b[1;33m[\u001b[0m\u001b[1;34m'Total immigrant'\u001b[0m\u001b[1;33m]\u001b[0m\u001b[1;33m.\u001b[0m\u001b[0mtolist\u001b[0m\u001b[1;33m(\u001b[0m\u001b[1;33m)\u001b[0m\u001b[1;33m\u001b[0m\u001b[0m\n\u001b[0m",
      "\u001b[1;32mC:\\Users\\tphan\\AppData\\Local\\Continuum\\Anaconda2\\lib\\site-packages\\pandas\\core\\frame.pyc\u001b[0m in \u001b[0;36m__getitem__\u001b[1;34m(self, key)\u001b[0m\n\u001b[0;32m   1912\u001b[0m             \u001b[1;32mreturn\u001b[0m \u001b[0mself\u001b[0m\u001b[1;33m.\u001b[0m\u001b[0m_getitem_multilevel\u001b[0m\u001b[1;33m(\u001b[0m\u001b[0mkey\u001b[0m\u001b[1;33m)\u001b[0m\u001b[1;33m\u001b[0m\u001b[0m\n\u001b[0;32m   1913\u001b[0m         \u001b[1;32melse\u001b[0m\u001b[1;33m:\u001b[0m\u001b[1;33m\u001b[0m\u001b[0m\n\u001b[1;32m-> 1914\u001b[1;33m             \u001b[1;32mreturn\u001b[0m \u001b[0mself\u001b[0m\u001b[1;33m.\u001b[0m\u001b[0m_getitem_column\u001b[0m\u001b[1;33m(\u001b[0m\u001b[0mkey\u001b[0m\u001b[1;33m)\u001b[0m\u001b[1;33m\u001b[0m\u001b[0m\n\u001b[0m\u001b[0;32m   1915\u001b[0m \u001b[1;33m\u001b[0m\u001b[0m\n\u001b[0;32m   1916\u001b[0m     \u001b[1;32mdef\u001b[0m \u001b[0m_getitem_column\u001b[0m\u001b[1;33m(\u001b[0m\u001b[0mself\u001b[0m\u001b[1;33m,\u001b[0m \u001b[0mkey\u001b[0m\u001b[1;33m)\u001b[0m\u001b[1;33m:\u001b[0m\u001b[1;33m\u001b[0m\u001b[0m\n",
      "\u001b[1;32mC:\\Users\\tphan\\AppData\\Local\\Continuum\\Anaconda2\\lib\\site-packages\\pandas\\core\\frame.pyc\u001b[0m in \u001b[0;36m_getitem_column\u001b[1;34m(self, key)\u001b[0m\n\u001b[0;32m   1919\u001b[0m         \u001b[1;31m# get column\u001b[0m\u001b[1;33m\u001b[0m\u001b[1;33m\u001b[0m\u001b[0m\n\u001b[0;32m   1920\u001b[0m         \u001b[1;32mif\u001b[0m \u001b[0mself\u001b[0m\u001b[1;33m.\u001b[0m\u001b[0mcolumns\u001b[0m\u001b[1;33m.\u001b[0m\u001b[0mis_unique\u001b[0m\u001b[1;33m:\u001b[0m\u001b[1;33m\u001b[0m\u001b[0m\n\u001b[1;32m-> 1921\u001b[1;33m             \u001b[1;32mreturn\u001b[0m \u001b[0mself\u001b[0m\u001b[1;33m.\u001b[0m\u001b[0m_get_item_cache\u001b[0m\u001b[1;33m(\u001b[0m\u001b[0mkey\u001b[0m\u001b[1;33m)\u001b[0m\u001b[1;33m\u001b[0m\u001b[0m\n\u001b[0m\u001b[0;32m   1922\u001b[0m \u001b[1;33m\u001b[0m\u001b[0m\n\u001b[0;32m   1923\u001b[0m         \u001b[1;31m# duplicate columns & possible reduce dimensionaility\u001b[0m\u001b[1;33m\u001b[0m\u001b[1;33m\u001b[0m\u001b[0m\n",
      "\u001b[1;32mC:\\Users\\tphan\\AppData\\Local\\Continuum\\Anaconda2\\lib\\site-packages\\pandas\\core\\generic.pyc\u001b[0m in \u001b[0;36m_get_item_cache\u001b[1;34m(self, item)\u001b[0m\n\u001b[0;32m   1088\u001b[0m         \u001b[0mres\u001b[0m \u001b[1;33m=\u001b[0m \u001b[0mcache\u001b[0m\u001b[1;33m.\u001b[0m\u001b[0mget\u001b[0m\u001b[1;33m(\u001b[0m\u001b[0mitem\u001b[0m\u001b[1;33m)\u001b[0m\u001b[1;33m\u001b[0m\u001b[0m\n\u001b[0;32m   1089\u001b[0m         \u001b[1;32mif\u001b[0m \u001b[0mres\u001b[0m \u001b[1;32mis\u001b[0m \u001b[0mNone\u001b[0m\u001b[1;33m:\u001b[0m\u001b[1;33m\u001b[0m\u001b[0m\n\u001b[1;32m-> 1090\u001b[1;33m             \u001b[0mvalues\u001b[0m \u001b[1;33m=\u001b[0m \u001b[0mself\u001b[0m\u001b[1;33m.\u001b[0m\u001b[0m_data\u001b[0m\u001b[1;33m.\u001b[0m\u001b[0mget\u001b[0m\u001b[1;33m(\u001b[0m\u001b[0mitem\u001b[0m\u001b[1;33m)\u001b[0m\u001b[1;33m\u001b[0m\u001b[0m\n\u001b[0m\u001b[0;32m   1091\u001b[0m             \u001b[0mres\u001b[0m \u001b[1;33m=\u001b[0m \u001b[0mself\u001b[0m\u001b[1;33m.\u001b[0m\u001b[0m_box_item_values\u001b[0m\u001b[1;33m(\u001b[0m\u001b[0mitem\u001b[0m\u001b[1;33m,\u001b[0m \u001b[0mvalues\u001b[0m\u001b[1;33m)\u001b[0m\u001b[1;33m\u001b[0m\u001b[0m\n\u001b[0;32m   1092\u001b[0m             \u001b[0mcache\u001b[0m\u001b[1;33m[\u001b[0m\u001b[0mitem\u001b[0m\u001b[1;33m]\u001b[0m \u001b[1;33m=\u001b[0m \u001b[0mres\u001b[0m\u001b[1;33m\u001b[0m\u001b[0m\n",
      "\u001b[1;32mC:\\Users\\tphan\\AppData\\Local\\Continuum\\Anaconda2\\lib\\site-packages\\pandas\\core\\internals.pyc\u001b[0m in \u001b[0;36mget\u001b[1;34m(self, item, fastpath)\u001b[0m\n\u001b[0;32m   3100\u001b[0m \u001b[1;33m\u001b[0m\u001b[0m\n\u001b[0;32m   3101\u001b[0m             \u001b[1;32mif\u001b[0m \u001b[1;32mnot\u001b[0m \u001b[0misnull\u001b[0m\u001b[1;33m(\u001b[0m\u001b[0mitem\u001b[0m\u001b[1;33m)\u001b[0m\u001b[1;33m:\u001b[0m\u001b[1;33m\u001b[0m\u001b[0m\n\u001b[1;32m-> 3102\u001b[1;33m                 \u001b[0mloc\u001b[0m \u001b[1;33m=\u001b[0m \u001b[0mself\u001b[0m\u001b[1;33m.\u001b[0m\u001b[0mitems\u001b[0m\u001b[1;33m.\u001b[0m\u001b[0mget_loc\u001b[0m\u001b[1;33m(\u001b[0m\u001b[0mitem\u001b[0m\u001b[1;33m)\u001b[0m\u001b[1;33m\u001b[0m\u001b[0m\n\u001b[0m\u001b[0;32m   3103\u001b[0m             \u001b[1;32melse\u001b[0m\u001b[1;33m:\u001b[0m\u001b[1;33m\u001b[0m\u001b[0m\n\u001b[0;32m   3104\u001b[0m                 \u001b[0mindexer\u001b[0m \u001b[1;33m=\u001b[0m \u001b[0mnp\u001b[0m\u001b[1;33m.\u001b[0m\u001b[0marange\u001b[0m\u001b[1;33m(\u001b[0m\u001b[0mlen\u001b[0m\u001b[1;33m(\u001b[0m\u001b[0mself\u001b[0m\u001b[1;33m.\u001b[0m\u001b[0mitems\u001b[0m\u001b[1;33m)\u001b[0m\u001b[1;33m)\u001b[0m\u001b[1;33m[\u001b[0m\u001b[0misnull\u001b[0m\u001b[1;33m(\u001b[0m\u001b[0mself\u001b[0m\u001b[1;33m.\u001b[0m\u001b[0mitems\u001b[0m\u001b[1;33m)\u001b[0m\u001b[1;33m]\u001b[0m\u001b[1;33m\u001b[0m\u001b[0m\n",
      "\u001b[1;32mC:\\Users\\tphan\\AppData\\Local\\Continuum\\Anaconda2\\lib\\site-packages\\pandas\\core\\index.pyc\u001b[0m in \u001b[0;36mget_loc\u001b[1;34m(self, key, method, tolerance)\u001b[0m\n\u001b[0;32m   1690\u001b[0m                 raise ValueError('tolerance argument only valid if using pad, '\n\u001b[0;32m   1691\u001b[0m                                  'backfill or nearest lookups')\n\u001b[1;32m-> 1692\u001b[1;33m             \u001b[1;32mreturn\u001b[0m \u001b[0mself\u001b[0m\u001b[1;33m.\u001b[0m\u001b[0m_engine\u001b[0m\u001b[1;33m.\u001b[0m\u001b[0mget_loc\u001b[0m\u001b[1;33m(\u001b[0m\u001b[0m_values_from_object\u001b[0m\u001b[1;33m(\u001b[0m\u001b[0mkey\u001b[0m\u001b[1;33m)\u001b[0m\u001b[1;33m)\u001b[0m\u001b[1;33m\u001b[0m\u001b[0m\n\u001b[0m\u001b[0;32m   1693\u001b[0m \u001b[1;33m\u001b[0m\u001b[0m\n\u001b[0;32m   1694\u001b[0m         indexer = self.get_indexer([key], method=method,\n",
      "\u001b[1;32mpandas\\index.pyx\u001b[0m in \u001b[0;36mpandas.index.IndexEngine.get_loc (pandas\\index.c:3979)\u001b[1;34m()\u001b[0m\n",
      "\u001b[1;32mpandas\\index.pyx\u001b[0m in \u001b[0;36mpandas.index.IndexEngine.get_loc (pandas\\index.c:3843)\u001b[1;34m()\u001b[0m\n",
      "\u001b[1;32mpandas\\hashtable.pyx\u001b[0m in \u001b[0;36mpandas.hashtable.PyObjectHashTable.get_item (pandas\\hashtable.c:12265)\u001b[1;34m()\u001b[0m\n",
      "\u001b[1;32mpandas\\hashtable.pyx\u001b[0m in \u001b[0;36mpandas.hashtable.PyObjectHashTable.get_item (pandas\\hashtable.c:12216)\u001b[1;34m()\u001b[0m\n",
      "\u001b[1;31mKeyError\u001b[0m: 'Total immigrant'"
     ]
    }
   ],
   "source": [
    "v = voix_immigrant['% Voix/Exp'].tolist()\n"
   ]
  },
  {
   "cell_type": "code",
   "execution_count": 100,
   "metadata": {
    "collapsed": true
   },
   "outputs": [],
   "source": [
    "plt.hist(v)\n",
    "plt.show()"
   ]
  },
  {
   "cell_type": "code",
   "execution_count": null,
   "metadata": {
    "collapsed": true
   },
   "outputs": [],
   "source": []
  },
  {
   "cell_type": "code",
   "execution_count": 58,
   "metadata": {
    "collapsed": false
   },
   "outputs": [
    {
     "data": {
      "text/plain": [
       "(-0.010989411186549234, 0.0010778371926835689)"
      ]
     },
     "execution_count": 58,
     "metadata": {},
     "output_type": "execute_result"
    }
   ],
   "source": [
    "pearsonr(voix_immigrant['% Voix/Exp'], voix_immigrant['Total immigrant'])"
   ]
  },
  {
   "cell_type": "code",
   "execution_count": null,
   "metadata": {
    "collapsed": true
   },
   "outputs": [],
   "source": []
  },
  {
   "cell_type": "code",
   "execution_count": null,
   "metadata": {
    "collapsed": true
   },
   "outputs": [],
   "source": []
  },
  {
   "cell_type": "code",
   "execution_count": 59,
   "metadata": {
    "collapsed": false
   },
   "outputs": [
    {
     "data": {
      "text/html": [
       "<div>\n",
       "<table border=\"1\" class=\"dataframe\">\n",
       "  <thead>\n",
       "    <tr style=\"text-align: right;\">\n",
       "      <th></th>\n",
       "      <th>Code Insee</th>\n",
       "      <th>% Voix/Ins</th>\n",
       "      <th>% Voix/Exp</th>\n",
       "      <th>C12_POP15P_CS1</th>\n",
       "      <th>C12_POP15P_CS2</th>\n",
       "      <th>C12_POP15P_CS3</th>\n",
       "      <th>C12_POP15P_CS4</th>\n",
       "      <th>C12_POP15P_CS5</th>\n",
       "      <th>C12_POP15P_CS6</th>\n",
       "      <th>C12_POP15P_CS7</th>\n",
       "      <th>C12_POP15P_CS8</th>\n",
       "      <th>Total immigrant</th>\n",
       "      <th>SNHM12</th>\n",
       "    </tr>\n",
       "  </thead>\n",
       "  <tbody>\n",
       "    <tr>\n",
       "      <th>0</th>\n",
       "      <td>1001</td>\n",
       "      <td>0.00</td>\n",
       "      <td>0.00</td>\n",
       "      <td>16</td>\n",
       "      <td>4</td>\n",
       "      <td>80</td>\n",
       "      <td>88</td>\n",
       "      <td>116</td>\n",
       "      <td>72</td>\n",
       "      <td>167</td>\n",
       "      <td>76</td>\n",
       "      <td>25</td>\n",
       "      <td>NaN</td>\n",
       "    </tr>\n",
       "    <tr>\n",
       "      <th>1</th>\n",
       "      <td>1001</td>\n",
       "      <td>1.20</td>\n",
       "      <td>2.19</td>\n",
       "      <td>16</td>\n",
       "      <td>4</td>\n",
       "      <td>80</td>\n",
       "      <td>88</td>\n",
       "      <td>116</td>\n",
       "      <td>72</td>\n",
       "      <td>167</td>\n",
       "      <td>76</td>\n",
       "      <td>25</td>\n",
       "      <td>NaN</td>\n",
       "    </tr>\n",
       "    <tr>\n",
       "      <th>2</th>\n",
       "      <td>1001</td>\n",
       "      <td>17.12</td>\n",
       "      <td>31.25</td>\n",
       "      <td>16</td>\n",
       "      <td>4</td>\n",
       "      <td>80</td>\n",
       "      <td>88</td>\n",
       "      <td>116</td>\n",
       "      <td>72</td>\n",
       "      <td>167</td>\n",
       "      <td>76</td>\n",
       "      <td>25</td>\n",
       "      <td>NaN</td>\n",
       "    </tr>\n",
       "    <tr>\n",
       "      <th>3</th>\n",
       "      <td>1002</td>\n",
       "      <td>12.05</td>\n",
       "      <td>21.26</td>\n",
       "      <td>0</td>\n",
       "      <td>4</td>\n",
       "      <td>20</td>\n",
       "      <td>52</td>\n",
       "      <td>8</td>\n",
       "      <td>32</td>\n",
       "      <td>64</td>\n",
       "      <td>8</td>\n",
       "      <td>4</td>\n",
       "      <td>NaN</td>\n",
       "    </tr>\n",
       "    <tr>\n",
       "      <th>4</th>\n",
       "      <td>1002</td>\n",
       "      <td>0.00</td>\n",
       "      <td>0.00</td>\n",
       "      <td>0</td>\n",
       "      <td>4</td>\n",
       "      <td>20</td>\n",
       "      <td>52</td>\n",
       "      <td>8</td>\n",
       "      <td>32</td>\n",
       "      <td>64</td>\n",
       "      <td>8</td>\n",
       "      <td>4</td>\n",
       "      <td>NaN</td>\n",
       "    </tr>\n",
       "  </tbody>\n",
       "</table>\n",
       "</div>"
      ],
      "text/plain": [
       "   Code Insee  % Voix/Ins  % Voix/Exp  C12_POP15P_CS1  C12_POP15P_CS2  \\\n",
       "0        1001        0.00        0.00              16               4   \n",
       "1        1001        1.20        2.19              16               4   \n",
       "2        1001       17.12       31.25              16               4   \n",
       "3        1002       12.05       21.26               0               4   \n",
       "4        1002        0.00        0.00               0               4   \n",
       "\n",
       "   C12_POP15P_CS3  C12_POP15P_CS4  C12_POP15P_CS5  C12_POP15P_CS6  \\\n",
       "0              80              88             116              72   \n",
       "1              80              88             116              72   \n",
       "2              80              88             116              72   \n",
       "3              20              52               8              32   \n",
       "4              20              52               8              32   \n",
       "\n",
       "   C12_POP15P_CS7  C12_POP15P_CS8  Total immigrant  SNHM12  \n",
       "0             167              76               25     NaN  \n",
       "1             167              76               25     NaN  \n",
       "2             167              76               25     NaN  \n",
       "3              64               8                4     NaN  \n",
       "4              64               8                4     NaN  "
      ]
     },
     "execution_count": 59,
     "metadata": {},
     "output_type": "execute_result"
    }
   ],
   "source": [
    "data3 = data2.iloc[:5]\n",
    "data3"
   ]
  },
  {
   "cell_type": "code",
   "execution_count": 74,
   "metadata": {
    "collapsed": false
   },
   "outputs": [],
   "source": [
    "tit = data3.columns.tolist()\n",
    "tit.remove('% Voix/Ins')"
   ]
  },
  {
   "cell_type": "code",
   "execution_count": 76,
   "metadata": {
    "collapsed": false
   },
   "outputs": [],
   "source": [
    "tit.remove('% Voix/Exp')"
   ]
  },
  {
   "cell_type": "code",
   "execution_count": 84,
   "metadata": {
    "collapsed": false
   },
   "outputs": [
    {
     "ename": "ValueError",
     "evalue": "list.remove(x): x not in list",
     "output_type": "error",
     "traceback": [
      "\u001b[1;31m---------------------------------------------------------------------------\u001b[0m",
      "\u001b[1;31mValueError\u001b[0m                                Traceback (most recent call last)",
      "\u001b[1;32m<ipython-input-84-5dbf327bcb93>\u001b[0m in \u001b[0;36m<module>\u001b[1;34m()\u001b[0m\n\u001b[1;32m----> 1\u001b[1;33m \u001b[0mtit\u001b[0m\u001b[1;33m.\u001b[0m\u001b[0mremove\u001b[0m\u001b[1;33m(\u001b[0m\u001b[1;34m'SNHM12'\u001b[0m\u001b[1;33m)\u001b[0m\u001b[1;33m\u001b[0m\u001b[0m\n\u001b[0m\u001b[0;32m      2\u001b[0m \u001b[0mtit\u001b[0m\u001b[1;33m\u001b[0m\u001b[0m\n",
      "\u001b[1;31mValueError\u001b[0m: list.remove(x): x not in list"
     ]
    }
   ],
   "source": [
    "tit.remove('SNHM12')"
   ]
  },
  {
   "cell_type": "code",
   "execution_count": 85,
   "metadata": {
    "collapsed": false
   },
   "outputs": [],
   "source": [
    "dat = data3.groupby(tit)"
   ]
  },
  {
   "cell_type": "code",
   "execution_count": 86,
   "metadata": {
    "collapsed": false
   },
   "outputs": [
    {
     "data": {
      "text/html": [
       "<div>\n",
       "<table border=\"1\" class=\"dataframe\">\n",
       "  <thead>\n",
       "    <tr style=\"text-align: right;\">\n",
       "      <th></th>\n",
       "      <th></th>\n",
       "      <th></th>\n",
       "      <th></th>\n",
       "      <th></th>\n",
       "      <th></th>\n",
       "      <th></th>\n",
       "      <th></th>\n",
       "      <th></th>\n",
       "      <th></th>\n",
       "      <th>% Voix/Ins</th>\n",
       "      <th>% Voix/Exp</th>\n",
       "      <th>SNHM12</th>\n",
       "    </tr>\n",
       "    <tr>\n",
       "      <th>Code Insee</th>\n",
       "      <th>C12_POP15P_CS1</th>\n",
       "      <th>C12_POP15P_CS2</th>\n",
       "      <th>C12_POP15P_CS3</th>\n",
       "      <th>C12_POP15P_CS4</th>\n",
       "      <th>C12_POP15P_CS5</th>\n",
       "      <th>C12_POP15P_CS6</th>\n",
       "      <th>C12_POP15P_CS7</th>\n",
       "      <th>C12_POP15P_CS8</th>\n",
       "      <th>Total immigrant</th>\n",
       "      <th></th>\n",
       "      <th></th>\n",
       "      <th></th>\n",
       "    </tr>\n",
       "  </thead>\n",
       "  <tbody>\n",
       "    <tr>\n",
       "      <th>1001</th>\n",
       "      <th>16</th>\n",
       "      <th>4</th>\n",
       "      <th>80</th>\n",
       "      <th>88</th>\n",
       "      <th>116</th>\n",
       "      <th>72</th>\n",
       "      <th>167</th>\n",
       "      <th>76</th>\n",
       "      <th>25</th>\n",
       "      <td>18.32</td>\n",
       "      <td>33.44</td>\n",
       "      <td>NaN</td>\n",
       "    </tr>\n",
       "    <tr>\n",
       "      <th>1002</th>\n",
       "      <th>0</th>\n",
       "      <th>4</th>\n",
       "      <th>20</th>\n",
       "      <th>52</th>\n",
       "      <th>8</th>\n",
       "      <th>32</th>\n",
       "      <th>64</th>\n",
       "      <th>8</th>\n",
       "      <th>4</th>\n",
       "      <td>12.05</td>\n",
       "      <td>21.26</td>\n",
       "      <td>NaN</td>\n",
       "    </tr>\n",
       "  </tbody>\n",
       "</table>\n",
       "</div>"
      ],
      "text/plain": [
       "                                                                                                                                                    % Voix/Ins  \\\n",
       "Code Insee C12_POP15P_CS1 C12_POP15P_CS2 C12_POP15P_CS3 C12_POP15P_CS4 C12_POP15P_CS5 C12_POP15P_CS6 C12_POP15P_CS7 C12_POP15P_CS8 Total immigrant               \n",
       "1001       16             4              80             88             116            72             167            76             25                    18.32   \n",
       "1002       0              4              20             52             8              32             64             8              4                     12.05   \n",
       "\n",
       "                                                                                                                                                    % Voix/Exp  \\\n",
       "Code Insee C12_POP15P_CS1 C12_POP15P_CS2 C12_POP15P_CS3 C12_POP15P_CS4 C12_POP15P_CS5 C12_POP15P_CS6 C12_POP15P_CS7 C12_POP15P_CS8 Total immigrant               \n",
       "1001       16             4              80             88             116            72             167            76             25                    33.44   \n",
       "1002       0              4              20             52             8              32             64             8              4                     21.26   \n",
       "\n",
       "                                                                                                                                                    SNHM12  \n",
       "Code Insee C12_POP15P_CS1 C12_POP15P_CS2 C12_POP15P_CS3 C12_POP15P_CS4 C12_POP15P_CS5 C12_POP15P_CS6 C12_POP15P_CS7 C12_POP15P_CS8 Total immigrant          \n",
       "1001       16             4              80             88             116            72             167            76             25                  NaN  \n",
       "1002       0              4              20             52             8              32             64             8              4                   NaN  "
      ]
     },
     "execution_count": 86,
     "metadata": {},
     "output_type": "execute_result"
    }
   ],
   "source": [
    "dat.aggregate(np.sum)"
   ]
  },
  {
   "cell_type": "code",
   "execution_count": 87,
   "metadata": {
    "collapsed": false
   },
   "outputs": [
    {
     "data": {
      "text/html": [
       "<div>\n",
       "<table border=\"1\" class=\"dataframe\">\n",
       "  <thead>\n",
       "    <tr style=\"text-align: right;\">\n",
       "      <th></th>\n",
       "      <th>Code Insee</th>\n",
       "      <th>% Voix/Ins</th>\n",
       "      <th>% Voix/Exp</th>\n",
       "      <th>C12_POP15P_CS1</th>\n",
       "      <th>C12_POP15P_CS2</th>\n",
       "      <th>C12_POP15P_CS3</th>\n",
       "      <th>C12_POP15P_CS4</th>\n",
       "      <th>C12_POP15P_CS5</th>\n",
       "      <th>C12_POP15P_CS6</th>\n",
       "      <th>C12_POP15P_CS7</th>\n",
       "      <th>C12_POP15P_CS8</th>\n",
       "      <th>Total immigrant</th>\n",
       "      <th>SNHM12</th>\n",
       "    </tr>\n",
       "  </thead>\n",
       "  <tbody>\n",
       "    <tr>\n",
       "      <th>0</th>\n",
       "      <td>1001</td>\n",
       "      <td>0.00</td>\n",
       "      <td>0.00</td>\n",
       "      <td>16</td>\n",
       "      <td>4</td>\n",
       "      <td>80</td>\n",
       "      <td>88</td>\n",
       "      <td>116</td>\n",
       "      <td>72</td>\n",
       "      <td>167</td>\n",
       "      <td>76</td>\n",
       "      <td>25</td>\n",
       "      <td>NaN</td>\n",
       "    </tr>\n",
       "    <tr>\n",
       "      <th>1</th>\n",
       "      <td>1001</td>\n",
       "      <td>1.20</td>\n",
       "      <td>2.19</td>\n",
       "      <td>16</td>\n",
       "      <td>4</td>\n",
       "      <td>80</td>\n",
       "      <td>88</td>\n",
       "      <td>116</td>\n",
       "      <td>72</td>\n",
       "      <td>167</td>\n",
       "      <td>76</td>\n",
       "      <td>25</td>\n",
       "      <td>NaN</td>\n",
       "    </tr>\n",
       "    <tr>\n",
       "      <th>2</th>\n",
       "      <td>1001</td>\n",
       "      <td>17.12</td>\n",
       "      <td>31.25</td>\n",
       "      <td>16</td>\n",
       "      <td>4</td>\n",
       "      <td>80</td>\n",
       "      <td>88</td>\n",
       "      <td>116</td>\n",
       "      <td>72</td>\n",
       "      <td>167</td>\n",
       "      <td>76</td>\n",
       "      <td>25</td>\n",
       "      <td>NaN</td>\n",
       "    </tr>\n",
       "    <tr>\n",
       "      <th>3</th>\n",
       "      <td>1002</td>\n",
       "      <td>12.05</td>\n",
       "      <td>21.26</td>\n",
       "      <td>0</td>\n",
       "      <td>4</td>\n",
       "      <td>20</td>\n",
       "      <td>52</td>\n",
       "      <td>8</td>\n",
       "      <td>32</td>\n",
       "      <td>64</td>\n",
       "      <td>8</td>\n",
       "      <td>4</td>\n",
       "      <td>NaN</td>\n",
       "    </tr>\n",
       "    <tr>\n",
       "      <th>4</th>\n",
       "      <td>1002</td>\n",
       "      <td>0.00</td>\n",
       "      <td>0.00</td>\n",
       "      <td>0</td>\n",
       "      <td>4</td>\n",
       "      <td>20</td>\n",
       "      <td>52</td>\n",
       "      <td>8</td>\n",
       "      <td>32</td>\n",
       "      <td>64</td>\n",
       "      <td>8</td>\n",
       "      <td>4</td>\n",
       "      <td>NaN</td>\n",
       "    </tr>\n",
       "  </tbody>\n",
       "</table>\n",
       "</div>"
      ],
      "text/plain": [
       "   Code Insee  % Voix/Ins  % Voix/Exp  C12_POP15P_CS1  C12_POP15P_CS2  \\\n",
       "0        1001        0.00        0.00              16               4   \n",
       "1        1001        1.20        2.19              16               4   \n",
       "2        1001       17.12       31.25              16               4   \n",
       "3        1002       12.05       21.26               0               4   \n",
       "4        1002        0.00        0.00               0               4   \n",
       "\n",
       "   C12_POP15P_CS3  C12_POP15P_CS4  C12_POP15P_CS5  C12_POP15P_CS6  \\\n",
       "0              80              88             116              72   \n",
       "1              80              88             116              72   \n",
       "2              80              88             116              72   \n",
       "3              20              52               8              32   \n",
       "4              20              52               8              32   \n",
       "\n",
       "   C12_POP15P_CS7  C12_POP15P_CS8  Total immigrant  SNHM12  \n",
       "0             167              76               25     NaN  \n",
       "1             167              76               25     NaN  \n",
       "2             167              76               25     NaN  \n",
       "3              64               8                4     NaN  \n",
       "4              64               8                4     NaN  "
      ]
     },
     "execution_count": 87,
     "metadata": {},
     "output_type": "execute_result"
    }
   ],
   "source": [
    "data3"
   ]
  },
  {
   "cell_type": "code",
   "execution_count": null,
   "metadata": {
    "collapsed": true
   },
   "outputs": [],
   "source": []
  },
  {
   "cell_type": "code",
   "execution_count": null,
   "metadata": {
    "collapsed": false
   },
   "outputs": [],
   "source": [
    "plt.hist(y,bins=np.arange(min(y), max(y) + 10, 10))\n",
    "plt.show()"
   ]
  },
  {
   "cell_type": "code",
   "execution_count": 47,
   "metadata": {
    "collapsed": false
   },
   "outputs": [
    {
     "data": {
      "text/plain": [
       "array([ 15.93846154,  15.93846154,  15.93846154, ...,   0.        ,\n",
       "         0.        ,   8.2930232 ])"
      ]
     },
     "execution_count": 47,
     "metadata": {},
     "output_type": "execute_result"
    }
   ],
   "source": [
    "x"
   ]
  },
  {
   "cell_type": "code",
   "execution_count": 45,
   "metadata": {
    "collapsed": false
   },
   "outputs": [
    {
     "data": {
      "text/plain": [
       "(0.79617014831975552, 0.41371200873701036)"
      ]
     },
     "execution_count": 45,
     "metadata": {},
     "output_type": "execute_result"
    }
   ],
   "source": [
    "x = scipy.array([-0.65499887,  2.34644428, 3.0])\n",
    "y = scipy.array([-1.46049758,  3.86537321, 21.0])\n",
    "pearsonr(x,y)"
   ]
  },
  {
   "cell_type": "code",
   "execution_count": null,
   "metadata": {
    "collapsed": true
   },
   "outputs": [],
   "source": []
  },
  {
   "cell_type": "code",
   "execution_count": null,
   "metadata": {
    "collapsed": true
   },
   "outputs": [],
   "source": []
  },
  {
   "cell_type": "code",
   "execution_count": null,
   "metadata": {
    "collapsed": true
   },
   "outputs": [],
   "source": []
  },
  {
   "cell_type": "code",
   "execution_count": null,
   "metadata": {
    "collapsed": true
   },
   "outputs": [],
   "source": []
  },
  {
   "cell_type": "code",
   "execution_count": null,
   "metadata": {
    "collapsed": true
   },
   "outputs": [],
   "source": []
  },
  {
   "cell_type": "code",
   "execution_count": null,
   "metadata": {
    "collapsed": true
   },
   "outputs": [],
   "source": []
  },
  {
   "cell_type": "code",
   "execution_count": null,
   "metadata": {
    "collapsed": true
   },
   "outputs": [],
   "source": []
  },
  {
   "cell_type": "code",
   "execution_count": null,
   "metadata": {
    "collapsed": true
   },
   "outputs": [],
   "source": []
  },
  {
   "cell_type": "code",
   "execution_count": null,
   "metadata": {
    "collapsed": true
   },
   "outputs": [],
   "source": []
  },
  {
   "cell_type": "code",
   "execution_count": null,
   "metadata": {
    "collapsed": true
   },
   "outputs": [],
   "source": []
  },
  {
   "cell_type": "code",
   "execution_count": null,
   "metadata": {
    "collapsed": true
   },
   "outputs": [],
   "source": []
  },
  {
   "cell_type": "code",
   "execution_count": null,
   "metadata": {
    "collapsed": true
   },
   "outputs": [],
   "source": []
  },
  {
   "cell_type": "code",
   "execution_count": null,
   "metadata": {
    "collapsed": true
   },
   "outputs": [],
   "source": []
  },
  {
   "cell_type": "code",
   "execution_count": null,
   "metadata": {
    "collapsed": true
   },
   "outputs": [],
   "source": []
  },
  {
   "cell_type": "code",
   "execution_count": null,
   "metadata": {
    "collapsed": true
   },
   "outputs": [],
   "source": []
  }
 ],
 "metadata": {
  "kernelspec": {
   "display_name": "Python 2",
   "language": "python",
   "name": "python2"
  },
  "language_info": {
   "codemirror_mode": {
    "name": "ipython",
    "version": 2
   },
   "file_extension": ".py",
   "mimetype": "text/x-python",
   "name": "python",
   "nbconvert_exporter": "python",
   "pygments_lexer": "ipython2",
   "version": "2.7.10"
  }
 },
 "nbformat": 4,
 "nbformat_minor": 0
}
