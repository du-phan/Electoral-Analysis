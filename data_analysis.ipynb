{
 "cells": [
  {
   "cell_type": "code",
   "execution_count": 63,
   "metadata": {
    "collapsed": true
   },
   "outputs": [],
   "source": [
    "import pandas as pd\n",
    "import numpy as np\n",
    "import scipy\n",
    "from scipy.stats.stats import pearsonr   \n",
    "import matplotlib as mpl\n",
    "import matplotlib.pyplot as plt\n",
    "import statsmodels.api as sm"
   ]
  },
  {
   "cell_type": "code",
   "execution_count": 64,
   "metadata": {
    "collapsed": false
   },
   "outputs": [],
   "source": [
    "data_right = pd.read_excel('analyze_data/analyze_data_right.xlsx')\n",
    "data_left = pd.read_excel('analyze_data/analyze_data_left.xlsx')\n",
    "data_er = pd.read_excel('analyze_data/analyze_data_er.xlsx')"
   ]
  },
  {
   "cell_type": "code",
   "execution_count": 65,
   "metadata": {
    "collapsed": false
   },
   "outputs": [
    {
     "data": {
      "text/plain": [
       "(22814, 22)"
      ]
     },
     "execution_count": 65,
     "metadata": {},
     "output_type": "execute_result"
    }
   ],
   "source": [
    "data_left[np.abs(data_left['regionale2010 vote']-data_left['regionale2015 vote']) < 50].shape"
   ]
  },
  {
   "cell_type": "code",
   "execution_count": 66,
   "metadata": {
    "collapsed": true
   },
   "outputs": [],
   "source": [
    "def compute_correlation(data):\n",
    "    columns_list = data.columns.tolist()\n",
    "    cor_right_party = pd.DataFrame(columns = columns_list[2:])\n",
    "    counter = 2 # because the first 3 variables in the variable list are not important \n",
    "    for col in columns_list[2:]:\n",
    "        extract_data = data[[columns_list[1], columns_list[counter]]]\n",
    "        extract_data = extract_data.dropna()\n",
    "        cor = pearsonr(extract_data[extract_data.columns[0]], extract_data[extract_data.columns[1]])[0] * 100\n",
    "        cor_right_party[col] = [cor]\n",
    "        counter += 1 \n",
    "    return cor_right_party"
   ]
  },
  {
   "cell_type": "code",
   "execution_count": 67,
   "metadata": {
    "collapsed": true
   },
   "outputs": [],
   "source": [
    "def create_correlation_table(right,left,er):\n",
    "    correlation_right_party = compute_correlation(right) \n",
    "    correlation_left_party = compute_correlation(left)\n",
    "    correlation_er_party = compute_correlation(er)\n",
    "    correlation_table = pd.concat([correlation_left_party,correlation_right_party,correlation_er_party])\n",
    "    correlation_table.index = ['Left','Right', 'Extreme Right']\n",
    "    correlation_table = correlation_table.T\n",
    "    return correlation_table"
   ]
  },
  {
   "cell_type": "code",
   "execution_count": 68,
   "metadata": {
    "collapsed": false
   },
   "outputs": [],
   "source": [
    "correlation_table = create_correlation_table(data_right,data_left,data_er)"
   ]
  },
  {
   "cell_type": "code",
   "execution_count": 69,
   "metadata": {
    "collapsed": false
   },
   "outputs": [
    {
     "data": {
      "text/html": [
       "<div>\n",
       "<table border=\"1\" class=\"dataframe\">\n",
       "  <thead>\n",
       "    <tr style=\"text-align: right;\">\n",
       "      <th></th>\n",
       "      <th>Left</th>\n",
       "      <th>Right</th>\n",
       "      <th>Extreme Right</th>\n",
       "    </tr>\n",
       "  </thead>\n",
       "  <tbody>\n",
       "    <tr>\n",
       "      <th>regionale2004 vote</th>\n",
       "      <td>64.688660</td>\n",
       "      <td>34.614008</td>\n",
       "      <td>67.331772</td>\n",
       "    </tr>\n",
       "    <tr>\n",
       "      <th>regionale2010 vote</th>\n",
       "      <td>-0.076994</td>\n",
       "      <td>71.784847</td>\n",
       "      <td>71.998575</td>\n",
       "    </tr>\n",
       "    <tr>\n",
       "      <th>Immigrant</th>\n",
       "      <td>-12.480203</td>\n",
       "      <td>20.117342</td>\n",
       "      <td>-10.755233</td>\n",
       "    </tr>\n",
       "    <tr>\n",
       "      <th>Salaire</th>\n",
       "      <td>38.318189</td>\n",
       "      <td>-15.774859</td>\n",
       "      <td>-23.927632</td>\n",
       "    </tr>\n",
       "    <tr>\n",
       "      <th>Agriculteurs</th>\n",
       "      <td>17.898836</td>\n",
       "      <td>-3.876219</td>\n",
       "      <td>-10.988869</td>\n",
       "    </tr>\n",
       "    <tr>\n",
       "      <th>Artisans</th>\n",
       "      <td>-1.428497</td>\n",
       "      <td>9.725289</td>\n",
       "      <td>-8.881199</td>\n",
       "    </tr>\n",
       "    <tr>\n",
       "      <th>Cadres</th>\n",
       "      <td>6.420419</td>\n",
       "      <td>1.926759</td>\n",
       "      <td>-11.209943</td>\n",
       "    </tr>\n",
       "    <tr>\n",
       "      <th>Prof_Intermediaire</th>\n",
       "      <td>-3.340594</td>\n",
       "      <td>-1.687218</td>\n",
       "      <td>2.111625</td>\n",
       "    </tr>\n",
       "    <tr>\n",
       "      <th>Employes</th>\n",
       "      <td>-9.659553</td>\n",
       "      <td>-4.289384</td>\n",
       "      <td>13.264534</td>\n",
       "    </tr>\n",
       "    <tr>\n",
       "      <th>Ouvrier</th>\n",
       "      <td>-1.314590</td>\n",
       "      <td>-23.814793</td>\n",
       "      <td>27.399715</td>\n",
       "    </tr>\n",
       "    <tr>\n",
       "      <th>Retraite</th>\n",
       "      <td>3.449550</td>\n",
       "      <td>14.949167</td>\n",
       "      <td>-19.263977</td>\n",
       "    </tr>\n",
       "    <tr>\n",
       "      <th>Autre</th>\n",
       "      <td>-11.855126</td>\n",
       "      <td>4.547704</td>\n",
       "      <td>10.093556</td>\n",
       "    </tr>\n",
       "    <tr>\n",
       "      <th>Sans diplome</th>\n",
       "      <td>-5.213345</td>\n",
       "      <td>-8.784302</td>\n",
       "      <td>19.796930</td>\n",
       "    </tr>\n",
       "    <tr>\n",
       "      <th>CEP</th>\n",
       "      <td>11.185025</td>\n",
       "      <td>-6.118871</td>\n",
       "      <td>-1.521515</td>\n",
       "    </tr>\n",
       "    <tr>\n",
       "      <th>BEPC</th>\n",
       "      <td>-5.185977</td>\n",
       "      <td>13.399800</td>\n",
       "      <td>-5.434635</td>\n",
       "    </tr>\n",
       "    <tr>\n",
       "      <th>CAP-BEP</th>\n",
       "      <td>-4.936157</td>\n",
       "      <td>-21.850844</td>\n",
       "      <td>25.678811</td>\n",
       "    </tr>\n",
       "    <tr>\n",
       "      <th>BAC</th>\n",
       "      <td>-1.588563</td>\n",
       "      <td>11.317407</td>\n",
       "      <td>-12.159279</td>\n",
       "    </tr>\n",
       "    <tr>\n",
       "      <th>Enseignement_sup_court</th>\n",
       "      <td>0.336956</td>\n",
       "      <td>8.407505</td>\n",
       "      <td>-13.123457</td>\n",
       "    </tr>\n",
       "    <tr>\n",
       "      <th>Enseignement_sup_long</th>\n",
       "      <td>4.121381</td>\n",
       "      <td>18.979793</td>\n",
       "      <td>-28.263700</td>\n",
       "    </tr>\n",
       "    <tr>\n",
       "      <th>Proprietaire</th>\n",
       "      <td>6.055341</td>\n",
       "      <td>-14.208008</td>\n",
       "      <td>8.418358</td>\n",
       "    </tr>\n",
       "  </tbody>\n",
       "</table>\n",
       "</div>"
      ],
      "text/plain": [
       "                             Left      Right  Extreme Right\n",
       "regionale2004 vote      64.688660  34.614008      67.331772\n",
       "regionale2010 vote      -0.076994  71.784847      71.998575\n",
       "Immigrant              -12.480203  20.117342     -10.755233\n",
       "Salaire                 38.318189 -15.774859     -23.927632\n",
       "Agriculteurs            17.898836  -3.876219     -10.988869\n",
       "Artisans                -1.428497   9.725289      -8.881199\n",
       "Cadres                   6.420419   1.926759     -11.209943\n",
       "Prof_Intermediaire      -3.340594  -1.687218       2.111625\n",
       "Employes                -9.659553  -4.289384      13.264534\n",
       "Ouvrier                 -1.314590 -23.814793      27.399715\n",
       "Retraite                 3.449550  14.949167     -19.263977\n",
       "Autre                  -11.855126   4.547704      10.093556\n",
       "Sans diplome            -5.213345  -8.784302      19.796930\n",
       "CEP                     11.185025  -6.118871      -1.521515\n",
       "BEPC                    -5.185977  13.399800      -5.434635\n",
       "CAP-BEP                 -4.936157 -21.850844      25.678811\n",
       "BAC                     -1.588563  11.317407     -12.159279\n",
       "Enseignement_sup_court   0.336956   8.407505     -13.123457\n",
       "Enseignement_sup_long    4.121381  18.979793     -28.263700\n",
       "Proprietaire             6.055341 -14.208008       8.418358"
      ]
     },
     "execution_count": 69,
     "metadata": {},
     "output_type": "execute_result"
    }
   ],
   "source": [
    "correlation_table"
   ]
  },
  {
   "cell_type": "markdown",
   "metadata": {},
   "source": [
    "### We export the correlation table"
   ]
  },
  {
   "cell_type": "code",
   "execution_count": 70,
   "metadata": {
    "collapsed": false
   },
   "outputs": [],
   "source": [
    "writer = pd.ExcelWriter('result/correlation_table_regional2015.xlsx')\n",
    "correlation_table.to_excel(writer,'Sheet1') \n",
    "writer.save()"
   ]
  },
  {
   "cell_type": "markdown",
   "metadata": {
    "collapsed": true
   },
   "source": [
    "### We do some data viz"
   ]
  },
  {
   "cell_type": "code",
   "execution_count": 71,
   "metadata": {
    "collapsed": false
   },
   "outputs": [],
   "source": [
    "%matplotlib inline\n",
    "import seaborn as sns"
   ]
  },
  {
   "cell_type": "code",
   "execution_count": 72,
   "metadata": {
    "collapsed": true
   },
   "outputs": [],
   "source": [
    "right = data_right.copy()\n",
    "left = data_left.copy()\n",
    "er = data_er.copy()"
   ]
  },
  {
   "cell_type": "code",
   "execution_count": 73,
   "metadata": {
    "collapsed": false
   },
   "outputs": [],
   "source": [
    "right = right.drop(['Salaire'],axis=1)\n",
    "left = left.drop('Salaire',axis=1)\n",
    "er = er.drop('Salaire',axis=1)"
   ]
  },
  {
   "cell_type": "code",
   "execution_count": 74,
   "metadata": {
    "collapsed": true
   },
   "outputs": [],
   "source": [
    "right = right.apply(lambda x: x.fillna(x.mean()))\n",
    "left = left.apply(lambda x: x.fillna(x.mean()))\n",
    "er = er.apply(lambda x: x.fillna(x.mean()))"
   ]
  },
  {
   "cell_type": "markdown",
   "metadata": {},
   "source": [
    "### We replace salary missing values by its mean"
   ]
  },
  {
   "cell_type": "code",
   "execution_count": 75,
   "metadata": {
    "collapsed": false
   },
   "outputs": [],
   "source": [
    "#right['Salaire'] = np.log(right['Salaire'])\n"
   ]
  },
  {
   "cell_type": "code",
   "execution_count": 76,
   "metadata": {
    "collapsed": false
   },
   "outputs": [],
   "source": [
    "#right['Salaire'].hist(bins=100)"
   ]
  },
  {
   "cell_type": "code",
   "execution_count": 77,
   "metadata": {
    "collapsed": false
   },
   "outputs": [],
   "source": [
    "#right['Salaire'].mean()"
   ]
  },
  {
   "cell_type": "code",
   "execution_count": 78,
   "metadata": {
    "collapsed": true
   },
   "outputs": [],
   "source": [
    "#right['Salaire'] = right['Salaire'].fillna(right['Salaire'].mean())"
   ]
  },
  {
   "cell_type": "code",
   "execution_count": 79,
   "metadata": {
    "collapsed": false
   },
   "outputs": [],
   "source": [
    "#right = right.apply(lambda x: x.fillna(x.mean()))"
   ]
  },
  {
   "cell_type": "code",
   "execution_count": 80,
   "metadata": {
    "collapsed": false
   },
   "outputs": [
    {
     "data": {
      "text/plain": [
       "Code Insee                0\n",
       "regionale2015 vote        0\n",
       "regionale2004 vote        0\n",
       "regionale2010 vote        0\n",
       "Immigrant                 0\n",
       "Agriculteurs              0\n",
       "Artisans                  0\n",
       "Cadres                    0\n",
       "Prof_Intermediaire        0\n",
       "Employes                  0\n",
       "Ouvrier                   0\n",
       "Retraite                  0\n",
       "Autre                     0\n",
       "Sans diplome              0\n",
       "CEP                       0\n",
       "BEPC                      0\n",
       "CAP-BEP                   0\n",
       "BAC                       0\n",
       "Enseignement_sup_court    0\n",
       "Enseignement_sup_long     0\n",
       "Proprietaire              0\n",
       "dtype: int64"
      ]
     },
     "execution_count": 80,
     "metadata": {},
     "output_type": "execute_result"
    }
   ],
   "source": [
    "right.apply(lambda x: sum(x.isnull()))"
   ]
  },
  {
   "cell_type": "code",
   "execution_count": 81,
   "metadata": {
    "collapsed": false
   },
   "outputs": [
    {
     "data": {
      "text/plain": [
       "<matplotlib.axes._subplots.AxesSubplot at 0x10f9057d0>"
      ]
     },
     "execution_count": 81,
     "metadata": {},
     "output_type": "execute_result"
    },
    {
     "data": {
      "image/png": "[encoded data removed]",
      "text/plain": [
       "<matplotlib.figure.Figure at 0x113b8b690>"
      ]
     },
     "metadata": {},
     "output_type": "display_data"
    }
   ],
   "source": [
    "sns.distplot(right['Ouvrier'])"
   ]
  },
  {
   "cell_type": "code",
   "execution_count": 82,
   "metadata": {
    "collapsed": false
   },
   "outputs": [],
   "source": [
    "correlation_matrix = right[right.columns[1:]].corr()"
   ]
  },
  {
   "cell_type": "code",
   "execution_count": 83,
   "metadata": {
    "collapsed": false
   },
   "outputs": [
    {
     "data": {
      "text/html": [
       "<div>\n",
       "<table border=\"1\" class=\"dataframe\">\n",
       "  <thead>\n",
       "    <tr style=\"text-align: right;\">\n",
       "      <th></th>\n",
       "      <th>regionale2015 vote</th>\n",
       "      <th>regionale2004 vote</th>\n",
       "      <th>regionale2010 vote</th>\n",
       "      <th>Immigrant</th>\n",
       "      <th>Agriculteurs</th>\n",
       "      <th>Artisans</th>\n",
       "      <th>Cadres</th>\n",
       "      <th>Prof_Intermediaire</th>\n",
       "      <th>Employes</th>\n",
       "      <th>Ouvrier</th>\n",
       "      <th>Retraite</th>\n",
       "      <th>Autre</th>\n",
       "      <th>Sans diplome</th>\n",
       "      <th>CEP</th>\n",
       "      <th>BEPC</th>\n",
       "      <th>CAP-BEP</th>\n",
       "      <th>BAC</th>\n",
       "      <th>Enseignement_sup_court</th>\n",
       "      <th>Enseignement_sup_long</th>\n",
       "      <th>Proprietaire</th>\n",
       "    </tr>\n",
       "  </thead>\n",
       "  <tbody>\n",
       "    <tr>\n",
       "      <th>regionale2015 vote</th>\n",
       "      <td>1.000000</td>\n",
       "      <td>0.346041</td>\n",
       "      <td>0.717771</td>\n",
       "      <td>0.200833</td>\n",
       "      <td>-0.038674</td>\n",
       "      <td>0.097031</td>\n",
       "      <td>0.019224</td>\n",
       "      <td>-0.016834</td>\n",
       "      <td>-0.042796</td>\n",
       "      <td>-0.237604</td>\n",
       "      <td>0.149151</td>\n",
       "      <td>0.045373</td>\n",
       "      <td>-0.087694</td>\n",
       "      <td>-0.061085</td>\n",
       "      <td>0.133771</td>\n",
       "      <td>-0.218138</td>\n",
       "      <td>0.112982</td>\n",
       "      <td>0.083933</td>\n",
       "      <td>0.189477</td>\n",
       "      <td>-0.141840</td>\n",
       "    </tr>\n",
       "    <tr>\n",
       "      <th>regionale2004 vote</th>\n",
       "      <td>0.346041</td>\n",
       "      <td>1.000000</td>\n",
       "      <td>0.330861</td>\n",
       "      <td>0.048435</td>\n",
       "      <td>-0.054204</td>\n",
       "      <td>0.033899</td>\n",
       "      <td>-0.048938</td>\n",
       "      <td>-0.022251</td>\n",
       "      <td>0.014900</td>\n",
       "      <td>-0.044732</td>\n",
       "      <td>0.027075</td>\n",
       "      <td>0.085147</td>\n",
       "      <td>0.091698</td>\n",
       "      <td>-0.075564</td>\n",
       "      <td>0.110934</td>\n",
       "      <td>-0.091281</td>\n",
       "      <td>0.046258</td>\n",
       "      <td>-0.039870</td>\n",
       "      <td>0.002552</td>\n",
       "      <td>-0.040704</td>\n",
       "    </tr>\n",
       "    <tr>\n",
       "      <th>regionale2010 vote</th>\n",
       "      <td>0.717771</td>\n",
       "      <td>0.330861</td>\n",
       "      <td>1.000000</td>\n",
       "      <td>0.090531</td>\n",
       "      <td>-0.082554</td>\n",
       "      <td>0.018876</td>\n",
       "      <td>-0.118524</td>\n",
       "      <td>-0.082223</td>\n",
       "      <td>0.023432</td>\n",
       "      <td>-0.096260</td>\n",
       "      <td>0.155424</td>\n",
       "      <td>0.060979</td>\n",
       "      <td>0.059965</td>\n",
       "      <td>0.040639</td>\n",
       "      <td>0.160756</td>\n",
       "      <td>-0.082877</td>\n",
       "      <td>0.013236</td>\n",
       "      <td>-0.083884</td>\n",
       "      <td>-0.047413</td>\n",
       "      <td>-0.115423</td>\n",
       "    </tr>\n",
       "    <tr>\n",
       "      <th>Immigrant</th>\n",
       "      <td>0.200833</td>\n",
       "      <td>0.048435</td>\n",
       "      <td>0.090531</td>\n",
       "      <td>1.000000</td>\n",
       "      <td>-0.050960</td>\n",
       "      <td>0.056899</td>\n",
       "      <td>0.089722</td>\n",
       "      <td>-0.039395</td>\n",
       "      <td>-0.041491</td>\n",
       "      <td>-0.138667</td>\n",
       "      <td>0.014648</td>\n",
       "      <td>0.169722</td>\n",
       "      <td>0.129523</td>\n",
       "      <td>-0.161216</td>\n",
       "      <td>0.025217</td>\n",
       "      <td>-0.262355</td>\n",
       "      <td>0.065528</td>\n",
       "      <td>-0.009803</td>\n",
       "      <td>0.223038</td>\n",
       "      <td>-0.294498</td>\n",
       "    </tr>\n",
       "    <tr>\n",
       "      <th>Agriculteurs</th>\n",
       "      <td>-0.038674</td>\n",
       "      <td>-0.054204</td>\n",
       "      <td>-0.082554</td>\n",
       "      <td>-0.050960</td>\n",
       "      <td>1.000000</td>\n",
       "      <td>-0.034223</td>\n",
       "      <td>-0.214766</td>\n",
       "      <td>-0.253386</td>\n",
       "      <td>-0.236801</td>\n",
       "      <td>-0.124787</td>\n",
       "      <td>0.071878</td>\n",
       "      <td>-0.166995</td>\n",
       "      <td>-0.000230</td>\n",
       "      <td>0.272759</td>\n",
       "      <td>0.011844</td>\n",
       "      <td>-0.059552</td>\n",
       "      <td>0.047993</td>\n",
       "      <td>-0.116140</td>\n",
       "      <td>-0.155271</td>\n",
       "      <td>0.139055</td>\n",
       "    </tr>\n",
       "    <tr>\n",
       "      <th>Artisans</th>\n",
       "      <td>0.097031</td>\n",
       "      <td>0.033899</td>\n",
       "      <td>0.018876</td>\n",
       "      <td>0.056899</td>\n",
       "      <td>-0.034223</td>\n",
       "      <td>1.000000</td>\n",
       "      <td>0.000616</td>\n",
       "      <td>-0.048977</td>\n",
       "      <td>-0.077558</td>\n",
       "      <td>-0.179128</td>\n",
       "      <td>-0.068278</td>\n",
       "      <td>-0.076702</td>\n",
       "      <td>-0.105652</td>\n",
       "      <td>-0.051413</td>\n",
       "      <td>0.043119</td>\n",
       "      <td>-0.045079</td>\n",
       "      <td>0.098651</td>\n",
       "      <td>0.043761</td>\n",
       "      <td>0.103726</td>\n",
       "      <td>0.009177</td>\n",
       "    </tr>\n",
       "    <tr>\n",
       "      <th>Cadres</th>\n",
       "      <td>0.019224</td>\n",
       "      <td>-0.048938</td>\n",
       "      <td>-0.118524</td>\n",
       "      <td>0.089722</td>\n",
       "      <td>-0.214766</td>\n",
       "      <td>0.000616</td>\n",
       "      <td>1.000000</td>\n",
       "      <td>0.296828</td>\n",
       "      <td>-0.040468</td>\n",
       "      <td>-0.279837</td>\n",
       "      <td>-0.309190</td>\n",
       "      <td>0.010724</td>\n",
       "      <td>-0.322794</td>\n",
       "      <td>-0.368866</td>\n",
       "      <td>-0.095046</td>\n",
       "      <td>-0.223473</td>\n",
       "      <td>0.132944</td>\n",
       "      <td>0.414183</td>\n",
       "      <td>0.629565</td>\n",
       "      <td>0.022104</td>\n",
       "    </tr>\n",
       "    <tr>\n",
       "      <th>Prof_Intermediaire</th>\n",
       "      <td>-0.016834</td>\n",
       "      <td>-0.022251</td>\n",
       "      <td>-0.082223</td>\n",
       "      <td>-0.039395</td>\n",
       "      <td>-0.253386</td>\n",
       "      <td>-0.048977</td>\n",
       "      <td>0.296828</td>\n",
       "      <td>1.000000</td>\n",
       "      <td>0.047158</td>\n",
       "      <td>-0.160503</td>\n",
       "      <td>-0.462900</td>\n",
       "      <td>-0.076584</td>\n",
       "      <td>-0.306937</td>\n",
       "      <td>-0.377069</td>\n",
       "      <td>-0.122645</td>\n",
       "      <td>-0.001449</td>\n",
       "      <td>0.185486</td>\n",
       "      <td>0.461105</td>\n",
       "      <td>0.312977</td>\n",
       "      <td>0.096624</td>\n",
       "    </tr>\n",
       "    <tr>\n",
       "      <th>Employes</th>\n",
       "      <td>-0.042796</td>\n",
       "      <td>0.014900</td>\n",
       "      <td>0.023432</td>\n",
       "      <td>-0.041491</td>\n",
       "      <td>-0.236801</td>\n",
       "      <td>-0.077558</td>\n",
       "      <td>-0.040468</td>\n",
       "      <td>0.047158</td>\n",
       "      <td>1.000000</td>\n",
       "      <td>0.079256</td>\n",
       "      <td>-0.416541</td>\n",
       "      <td>-0.095405</td>\n",
       "      <td>-0.026785</td>\n",
       "      <td>-0.202684</td>\n",
       "      <td>-0.032617</td>\n",
       "      <td>0.183478</td>\n",
       "      <td>0.064501</td>\n",
       "      <td>0.085746</td>\n",
       "      <td>-0.063533</td>\n",
       "      <td>-0.079396</td>\n",
       "    </tr>\n",
       "    <tr>\n",
       "      <th>Ouvrier</th>\n",
       "      <td>-0.237604</td>\n",
       "      <td>-0.044732</td>\n",
       "      <td>-0.096260</td>\n",
       "      <td>-0.138667</td>\n",
       "      <td>-0.124787</td>\n",
       "      <td>-0.179128</td>\n",
       "      <td>-0.279837</td>\n",
       "      <td>-0.160503</td>\n",
       "      <td>0.079256</td>\n",
       "      <td>1.000000</td>\n",
       "      <td>-0.327623</td>\n",
       "      <td>-0.099459</td>\n",
       "      <td>0.242023</td>\n",
       "      <td>0.002248</td>\n",
       "      <td>-0.090818</td>\n",
       "      <td>0.342721</td>\n",
       "      <td>-0.140639</td>\n",
       "      <td>-0.200672</td>\n",
       "      <td>-0.363861</td>\n",
       "      <td>0.005607</td>\n",
       "    </tr>\n",
       "    <tr>\n",
       "      <th>Retraite</th>\n",
       "      <td>0.149151</td>\n",
       "      <td>0.027075</td>\n",
       "      <td>0.155424</td>\n",
       "      <td>0.014648</td>\n",
       "      <td>0.071878</td>\n",
       "      <td>-0.068278</td>\n",
       "      <td>-0.309190</td>\n",
       "      <td>-0.462900</td>\n",
       "      <td>-0.416541</td>\n",
       "      <td>-0.327623</td>\n",
       "      <td>1.000000</td>\n",
       "      <td>-0.274522</td>\n",
       "      <td>0.107653</td>\n",
       "      <td>0.461865</td>\n",
       "      <td>0.159807</td>\n",
       "      <td>-0.142942</td>\n",
       "      <td>-0.136107</td>\n",
       "      <td>-0.303055</td>\n",
       "      <td>-0.169765</td>\n",
       "      <td>0.014327</td>\n",
       "    </tr>\n",
       "    <tr>\n",
       "      <th>Autre</th>\n",
       "      <td>0.045373</td>\n",
       "      <td>0.085147</td>\n",
       "      <td>0.060979</td>\n",
       "      <td>0.169722</td>\n",
       "      <td>-0.166995</td>\n",
       "      <td>-0.076702</td>\n",
       "      <td>0.010724</td>\n",
       "      <td>-0.076584</td>\n",
       "      <td>-0.095405</td>\n",
       "      <td>-0.099459</td>\n",
       "      <td>-0.274522</td>\n",
       "      <td>1.000000</td>\n",
       "      <td>0.191851</td>\n",
       "      <td>-0.148724</td>\n",
       "      <td>0.030270</td>\n",
       "      <td>-0.083739</td>\n",
       "      <td>-0.051003</td>\n",
       "      <td>-0.041263</td>\n",
       "      <td>0.052375</td>\n",
       "      <td>-0.210724</td>\n",
       "    </tr>\n",
       "    <tr>\n",
       "      <th>Sans diplome</th>\n",
       "      <td>-0.087694</td>\n",
       "      <td>0.091698</td>\n",
       "      <td>0.059965</td>\n",
       "      <td>0.129523</td>\n",
       "      <td>-0.000230</td>\n",
       "      <td>-0.105652</td>\n",
       "      <td>-0.322794</td>\n",
       "      <td>-0.306937</td>\n",
       "      <td>-0.026785</td>\n",
       "      <td>0.242023</td>\n",
       "      <td>0.107653</td>\n",
       "      <td>0.191851</td>\n",
       "      <td>1.000000</td>\n",
       "      <td>0.041835</td>\n",
       "      <td>-0.049446</td>\n",
       "      <td>-0.109278</td>\n",
       "      <td>-0.416776</td>\n",
       "      <td>-0.526705</td>\n",
       "      <td>-0.431419</td>\n",
       "      <td>-0.251773</td>\n",
       "    </tr>\n",
       "    <tr>\n",
       "      <th>CEP</th>\n",
       "      <td>-0.061085</td>\n",
       "      <td>-0.075564</td>\n",
       "      <td>0.040639</td>\n",
       "      <td>-0.161216</td>\n",
       "      <td>0.272759</td>\n",
       "      <td>-0.051413</td>\n",
       "      <td>-0.368866</td>\n",
       "      <td>-0.377069</td>\n",
       "      <td>-0.202684</td>\n",
       "      <td>0.002248</td>\n",
       "      <td>0.461865</td>\n",
       "      <td>-0.148724</td>\n",
       "      <td>0.041835</td>\n",
       "      <td>1.000000</td>\n",
       "      <td>0.032073</td>\n",
       "      <td>-0.048571</td>\n",
       "      <td>-0.287067</td>\n",
       "      <td>-0.439899</td>\n",
       "      <td>-0.429661</td>\n",
       "      <td>0.099332</td>\n",
       "    </tr>\n",
       "    <tr>\n",
       "      <th>BEPC</th>\n",
       "      <td>0.133771</td>\n",
       "      <td>0.110934</td>\n",
       "      <td>0.160756</td>\n",
       "      <td>0.025217</td>\n",
       "      <td>0.011844</td>\n",
       "      <td>0.043119</td>\n",
       "      <td>-0.095046</td>\n",
       "      <td>-0.122645</td>\n",
       "      <td>-0.032617</td>\n",
       "      <td>-0.090818</td>\n",
       "      <td>0.159807</td>\n",
       "      <td>0.030270</td>\n",
       "      <td>-0.049446</td>\n",
       "      <td>0.032073</td>\n",
       "      <td>1.000000</td>\n",
       "      <td>-0.204429</td>\n",
       "      <td>-0.039715</td>\n",
       "      <td>-0.155046</td>\n",
       "      <td>-0.070866</td>\n",
       "      <td>-0.099824</td>\n",
       "    </tr>\n",
       "    <tr>\n",
       "      <th>CAP-BEP</th>\n",
       "      <td>-0.218138</td>\n",
       "      <td>-0.091281</td>\n",
       "      <td>-0.082877</td>\n",
       "      <td>-0.262355</td>\n",
       "      <td>-0.059552</td>\n",
       "      <td>-0.045079</td>\n",
       "      <td>-0.223473</td>\n",
       "      <td>-0.001449</td>\n",
       "      <td>0.183478</td>\n",
       "      <td>0.342721</td>\n",
       "      <td>-0.142942</td>\n",
       "      <td>-0.083739</td>\n",
       "      <td>-0.109278</td>\n",
       "      <td>-0.048571</td>\n",
       "      <td>-0.204429</td>\n",
       "      <td>1.000000</td>\n",
       "      <td>-0.230263</td>\n",
       "      <td>-0.203797</td>\n",
       "      <td>-0.439062</td>\n",
       "      <td>0.169995</td>\n",
       "    </tr>\n",
       "    <tr>\n",
       "      <th>BAC</th>\n",
       "      <td>0.112982</td>\n",
       "      <td>0.046258</td>\n",
       "      <td>0.013236</td>\n",
       "      <td>0.065528</td>\n",
       "      <td>0.047993</td>\n",
       "      <td>0.098651</td>\n",
       "      <td>0.132944</td>\n",
       "      <td>0.185486</td>\n",
       "      <td>0.064501</td>\n",
       "      <td>-0.140639</td>\n",
       "      <td>-0.136107</td>\n",
       "      <td>-0.051003</td>\n",
       "      <td>-0.416776</td>\n",
       "      <td>-0.287067</td>\n",
       "      <td>-0.039715</td>\n",
       "      <td>-0.230263</td>\n",
       "      <td>1.000000</td>\n",
       "      <td>0.198861</td>\n",
       "      <td>0.165485</td>\n",
       "      <td>0.052126</td>\n",
       "    </tr>\n",
       "    <tr>\n",
       "      <th>Enseignement_sup_court</th>\n",
       "      <td>0.083933</td>\n",
       "      <td>-0.039870</td>\n",
       "      <td>-0.083884</td>\n",
       "      <td>-0.009803</td>\n",
       "      <td>-0.116140</td>\n",
       "      <td>0.043761</td>\n",
       "      <td>0.414183</td>\n",
       "      <td>0.461105</td>\n",
       "      <td>0.085746</td>\n",
       "      <td>-0.200672</td>\n",
       "      <td>-0.303055</td>\n",
       "      <td>-0.041263</td>\n",
       "      <td>-0.526705</td>\n",
       "      <td>-0.439899</td>\n",
       "      <td>-0.155046</td>\n",
       "      <td>-0.203797</td>\n",
       "      <td>0.198861</td>\n",
       "      <td>1.000000</td>\n",
       "      <td>0.445009</td>\n",
       "      <td>0.129233</td>\n",
       "    </tr>\n",
       "    <tr>\n",
       "      <th>Enseignement_sup_long</th>\n",
       "      <td>0.189477</td>\n",
       "      <td>0.002552</td>\n",
       "      <td>-0.047413</td>\n",
       "      <td>0.223038</td>\n",
       "      <td>-0.155271</td>\n",
       "      <td>0.103726</td>\n",
       "      <td>0.629565</td>\n",
       "      <td>0.312977</td>\n",
       "      <td>-0.063533</td>\n",
       "      <td>-0.363861</td>\n",
       "      <td>-0.169765</td>\n",
       "      <td>0.052375</td>\n",
       "      <td>-0.431419</td>\n",
       "      <td>-0.429661</td>\n",
       "      <td>-0.070866</td>\n",
       "      <td>-0.439062</td>\n",
       "      <td>0.165485</td>\n",
       "      <td>0.445009</td>\n",
       "      <td>1.000000</td>\n",
       "      <td>-0.056242</td>\n",
       "    </tr>\n",
       "    <tr>\n",
       "      <th>Proprietaire</th>\n",
       "      <td>-0.141840</td>\n",
       "      <td>-0.040704</td>\n",
       "      <td>-0.115423</td>\n",
       "      <td>-0.294498</td>\n",
       "      <td>0.139055</td>\n",
       "      <td>0.009177</td>\n",
       "      <td>0.022104</td>\n",
       "      <td>0.096624</td>\n",
       "      <td>-0.079396</td>\n",
       "      <td>0.005607</td>\n",
       "      <td>0.014327</td>\n",
       "      <td>-0.210724</td>\n",
       "      <td>-0.251773</td>\n",
       "      <td>0.099332</td>\n",
       "      <td>-0.099824</td>\n",
       "      <td>0.169995</td>\n",
       "      <td>0.052126</td>\n",
       "      <td>0.129233</td>\n",
       "      <td>-0.056242</td>\n",
       "      <td>1.000000</td>\n",
       "    </tr>\n",
       "  </tbody>\n",
       "</table>\n",
       "</div>"
      ],
      "text/plain": [
       "                        regionale2015 vote  regionale2004 vote  \\\n",
       "regionale2015 vote                1.000000            0.346041   \n",
       "regionale2004 vote                0.346041            1.000000   \n",
       "regionale2010 vote                0.717771            0.330861   \n",
       "Immigrant                         0.200833            0.048435   \n",
       "Agriculteurs                     -0.038674           -0.054204   \n",
       "Artisans                          0.097031            0.033899   \n",
       "Cadres                            0.019224           -0.048938   \n",
       "Prof_Intermediaire               -0.016834           -0.022251   \n",
       "Employes                         -0.042796            0.014900   \n",
       "Ouvrier                          -0.237604           -0.044732   \n",
       "Retraite                          0.149151            0.027075   \n",
       "Autre                             0.045373            0.085147   \n",
       "Sans diplome                     -0.087694            0.091698   \n",
       "CEP                              -0.061085           -0.075564   \n",
       "BEPC                              0.133771            0.110934   \n",
       "CAP-BEP                          -0.218138           -0.091281   \n",
       "BAC                               0.112982            0.046258   \n",
       "Enseignement_sup_court            0.083933           -0.039870   \n",
       "Enseignement_sup_long             0.189477            0.002552   \n",
       "Proprietaire                     -0.141840           -0.040704   \n",
       "\n",
       "                        regionale2010 vote  Immigrant  Agriculteurs  Artisans  \\\n",
       "regionale2015 vote                0.717771   0.200833     -0.038674  0.097031   \n",
       "regionale2004 vote                0.330861   0.048435     -0.054204  0.033899   \n",
       "regionale2010 vote                1.000000   0.090531     -0.082554  0.018876   \n",
       "Immigrant                         0.090531   1.000000     -0.050960  0.056899   \n",
       "Agriculteurs                     -0.082554  -0.050960      1.000000 -0.034223   \n",
       "Artisans                          0.018876   0.056899     -0.034223  1.000000   \n",
       "Cadres                           -0.118524   0.089722     -0.214766  0.000616   \n",
       "Prof_Intermediaire               -0.082223  -0.039395     -0.253386 -0.048977   \n",
       "Employes                          0.023432  -0.041491     -0.236801 -0.077558   \n",
       "Ouvrier                          -0.096260  -0.138667     -0.124787 -0.179128   \n",
       "Retraite                          0.155424   0.014648      0.071878 -0.068278   \n",
       "Autre                             0.060979   0.169722     -0.166995 -0.076702   \n",
       "Sans diplome                      0.059965   0.129523     -0.000230 -0.105652   \n",
       "CEP                               0.040639  -0.161216      0.272759 -0.051413   \n",
       "BEPC                              0.160756   0.025217      0.011844  0.043119   \n",
       "CAP-BEP                          -0.082877  -0.262355     -0.059552 -0.045079   \n",
       "BAC                               0.013236   0.065528      0.047993  0.098651   \n",
       "Enseignement_sup_court           -0.083884  -0.009803     -0.116140  0.043761   \n",
       "Enseignement_sup_long            -0.047413   0.223038     -0.155271  0.103726   \n",
       "Proprietaire                     -0.115423  -0.294498      0.139055  0.009177   \n",
       "\n",
       "                          Cadres  Prof_Intermediaire  Employes   Ouvrier  \\\n",
       "regionale2015 vote      0.019224           -0.016834 -0.042796 -0.237604   \n",
       "regionale2004 vote     -0.048938           -0.022251  0.014900 -0.044732   \n",
       "regionale2010 vote     -0.118524           -0.082223  0.023432 -0.096260   \n",
       "Immigrant               0.089722           -0.039395 -0.041491 -0.138667   \n",
       "Agriculteurs           -0.214766           -0.253386 -0.236801 -0.124787   \n",
       "Artisans                0.000616           -0.048977 -0.077558 -0.179128   \n",
       "Cadres                  1.000000            0.296828 -0.040468 -0.279837   \n",
       "Prof_Intermediaire      0.296828            1.000000  0.047158 -0.160503   \n",
       "Employes               -0.040468            0.047158  1.000000  0.079256   \n",
       "Ouvrier                -0.279837           -0.160503  0.079256  1.000000   \n",
       "Retraite               -0.309190           -0.462900 -0.416541 -0.327623   \n",
       "Autre                   0.010724           -0.076584 -0.095405 -0.099459   \n",
       "Sans diplome           -0.322794           -0.306937 -0.026785  0.242023   \n",
       "CEP                    -0.368866           -0.377069 -0.202684  0.002248   \n",
       "BEPC                   -0.095046           -0.122645 -0.032617 -0.090818   \n",
       "CAP-BEP                -0.223473           -0.001449  0.183478  0.342721   \n",
       "BAC                     0.132944            0.185486  0.064501 -0.140639   \n",
       "Enseignement_sup_court  0.414183            0.461105  0.085746 -0.200672   \n",
       "Enseignement_sup_long   0.629565            0.312977 -0.063533 -0.363861   \n",
       "Proprietaire            0.022104            0.096624 -0.079396  0.005607   \n",
       "\n",
       "                        Retraite     Autre  Sans diplome       CEP      BEPC  \\\n",
       "regionale2015 vote      0.149151  0.045373     -0.087694 -0.061085  0.133771   \n",
       "regionale2004 vote      0.027075  0.085147      0.091698 -0.075564  0.110934   \n",
       "regionale2010 vote      0.155424  0.060979      0.059965  0.040639  0.160756   \n",
       "Immigrant               0.014648  0.169722      0.129523 -0.161216  0.025217   \n",
       "Agriculteurs            0.071878 -0.166995     -0.000230  0.272759  0.011844   \n",
       "Artisans               -0.068278 -0.076702     -0.105652 -0.051413  0.043119   \n",
       "Cadres                 -0.309190  0.010724     -0.322794 -0.368866 -0.095046   \n",
       "Prof_Intermediaire     -0.462900 -0.076584     -0.306937 -0.377069 -0.122645   \n",
       "Employes               -0.416541 -0.095405     -0.026785 -0.202684 -0.032617   \n",
       "Ouvrier                -0.327623 -0.099459      0.242023  0.002248 -0.090818   \n",
       "Retraite                1.000000 -0.274522      0.107653  0.461865  0.159807   \n",
       "Autre                  -0.274522  1.000000      0.191851 -0.148724  0.030270   \n",
       "Sans diplome            0.107653  0.191851      1.000000  0.041835 -0.049446   \n",
       "CEP                     0.461865 -0.148724      0.041835  1.000000  0.032073   \n",
       "BEPC                    0.159807  0.030270     -0.049446  0.032073  1.000000   \n",
       "CAP-BEP                -0.142942 -0.083739     -0.109278 -0.048571 -0.204429   \n",
       "BAC                    -0.136107 -0.051003     -0.416776 -0.287067 -0.039715   \n",
       "Enseignement_sup_court -0.303055 -0.041263     -0.526705 -0.439899 -0.155046   \n",
       "Enseignement_sup_long  -0.169765  0.052375     -0.431419 -0.429661 -0.070866   \n",
       "Proprietaire            0.014327 -0.210724     -0.251773  0.099332 -0.099824   \n",
       "\n",
       "                         CAP-BEP       BAC  Enseignement_sup_court  \\\n",
       "regionale2015 vote     -0.218138  0.112982                0.083933   \n",
       "regionale2004 vote     -0.091281  0.046258               -0.039870   \n",
       "regionale2010 vote     -0.082877  0.013236               -0.083884   \n",
       "Immigrant              -0.262355  0.065528               -0.009803   \n",
       "Agriculteurs           -0.059552  0.047993               -0.116140   \n",
       "Artisans               -0.045079  0.098651                0.043761   \n",
       "Cadres                 -0.223473  0.132944                0.414183   \n",
       "Prof_Intermediaire     -0.001449  0.185486                0.461105   \n",
       "Employes                0.183478  0.064501                0.085746   \n",
       "Ouvrier                 0.342721 -0.140639               -0.200672   \n",
       "Retraite               -0.142942 -0.136107               -0.303055   \n",
       "Autre                  -0.083739 -0.051003               -0.041263   \n",
       "Sans diplome           -0.109278 -0.416776               -0.526705   \n",
       "CEP                    -0.048571 -0.287067               -0.439899   \n",
       "BEPC                   -0.204429 -0.039715               -0.155046   \n",
       "CAP-BEP                 1.000000 -0.230263               -0.203797   \n",
       "BAC                    -0.230263  1.000000                0.198861   \n",
       "Enseignement_sup_court -0.203797  0.198861                1.000000   \n",
       "Enseignement_sup_long  -0.439062  0.165485                0.445009   \n",
       "Proprietaire            0.169995  0.052126                0.129233   \n",
       "\n",
       "                        Enseignement_sup_long  Proprietaire  \n",
       "regionale2015 vote                   0.189477     -0.141840  \n",
       "regionale2004 vote                   0.002552     -0.040704  \n",
       "regionale2010 vote                  -0.047413     -0.115423  \n",
       "Immigrant                            0.223038     -0.294498  \n",
       "Agriculteurs                        -0.155271      0.139055  \n",
       "Artisans                             0.103726      0.009177  \n",
       "Cadres                               0.629565      0.022104  \n",
       "Prof_Intermediaire                   0.312977      0.096624  \n",
       "Employes                            -0.063533     -0.079396  \n",
       "Ouvrier                             -0.363861      0.005607  \n",
       "Retraite                            -0.169765      0.014327  \n",
       "Autre                                0.052375     -0.210724  \n",
       "Sans diplome                        -0.431419     -0.251773  \n",
       "CEP                                 -0.429661      0.099332  \n",
       "BEPC                                -0.070866     -0.099824  \n",
       "CAP-BEP                             -0.439062      0.169995  \n",
       "BAC                                  0.165485      0.052126  \n",
       "Enseignement_sup_court               0.445009      0.129233  \n",
       "Enseignement_sup_long                1.000000     -0.056242  \n",
       "Proprietaire                        -0.056242      1.000000  "
      ]
     },
     "execution_count": 83,
     "metadata": {},
     "output_type": "execute_result"
    }
   ],
   "source": [
    "correlation_matrix"
   ]
  },
  {
   "cell_type": "code",
   "execution_count": 84,
   "metadata": {
    "collapsed": false
   },
   "outputs": [
    {
     "data": {
      "text/plain": [
       "<matplotlib.axes._subplots.AxesSubplot at 0x1172360d0>"
      ]
     },
     "execution_count": 84,
     "metadata": {},
     "output_type": "execute_result"
    },
    {
     "data": {
      "image/png": "[encoded data removed]",
      "text/plain": [
       "<matplotlib.figure.Figure at 0x11728f390>"
      ]
     },
     "metadata": {},
     "output_type": "display_data"
    }
   ],
   "source": [
    "# Generate a mask for the upper triangle\n",
    "mask = np.zeros_like(correlation_matrix, dtype=np.bool)\n",
    "mask[np.triu_indices_from(mask)] = True\n",
    "\n",
    "# Set up the matplotlib figure\n",
    "f, ax = plt.subplots(figsize=(11, 9))\n",
    "\n",
    "# Generate a custom diverging colormap\n",
    "cmap = sns.diverging_palette(220, 10, as_cmap=True)\n",
    "\n",
    "# Draw the heatmap with the mask and correct aspect ratio\n",
    "sns.heatmap(correlation_matrix, mask=mask, cmap=cmap)\n",
    "            #, vmax=.3,\n",
    "            #square=True, xticklabels=5, yticklabels=5,\n",
    "            #linewidths=.5, cbar_kws={\"shrink\": .5}, ax=ax)"
   ]
  },
  {
   "cell_type": "code",
   "execution_count": 85,
   "metadata": {
    "collapsed": false
   },
   "outputs": [],
   "source": [
    "#sns.pairplot(right[right.columns[2:]])"
   ]
  },
  {
   "cell_type": "code",
   "execution_count": 86,
   "metadata": {
    "collapsed": false
   },
   "outputs": [],
   "source": [
    "from sklearn import linear_model"
   ]
  },
  {
   "cell_type": "code",
   "execution_count": 87,
   "metadata": {
    "collapsed": true
   },
   "outputs": [],
   "source": [
    "lm = linear_model.LinearRegression()"
   ]
  },
  {
   "cell_type": "code",
   "execution_count": 88,
   "metadata": {
    "collapsed": false
   },
   "outputs": [],
   "source": [
    "#right_drop_na[right_drop_na.columns[3:]].values"
   ]
  },
  {
   "cell_type": "code",
   "execution_count": 89,
   "metadata": {
    "collapsed": false
   },
   "outputs": [],
   "source": [
    "#lm.fit(right_drop_na[right_drop_na.columns[3:]].values,right_drop_na['% Voix/Exp'].values)"
   ]
  },
  {
   "cell_type": "code",
   "execution_count": 90,
   "metadata": {
    "collapsed": false
   },
   "outputs": [],
   "source": [
    "#lm.predict(right_drop_na[right_drop_na.columns[3:]].values)"
   ]
  },
  {
   "cell_type": "code",
   "execution_count": 91,
   "metadata": {
    "collapsed": false
   },
   "outputs": [],
   "source": [
    "#np.mean((lm.predict(right_drop_na[right_drop_na.columns[3:]].values) - right_drop_na['% Voix/Exp'].values) ** 2)"
   ]
  },
  {
   "cell_type": "code",
   "execution_count": 92,
   "metadata": {
    "collapsed": false
   },
   "outputs": [],
   "source": [
    "#lm.score(right_drop_na[right_drop_na.columns[3:]].values,right_drop_na['% Voix/Exp'].values)"
   ]
  },
  {
   "cell_type": "code",
   "execution_count": null,
   "metadata": {
    "collapsed": true
   },
   "outputs": [],
   "source": []
  },
  {
   "cell_type": "code",
   "execution_count": null,
   "metadata": {
    "collapsed": true
   },
   "outputs": [],
   "source": []
  },
  {
   "cell_type": "code",
   "execution_count": 93,
   "metadata": {
    "collapsed": false
   },
   "outputs": [
    {
     "data": {
      "text/html": [
       "<table class=\"simpletable\">\n",
       "<caption>OLS Regression Results</caption>\n",
       "<tr>\n",
       "  <th>Dep. Variable:</th>            <td>y</td>        <th>  R-squared:         </th> <td>   0.361</td>\n",
       "</tr>\n",
       "<tr>\n",
       "  <th>Model:</th>                   <td>OLS</td>       <th>  Adj. R-squared:    </th> <td>   0.348</td>\n",
       "</tr>\n",
       "<tr>\n",
       "  <th>Method:</th>             <td>Least Squares</td>  <th>  F-statistic:       </th> <td>   27.44</td>\n",
       "</tr>\n",
       "<tr>\n",
       "  <th>Date:</th>             <td>Thu, 25 Feb 2016</td> <th>  Prob (F-statistic):</th> <td>3.58e-10</td>\n",
       "</tr>\n",
       "<tr>\n",
       "  <th>Time:</th>                 <td>17:28:21</td>     <th>  Log-Likelihood:    </th> <td> -18.970</td>\n",
       "</tr>\n",
       "<tr>\n",
       "  <th>No. Observations:</th>      <td>   100</td>      <th>  AIC:               </th> <td>   43.94</td>\n",
       "</tr>\n",
       "<tr>\n",
       "  <th>Df Residuals:</th>          <td>    97</td>      <th>  BIC:               </th> <td>   51.75</td>\n",
       "</tr>\n",
       "<tr>\n",
       "  <th>Df Model:</th>              <td>     2</td>      <th>                     </th>     <td> </td>   \n",
       "</tr>\n",
       "<tr>\n",
       "  <th>Covariance Type:</th>      <td>nonrobust</td>    <th>                     </th>     <td> </td>   \n",
       "</tr>\n",
       "</table>\n",
       "<table class=\"simpletable\">\n",
       "<tr>\n",
       "    <td></td>       <th>coef</th>     <th>std err</th>      <th>t</th>      <th>P>|t|</th> <th>[95.0% Conf. Int.]</th> \n",
       "</tr>\n",
       "<tr>\n",
       "  <th>const</th> <td>    1.3607</td> <td>    0.074</td> <td>   18.430</td> <td> 0.000</td> <td>    1.214     1.507</td>\n",
       "</tr>\n",
       "<tr>\n",
       "  <th>x1</th>    <td>    0.1379</td> <td>    0.097</td> <td>    1.418</td> <td> 0.159</td> <td>   -0.055     0.331</td>\n",
       "</tr>\n",
       "<tr>\n",
       "  <th>x2</th>    <td>    0.6798</td> <td>    0.095</td> <td>    7.149</td> <td> 0.000</td> <td>    0.491     0.869</td>\n",
       "</tr>\n",
       "</table>\n",
       "<table class=\"simpletable\">\n",
       "<tr>\n",
       "  <th>Omnibus:</th>       <td>22.939</td> <th>  Durbin-Watson:     </th> <td>   2.016</td>\n",
       "</tr>\n",
       "<tr>\n",
       "  <th>Prob(Omnibus):</th> <td> 0.000</td> <th>  Jarque-Bera (JB):  </th> <td>   5.634</td>\n",
       "</tr>\n",
       "<tr>\n",
       "  <th>Skew:</th>          <td> 0.174</td> <th>  Prob(JB):          </th> <td>  0.0598</td>\n",
       "</tr>\n",
       "<tr>\n",
       "  <th>Kurtosis:</th>      <td> 1.890</td> <th>  Cond. No.          </th> <td>    4.90</td>\n",
       "</tr>\n",
       "</table>"
      ],
      "text/plain": [
       "<class 'statsmodels.iolib.summary.Summary'>\n",
       "\"\"\"\n",
       "                            OLS Regression Results                            \n",
       "==============================================================================\n",
       "Dep. Variable:                      y   R-squared:                       0.361\n",
       "Model:                            OLS   Adj. R-squared:                  0.348\n",
       "Method:                 Least Squares   F-statistic:                     27.44\n",
       "Date:                Thu, 25 Feb 2016   Prob (F-statistic):           3.58e-10\n",
       "Time:                        17:28:21   Log-Likelihood:                -18.970\n",
       "No. Observations:                 100   AIC:                             43.94\n",
       "Df Residuals:                      97   BIC:                             51.75\n",
       "Df Model:                           2                                         \n",
       "Covariance Type:            nonrobust                                         \n",
       "==============================================================================\n",
       "                 coef    std err          t      P>|t|      [95.0% Conf. Int.]\n",
       "------------------------------------------------------------------------------\n",
       "const          1.3607      0.074     18.430      0.000         1.214     1.507\n",
       "x1             0.1379      0.097      1.418      0.159        -0.055     0.331\n",
       "x2             0.6798      0.095      7.149      0.000         0.491     0.869\n",
       "==============================================================================\n",
       "Omnibus:                       22.939   Durbin-Watson:                   2.016\n",
       "Prob(Omnibus):                  0.000   Jarque-Bera (JB):                5.634\n",
       "Skew:                           0.174   Prob(JB):                       0.0598\n",
       "Kurtosis:                       1.890   Cond. No.                         4.90\n",
       "==============================================================================\n",
       "\n",
       "Warnings:\n",
       "[1] Standard Errors assume that the covariance matrix of the errors is correctly specified.\n",
       "\"\"\""
      ]
     },
     "execution_count": 93,
     "metadata": {},
     "output_type": "execute_result"
    }
   ],
   "source": [
    "# Generate artificial data (2 regressors + constant)\n",
    "nobs = 100\n",
    "X = np.random.random((nobs, 2))\n",
    "X = sm.add_constant(X)\n",
    "beta = [1, .1, .5]\n",
    "e = np.random.random(nobs)\n",
    "y = np.dot(X, beta) + e\n",
    "\n",
    "# Fit regression model\n",
    "results = sm.OLS(y, X).fit()\n",
    "\n",
    "# Inspect the results\n",
    "results.summary()"
   ]
  },
  {
   "cell_type": "code",
   "execution_count": 94,
   "metadata": {
    "collapsed": false
   },
   "outputs": [
    {
     "data": {
      "text/plain": [
       "numpy.ndarray"
      ]
     },
     "execution_count": 94,
     "metadata": {},
     "output_type": "execute_result"
    }
   ],
   "source": [
    "type(right[right.columns[1]].values)"
   ]
  },
  {
   "cell_type": "code",
   "execution_count": 95,
   "metadata": {
    "collapsed": false
   },
   "outputs": [
    {
     "data": {
      "text/html": [
       "<table class=\"simpletable\">\n",
       "<caption>OLS Regression Results</caption>\n",
       "<tr>\n",
       "  <th>Dep. Variable:</th>            <td>y</td>        <th>  R-squared:         </th>  <td>   0.937</td>  \n",
       "</tr>\n",
       "<tr>\n",
       "  <th>Model:</th>                   <td>OLS</td>       <th>  Adj. R-squared:    </th>  <td>   0.937</td>  \n",
       "</tr>\n",
       "<tr>\n",
       "  <th>Method:</th>             <td>Least Squares</td>  <th>  F-statistic:       </th>  <td>2.895e+04</td> \n",
       "</tr>\n",
       "<tr>\n",
       "  <th>Date:</th>             <td>Thu, 25 Feb 2016</td> <th>  Prob (F-statistic):</th>   <td>  0.00</td>   \n",
       "</tr>\n",
       "<tr>\n",
       "  <th>Time:</th>                 <td>17:28:21</td>     <th>  Log-Likelihood:    </th> <td>-1.3112e+05</td>\n",
       "</tr>\n",
       "<tr>\n",
       "  <th>No. Observations:</th>      <td> 36761</td>      <th>  AIC:               </th>  <td>2.623e+05</td> \n",
       "</tr>\n",
       "<tr>\n",
       "  <th>Df Residuals:</th>          <td> 36742</td>      <th>  BIC:               </th>  <td>2.624e+05</td> \n",
       "</tr>\n",
       "<tr>\n",
       "  <th>Df Model:</th>              <td>    19</td>      <th>                     </th>      <td> </td>     \n",
       "</tr>\n",
       "<tr>\n",
       "  <th>Covariance Type:</th>      <td>nonrobust</td>    <th>                     </th>      <td> </td>     \n",
       "</tr>\n",
       "</table>\n",
       "<table class=\"simpletable\">\n",
       "<tr>\n",
       "             <td></td>               <th>coef</th>     <th>std err</th>      <th>t</th>      <th>P>|t|</th> <th>[95.0% Conf. Int.]</th> \n",
       "</tr>\n",
       "<tr>\n",
       "  <th>regionale2004 vote</th>     <td>    0.2920</td> <td>    0.009</td> <td>   34.133</td> <td> 0.000</td> <td>    0.275     0.309</td>\n",
       "</tr>\n",
       "<tr>\n",
       "  <th>regionale2010 vote</th>     <td>    0.6747</td> <td>    0.004</td> <td>  185.938</td> <td> 0.000</td> <td>    0.668     0.682</td>\n",
       "</tr>\n",
       "<tr>\n",
       "  <th>Immigrant</th>              <td>    0.2320</td> <td>    0.010</td> <td>   22.180</td> <td> 0.000</td> <td>    0.211     0.252</td>\n",
       "</tr>\n",
       "<tr>\n",
       "  <th>Agriculteurs</th>           <td>    0.0453</td> <td>    0.054</td> <td>    0.832</td> <td> 0.405</td> <td>   -0.061     0.152</td>\n",
       "</tr>\n",
       "<tr>\n",
       "  <th>Artisans</th>               <td>    0.1067</td> <td>    0.055</td> <td>    1.931</td> <td> 0.053</td> <td>   -0.002     0.215</td>\n",
       "</tr>\n",
       "<tr>\n",
       "  <th>Cadres</th>                 <td>   -0.1767</td> <td>    0.055</td> <td>   -3.193</td> <td> 0.001</td> <td>   -0.285    -0.068</td>\n",
       "</tr>\n",
       "<tr>\n",
       "  <th>Prof_Intermediaire</th>     <td>   -0.0969</td> <td>    0.054</td> <td>   -1.780</td> <td> 0.075</td> <td>   -0.204     0.010</td>\n",
       "</tr>\n",
       "<tr>\n",
       "  <th>Employes</th>               <td>   -0.1140</td> <td>    0.054</td> <td>   -2.099</td> <td> 0.036</td> <td>   -0.220    -0.008</td>\n",
       "</tr>\n",
       "<tr>\n",
       "  <th>Ouvrier</th>                <td>   -0.1459</td> <td>    0.054</td> <td>   -2.688</td> <td> 0.007</td> <td>   -0.252    -0.040</td>\n",
       "</tr>\n",
       "<tr>\n",
       "  <th>Retraite</th>               <td>    0.0160</td> <td>    0.054</td> <td>    0.296</td> <td> 0.767</td> <td>   -0.090     0.122</td>\n",
       "</tr>\n",
       "<tr>\n",
       "  <th>Autre</th>                  <td>   -0.0804</td> <td>    0.054</td> <td>   -1.476</td> <td> 0.140</td> <td>   -0.187     0.026</td>\n",
       "</tr>\n",
       "<tr>\n",
       "  <th>Sans diplome</th>           <td>   -0.0300</td> <td>    0.054</td> <td>   -0.553</td> <td> 0.580</td> <td>   -0.137     0.077</td>\n",
       "</tr>\n",
       "<tr>\n",
       "  <th>CEP</th>                    <td>    0.0425</td> <td>    0.055</td> <td>    0.780</td> <td> 0.435</td> <td>   -0.064     0.149</td>\n",
       "</tr>\n",
       "<tr>\n",
       "  <th>BEPC</th>                   <td>    0.0959</td> <td>    0.057</td> <td>    1.687</td> <td> 0.092</td> <td>   -0.016     0.207</td>\n",
       "</tr>\n",
       "<tr>\n",
       "  <th>CAP-BEP</th>                <td>    0.0399</td> <td>    0.054</td> <td>    0.733</td> <td> 0.463</td> <td>   -0.067     0.146</td>\n",
       "</tr>\n",
       "<tr>\n",
       "  <th>BAC</th>                    <td>    0.1894</td> <td>    0.055</td> <td>    3.454</td> <td> 0.001</td> <td>    0.082     0.297</td>\n",
       "</tr>\n",
       "<tr>\n",
       "  <th>Enseignement_sup_court</th> <td>    0.3480</td> <td>    0.055</td> <td>    6.283</td> <td> 0.000</td> <td>    0.239     0.457</td>\n",
       "</tr>\n",
       "<tr>\n",
       "  <th>Enseignement_sup_long</th>  <td>    0.4742</td> <td>    0.055</td> <td>    8.592</td> <td> 0.000</td> <td>    0.366     0.582</td>\n",
       "</tr>\n",
       "<tr>\n",
       "  <th>Proprietaire</th>           <td>   -0.0730</td> <td>    0.005</td> <td>  -15.714</td> <td> 0.000</td> <td>   -0.082    -0.064</td>\n",
       "</tr>\n",
       "</table>\n",
       "<table class=\"simpletable\">\n",
       "<tr>\n",
       "  <th>Omnibus:</th>       <td>6028.484</td> <th>  Durbin-Watson:     </th> <td>   1.298</td> \n",
       "</tr>\n",
       "<tr>\n",
       "  <th>Prob(Omnibus):</th>  <td> 0.000</td>  <th>  Jarque-Bera (JB):  </th> <td>31001.557</td>\n",
       "</tr>\n",
       "<tr>\n",
       "  <th>Skew:</th>           <td> 0.701</td>  <th>  Prob(JB):          </th> <td>    0.00</td> \n",
       "</tr>\n",
       "<tr>\n",
       "  <th>Kurtosis:</th>       <td> 7.275</td>  <th>  Cond. No.          </th> <td>    502.</td> \n",
       "</tr>\n",
       "</table>"
      ],
      "text/plain": [
       "<class 'statsmodels.iolib.summary.Summary'>\n",
       "\"\"\"\n",
       "                            OLS Regression Results                            \n",
       "==============================================================================\n",
       "Dep. Variable:                      y   R-squared:                       0.937\n",
       "Model:                            OLS   Adj. R-squared:                  0.937\n",
       "Method:                 Least Squares   F-statistic:                 2.895e+04\n",
       "Date:                Thu, 25 Feb 2016   Prob (F-statistic):               0.00\n",
       "Time:                        17:28:21   Log-Likelihood:            -1.3112e+05\n",
       "No. Observations:               36761   AIC:                         2.623e+05\n",
       "Df Residuals:                   36742   BIC:                         2.624e+05\n",
       "Df Model:                          19                                         \n",
       "Covariance Type:            nonrobust                                         \n",
       "==========================================================================================\n",
       "                             coef    std err          t      P>|t|      [95.0% Conf. Int.]\n",
       "------------------------------------------------------------------------------------------\n",
       "regionale2004 vote         0.2920      0.009     34.133      0.000         0.275     0.309\n",
       "regionale2010 vote         0.6747      0.004    185.938      0.000         0.668     0.682\n",
       "Immigrant                  0.2320      0.010     22.180      0.000         0.211     0.252\n",
       "Agriculteurs               0.0453      0.054      0.832      0.405        -0.061     0.152\n",
       "Artisans                   0.1067      0.055      1.931      0.053        -0.002     0.215\n",
       "Cadres                    -0.1767      0.055     -3.193      0.001        -0.285    -0.068\n",
       "Prof_Intermediaire        -0.0969      0.054     -1.780      0.075        -0.204     0.010\n",
       "Employes                  -0.1140      0.054     -2.099      0.036        -0.220    -0.008\n",
       "Ouvrier                   -0.1459      0.054     -2.688      0.007        -0.252    -0.040\n",
       "Retraite                   0.0160      0.054      0.296      0.767        -0.090     0.122\n",
       "Autre                     -0.0804      0.054     -1.476      0.140        -0.187     0.026\n",
       "Sans diplome              -0.0300      0.054     -0.553      0.580        -0.137     0.077\n",
       "CEP                        0.0425      0.055      0.780      0.435        -0.064     0.149\n",
       "BEPC                       0.0959      0.057      1.687      0.092        -0.016     0.207\n",
       "CAP-BEP                    0.0399      0.054      0.733      0.463        -0.067     0.146\n",
       "BAC                        0.1894      0.055      3.454      0.001         0.082     0.297\n",
       "Enseignement_sup_court     0.3480      0.055      6.283      0.000         0.239     0.457\n",
       "Enseignement_sup_long      0.4742      0.055      8.592      0.000         0.366     0.582\n",
       "Proprietaire              -0.0730      0.005    -15.714      0.000        -0.082    -0.064\n",
       "==============================================================================\n",
       "Omnibus:                     6028.484   Durbin-Watson:                   1.298\n",
       "Prob(Omnibus):                  0.000   Jarque-Bera (JB):            31001.557\n",
       "Skew:                           0.701   Prob(JB):                         0.00\n",
       "Kurtosis:                       7.275   Cond. No.                         502.\n",
       "==============================================================================\n",
       "\n",
       "Warnings:\n",
       "[1] Standard Errors assume that the covariance matrix of the errors is correctly specified.\n",
       "\"\"\""
      ]
     },
     "execution_count": 95,
     "metadata": {},
     "output_type": "execute_result"
    }
   ],
   "source": [
    "lm_right = sm.OLS(right[right.columns[1]].values, right[right.columns[2:].values]) \n",
    "lm_right = lm_right.fit()\n",
    "lm_right.summary()"
   ]
  },
  {
   "cell_type": "code",
   "execution_count": 96,
   "metadata": {
    "collapsed": false
   },
   "outputs": [
    {
     "data": {
      "text/html": [
       "<table class=\"simpletable\">\n",
       "<caption>OLS Regression Results</caption>\n",
       "<tr>\n",
       "  <th>Dep. Variable:</th>    <td>regionale2015 vote</td> <th>  R-squared:         </th>  <td>   0.939</td>  \n",
       "</tr>\n",
       "<tr>\n",
       "  <th>Model:</th>                    <td>OLS</td>        <th>  Adj. R-squared:    </th>  <td>   0.939</td>  \n",
       "</tr>\n",
       "<tr>\n",
       "  <th>Method:</th>              <td>Least Squares</td>   <th>  F-statistic:       </th>  <td>2.971e+04</td> \n",
       "</tr>\n",
       "<tr>\n",
       "  <th>Date:</th>              <td>Thu, 25 Feb 2016</td>  <th>  Prob (F-statistic):</th>   <td>  0.00</td>   \n",
       "</tr>\n",
       "<tr>\n",
       "  <th>Time:</th>                  <td>17:28:21</td>      <th>  Log-Likelihood:    </th> <td>-1.2955e+05</td>\n",
       "</tr>\n",
       "<tr>\n",
       "  <th>No. Observations:</th>       <td> 36761</td>       <th>  AIC:               </th>  <td>2.591e+05</td> \n",
       "</tr>\n",
       "<tr>\n",
       "  <th>Df Residuals:</th>           <td> 36742</td>       <th>  BIC:               </th>  <td>2.593e+05</td> \n",
       "</tr>\n",
       "<tr>\n",
       "  <th>Df Model:</th>               <td>    19</td>       <th>                     </th>      <td> </td>     \n",
       "</tr>\n",
       "<tr>\n",
       "  <th>Covariance Type:</th>       <td>nonrobust</td>     <th>                     </th>      <td> </td>     \n",
       "</tr>\n",
       "</table>\n",
       "<table class=\"simpletable\">\n",
       "<tr>\n",
       "             <td></td>               <th>coef</th>     <th>std err</th>      <th>t</th>      <th>P>|t|</th> <th>[95.0% Conf. Int.]</th> \n",
       "</tr>\n",
       "<tr>\n",
       "  <th>regionale2004 vote</th>     <td>    0.5626</td> <td>    0.004</td> <td>  152.029</td> <td> 0.000</td> <td>    0.555     0.570</td>\n",
       "</tr>\n",
       "<tr>\n",
       "  <th>regionale2010 vote</th>     <td>   -0.1724</td> <td>    0.015</td> <td>  -11.825</td> <td> 0.000</td> <td>   -0.201    -0.144</td>\n",
       "</tr>\n",
       "<tr>\n",
       "  <th>Immigrant</th>              <td>   -0.0875</td> <td>    0.010</td> <td>   -8.659</td> <td> 0.000</td> <td>   -0.107    -0.068</td>\n",
       "</tr>\n",
       "<tr>\n",
       "  <th>Agriculteurs</th>           <td>    0.2007</td> <td>    0.052</td> <td>    3.839</td> <td> 0.000</td> <td>    0.098     0.303</td>\n",
       "</tr>\n",
       "<tr>\n",
       "  <th>Artisans</th>               <td>    0.1728</td> <td>    0.053</td> <td>    3.264</td> <td> 0.001</td> <td>    0.069     0.277</td>\n",
       "</tr>\n",
       "<tr>\n",
       "  <th>Cadres</th>                 <td>    0.2838</td> <td>    0.053</td> <td>    5.350</td> <td> 0.000</td> <td>    0.180     0.388</td>\n",
       "</tr>\n",
       "<tr>\n",
       "  <th>Prof_Intermediaire</th>     <td>    0.1666</td> <td>    0.052</td> <td>    3.194</td> <td> 0.001</td> <td>    0.064     0.269</td>\n",
       "</tr>\n",
       "<tr>\n",
       "  <th>Employes</th>               <td>    0.1113</td> <td>    0.052</td> <td>    2.139</td> <td> 0.032</td> <td>    0.009     0.213</td>\n",
       "</tr>\n",
       "<tr>\n",
       "  <th>Ouvrier</th>                <td>    0.1577</td> <td>    0.052</td> <td>    3.030</td> <td> 0.002</td> <td>    0.056     0.260</td>\n",
       "</tr>\n",
       "<tr>\n",
       "  <th>Retraite</th>               <td>    0.1514</td> <td>    0.052</td> <td>    2.928</td> <td> 0.003</td> <td>    0.050     0.253</td>\n",
       "</tr>\n",
       "<tr>\n",
       "  <th>Autre</th>                  <td>    0.0790</td> <td>    0.052</td> <td>    1.515</td> <td> 0.130</td> <td>   -0.023     0.181</td>\n",
       "</tr>\n",
       "<tr>\n",
       "  <th>Sans diplome</th>           <td>   -0.0046</td> <td>    0.052</td> <td>   -0.088</td> <td> 0.930</td> <td>   -0.107     0.097</td>\n",
       "</tr>\n",
       "<tr>\n",
       "  <th>CEP</th>                    <td>    0.0685</td> <td>    0.052</td> <td>    1.311</td> <td> 0.190</td> <td>   -0.034     0.171</td>\n",
       "</tr>\n",
       "<tr>\n",
       "  <th>BEPC</th>                   <td>   -0.0464</td> <td>    0.054</td> <td>   -0.853</td> <td> 0.393</td> <td>   -0.153     0.060</td>\n",
       "</tr>\n",
       "<tr>\n",
       "  <th>CAP-BEP</th>                <td>   -0.0446</td> <td>    0.052</td> <td>   -0.856</td> <td> 0.392</td> <td>   -0.147     0.058</td>\n",
       "</tr>\n",
       "<tr>\n",
       "  <th>BAC</th>                    <td>   -0.0518</td> <td>    0.053</td> <td>   -0.987</td> <td> 0.324</td> <td>   -0.155     0.051</td>\n",
       "</tr>\n",
       "<tr>\n",
       "  <th>Enseignement_sup_court</th> <td>   -0.0233</td> <td>    0.053</td> <td>   -0.438</td> <td> 0.661</td> <td>   -0.127     0.081</td>\n",
       "</tr>\n",
       "<tr>\n",
       "  <th>Enseignement_sup_long</th>  <td>    0.1215</td> <td>    0.053</td> <td>    2.299</td> <td> 0.022</td> <td>    0.018     0.225</td>\n",
       "</tr>\n",
       "<tr>\n",
       "  <th>Proprietaire</th>           <td>   -0.0274</td> <td>    0.004</td> <td>   -6.152</td> <td> 0.000</td> <td>   -0.036    -0.019</td>\n",
       "</tr>\n",
       "</table>\n",
       "<table class=\"simpletable\">\n",
       "<tr>\n",
       "  <th>Omnibus:</th>       <td>2259.295</td> <th>  Durbin-Watson:     </th> <td>   1.370</td>\n",
       "</tr>\n",
       "<tr>\n",
       "  <th>Prob(Omnibus):</th>  <td> 0.000</td>  <th>  Jarque-Bera (JB):  </th> <td>7939.156</td>\n",
       "</tr>\n",
       "<tr>\n",
       "  <th>Skew:</th>           <td> 0.241</td>  <th>  Prob(JB):          </th> <td>    0.00</td>\n",
       "</tr>\n",
       "<tr>\n",
       "  <th>Kurtosis:</th>       <td> 5.225</td>  <th>  Cond. No.          </th> <td>    495.</td>\n",
       "</tr>\n",
       "</table>"
      ],
      "text/plain": [
       "<class 'statsmodels.iolib.summary.Summary'>\n",
       "\"\"\"\n",
       "                            OLS Regression Results                            \n",
       "==============================================================================\n",
       "Dep. Variable:     regionale2015 vote   R-squared:                       0.939\n",
       "Model:                            OLS   Adj. R-squared:                  0.939\n",
       "Method:                 Least Squares   F-statistic:                 2.971e+04\n",
       "Date:                Thu, 25 Feb 2016   Prob (F-statistic):               0.00\n",
       "Time:                        17:28:21   Log-Likelihood:            -1.2955e+05\n",
       "No. Observations:               36761   AIC:                         2.591e+05\n",
       "Df Residuals:                   36742   BIC:                         2.593e+05\n",
       "Df Model:                          19                                         \n",
       "Covariance Type:            nonrobust                                         \n",
       "==========================================================================================\n",
       "                             coef    std err          t      P>|t|      [95.0% Conf. Int.]\n",
       "------------------------------------------------------------------------------------------\n",
       "regionale2004 vote         0.5626      0.004    152.029      0.000         0.555     0.570\n",
       "regionale2010 vote        -0.1724      0.015    -11.825      0.000        -0.201    -0.144\n",
       "Immigrant                 -0.0875      0.010     -8.659      0.000        -0.107    -0.068\n",
       "Agriculteurs               0.2007      0.052      3.839      0.000         0.098     0.303\n",
       "Artisans                   0.1728      0.053      3.264      0.001         0.069     0.277\n",
       "Cadres                     0.2838      0.053      5.350      0.000         0.180     0.388\n",
       "Prof_Intermediaire         0.1666      0.052      3.194      0.001         0.064     0.269\n",
       "Employes                   0.1113      0.052      2.139      0.032         0.009     0.213\n",
       "Ouvrier                    0.1577      0.052      3.030      0.002         0.056     0.260\n",
       "Retraite                   0.1514      0.052      2.928      0.003         0.050     0.253\n",
       "Autre                      0.0790      0.052      1.515      0.130        -0.023     0.181\n",
       "Sans diplome              -0.0046      0.052     -0.088      0.930        -0.107     0.097\n",
       "CEP                        0.0685      0.052      1.311      0.190        -0.034     0.171\n",
       "BEPC                      -0.0464      0.054     -0.853      0.393        -0.153     0.060\n",
       "CAP-BEP                   -0.0446      0.052     -0.856      0.392        -0.147     0.058\n",
       "BAC                       -0.0518      0.053     -0.987      0.324        -0.155     0.051\n",
       "Enseignement_sup_court    -0.0233      0.053     -0.438      0.661        -0.127     0.081\n",
       "Enseignement_sup_long      0.1215      0.053      2.299      0.022         0.018     0.225\n",
       "Proprietaire              -0.0274      0.004     -6.152      0.000        -0.036    -0.019\n",
       "==============================================================================\n",
       "Omnibus:                     2259.295   Durbin-Watson:                   1.370\n",
       "Prob(Omnibus):                  0.000   Jarque-Bera (JB):             7939.156\n",
       "Skew:                           0.241   Prob(JB):                         0.00\n",
       "Kurtosis:                       5.225   Cond. No.                         495.\n",
       "==============================================================================\n",
       "\n",
       "Warnings:\n",
       "[1] Standard Errors assume that the covariance matrix of the errors is correctly specified.\n",
       "\"\"\""
      ]
     },
     "execution_count": 96,
     "metadata": {},
     "output_type": "execute_result"
    }
   ],
   "source": [
    "lm_left = sm.OLS(left[left.columns[1]],left[left.columns[2:]]).fit()\n",
    "lm_left.summary()"
   ]
  },
  {
   "cell_type": "markdown",
   "metadata": {},
   "source": [
    "### We compute the Variance Inflation Factor of every independent variable to detect multicolinearity"
   ]
  },
  {
   "cell_type": "code",
   "execution_count": 97,
   "metadata": {
    "collapsed": false
   },
   "outputs": [],
   "source": [
    "from statsmodels.stats import outliers_influence"
   ]
  },
  {
   "cell_type": "code",
   "execution_count": 98,
   "metadata": {
    "collapsed": false
   },
   "outputs": [
    {
     "name": "stdout",
     "output_type": "stream",
     "text": [
      "regionale2004 vote : 11.0405977192\n",
      "regionale2010 vote : 2.58881814332\n",
      "Immigrant : 2.44378230453\n",
      "Agriculteurs : 60.1980219099\n",
      "Artisans : 45.0232031463\n",
      "Cadres : 80.9927769741\n",
      "Prof_Intermediaire : 310.861244485\n",
      "Employes : 404.506870941\n",
      "Ouvrier : 435.795012842\n",
      "Retraite : 1504.19574643\n",
      "Autre : 273.66120692\n",
      "Sans diplome : 445.774459902\n",
      "CEP : 276.04556953\n",
      "BEPC : 67.1944027922\n",
      "CAP-BEP : 1190.46639982\n",
      "BAC : 453.687224933\n",
      "Enseignement_sup_court : 253.19609115\n",
      "Enseignement_sup_long : 150.099941341\n",
      "Proprietaire : 69.1961005269\n"
     ]
    }
   ],
   "source": [
    "index = 2\n",
    "while index < len(left.columns):\n",
    "    print '{0} : {1}'.format(left.columns[index], \n",
    "                             outliers_influence.variance_inflation_factor(left[left.columns[2:]].values,index-2)) \n",
    "    index += 1"
   ]
  },
  {
   "cell_type": "markdown",
   "metadata": {
    "collapsed": true
   },
   "source": [
    "### Linear Regression"
   ]
  },
  {
   "cell_type": "code",
   "execution_count": 99,
   "metadata": {
    "collapsed": true
   },
   "outputs": [],
   "source": [
    "from sklearn import cross_validation, metrics"
   ]
  },
  {
   "cell_type": "code",
   "execution_count": 100,
   "metadata": {
    "collapsed": true
   },
   "outputs": [],
   "source": [
    "def modelfit(alg, dtrain, predictors, target):\n",
    "    alg.fit(dtrain[predictors], dtrain[target])\n",
    "    dtrain_predictions = alg.predict(dtrain[predictors])\n",
    "    \n",
    "    cv_score = cross_validation.cross_val_score(alg, dtrain[predictors], dtrain[target], cv=20, scoring='mean_squared_error') \n",
    "    cv_score = np.sqrt(np.abs(cv_score))\n",
    "    \n",
    "    #Print model report:\n",
    "    print \"\\nModel Report\"\n",
    "    print \"RMSE : %.4g\" % np.sqrt(metrics.mean_squared_error(dtrain[target].values, dtrain_predictions))\n",
    "    print \"CV Score : Mean - %.4g | Std - %.4g | Min - %.4g | Max - %.4g\" % (np.mean(cv_score),np.std(cv_score),np.min(cv_score),np.max(cv_score))\n",
    "    print \"R-squared: \", alg.score(dtrain[predictors], dtrain[target])\n",
    "    "
   ]
  },
  {
   "cell_type": "code",
   "execution_count": 101,
   "metadata": {
    "collapsed": false
   },
   "outputs": [
    {
     "name": "stdout",
     "output_type": "stream",
     "text": [
      "\n",
      "Model Report\n",
      "RMSE : 8.847\n",
      "CV Score : Mean - 8.867 | Std - 1.319 | Min - 6.753 | Max - 11.65\n",
      "R-squared:  0.58600258617\n"
     ]
    },
    {
     "data": {
      "text/plain": [
       "<matplotlib.axes._subplots.AxesSubplot at 0x1130b3cd0>"
      ]
     },
     "execution_count": 101,
     "metadata": {},
     "output_type": "execute_result"
    },
    {
     "data": {
      "image/png": "[encoded data removed]",
      "text/plain": [
       "<matplotlib.figure.Figure at 0x10cb45dd0>"
      ]
     },
     "metadata": {},
     "output_type": "display_data"
    }
   ],
   "source": [
    "from sklearn.linear_model import LinearRegression, Ridge, Lasso \n",
    "target = right.columns[1]\n",
    "predictors = ['regionale2010 vote', 'Immigrant', 'Agriculteurs', 'Artisans', 'Cadres', 'Ouvrier', 'Enseignement_sup_long']\n",
    "predictors_full = right.columns[2:]\n",
    "lm = LinearRegression(normalize=True)\n",
    "modelfit(lm, right, predictors, target)\n",
    "coef1 = pd.Series(lm.coef_, predictors).sort_values()\n",
    "coef1.plot(kind='bar', title='Model Coefficcients')"
   ]
  },
  {
   "cell_type": "code",
   "execution_count": 102,
   "metadata": {
    "collapsed": false
   },
   "outputs": [
    {
     "name": "stdout",
     "output_type": "stream",
     "text": [
      "regionale2010 vote : 5.99898113528\n",
      "Immigrant : 2.056497133\n",
      "Agriculteurs : 1.38983272404\n",
      "Artisans : 2.401720415\n",
      "Cadres : 3.9443419123\n",
      "Ouvrier : 3.59559008968\n",
      "Enseignement_sup_long : 6.27226857271\n"
     ]
    }
   ],
   "source": [
    "index = 0\n",
    "while index < len(predictors):\n",
    "    print '{0} : {1}'.format(predictors[index], \n",
    "                             outliers_influence.variance_inflation_factor(right[predictors].values,index)) \n",
    "    index += 1"
   ]
  },
  {
   "cell_type": "code",
   "execution_count": 103,
   "metadata": {
    "collapsed": false
   },
   "outputs": [
    {
     "name": "stdout",
     "output_type": "stream",
     "text": [
      "\n",
      "Model Report\n",
      "RMSE : 8.567\n",
      "CV Score : Mean - 8.651 | Std - 1.371 | Min - 6.711 | Max - 11.89\n",
      "R-squared:  0.611760689249\n"
     ]
    },
    {
     "data": {
      "text/plain": [
       "<matplotlib.axes._subplots.AxesSubplot at 0x10b2ac890>"
      ]
     },
     "execution_count": 103,
     "metadata": {},
     "output_type": "execute_result"
    },
    {
     "data": {
      "image/png": "[encoded data removed]",
      "text/plain": [
       "<matplotlib.figure.Figure at 0x1123d8a50>"
      ]
     },
     "metadata": {},
     "output_type": "display_data"
    }
   ],
   "source": [
    "from sklearn.linear_model import LinearRegression, Ridge, Lasso \n",
    "target = right.columns[1]\n",
    "predictors = ['regionale2010 vote', 'Immigrant', 'Agriculteurs', 'Artisans', 'Cadres', 'Ouvrier', 'Enseignement_sup_long']\n",
    "predictors_full = right.columns[2:]\n",
    "lm = LinearRegression(normalize=True)\n",
    "modelfit(lm, right, predictors_full, target)\n",
    "coef1 = pd.Series(lm.coef_, predictors_full).sort_values()\n",
    "coef1.plot(kind='bar', title='Model Coefficcients')"
   ]
  },
  {
   "cell_type": "markdown",
   "metadata": {},
   "source": [
    "### Baseline result"
   ]
  },
  {
   "cell_type": "code",
   "execution_count": 104,
   "metadata": {
    "collapsed": false
   },
   "outputs": [],
   "source": [
    "base_result = right[right.columns[1]].copy()"
   ]
  },
  {
   "cell_type": "code",
   "execution_count": 105,
   "metadata": {
    "collapsed": false
   },
   "outputs": [],
   "source": [
    "base_result[:] = base_result.mean(axis=0)"
   ]
  },
  {
   "cell_type": "code",
   "execution_count": 106,
   "metadata": {
    "collapsed": false
   },
   "outputs": [
    {
     "name": "stdout",
     "output_type": "stream",
     "text": [
      "RMSE : 13.75\n"
     ]
    }
   ],
   "source": [
    "print \"RMSE : %.4g\" % np.sqrt(metrics.mean_squared_error(right[right.columns[1]].values, base_result))"
   ]
  },
  {
   "cell_type": "markdown",
   "metadata": {
    "collapsed": true
   },
   "source": [
    "### Ridge regression"
   ]
  },
  {
   "cell_type": "code",
   "execution_count": 107,
   "metadata": {
    "collapsed": false
   },
   "outputs": [
    {
     "name": "stdout",
     "output_type": "stream",
     "text": [
      "\n",
      "Model Report\n",
      "RMSE : 8.567\n",
      "CV Score : Mean - 8.649 | Std - 1.371 | Min - 6.711 | Max - 11.88\n",
      "R-squared:  0.61172321483\n"
     ]
    },
    {
     "data": {
      "text/plain": [
       "<matplotlib.axes._subplots.AxesSubplot at 0x11172c0d0>"
      ]
     },
     "execution_count": 107,
     "metadata": {},
     "output_type": "execute_result"
    },
    {
     "data": {
      "image/png": "[encoded data removed]",
      "text/plain": [
       "<matplotlib.figure.Figure at 0x1123d83d0>"
      ]
     },
     "metadata": {},
     "output_type": "display_data"
    }
   ],
   "source": [
    "ridge_regression = Ridge(alpha = 0.005, normalize=True)\n",
    "modelfit(ridge_regression, right, predictors_full, target)\n",
    "coef1 = pd.Series(lm.coef_, predictors_full).sort_values()\n",
    "coef1.plot(kind='bar', title='Model Coefficcients')"
   ]
  },
  {
   "cell_type": "markdown",
   "metadata": {},
   "source": [
    "### Lasso"
   ]
  },
  {
   "cell_type": "code",
   "execution_count": 146,
   "metadata": {
    "collapsed": false
   },
   "outputs": [
    {
     "name": "stdout",
     "output_type": "stream",
     "text": [
      "\n",
      "Model Report\n",
      "RMSE : 8.595\n",
      "CV Score : Mean - 8.672 | Std - 1.376 | Min - 6.753 | Max - 11.74\n",
      "R-squared:  0.609216098209\n"
     ]
    },
    {
     "data": {
      "text/plain": [
       "<matplotlib.axes._subplots.AxesSubplot at 0x10cb6c150>"
      ]
     },
     "execution_count": 146,
     "metadata": {},
     "output_type": "execute_result"
    },
    {
     "data": {
      "image/png": "[encoded data removed]",
      "text/plain": [
       "<matplotlib.figure.Figure at 0x10d708c50>"
      ]
     },
     "metadata": {},
     "output_type": "display_data"
    }
   ],
   "source": [
    "lasso_regression = Lasso(alpha = .001, normalize=True)\n",
    "modelfit(lasso_regression, right, predictors_full, target)\n",
    "coef1 = pd.Series(lasso_regression.coef_, predictors_full).sort_values()\n",
    "coef1.plot(kind='bar', title='Model Coefficcients')"
   ]
  },
  {
   "cell_type": "code",
   "execution_count": 109,
   "metadata": {
    "collapsed": false
   },
   "outputs": [
    {
     "name": "stdout",
     "output_type": "stream",
     "text": [
      "\n",
      "Model Report\n",
      "RMSE : 7.494\n",
      "CV Score : Mean - 7.573 | Std - 0.8417 | Min - 6.227 | Max - 9.287\n",
      "R-squared:  0.591846867226\n"
     ]
    },
    {
     "data": {
      "text/plain": [
       "<matplotlib.axes._subplots.AxesSubplot at 0x11237f110>"
      ]
     },
     "execution_count": 109,
     "metadata": {},
     "output_type": "execute_result"
    },
    {
     "data": {
      "image/png": "[encoded data removed]",
      "text/plain": [
       "<matplotlib.figure.Figure at 0x1172e5d90>"
      ]
     },
     "metadata": {},
     "output_type": "display_data"
    }
   ],
   "source": [
    "lasso_regression = Lasso(alpha = .001, normalize=True)\n",
    "modelfit(lasso_regression, er, predictors_full, target)\n",
    "coef1 = pd.Series(lasso_regression.coef_, predictors_full).sort_values()\n",
    "coef1.plot(kind='bar', title='Model Coefficcients')"
   ]
  },
  {
   "cell_type": "code",
   "execution_count": 147,
   "metadata": {
    "collapsed": false
   },
   "outputs": [],
   "source": [
    "### lasso cross validation\n",
    "scores = []\n",
    "scores_std = []\n",
    "\n",
    "lasso = linear_model.Lasso()\n",
    "alphas = np.logspace(-6, -.5, 100)\n",
    "for alpha in alphas:\n",
    "    lasso.alpha = alpha\n",
    "    this_scores = cross_validation.cross_val_score(lasso, right[predictors_full], right[target], n_jobs=1)\n",
    "    scores.append(np.mean(this_scores))\n",
    "    scores_std.append(np.std(this_scores))"
   ]
  },
  {
   "cell_type": "code",
   "execution_count": 148,
   "metadata": {
    "collapsed": false
   },
   "outputs": [
    {
     "name": "stdout",
     "output_type": "stream",
     "text": [
      "[  1.00000000e-06   1.13646367e-06   1.29154967e-06   1.46779927e-06\n",
      "   1.66810054e-06   1.89573565e-06   2.15443469e-06   2.44843675e-06\n",
      "   2.78255940e-06   3.16227766e-06   3.59381366e-06   4.08423865e-06\n",
      "   4.64158883e-06   5.27499706e-06   5.99484250e-06   6.81292069e-06\n",
      "   7.74263683e-06   8.79922544e-06   1.00000000e-05   1.13646367e-05\n",
      "   1.29154967e-05   1.46779927e-05   1.66810054e-05   1.89573565e-05\n",
      "   2.15443469e-05   2.44843675e-05   2.78255940e-05   3.16227766e-05\n",
      "   3.59381366e-05   4.08423865e-05   4.64158883e-05   5.27499706e-05\n",
      "   5.99484250e-05   6.81292069e-05   7.74263683e-05   8.79922544e-05\n",
      "   1.00000000e-04   1.13646367e-04   1.29154967e-04   1.46779927e-04\n",
      "   1.66810054e-04   1.89573565e-04   2.15443469e-04   2.44843675e-04\n",
      "   2.78255940e-04   3.16227766e-04   3.59381366e-04   4.08423865e-04\n",
      "   4.64158883e-04   5.27499706e-04   5.99484250e-04   6.81292069e-04\n",
      "   7.74263683e-04   8.79922544e-04   1.00000000e-03   1.13646367e-03\n",
      "   1.29154967e-03   1.46779927e-03   1.66810054e-03   1.89573565e-03\n",
      "   2.15443469e-03   2.44843675e-03   2.78255940e-03   3.16227766e-03\n",
      "   3.59381366e-03   4.08423865e-03   4.64158883e-03   5.27499706e-03\n",
      "   5.99484250e-03   6.81292069e-03   7.74263683e-03   8.79922544e-03\n",
      "   1.00000000e-02   1.13646367e-02   1.29154967e-02   1.46779927e-02\n",
      "   1.66810054e-02   1.89573565e-02   2.15443469e-02   2.44843675e-02\n",
      "   2.78255940e-02   3.16227766e-02   3.59381366e-02   4.08423865e-02\n",
      "   4.64158883e-02   5.27499706e-02   5.99484250e-02   6.81292069e-02\n",
      "   7.74263683e-02   8.79922544e-02   1.00000000e-01   1.13646367e-01\n",
      "   1.29154967e-01   1.46779927e-01   1.66810054e-01   1.89573565e-01\n",
      "   2.15443469e-01   2.44843675e-01   2.78255940e-01   3.16227766e-01]\n"
     ]
    }
   ],
   "source": [
    "print alphas"
   ]
  },
  {
   "cell_type": "code",
   "execution_count": 149,
   "metadata": {
    "collapsed": false
   },
   "outputs": [
    {
     "name": "stdout",
     "output_type": "stream",
     "text": [
      "36761\n"
     ]
    }
   ],
   "source": [
    "print len(right[predictors_full])"
   ]
  },
  {
   "cell_type": "code",
   "execution_count": 150,
   "metadata": {
    "collapsed": false
   },
   "outputs": [
    {
     "name": "stdout",
     "output_type": "stream",
     "text": [
      "[fold 0] alpha: 0.06813, score: 0.56795\n",
      "[fold 1] alpha: 0.07743, score: 0.73679\n",
      "[fold 2] alpha: 0.05995, score: 0.52186\n",
      "[fold 3] alpha: 0.07743, score: 0.51868\n",
      "[fold 4] alpha: 0.11365, score: 0.57199\n",
      "[fold 5] alpha: 0.11365, score: 0.47004\n",
      "[fold 6] alpha: 0.11365, score: 0.14399\n",
      "[fold 7] alpha: 0.00245, score: 0.51033\n",
      "[fold 8] alpha: 0.06813, score: 0.32872\n",
      "[fold 9] alpha: 0.01468, score: 0.48582\n"
     ]
    }
   ],
   "source": [
    "lasso_cv = linear_model.LassoCV(alphas=alphas)\n",
    "k_fold = cross_validation.KFold(len(right[predictors_full].values), 10) \n",
    "\n",
    "X = right[predictors_full].values\n",
    "y = right[target].values\n",
    "\n",
    "#print X.va\n",
    "\n",
    "for k, (train, test) in enumerate(k_fold):\n",
    "    #print train, test\n",
    "    lasso_cv.fit(X[train], y[train])\n",
    "    print(\"[fold {0}] alpha: {1:.5f}, score: {2:.5f}\".\n",
    "          format(k, lasso_cv.alpha_, lasso_cv.score(X[test], y[test])))"
   ]
  },
  {
   "cell_type": "code",
   "execution_count": null,
   "metadata": {
    "collapsed": true
   },
   "outputs": [],
   "source": []
  },
  {
   "cell_type": "code",
   "execution_count": null,
   "metadata": {
    "collapsed": true
   },
   "outputs": [],
   "source": []
  },
  {
   "cell_type": "code",
   "execution_count": null,
   "metadata": {
    "collapsed": true
   },
   "outputs": [],
   "source": []
  },
  {
   "cell_type": "markdown",
   "metadata": {},
   "source": [
    "## Elastic Net Reegression"
   ]
  },
  {
   "cell_type": "code",
   "execution_count": null,
   "metadata": {
    "collapsed": true
   },
   "outputs": [],
   "source": [
    "from sklearn.linear_model import ElasticNet"
   ]
  },
  {
   "cell_type": "code",
   "execution_count": null,
   "metadata": {
    "collapsed": false
   },
   "outputs": [],
   "source": [
    "elastic_regression = ElasticNet(alpha = .00001 , normalize=True)\n",
    "modelfit(elastic_regression, right, predictors, target)\n",
    "coef1 = pd.Series(elastic_regression.coef_, predictors).sort_values()\n",
    "coef1.plot(kind='bar', title='Model Coefficcients')"
   ]
  },
  {
   "cell_type": "markdown",
   "metadata": {},
   "source": [
    "### Decision tree regression"
   ]
  },
  {
   "cell_type": "code",
   "execution_count": null,
   "metadata": {
    "collapsed": false
   },
   "outputs": [],
   "source": [
    "from sklearn.tree import DecisionTreeRegressor"
   ]
  },
  {
   "cell_type": "code",
   "execution_count": null,
   "metadata": {
    "collapsed": true
   },
   "outputs": [],
   "source": [
    "decision_tree_regression = DecisionTreeRegressor(max_depth=15, min_samples_leaf=100)"
   ]
  },
  {
   "cell_type": "code",
   "execution_count": null,
   "metadata": {
    "collapsed": false
   },
   "outputs": [],
   "source": [
    "modelfit(decision_tree_regression, df, predictors, target)\n",
    "coef1 = pd.Series(decision_tree_regression.coef_, predictors).sort_values()\n",
    "coef1.plot(kind='bar', title='Model Coefficcients')"
   ]
  },
  {
   "cell_type": "code",
   "execution_count": null,
   "metadata": {
    "collapsed": true
   },
   "outputs": [],
   "source": []
  },
  {
   "cell_type": "code",
   "execution_count": null,
   "metadata": {
    "collapsed": true
   },
   "outputs": [],
   "source": []
  },
  {
   "cell_type": "code",
   "execution_count": null,
   "metadata": {
    "collapsed": true
   },
   "outputs": [],
   "source": []
  },
  {
   "cell_type": "code",
   "execution_count": null,
   "metadata": {
    "collapsed": true
   },
   "outputs": [],
   "source": []
  },
  {
   "cell_type": "code",
   "execution_count": null,
   "metadata": {
    "collapsed": true
   },
   "outputs": [],
   "source": []
  },
  {
   "cell_type": "code",
   "execution_count": null,
   "metadata": {
    "collapsed": true
   },
   "outputs": [],
   "source": []
  },
  {
   "cell_type": "code",
   "execution_count": null,
   "metadata": {
    "collapsed": true
   },
   "outputs": [],
   "source": []
  },
  {
   "cell_type": "code",
   "execution_count": null,
   "metadata": {
    "collapsed": true
   },
   "outputs": [],
   "source": []
  }
 ],
 "metadata": {
  "kernelspec": {
   "display_name": "Python 2",
   "language": "python",
   "name": "python2"
  },
  "language_info": {
   "codemirror_mode": {
    "name": "ipython",
    "version": 2
   },
   "file_extension": ".py",
   "mimetype": "text/x-python",
   "name": "python",
   "nbconvert_exporter": "python",
   "pygments_lexer": "ipython2",
   "version": "2.7.11"
  }
 },
 "nbformat": 4,
 "nbformat_minor": 0
}
