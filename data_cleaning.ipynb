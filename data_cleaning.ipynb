{
 "cells": [
  {
   "cell_type": "code",
   "execution_count": 1,
   "metadata": {
    "collapsed": false
   },
   "outputs": [],
   "source": [
    "import pandas as pd\n",
    "import numpy as np"
   ]
  },
  {
   "cell_type": "code",
   "execution_count": 2,
   "metadata": {
    "collapsed": false
   },
   "outputs": [],
   "source": [
    "data = pd.read_excel(\"electoral2015_tour1.xlsx\")"
   ]
  },
  {
   "cell_type": "code",
   "execution_count": 3,
   "metadata": {
    "collapsed": false
   },
   "outputs": [
    {
     "data": {
      "text/html": [
       "<div>\n",
       "<table border=\"1\" class=\"dataframe\">\n",
       "  <thead>\n",
       "    <tr style=\"text-align: right;\">\n",
       "      <th></th>\n",
       "      <th>Date de l'export</th>\n",
       "      <th>Code du département</th>\n",
       "      <th>Libellé du département</th>\n",
       "      <th>Code de la commune</th>\n",
       "      <th>Libellé de la commune</th>\n",
       "      <th>Inscrits</th>\n",
       "      <th>Abstentions</th>\n",
       "      <th>% Abs/Ins</th>\n",
       "      <th>Votants</th>\n",
       "      <th>% Vot/Ins</th>\n",
       "      <th>...</th>\n",
       "      <th>% Voix/Ins.11</th>\n",
       "      <th>% Voix/Exp.11</th>\n",
       "      <th>N°Liste.12</th>\n",
       "      <th>Nuance Liste.12</th>\n",
       "      <th>Libellé Abrégé Liste.12</th>\n",
       "      <th>Libellé Etendu Liste.12</th>\n",
       "      <th>Nom Tête de Liste.12</th>\n",
       "      <th>Voix.12</th>\n",
       "      <th>% Voix/Ins.12</th>\n",
       "      <th>% Voix/Exp.12</th>\n",
       "    </tr>\n",
       "  </thead>\n",
       "  <tbody>\n",
       "    <tr>\n",
       "      <th>0</th>\n",
       "      <td>2016-01-21 08:37:51</td>\n",
       "      <td>1</td>\n",
       "      <td>AIN</td>\n",
       "      <td>1</td>\n",
       "      <td>L'Abergement-Clémenciat</td>\n",
       "      <td>584</td>\n",
       "      <td>261</td>\n",
       "      <td>44.69</td>\n",
       "      <td>323</td>\n",
       "      <td>55.31</td>\n",
       "      <td>...</td>\n",
       "      <td>NaN</td>\n",
       "      <td>NaN</td>\n",
       "      <td>NaN</td>\n",
       "      <td>NaN</td>\n",
       "      <td>NaN</td>\n",
       "      <td>NaN</td>\n",
       "      <td>NaN</td>\n",
       "      <td>NaN</td>\n",
       "      <td>NaN</td>\n",
       "      <td>NaN</td>\n",
       "    </tr>\n",
       "    <tr>\n",
       "      <th>1</th>\n",
       "      <td>2016-01-21 08:37:51</td>\n",
       "      <td>1</td>\n",
       "      <td>AIN</td>\n",
       "      <td>2</td>\n",
       "      <td>L'Abergement-de-Varey</td>\n",
       "      <td>224</td>\n",
       "      <td>93</td>\n",
       "      <td>41.52</td>\n",
       "      <td>131</td>\n",
       "      <td>58.48</td>\n",
       "      <td>...</td>\n",
       "      <td>NaN</td>\n",
       "      <td>NaN</td>\n",
       "      <td>NaN</td>\n",
       "      <td>NaN</td>\n",
       "      <td>NaN</td>\n",
       "      <td>NaN</td>\n",
       "      <td>NaN</td>\n",
       "      <td>NaN</td>\n",
       "      <td>NaN</td>\n",
       "      <td>NaN</td>\n",
       "    </tr>\n",
       "    <tr>\n",
       "      <th>2</th>\n",
       "      <td>2016-01-21 08:37:51</td>\n",
       "      <td>1</td>\n",
       "      <td>AIN</td>\n",
       "      <td>4</td>\n",
       "      <td>Ambérieu-en-Bugey</td>\n",
       "      <td>8149</td>\n",
       "      <td>4347</td>\n",
       "      <td>53.34</td>\n",
       "      <td>3802</td>\n",
       "      <td>46.66</td>\n",
       "      <td>...</td>\n",
       "      <td>NaN</td>\n",
       "      <td>NaN</td>\n",
       "      <td>NaN</td>\n",
       "      <td>NaN</td>\n",
       "      <td>NaN</td>\n",
       "      <td>NaN</td>\n",
       "      <td>NaN</td>\n",
       "      <td>NaN</td>\n",
       "      <td>NaN</td>\n",
       "      <td>NaN</td>\n",
       "    </tr>\n",
       "    <tr>\n",
       "      <th>3</th>\n",
       "      <td>2016-01-21 08:37:51</td>\n",
       "      <td>1</td>\n",
       "      <td>AIN</td>\n",
       "      <td>5</td>\n",
       "      <td>Ambérieux-en-Dombes</td>\n",
       "      <td>1168</td>\n",
       "      <td>610</td>\n",
       "      <td>52.23</td>\n",
       "      <td>558</td>\n",
       "      <td>47.77</td>\n",
       "      <td>...</td>\n",
       "      <td>NaN</td>\n",
       "      <td>NaN</td>\n",
       "      <td>NaN</td>\n",
       "      <td>NaN</td>\n",
       "      <td>NaN</td>\n",
       "      <td>NaN</td>\n",
       "      <td>NaN</td>\n",
       "      <td>NaN</td>\n",
       "      <td>NaN</td>\n",
       "      <td>NaN</td>\n",
       "    </tr>\n",
       "    <tr>\n",
       "      <th>4</th>\n",
       "      <td>2016-01-21 08:37:51</td>\n",
       "      <td>1</td>\n",
       "      <td>AIN</td>\n",
       "      <td>6</td>\n",
       "      <td>Ambléon</td>\n",
       "      <td>107</td>\n",
       "      <td>53</td>\n",
       "      <td>49.53</td>\n",
       "      <td>54</td>\n",
       "      <td>50.47</td>\n",
       "      <td>...</td>\n",
       "      <td>NaN</td>\n",
       "      <td>NaN</td>\n",
       "      <td>NaN</td>\n",
       "      <td>NaN</td>\n",
       "      <td>NaN</td>\n",
       "      <td>NaN</td>\n",
       "      <td>NaN</td>\n",
       "      <td>NaN</td>\n",
       "      <td>NaN</td>\n",
       "      <td>NaN</td>\n",
       "    </tr>\n",
       "  </tbody>\n",
       "</table>\n",
       "<p>5 rows × 123 columns</p>\n",
       "</div>"
      ],
      "text/plain": [
       "     Date de l'export  Code du département Libellé du département  \\\n",
       "0 2016-01-21 08:37:51                    1                    AIN   \n",
       "1 2016-01-21 08:37:51                    1                    AIN   \n",
       "2 2016-01-21 08:37:51                    1                    AIN   \n",
       "3 2016-01-21 08:37:51                    1                    AIN   \n",
       "4 2016-01-21 08:37:51                    1                    AIN   \n",
       "\n",
       "   Code de la commune    Libellé de la commune  Inscrits  Abstentions  \\\n",
       "0                   1  L'Abergement-Clémenciat       584          261   \n",
       "1                   2    L'Abergement-de-Varey       224           93   \n",
       "2                   4        Ambérieu-en-Bugey      8149         4347   \n",
       "3                   5      Ambérieux-en-Dombes      1168          610   \n",
       "4                   6                  Ambléon       107           53   \n",
       "\n",
       "   % Abs/Ins  Votants  % Vot/Ins      ...        % Voix/Ins.11  % Voix/Exp.11  \\\n",
       "0      44.69      323      55.31      ...                  NaN            NaN   \n",
       "1      41.52      131      58.48      ...                  NaN            NaN   \n",
       "2      53.34     3802      46.66      ...                  NaN            NaN   \n",
       "3      52.23      558      47.77      ...                  NaN            NaN   \n",
       "4      49.53       54      50.47      ...                  NaN            NaN   \n",
       "\n",
       "   N°Liste.12  Nuance Liste.12  Libellé Abrégé Liste.12  \\\n",
       "0         NaN              NaN                      NaN   \n",
       "1         NaN              NaN                      NaN   \n",
       "2         NaN              NaN                      NaN   \n",
       "3         NaN              NaN                      NaN   \n",
       "4         NaN              NaN                      NaN   \n",
       "\n",
       "   Libellé Etendu Liste.12  Nom Tête de Liste.12  Voix.12  % Voix/Ins.12  \\\n",
       "0                      NaN                   NaN      NaN            NaN   \n",
       "1                      NaN                   NaN      NaN            NaN   \n",
       "2                      NaN                   NaN      NaN            NaN   \n",
       "3                      NaN                   NaN      NaN            NaN   \n",
       "4                      NaN                   NaN      NaN            NaN   \n",
       "\n",
       "   % Voix/Exp.12  \n",
       "0            NaN  \n",
       "1            NaN  \n",
       "2            NaN  \n",
       "3            NaN  \n",
       "4            NaN  \n",
       "\n",
       "[5 rows x 123 columns]"
      ]
     },
     "execution_count": 3,
     "metadata": {},
     "output_type": "execute_result"
    }
   ],
   "source": [
    "data.head()"
   ]
  },
  {
   "cell_type": "code",
   "execution_count": 4,
   "metadata": {
    "collapsed": false
   },
   "outputs": [
    {
     "data": {
      "text/plain": [
       "(36634, 123)"
      ]
     },
     "execution_count": 4,
     "metadata": {},
     "output_type": "execute_result"
    }
   ],
   "source": [
    "data.shape"
   ]
  },
  {
   "cell_type": "code",
   "execution_count": 5,
   "metadata": {
    "collapsed": false
   },
   "outputs": [
    {
     "data": {
      "text/plain": [
       "[u\"Date de l'export\",\n",
       " u'Code du d\\xe9partement',\n",
       " u'Libell\\xe9 du d\\xe9partement',\n",
       " u'Code de la commune',\n",
       " u'Libell\\xe9 de la commune',\n",
       " u'Inscrits',\n",
       " u'Abstentions',\n",
       " u'% Abs/Ins',\n",
       " u'Votants',\n",
       " u'% Vot/Ins',\n",
       " u'Blancs',\n",
       " u'% Blancs/Ins',\n",
       " u'% Blancs/Vot',\n",
       " u'Nuls',\n",
       " u'% Nuls/Ins',\n",
       " u'% Nuls/Vot',\n",
       " u'Exprim\\xe9s',\n",
       " u'% Exp/Ins',\n",
       " u'% Exp/Vot',\n",
       " u'N\\xb0Liste',\n",
       " u'Nuance Liste',\n",
       " u'Libell\\xe9 Abr\\xe9g\\xe9 Liste',\n",
       " u'Libell\\xe9 Etendu Liste',\n",
       " u'Nom T\\xeate de Liste',\n",
       " u'Voix',\n",
       " u'% Voix/Ins',\n",
       " u'% Voix/Exp',\n",
       " u'N\\xb0Liste.1',\n",
       " u'Nuance Liste.1',\n",
       " u'Libell\\xe9 Abr\\xe9g\\xe9 Liste.1',\n",
       " u'Libell\\xe9 Etendu Liste.1',\n",
       " u'Nom T\\xeate de Liste.1',\n",
       " u'Voix.1',\n",
       " u'% Voix/Ins.1',\n",
       " u'% Voix/Exp.1',\n",
       " u'N\\xb0Liste.2',\n",
       " u'Nuance Liste.2',\n",
       " u'Libell\\xe9 Abr\\xe9g\\xe9 Liste.2',\n",
       " u'Libell\\xe9 Etendu Liste.2',\n",
       " u'Nom T\\xeate de Liste.2',\n",
       " u'Voix.2',\n",
       " u'% Voix/Ins.2',\n",
       " u'% Voix/Exp.2',\n",
       " u'N\\xb0Liste.3',\n",
       " u'Nuance Liste.3',\n",
       " u'Libell\\xe9 Abr\\xe9g\\xe9 Liste.3',\n",
       " u'Libell\\xe9 Etendu Liste.3',\n",
       " u'Nom T\\xeate de Liste.3',\n",
       " u'Voix.3',\n",
       " u'% Voix/Ins.3',\n",
       " u'% Voix/Exp.3',\n",
       " u'N\\xb0Liste.4',\n",
       " u'Nuance Liste.4',\n",
       " u'Libell\\xe9 Abr\\xe9g\\xe9 Liste.4',\n",
       " u'Libell\\xe9 Etendu Liste.4',\n",
       " u'Nom T\\xeate de Liste.4',\n",
       " u'Voix.4',\n",
       " u'% Voix/Ins.4',\n",
       " u'% Voix/Exp.4',\n",
       " u'N\\xb0Liste.5',\n",
       " u'Nuance Liste.5',\n",
       " u'Libell\\xe9 Abr\\xe9g\\xe9 Liste.5',\n",
       " u'Libell\\xe9 Etendu Liste.5',\n",
       " u'Nom T\\xeate de Liste.5',\n",
       " u'Voix.5',\n",
       " u'% Voix/Ins.5',\n",
       " u'% Voix/Exp.5',\n",
       " u'N\\xb0Liste.6',\n",
       " u'Nuance Liste.6',\n",
       " u'Libell\\xe9 Abr\\xe9g\\xe9 Liste.6',\n",
       " u'Libell\\xe9 Etendu Liste.6',\n",
       " u'Nom T\\xeate de Liste.6',\n",
       " u'Voix.6',\n",
       " u'% Voix/Ins.6',\n",
       " u'% Voix/Exp.6',\n",
       " u'N\\xb0Liste.7',\n",
       " u'Nuance Liste.7',\n",
       " u'Libell\\xe9 Abr\\xe9g\\xe9 Liste.7',\n",
       " u'Libell\\xe9 Etendu Liste.7',\n",
       " u'Nom T\\xeate de Liste.7',\n",
       " u'Voix.7',\n",
       " u'% Voix/Ins.7',\n",
       " u'% Voix/Exp.7',\n",
       " u'N\\xb0Liste.8',\n",
       " u'Nuance Liste.8',\n",
       " u'Libell\\xe9 Abr\\xe9g\\xe9 Liste.8',\n",
       " u'Libell\\xe9 Etendu Liste.8',\n",
       " u'Nom T\\xeate de Liste.8',\n",
       " u'Voix.8',\n",
       " u'% Voix/Ins.8',\n",
       " u'% Voix/Exp.8',\n",
       " u'N\\xb0Liste.9',\n",
       " u'Nuance Liste.9',\n",
       " u'Libell\\xe9 Abr\\xe9g\\xe9 Liste.9',\n",
       " u'Libell\\xe9 Etendu Liste.9',\n",
       " u'Nom T\\xeate de Liste.9',\n",
       " u'Voix.9',\n",
       " u'% Voix/Ins.9',\n",
       " u'% Voix/Exp.9',\n",
       " u'N\\xb0Liste.10',\n",
       " u'Nuance Liste.10',\n",
       " u'Libell\\xe9 Abr\\xe9g\\xe9 Liste.10',\n",
       " u'Libell\\xe9 Etendu Liste.10',\n",
       " u'Nom T\\xeate de Liste.10',\n",
       " u'Voix.10',\n",
       " u'% Voix/Ins.10',\n",
       " u'% Voix/Exp.10',\n",
       " u'N\\xb0Liste.11',\n",
       " u'Nuance Liste.11',\n",
       " u'Libell\\xe9 Abr\\xe9g\\xe9 Liste.11',\n",
       " u'Libell\\xe9 Etendu Liste.11',\n",
       " u'Nom T\\xeate de Liste.11',\n",
       " u'Voix.11',\n",
       " u'% Voix/Ins.11',\n",
       " u'% Voix/Exp.11',\n",
       " u'N\\xb0Liste.12',\n",
       " u'Nuance Liste.12',\n",
       " u'Libell\\xe9 Abr\\xe9g\\xe9 Liste.12',\n",
       " u'Libell\\xe9 Etendu Liste.12',\n",
       " u'Nom T\\xeate de Liste.12',\n",
       " u'Voix.12',\n",
       " u'% Voix/Ins.12',\n",
       " u'% Voix/Exp.12']"
      ]
     },
     "execution_count": 5,
     "metadata": {},
     "output_type": "execute_result"
    }
   ],
   "source": [
    "col_title_unicode = data.columns.values.tolist()\n",
    "col_title_unicode"
   ]
  },
  {
   "cell_type": "markdown",
   "metadata": {
    "collapsed": true
   },
   "source": [
    "### We see that the data is in Unicode format, which will cause some trouble later. We will try to convert it to string."
   ]
  },
  {
   "cell_type": "code",
   "execution_count": 6,
   "metadata": {
    "collapsed": false
   },
   "outputs": [],
   "source": [
    "import unicodedata\n",
    "\n",
    "def unicode_to_string(word):\n",
    "    if pd.isnull(word):\n",
    "        return \n",
    "    else:\n",
    "        return unicodedata.normalize('NFKD', word).encode('ascii','ignore')"
   ]
  },
  {
   "cell_type": "code",
   "execution_count": 7,
   "metadata": {
    "collapsed": true
   },
   "outputs": [],
   "source": [
    "col_title = map(unicode_to_string,col_title_unicode)"
   ]
  },
  {
   "cell_type": "code",
   "execution_count": 8,
   "metadata": {
    "collapsed": false
   },
   "outputs": [
    {
     "data": {
      "text/plain": [
       "[\"Date de l'export\",\n",
       " 'Code du departement',\n",
       " 'Libelle du departement',\n",
       " 'Code de la commune',\n",
       " 'Libelle de la commune',\n",
       " 'Inscrits',\n",
       " 'Abstentions',\n",
       " '% Abs/Ins',\n",
       " 'Votants',\n",
       " '% Vot/Ins',\n",
       " 'Blancs',\n",
       " '% Blancs/Ins',\n",
       " '% Blancs/Vot',\n",
       " 'Nuls',\n",
       " '% Nuls/Ins',\n",
       " '% Nuls/Vot',\n",
       " 'Exprimes',\n",
       " '% Exp/Ins',\n",
       " '% Exp/Vot',\n",
       " 'NListe',\n",
       " 'Nuance Liste',\n",
       " 'Libelle Abrege Liste',\n",
       " 'Libelle Etendu Liste',\n",
       " 'Nom Tete de Liste',\n",
       " 'Voix',\n",
       " '% Voix/Ins',\n",
       " '% Voix/Exp',\n",
       " 'NListe.1',\n",
       " 'Nuance Liste.1',\n",
       " 'Libelle Abrege Liste.1',\n",
       " 'Libelle Etendu Liste.1',\n",
       " 'Nom Tete de Liste.1',\n",
       " 'Voix.1',\n",
       " '% Voix/Ins.1',\n",
       " '% Voix/Exp.1',\n",
       " 'NListe.2',\n",
       " 'Nuance Liste.2',\n",
       " 'Libelle Abrege Liste.2',\n",
       " 'Libelle Etendu Liste.2',\n",
       " 'Nom Tete de Liste.2',\n",
       " 'Voix.2',\n",
       " '% Voix/Ins.2',\n",
       " '% Voix/Exp.2',\n",
       " 'NListe.3',\n",
       " 'Nuance Liste.3',\n",
       " 'Libelle Abrege Liste.3',\n",
       " 'Libelle Etendu Liste.3',\n",
       " 'Nom Tete de Liste.3',\n",
       " 'Voix.3',\n",
       " '% Voix/Ins.3',\n",
       " '% Voix/Exp.3',\n",
       " 'NListe.4',\n",
       " 'Nuance Liste.4',\n",
       " 'Libelle Abrege Liste.4',\n",
       " 'Libelle Etendu Liste.4',\n",
       " 'Nom Tete de Liste.4',\n",
       " 'Voix.4',\n",
       " '% Voix/Ins.4',\n",
       " '% Voix/Exp.4',\n",
       " 'NListe.5',\n",
       " 'Nuance Liste.5',\n",
       " 'Libelle Abrege Liste.5',\n",
       " 'Libelle Etendu Liste.5',\n",
       " 'Nom Tete de Liste.5',\n",
       " 'Voix.5',\n",
       " '% Voix/Ins.5',\n",
       " '% Voix/Exp.5',\n",
       " 'NListe.6',\n",
       " 'Nuance Liste.6',\n",
       " 'Libelle Abrege Liste.6',\n",
       " 'Libelle Etendu Liste.6',\n",
       " 'Nom Tete de Liste.6',\n",
       " 'Voix.6',\n",
       " '% Voix/Ins.6',\n",
       " '% Voix/Exp.6',\n",
       " 'NListe.7',\n",
       " 'Nuance Liste.7',\n",
       " 'Libelle Abrege Liste.7',\n",
       " 'Libelle Etendu Liste.7',\n",
       " 'Nom Tete de Liste.7',\n",
       " 'Voix.7',\n",
       " '% Voix/Ins.7',\n",
       " '% Voix/Exp.7',\n",
       " 'NListe.8',\n",
       " 'Nuance Liste.8',\n",
       " 'Libelle Abrege Liste.8',\n",
       " 'Libelle Etendu Liste.8',\n",
       " 'Nom Tete de Liste.8',\n",
       " 'Voix.8',\n",
       " '% Voix/Ins.8',\n",
       " '% Voix/Exp.8',\n",
       " 'NListe.9',\n",
       " 'Nuance Liste.9',\n",
       " 'Libelle Abrege Liste.9',\n",
       " 'Libelle Etendu Liste.9',\n",
       " 'Nom Tete de Liste.9',\n",
       " 'Voix.9',\n",
       " '% Voix/Ins.9',\n",
       " '% Voix/Exp.9',\n",
       " 'NListe.10',\n",
       " 'Nuance Liste.10',\n",
       " 'Libelle Abrege Liste.10',\n",
       " 'Libelle Etendu Liste.10',\n",
       " 'Nom Tete de Liste.10',\n",
       " 'Voix.10',\n",
       " '% Voix/Ins.10',\n",
       " '% Voix/Exp.10',\n",
       " 'NListe.11',\n",
       " 'Nuance Liste.11',\n",
       " 'Libelle Abrege Liste.11',\n",
       " 'Libelle Etendu Liste.11',\n",
       " 'Nom Tete de Liste.11',\n",
       " 'Voix.11',\n",
       " '% Voix/Ins.11',\n",
       " '% Voix/Exp.11',\n",
       " 'NListe.12',\n",
       " 'Nuance Liste.12',\n",
       " 'Libelle Abrege Liste.12',\n",
       " 'Libelle Etendu Liste.12',\n",
       " 'Nom Tete de Liste.12',\n",
       " 'Voix.12',\n",
       " '% Voix/Ins.12',\n",
       " '% Voix/Exp.12']"
      ]
     },
     "execution_count": 8,
     "metadata": {},
     "output_type": "execute_result"
    }
   ],
   "source": [
    "col_title"
   ]
  },
  {
   "cell_type": "markdown",
   "metadata": {},
   "source": [
    "### We replace the column head by new string-format"
   ]
  },
  {
   "cell_type": "code",
   "execution_count": 9,
   "metadata": {
    "collapsed": false
   },
   "outputs": [],
   "source": [
    "data.columns = col_title"
   ]
  },
  {
   "cell_type": "code",
   "execution_count": 10,
   "metadata": {
    "collapsed": false
   },
   "outputs": [
    {
     "data": {
      "text/plain": [
       "[\"Date de l'export\",\n",
       " 'Code du departement',\n",
       " 'Libelle du departement',\n",
       " 'Code de la commune',\n",
       " 'Libelle de la commune',\n",
       " 'Inscrits',\n",
       " 'Abstentions',\n",
       " '% Abs/Ins',\n",
       " 'Votants',\n",
       " '% Vot/Ins',\n",
       " 'Blancs',\n",
       " '% Blancs/Ins',\n",
       " '% Blancs/Vot',\n",
       " 'Nuls',\n",
       " '% Nuls/Ins',\n",
       " '% Nuls/Vot',\n",
       " 'Exprimes',\n",
       " '% Exp/Ins',\n",
       " '% Exp/Vot',\n",
       " 'NListe',\n",
       " 'Nuance Liste',\n",
       " 'Libelle Abrege Liste',\n",
       " 'Libelle Etendu Liste',\n",
       " 'Nom Tete de Liste',\n",
       " 'Voix',\n",
       " '% Voix/Ins',\n",
       " '% Voix/Exp',\n",
       " 'NListe.1',\n",
       " 'Nuance Liste.1',\n",
       " 'Libelle Abrege Liste.1',\n",
       " 'Libelle Etendu Liste.1',\n",
       " 'Nom Tete de Liste.1',\n",
       " 'Voix.1',\n",
       " '% Voix/Ins.1',\n",
       " '% Voix/Exp.1',\n",
       " 'NListe.2',\n",
       " 'Nuance Liste.2',\n",
       " 'Libelle Abrege Liste.2',\n",
       " 'Libelle Etendu Liste.2',\n",
       " 'Nom Tete de Liste.2',\n",
       " 'Voix.2',\n",
       " '% Voix/Ins.2',\n",
       " '% Voix/Exp.2',\n",
       " 'NListe.3',\n",
       " 'Nuance Liste.3',\n",
       " 'Libelle Abrege Liste.3',\n",
       " 'Libelle Etendu Liste.3',\n",
       " 'Nom Tete de Liste.3',\n",
       " 'Voix.3',\n",
       " '% Voix/Ins.3',\n",
       " '% Voix/Exp.3',\n",
       " 'NListe.4',\n",
       " 'Nuance Liste.4',\n",
       " 'Libelle Abrege Liste.4',\n",
       " 'Libelle Etendu Liste.4',\n",
       " 'Nom Tete de Liste.4',\n",
       " 'Voix.4',\n",
       " '% Voix/Ins.4',\n",
       " '% Voix/Exp.4',\n",
       " 'NListe.5',\n",
       " 'Nuance Liste.5',\n",
       " 'Libelle Abrege Liste.5',\n",
       " 'Libelle Etendu Liste.5',\n",
       " 'Nom Tete de Liste.5',\n",
       " 'Voix.5',\n",
       " '% Voix/Ins.5',\n",
       " '% Voix/Exp.5',\n",
       " 'NListe.6',\n",
       " 'Nuance Liste.6',\n",
       " 'Libelle Abrege Liste.6',\n",
       " 'Libelle Etendu Liste.6',\n",
       " 'Nom Tete de Liste.6',\n",
       " 'Voix.6',\n",
       " '% Voix/Ins.6',\n",
       " '% Voix/Exp.6',\n",
       " 'NListe.7',\n",
       " 'Nuance Liste.7',\n",
       " 'Libelle Abrege Liste.7',\n",
       " 'Libelle Etendu Liste.7',\n",
       " 'Nom Tete de Liste.7',\n",
       " 'Voix.7',\n",
       " '% Voix/Ins.7',\n",
       " '% Voix/Exp.7',\n",
       " 'NListe.8',\n",
       " 'Nuance Liste.8',\n",
       " 'Libelle Abrege Liste.8',\n",
       " 'Libelle Etendu Liste.8',\n",
       " 'Nom Tete de Liste.8',\n",
       " 'Voix.8',\n",
       " '% Voix/Ins.8',\n",
       " '% Voix/Exp.8',\n",
       " 'NListe.9',\n",
       " 'Nuance Liste.9',\n",
       " 'Libelle Abrege Liste.9',\n",
       " 'Libelle Etendu Liste.9',\n",
       " 'Nom Tete de Liste.9',\n",
       " 'Voix.9',\n",
       " '% Voix/Ins.9',\n",
       " '% Voix/Exp.9',\n",
       " 'NListe.10',\n",
       " 'Nuance Liste.10',\n",
       " 'Libelle Abrege Liste.10',\n",
       " 'Libelle Etendu Liste.10',\n",
       " 'Nom Tete de Liste.10',\n",
       " 'Voix.10',\n",
       " '% Voix/Ins.10',\n",
       " '% Voix/Exp.10',\n",
       " 'NListe.11',\n",
       " 'Nuance Liste.11',\n",
       " 'Libelle Abrege Liste.11',\n",
       " 'Libelle Etendu Liste.11',\n",
       " 'Nom Tete de Liste.11',\n",
       " 'Voix.11',\n",
       " '% Voix/Ins.11',\n",
       " '% Voix/Exp.11',\n",
       " 'NListe.12',\n",
       " 'Nuance Liste.12',\n",
       " 'Libelle Abrege Liste.12',\n",
       " 'Libelle Etendu Liste.12',\n",
       " 'Nom Tete de Liste.12',\n",
       " 'Voix.12',\n",
       " '% Voix/Ins.12',\n",
       " '% Voix/Exp.12']"
      ]
     },
     "execution_count": 10,
     "metadata": {},
     "output_type": "execute_result"
    }
   ],
   "source": [
    "data.columns.values.tolist()"
   ]
  },
  {
   "cell_type": "code",
   "execution_count": 11,
   "metadata": {
    "collapsed": false
   },
   "outputs": [
    {
     "data": {
      "text/plain": [
       "True"
      ]
     },
     "execution_count": 11,
     "metadata": {},
     "output_type": "execute_result"
    }
   ],
   "source": [
    "type(data['Nom Tete de Liste'][0]) == unicode"
   ]
  },
  {
   "cell_type": "markdown",
   "metadata": {},
   "source": [
    "###  We see that not only the column header but all the text-format cells in the dataset are in unicode. We will now convert all to string."
   ]
  },
  {
   "cell_type": "code",
   "execution_count": 12,
   "metadata": {
    "collapsed": true
   },
   "outputs": [],
   "source": [
    "def data_to_string(data):\n",
    "    new_data = data.copy()\n",
    "    for col in new_data.columns:\n",
    "        not_nan_index = [not ind for ind in new_data[col].isnull()]\n",
    "        not_nan_value = new_data[col][not_nan_index]\n",
    "        if type(not_nan_value.iloc[0]) == unicode: #check the first not-NaN value\n",
    "            new_data[col] = map(unicode_to_string,new_data[col])\n",
    "    return new_data"
   ]
  },
  {
   "cell_type": "code",
   "execution_count": 13,
   "metadata": {
    "collapsed": false
   },
   "outputs": [],
   "source": [
    "data = data_to_string(data)"
   ]
  },
  {
   "cell_type": "markdown",
   "metadata": {},
   "source": [
    "### Check if there are NaN values in Numeric columns"
   ]
  },
  {
   "cell_type": "code",
   "execution_count": 14,
   "metadata": {
    "collapsed": true
   },
   "outputs": [],
   "source": [
    "def check_nan_in_numeric(data):\n",
    "    new_data = data.copy()\n",
    "    for col in new_data.columns:\n",
    "        not_nan_index = [not ind for ind in new_data[col].isnull()]\n",
    "        not_nan_value = new_data[col][not_nan_index]\n",
    "        if type(not_nan_value.iloc[0]) is not str : #check the first not-NaN value to eliminate all string column\n",
    "            if new_data[col].isnull().any(): \n",
    "                print col"
   ]
  },
  {
   "cell_type": "code",
   "execution_count": 15,
   "metadata": {
    "collapsed": false
   },
   "outputs": [
    {
     "name": "stdout",
     "output_type": "stream",
     "text": [
      "NListe.8\n",
      "Voix.8\n",
      "% Voix/Ins.8\n",
      "% Voix/Exp.8\n",
      "NListe.9\n",
      "Voix.9\n",
      "% Voix/Ins.9\n",
      "% Voix/Exp.9\n",
      "NListe.10\n",
      "Voix.10\n",
      "% Voix/Ins.10\n",
      "% Voix/Exp.10\n",
      "NListe.11\n",
      "Voix.11\n",
      "% Voix/Ins.11\n",
      "% Voix/Exp.11\n",
      "NListe.12\n",
      "Voix.12\n",
      "% Voix/Ins.12\n",
      "% Voix/Exp.12\n"
     ]
    }
   ],
   "source": [
    "check_nan_in_numeric(data)"
   ]
  },
  {
   "cell_type": "markdown",
   "metadata": {},
   "source": [
    "### The problem here is that the number of parties is not the same in all communities: most of them have 8 parties, but some of them have more than 8. \n",
    "### Therefore, before checking for NaN value, we need to re-organize the data.\n",
    "### We will create a new dataframe that has only 1 voting result per row.\n",
    "### We start by adding a new column in the original dataset: Code Insee. We will use this as our pivot column."
   ]
  },
  {
   "cell_type": "code",
   "execution_count": 16,
   "metadata": {
    "collapsed": false
   },
   "outputs": [
    {
     "data": {
      "text/html": [
       "<div>\n",
       "<table border=\"1\" class=\"dataframe\">\n",
       "  <thead>\n",
       "    <tr style=\"text-align: right;\">\n",
       "      <th></th>\n",
       "      <th>Date de l'export</th>\n",
       "      <th>Code du departement</th>\n",
       "      <th>Libelle du departement</th>\n",
       "      <th>Code de la commune</th>\n",
       "      <th>Libelle de la commune</th>\n",
       "      <th>Inscrits</th>\n",
       "      <th>Abstentions</th>\n",
       "      <th>% Abs/Ins</th>\n",
       "      <th>Votants</th>\n",
       "      <th>% Vot/Ins</th>\n",
       "      <th>...</th>\n",
       "      <th>% Voix/Ins.11</th>\n",
       "      <th>% Voix/Exp.11</th>\n",
       "      <th>NListe.12</th>\n",
       "      <th>Nuance Liste.12</th>\n",
       "      <th>Libelle Abrege Liste.12</th>\n",
       "      <th>Libelle Etendu Liste.12</th>\n",
       "      <th>Nom Tete de Liste.12</th>\n",
       "      <th>Voix.12</th>\n",
       "      <th>% Voix/Ins.12</th>\n",
       "      <th>% Voix/Exp.12</th>\n",
       "    </tr>\n",
       "  </thead>\n",
       "  <tbody>\n",
       "    <tr>\n",
       "      <th>0</th>\n",
       "      <td>2016-01-21 08:37:51</td>\n",
       "      <td>1</td>\n",
       "      <td>AIN</td>\n",
       "      <td>1</td>\n",
       "      <td>L'Abergement-Clemenciat</td>\n",
       "      <td>584</td>\n",
       "      <td>261</td>\n",
       "      <td>44.69</td>\n",
       "      <td>323</td>\n",
       "      <td>55.31</td>\n",
       "      <td>...</td>\n",
       "      <td>NaN</td>\n",
       "      <td>NaN</td>\n",
       "      <td>NaN</td>\n",
       "      <td>NaN</td>\n",
       "      <td>NaN</td>\n",
       "      <td>NaN</td>\n",
       "      <td>NaN</td>\n",
       "      <td>NaN</td>\n",
       "      <td>NaN</td>\n",
       "      <td>NaN</td>\n",
       "    </tr>\n",
       "    <tr>\n",
       "      <th>1</th>\n",
       "      <td>2016-01-21 08:37:51</td>\n",
       "      <td>1</td>\n",
       "      <td>AIN</td>\n",
       "      <td>2</td>\n",
       "      <td>L'Abergement-de-Varey</td>\n",
       "      <td>224</td>\n",
       "      <td>93</td>\n",
       "      <td>41.52</td>\n",
       "      <td>131</td>\n",
       "      <td>58.48</td>\n",
       "      <td>...</td>\n",
       "      <td>NaN</td>\n",
       "      <td>NaN</td>\n",
       "      <td>NaN</td>\n",
       "      <td>NaN</td>\n",
       "      <td>NaN</td>\n",
       "      <td>NaN</td>\n",
       "      <td>NaN</td>\n",
       "      <td>NaN</td>\n",
       "      <td>NaN</td>\n",
       "      <td>NaN</td>\n",
       "    </tr>\n",
       "  </tbody>\n",
       "</table>\n",
       "<p>2 rows × 123 columns</p>\n",
       "</div>"
      ],
      "text/plain": [
       "     Date de l'export  Code du departement Libelle du departement  \\\n",
       "0 2016-01-21 08:37:51                    1                    AIN   \n",
       "1 2016-01-21 08:37:51                    1                    AIN   \n",
       "\n",
       "   Code de la commune    Libelle de la commune  Inscrits  Abstentions  \\\n",
       "0                   1  L'Abergement-Clemenciat       584          261   \n",
       "1                   2    L'Abergement-de-Varey       224           93   \n",
       "\n",
       "   % Abs/Ins  Votants  % Vot/Ins      ...        % Voix/Ins.11  % Voix/Exp.11  \\\n",
       "0      44.69      323      55.31      ...                  NaN            NaN   \n",
       "1      41.52      131      58.48      ...                  NaN            NaN   \n",
       "\n",
       "   NListe.12  Nuance Liste.12  Libelle Abrege Liste.12  \\\n",
       "0        NaN              NaN                      NaN   \n",
       "1        NaN              NaN                      NaN   \n",
       "\n",
       "   Libelle Etendu Liste.12  Nom Tete de Liste.12  Voix.12  % Voix/Ins.12  \\\n",
       "0                      NaN                   NaN      NaN            NaN   \n",
       "1                      NaN                   NaN      NaN            NaN   \n",
       "\n",
       "   % Voix/Exp.12  \n",
       "0            NaN  \n",
       "1            NaN  \n",
       "\n",
       "[2 rows x 123 columns]"
      ]
     },
     "execution_count": 16,
     "metadata": {},
     "output_type": "execute_result"
    }
   ],
   "source": [
    "data.head(2)"
   ]
  },
  {
   "cell_type": "code",
   "execution_count": 17,
   "metadata": {
    "collapsed": true
   },
   "outputs": [],
   "source": [
    "def add_insee_code(data):\n",
    "    new_data = data.copy()\n",
    "    insee_code = []\n",
    "    for x in xrange(len(new_data)):\n",
    "        if new_data['Code du departement'][x] < 100:\n",
    "            code = new_data['Code du departement'][x]*1000 + new_data['Code de la commune'][x]\n",
    "        else:\n",
    "            code = (new_data['Code du departement'][x]/10)*1000 + new_data['Code de la commune'][x]\n",
    "        insee_code.append(code)\n",
    "    new_data['Code Insee'] = insee_code\n",
    "    cols = new_data.columns.tolist()\n",
    "    cols = cols[-1:] + cols[:-1] # we move the new variable to the first column of our dataframe\n",
    "    new_data = new_data[cols]\n",
    "    return new_data"
   ]
  },
  {
   "cell_type": "code",
   "execution_count": 18,
   "metadata": {
    "collapsed": false
   },
   "outputs": [],
   "source": [
    "data = add_insee_code(data)"
   ]
  },
  {
   "cell_type": "code",
   "execution_count": 19,
   "metadata": {
    "collapsed": false
   },
   "outputs": [
    {
     "data": {
      "text/html": [
       "<div>\n",
       "<table border=\"1\" class=\"dataframe\">\n",
       "  <thead>\n",
       "    <tr style=\"text-align: right;\">\n",
       "      <th></th>\n",
       "      <th>Code Insee</th>\n",
       "      <th>Date de l'export</th>\n",
       "      <th>Code du departement</th>\n",
       "      <th>Libelle du departement</th>\n",
       "      <th>Code de la commune</th>\n",
       "      <th>Libelle de la commune</th>\n",
       "      <th>Inscrits</th>\n",
       "      <th>Abstentions</th>\n",
       "      <th>% Abs/Ins</th>\n",
       "      <th>Votants</th>\n",
       "      <th>...</th>\n",
       "      <th>% Voix/Ins.11</th>\n",
       "      <th>% Voix/Exp.11</th>\n",
       "      <th>NListe.12</th>\n",
       "      <th>Nuance Liste.12</th>\n",
       "      <th>Libelle Abrege Liste.12</th>\n",
       "      <th>Libelle Etendu Liste.12</th>\n",
       "      <th>Nom Tete de Liste.12</th>\n",
       "      <th>Voix.12</th>\n",
       "      <th>% Voix/Ins.12</th>\n",
       "      <th>% Voix/Exp.12</th>\n",
       "    </tr>\n",
       "  </thead>\n",
       "  <tbody>\n",
       "    <tr>\n",
       "      <th>36629</th>\n",
       "      <td>97420</td>\n",
       "      <td>2016-01-21 08:49:34</td>\n",
       "      <td>974</td>\n",
       "      <td>LA REUNION</td>\n",
       "      <td>420</td>\n",
       "      <td>Sainte-Suzanne</td>\n",
       "      <td>17257</td>\n",
       "      <td>9818</td>\n",
       "      <td>56.89</td>\n",
       "      <td>7439</td>\n",
       "      <td>...</td>\n",
       "      <td>0.72</td>\n",
       "      <td>1.74</td>\n",
       "      <td>NaN</td>\n",
       "      <td>NaN</td>\n",
       "      <td>NaN</td>\n",
       "      <td>NaN</td>\n",
       "      <td>NaN</td>\n",
       "      <td>NaN</td>\n",
       "      <td>NaN</td>\n",
       "      <td>NaN</td>\n",
       "    </tr>\n",
       "    <tr>\n",
       "      <th>36630</th>\n",
       "      <td>97421</td>\n",
       "      <td>2016-01-21 08:49:34</td>\n",
       "      <td>974</td>\n",
       "      <td>LA REUNION</td>\n",
       "      <td>421</td>\n",
       "      <td>Salazie</td>\n",
       "      <td>5894</td>\n",
       "      <td>3144</td>\n",
       "      <td>53.34</td>\n",
       "      <td>2750</td>\n",
       "      <td>...</td>\n",
       "      <td>0.81</td>\n",
       "      <td>1.81</td>\n",
       "      <td>NaN</td>\n",
       "      <td>NaN</td>\n",
       "      <td>NaN</td>\n",
       "      <td>NaN</td>\n",
       "      <td>NaN</td>\n",
       "      <td>NaN</td>\n",
       "      <td>NaN</td>\n",
       "      <td>NaN</td>\n",
       "    </tr>\n",
       "    <tr>\n",
       "      <th>36631</th>\n",
       "      <td>97422</td>\n",
       "      <td>2016-01-21 08:49:34</td>\n",
       "      <td>974</td>\n",
       "      <td>LA REUNION</td>\n",
       "      <td>422</td>\n",
       "      <td>Le Tampon</td>\n",
       "      <td>61419</td>\n",
       "      <td>30817</td>\n",
       "      <td>50.18</td>\n",
       "      <td>30602</td>\n",
       "      <td>...</td>\n",
       "      <td>1.36</td>\n",
       "      <td>2.92</td>\n",
       "      <td>NaN</td>\n",
       "      <td>NaN</td>\n",
       "      <td>NaN</td>\n",
       "      <td>NaN</td>\n",
       "      <td>NaN</td>\n",
       "      <td>NaN</td>\n",
       "      <td>NaN</td>\n",
       "      <td>NaN</td>\n",
       "    </tr>\n",
       "    <tr>\n",
       "      <th>36632</th>\n",
       "      <td>97423</td>\n",
       "      <td>2016-01-21 08:49:34</td>\n",
       "      <td>974</td>\n",
       "      <td>LA REUNION</td>\n",
       "      <td>423</td>\n",
       "      <td>Les Trois-Bassins</td>\n",
       "      <td>5999</td>\n",
       "      <td>3094</td>\n",
       "      <td>51.58</td>\n",
       "      <td>2905</td>\n",
       "      <td>...</td>\n",
       "      <td>0.70</td>\n",
       "      <td>1.49</td>\n",
       "      <td>NaN</td>\n",
       "      <td>NaN</td>\n",
       "      <td>NaN</td>\n",
       "      <td>NaN</td>\n",
       "      <td>NaN</td>\n",
       "      <td>NaN</td>\n",
       "      <td>NaN</td>\n",
       "      <td>NaN</td>\n",
       "    </tr>\n",
       "    <tr>\n",
       "      <th>36633</th>\n",
       "      <td>97424</td>\n",
       "      <td>2016-01-21 08:49:34</td>\n",
       "      <td>974</td>\n",
       "      <td>LA REUNION</td>\n",
       "      <td>424</td>\n",
       "      <td>Cilaos</td>\n",
       "      <td>5012</td>\n",
       "      <td>2677</td>\n",
       "      <td>53.41</td>\n",
       "      <td>2335</td>\n",
       "      <td>...</td>\n",
       "      <td>0.66</td>\n",
       "      <td>1.47</td>\n",
       "      <td>NaN</td>\n",
       "      <td>NaN</td>\n",
       "      <td>NaN</td>\n",
       "      <td>NaN</td>\n",
       "      <td>NaN</td>\n",
       "      <td>NaN</td>\n",
       "      <td>NaN</td>\n",
       "      <td>NaN</td>\n",
       "    </tr>\n",
       "  </tbody>\n",
       "</table>\n",
       "<p>5 rows × 124 columns</p>\n",
       "</div>"
      ],
      "text/plain": [
       "       Code Insee    Date de l'export  Code du departement  \\\n",
       "36629       97420 2016-01-21 08:49:34                  974   \n",
       "36630       97421 2016-01-21 08:49:34                  974   \n",
       "36631       97422 2016-01-21 08:49:34                  974   \n",
       "36632       97423 2016-01-21 08:49:34                  974   \n",
       "36633       97424 2016-01-21 08:49:34                  974   \n",
       "\n",
       "      Libelle du departement  Code de la commune Libelle de la commune  \\\n",
       "36629             LA REUNION                 420        Sainte-Suzanne   \n",
       "36630             LA REUNION                 421               Salazie   \n",
       "36631             LA REUNION                 422             Le Tampon   \n",
       "36632             LA REUNION                 423     Les Trois-Bassins   \n",
       "36633             LA REUNION                 424                Cilaos   \n",
       "\n",
       "       Inscrits  Abstentions  % Abs/Ins  Votants      ...        \\\n",
       "36629     17257         9818      56.89     7439      ...         \n",
       "36630      5894         3144      53.34     2750      ...         \n",
       "36631     61419        30817      50.18    30602      ...         \n",
       "36632      5999         3094      51.58     2905      ...         \n",
       "36633      5012         2677      53.41     2335      ...         \n",
       "\n",
       "       % Voix/Ins.11  % Voix/Exp.11  NListe.12  Nuance Liste.12  \\\n",
       "36629           0.72           1.74        NaN              NaN   \n",
       "36630           0.81           1.81        NaN              NaN   \n",
       "36631           1.36           2.92        NaN              NaN   \n",
       "36632           0.70           1.49        NaN              NaN   \n",
       "36633           0.66           1.47        NaN              NaN   \n",
       "\n",
       "       Libelle Abrege Liste.12  Libelle Etendu Liste.12  Nom Tete de Liste.12  \\\n",
       "36629                      NaN                      NaN                   NaN   \n",
       "36630                      NaN                      NaN                   NaN   \n",
       "36631                      NaN                      NaN                   NaN   \n",
       "36632                      NaN                      NaN                   NaN   \n",
       "36633                      NaN                      NaN                   NaN   \n",
       "\n",
       "       Voix.12  % Voix/Ins.12  % Voix/Exp.12  \n",
       "36629      NaN            NaN            NaN  \n",
       "36630      NaN            NaN            NaN  \n",
       "36631      NaN            NaN            NaN  \n",
       "36632      NaN            NaN            NaN  \n",
       "36633      NaN            NaN            NaN  \n",
       "\n",
       "[5 rows x 124 columns]"
      ]
     },
     "execution_count": 19,
     "metadata": {},
     "output_type": "execute_result"
    }
   ],
   "source": [
    "data.tail()"
   ]
  },
  {
   "cell_type": "markdown",
   "metadata": {},
   "source": [
    "#### (NB: we had to manually modify some departement codes like those of Corse, Reunion, Martinique,.... because they were not in numerical form)."
   ]
  },
  {
   "cell_type": "markdown",
   "metadata": {},
   "source": [
    "### Now we create the new dataframe. "
   ]
  },
  {
   "cell_type": "code",
   "execution_count": 171,
   "metadata": {
    "collapsed": true
   },
   "outputs": [],
   "source": [
    "def remove_nan(data):\n",
    "    new_data = data.copy()\n",
    "    boolean_df = pd.notnull(new_data[new_data.columns.tolist()[1:]])\n",
    "    boolean_list = [any(row) for index, row in boolean_df.iterrows()]\n",
    "    new_data = new_data[boolean_list]\n",
    "    return new_data"
   ]
  },
  {
   "cell_type": "code",
   "execution_count": 213,
   "metadata": {
    "collapsed": false
   },
   "outputs": [],
   "source": [
    "def create_voting_data(data):\n",
    "    data_index = ['Code Insee', 'NListe', 'Nuance Liste', 'Voix', '% Voix/Ins','% Voix/Exp']\n",
    "\n",
    "    code_insee = 'Code Insee'\n",
    "    nListe = 'NListe'\n",
    "    nuance_liste = 'Nuance Liste'\n",
    "    voix = 'Voix'\n",
    "    voix_ins = '% Voix/Ins'\n",
    "    voix_exp = '% Voix/Exp'\n",
    "\n",
    "    voting_data = data[data_index] \n",
    "    counter = 1\n",
    "\n",
    "    while True:\n",
    "        new_nListe = nListe + '.' + str(counter)\n",
    "        new_nuance_liste = nuance_liste + '.' + str(counter)\n",
    "        new_voix = voix + '.' + str(counter)\n",
    "        new_voix_ins = voix_ins + '.' + str(counter)\n",
    "        new_voix_exp = voix_exp + '.' + str(counter)\n",
    "\n",
    "        try: # condition to stop\n",
    "            data[new_nListe] \n",
    "        except: \n",
    "            break\n",
    "\n",
    "        new_data_index = ['Code Insee',new_nListe,new_nuance_liste, new_voix,new_voix_ins, new_voix_exp]\n",
    "        new_data = data[new_data_index]\n",
    "        new_data.columns = data_index\n",
    "        voting_data = pd.concat([voting_data, new_data])\n",
    "        counter += 1\n",
    "\n",
    "    voting_data = remove_nan(voting_data)\n",
    "    voting_data = voting_data.sort_index() \n",
    "    voting_data.index = range(0,len(voting_data))\n",
    "    \n",
    "    return voting_data"
   ]
  },
  {
   "cell_type": "code",
   "execution_count": 214,
   "metadata": {
    "collapsed": false
   },
   "outputs": [
    {
     "data": {
      "text/plain": [
       "(356621, 6)"
      ]
     },
     "execution_count": 214,
     "metadata": {},
     "output_type": "execute_result"
    }
   ],
   "source": [
    "voting_data = create_voting_data(data)\n",
    "voting_data.shape"
   ]
  },
  {
   "cell_type": "markdown",
   "metadata": {},
   "source": [
    "### Once we have a clean list, we will divide it into 3 groups corresponding to the 3 political orienatations: Left, Right and Extreme Right "
   ]
  },
  {
   "cell_type": "code",
   "execution_count": 258,
   "metadata": {
    "collapsed": false
   },
   "outputs": [
    {
     "data": {
      "text/plain": [
       "['LDVG',\n",
       " 'LDVD',\n",
       " 'LECO',\n",
       " 'LDLF',\n",
       " 'LCOM',\n",
       " 'LUDI',\n",
       " 'LDIV',\n",
       " 'LFN',\n",
       " 'LFG',\n",
       " 'LEXD',\n",
       " 'LEXG',\n",
       " 'LUD',\n",
       " 'LREG',\n",
       " 'LUG',\n",
       " 'LSOC',\n",
       " 'LVEG',\n",
       " 'LMDM',\n",
       " 'LRDG',\n",
       " 'LLR',\n",
       " 'LVEC']"
      ]
     },
     "execution_count": 258,
     "metadata": {},
     "output_type": "execute_result"
    }
   ],
   "source": [
    "list(set(voting_data['Nuance Liste']))"
   ]
  },
  {
   "cell_type": "code",
   "execution_count": 259,
   "metadata": {
    "collapsed": true
   },
   "outputs": [],
   "source": [
    "left_party = ['LDVG', 'LCOM', 'LFG', 'LEXG','LSOC','LVEG','LREG','LUG']\n",
    "right_party = ['LDVD','LDLF', 'LUDI','LUD','LMDM', 'LRDG','LLR'] \n",
    "er_party = ['LFN','LEXD',] \n",
    "other_party = ['LECO','LDIV', 'LVEC']"
   ]
  },
  {
   "cell_type": "code",
   "execution_count": 263,
   "metadata": {
    "collapsed": false
   },
   "outputs": [],
   "source": [
    "left_party_vote = voting_data[voting_data['Nuance Liste'].isin(left_party)]\n",
    "left_party_vote.index = range(0, len(left_party_vote))\n",
    "                              \n",
    "right_party_vote = voting_data[voting_data['Nuance Liste'].isin(right_party)]\n",
    "right_party_vote.index = range(0, len(right_party_vote))\n",
    "                               \n",
    "er_party_vote = voting_data[voting_data['Nuance Liste'].isin(er_party)]\n",
    "er_party_vote.index = range(0, len(er_party_vote))\n",
    "                            \n",
    "other_party_vote = voting_data[voting_data['Nuance Liste'].isin(other_party)]\n",
    "other_party_vote.index = range(0, len(other_party_vote))"
   ]
  },
  {
   "cell_type": "markdown",
   "metadata": {},
   "source": [
    "### We export these dataframes to excel files"
   ]
  },
  {
   "cell_type": "code",
   "execution_count": 264,
   "metadata": {
    "collapsed": false
   },
   "outputs": [],
   "source": [
    "writer = pd.ExcelWriter('left_party_vote.xlsx')\n",
    "left_party_vote.to_excel(writer,'Sheet1')\n",
    "writer.save()"
   ]
  },
  {
   "cell_type": "code",
   "execution_count": 265,
   "metadata": {
    "collapsed": true
   },
   "outputs": [],
   "source": [
    "writer = pd.ExcelWriter('right_party_vote.xlsx')\n",
    "right_party_vote.to_excel(writer,'Sheet1')\n",
    "writer.save()"
   ]
  },
  {
   "cell_type": "code",
   "execution_count": 266,
   "metadata": {
    "collapsed": true
   },
   "outputs": [],
   "source": [
    "writer = pd.ExcelWriter('er_party_vote.xlsx')\n",
    "er_party_vote.to_excel(writer,'Sheet1')\n",
    "writer.save()"
   ]
  },
  {
   "cell_type": "code",
   "execution_count": null,
   "metadata": {
    "collapsed": true
   },
   "outputs": [],
   "source": []
  },
  {
   "cell_type": "code",
   "execution_count": null,
   "metadata": {
    "collapsed": true
   },
   "outputs": [],
   "source": []
  },
  {
   "cell_type": "code",
   "execution_count": null,
   "metadata": {
    "collapsed": true
   },
   "outputs": [],
   "source": []
  },
  {
   "cell_type": "code",
   "execution_count": null,
   "metadata": {
    "collapsed": true
   },
   "outputs": [],
   "source": []
  }
 ],
 "metadata": {
  "kernelspec": {
   "display_name": "Python 2",
   "language": "python",
   "name": "python2"
  },
  "language_info": {
   "codemirror_mode": {
    "name": "ipython",
    "version": 2
   },
   "file_extension": ".py",
   "mimetype": "text/x-python",
   "name": "python",
   "nbconvert_exporter": "python",
   "pygments_lexer": "ipython2",
   "version": "2.7.10"
  }
 },
 "nbformat": 4,
 "nbformat_minor": 0
}
