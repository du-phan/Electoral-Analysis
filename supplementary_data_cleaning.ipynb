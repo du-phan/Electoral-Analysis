{
 "cells": [
  {
   "cell_type": "markdown",
   "metadata": {},
   "source": [
    "### In this script, first we will clean the INSEE-format data. After that, we combine them with history voting data and export the final full data for analysis.\n",
    "### INSEE datasets have identical format that's why we will use 1 process to clean them all. Next, the feature engineering is different for each data so we need to handle them seperately."
   ]
  },
  {
   "cell_type": "markdown",
   "metadata": {},
   "source": [
    "### ----------------- DATA CLEANING -----------------"
   ]
  },
  {
   "cell_type": "code",
   "execution_count": 6,
   "metadata": {
    "collapsed": false
   },
   "outputs": [],
   "source": [
    "import pandas as pd\n",
    "import numpy as np"
   ]
  },
  {
   "cell_type": "code",
   "execution_count": 8,
   "metadata": {
    "collapsed": false
   },
   "outputs": [],
   "source": [
    "salary_data = pd.read_excel(\"original_data/salaire.xls\", skiprows=5)\n",
    "immigration_data = pd.read_excel(\"original_data/immigration.xls\", skiprows=10)\n",
    "population_data = pd.read_excel(\"original_data/population.xls\", skiprows=5)\n",
    "education_data = pd.read_excel(\"original_data/education.xls\", skiprows=5)\n",
    "logement_data = pd.read_excel(\"original_data/logement.xls\", skiprows=5)"
   ]
  },
  {
   "cell_type": "markdown",
   "metadata": {},
   "source": [
    "### First, as usual, we convert unicode to string."
   ]
  },
  {
   "cell_type": "code",
   "execution_count": 9,
   "metadata": {
    "collapsed": false
   },
   "outputs": [],
   "source": [
    "import unicodedata\n",
    "\n",
    "def unicode_to_string(word):\n",
    "    if pd.isnull(word):\n",
    "        return \n",
    "    else:\n",
    "        return unicodedata.normalize('NFKD', word).encode('ascii','ignore')\n",
    "    \n",
    "def data_to_string(data):\n",
    "    new_data = data.copy()\n",
    "    \n",
    "    col_title_unicode = new_data.columns.values.tolist()\n",
    "    col_title = map(unicode_to_string,col_title_unicode)\n",
    "    new_data.columns = col_title\n",
    "    \n",
    "    for col in new_data.columns:\n",
    "        not_nan_index = [not ind for ind in new_data[col].isnull()]\n",
    "        not_nan_value = new_data[col][not_nan_index]\n",
    "        if type(not_nan_value.iloc[0]) == unicode: #check the first not-NaN value\n",
    "            new_data[col] = map(unicode_to_string,new_data[col])\n",
    "            \n",
    "    return new_data"
   ]
  },
  {
   "cell_type": "code",
   "execution_count": 10,
   "metadata": {
    "collapsed": false
   },
   "outputs": [],
   "source": [
    "salary_data = data_to_string(salary_data)\n",
    "immigration_data = data_to_string(immigration_data)\n",
    "population_data = data_to_string(population_data)\n",
    "education_data = data_to_string(education_data)\n",
    "logement_data = data_to_string(logement_data)"
   ]
  },
  {
   "cell_type": "markdown",
   "metadata": {},
   "source": [
    "### Now we will rename the column headers so that we have at least 1 common column for all the data frames. "
   ]
  },
  {
   "cell_type": "code",
   "execution_count": 11,
   "metadata": {
    "collapsed": true
   },
   "outputs": [],
   "source": [
    "def rename_column(data): \n",
    "    new_data = data.copy()\n",
    "    col_title = new_data.columns.tolist()\n",
    "    for x in xrange(len(col_title)):\n",
    "        if col_title[x] == 'CODGEO':\n",
    "            col_title[x] = 'Code Insee' # this will be the pivot column for merging\n",
    "        if col_title[x] == 'LIBGEO':\n",
    "            col_title[x] = 'Libelle de la commune'\n",
    "    new_data.columns = col_title\n",
    "    return new_data"
   ]
  },
  {
   "cell_type": "code",
   "execution_count": 12,
   "metadata": {
    "collapsed": false
   },
   "outputs": [],
   "source": [
    "salary_data = rename_column(salary_data)\n",
    "immigration_data = rename_column(immigration_data)\n",
    "population_data = rename_column(population_data)\n",
    "education_data = rename_column(education_data)\n",
    "logement_data = rename_column(logement_data)"
   ]
  },
  {
   "cell_type": "markdown",
   "metadata": {},
   "source": [
    "### We still have problem with departemental code of Corse because they are not in numerical form (2A... or 2B...)."
   ]
  },
  {
   "cell_type": "code",
   "execution_count": 13,
   "metadata": {
    "collapsed": true
   },
   "outputs": [],
   "source": [
    "def to_digit(string):\n",
    "    new_string = list(string)[:]\n",
    "    for x in xrange(len(new_string)): \n",
    "        if not new_string[x].isdigit():\n",
    "            new_string[x] = '0'\n",
    "    return int(''.join(new_string))"
   ]
  },
  {
   "cell_type": "code",
   "execution_count": 14,
   "metadata": {
    "collapsed": true
   },
   "outputs": [],
   "source": [
    "def replace_insee_code(data): #replace 2AXXX or 2BXXX by 20XXX \n",
    "        new_data = data.copy()\n",
    "        insee_list = new_data['Code Insee'].tolist() \n",
    "        new_insee_list = [int(code) if code.isdigit() else to_digit(code) for code in insee_list]\n",
    "        new_data['Code Insee'] = new_insee_list\n",
    "        return new_data"
   ]
  },
  {
   "cell_type": "code",
   "execution_count": 15,
   "metadata": {
    "collapsed": false
   },
   "outputs": [],
   "source": [
    "salary_data = replace_insee_code(salary_data)\n",
    "immigration_data = replace_insee_code(immigration_data)\n",
    "population_data = replace_insee_code(population_data)\n",
    "education_data = replace_insee_code(education_data)\n",
    "logement_data = replace_insee_code(logement_data)"
   ]
  },
  {
   "cell_type": "markdown",
   "metadata": {},
   "source": [
    "### There is still another problem: all the numbers in our excel sheet are read in float format. We need to convert them to int for the immigration and population data because they contain quantity-format data."
   ]
  },
  {
   "cell_type": "code",
   "execution_count": 16,
   "metadata": {
    "collapsed": true
   },
   "outputs": [],
   "source": [
    "def float_to_int(data):\n",
    "    new_data = data.copy()    \n",
    "    for col in new_data.columns:\n",
    "        not_nan_index = [not ind for ind in new_data[col].isnull()]\n",
    "        not_nan_value = new_data[col][not_nan_index]\n",
    "        if type(not_nan_value.iloc[0]) == np.float64: #check the first not-NaN value\n",
    "            new_data[col] = new_data[col].round()\n",
    "    return new_data"
   ]
  },
  {
   "cell_type": "code",
   "execution_count": 17,
   "metadata": {
    "collapsed": false
   },
   "outputs": [],
   "source": [
    "immigration_data = float_to_int(immigration_data)\n",
    "population_data = float_to_int(population_data)\n",
    "education_data = float_to_int(education_data)\n",
    "logement_data = float_to_int(logement_data )"
   ]
  },
  {
   "cell_type": "markdown",
   "metadata": {},
   "source": [
    "### ----------------- FEATURE ENGINEERING -----------------"
   ]
  },
  {
   "cell_type": "markdown",
   "metadata": {},
   "source": [
    "### In immigration data, we will add a column which shows us the percentage of adult immigrants  in each town."
   ]
  },
  {
   "cell_type": "code",
   "execution_count": 18,
   "metadata": {
    "collapsed": false
   },
   "outputs": [],
   "source": [
    "def add_total_immigrant_variable(data): \n",
    "    new_data = data.copy()\n",
    "    variable_list = []\n",
    "    sum_list = []\n",
    "    for variable in data.columns.tolist(): \n",
    "        if 'IMMI' in variable and 'AGE400' not in variable: \n",
    "            sum_list.append(variable)\n",
    "            if 'IMMI1' in variable:\n",
    "                variable_list.append(variable)\n",
    "    new_data['% immigrant'] = (new_data[variable_list].sum(axis=1)/ new_data[sum_list].sum(axis=1)) * 100\n",
    "    col = new_data.columns.tolist()\n",
    "    col = col[:2] + col[-1:] + col[2:-1]\n",
    "    new_data = new_data[col]\n",
    "    return new_data"
   ]
  },
  {
   "cell_type": "code",
   "execution_count": 19,
   "metadata": {
    "collapsed": false
   },
   "outputs": [],
   "source": [
    "immigration_data = add_total_immigrant_variable(immigration_data)"
   ]
  },
  {
   "cell_type": "code",
   "execution_count": 20,
   "metadata": {
    "collapsed": false
   },
   "outputs": [
    {
     "data": {
      "text/html": [
       "<div>\n",
       "<table border=\"1\" class=\"dataframe\">\n",
       "  <thead>\n",
       "    <tr style=\"text-align: right;\">\n",
       "      <th></th>\n",
       "      <th>Code Insee</th>\n",
       "      <th>Libelle de la commune</th>\n",
       "      <th>% immigrant</th>\n",
       "      <th>AGE400_IMMI1_SEXE1</th>\n",
       "      <th>AGE400_IMMI1_SEXE2</th>\n",
       "      <th>AGE400_IMMI2_SEXE1</th>\n",
       "      <th>AGE400_IMMI2_SEXE2</th>\n",
       "      <th>AGE415_IMMI1_SEXE1</th>\n",
       "      <th>AGE415_IMMI1_SEXE2</th>\n",
       "      <th>AGE415_IMMI2_SEXE1</th>\n",
       "      <th>AGE415_IMMI2_SEXE2</th>\n",
       "      <th>AGE425_IMMI1_SEXE1</th>\n",
       "      <th>AGE425_IMMI1_SEXE2</th>\n",
       "      <th>AGE425_IMMI2_SEXE1</th>\n",
       "      <th>AGE425_IMMI2_SEXE2</th>\n",
       "      <th>AGE455_IMMI1_SEXE1</th>\n",
       "      <th>AGE455_IMMI1_SEXE2</th>\n",
       "      <th>AGE455_IMMI2_SEXE1</th>\n",
       "      <th>AGE455_IMMI2_SEXE2</th>\n",
       "    </tr>\n",
       "  </thead>\n",
       "  <tbody>\n",
       "    <tr>\n",
       "      <th>0</th>\n",
       "      <td>1001</td>\n",
       "      <td>L'Abergement-Clemenciat</td>\n",
       "      <td>4.173623</td>\n",
       "      <td>1</td>\n",
       "      <td>3</td>\n",
       "      <td>92</td>\n",
       "      <td>83</td>\n",
       "      <td>1</td>\n",
       "      <td>0</td>\n",
       "      <td>34</td>\n",
       "      <td>32</td>\n",
       "      <td>7</td>\n",
       "      <td>9</td>\n",
       "      <td>154</td>\n",
       "      <td>137</td>\n",
       "      <td>5</td>\n",
       "      <td>3</td>\n",
       "      <td>101</td>\n",
       "      <td>116</td>\n",
       "    </tr>\n",
       "    <tr>\n",
       "      <th>1</th>\n",
       "      <td>1002</td>\n",
       "      <td>L'Abergement-de-Varey</td>\n",
       "      <td>2.105263</td>\n",
       "      <td>0</td>\n",
       "      <td>1</td>\n",
       "      <td>25</td>\n",
       "      <td>18</td>\n",
       "      <td>1</td>\n",
       "      <td>0</td>\n",
       "      <td>6</td>\n",
       "      <td>11</td>\n",
       "      <td>2</td>\n",
       "      <td>1</td>\n",
       "      <td>52</td>\n",
       "      <td>47</td>\n",
       "      <td>0</td>\n",
       "      <td>0</td>\n",
       "      <td>38</td>\n",
       "      <td>32</td>\n",
       "    </tr>\n",
       "    <tr>\n",
       "      <th>2</th>\n",
       "      <td>1004</td>\n",
       "      <td>Amberieu-en-Bugey</td>\n",
       "      <td>12.048946</td>\n",
       "      <td>57</td>\n",
       "      <td>53</td>\n",
       "      <td>1386</td>\n",
       "      <td>1542</td>\n",
       "      <td>73</td>\n",
       "      <td>61</td>\n",
       "      <td>802</td>\n",
       "      <td>872</td>\n",
       "      <td>442</td>\n",
       "      <td>403</td>\n",
       "      <td>2447</td>\n",
       "      <td>2386</td>\n",
       "      <td>194</td>\n",
       "      <td>176</td>\n",
       "      <td>1454</td>\n",
       "      <td>1886</td>\n",
       "    </tr>\n",
       "    <tr>\n",
       "      <th>3</th>\n",
       "      <td>1005</td>\n",
       "      <td>Amberieux-en-Dombes</td>\n",
       "      <td>4.528012</td>\n",
       "      <td>0</td>\n",
       "      <td>0</td>\n",
       "      <td>176</td>\n",
       "      <td>163</td>\n",
       "      <td>0</td>\n",
       "      <td>2</td>\n",
       "      <td>108</td>\n",
       "      <td>101</td>\n",
       "      <td>18</td>\n",
       "      <td>19</td>\n",
       "      <td>334</td>\n",
       "      <td>324</td>\n",
       "      <td>11</td>\n",
       "      <td>9</td>\n",
       "      <td>182</td>\n",
       "      <td>195</td>\n",
       "    </tr>\n",
       "    <tr>\n",
       "      <th>4</th>\n",
       "      <td>1006</td>\n",
       "      <td>Ambleon</td>\n",
       "      <td>8.000000</td>\n",
       "      <td>2</td>\n",
       "      <td>1</td>\n",
       "      <td>5</td>\n",
       "      <td>4</td>\n",
       "      <td>0</td>\n",
       "      <td>0</td>\n",
       "      <td>8</td>\n",
       "      <td>3</td>\n",
       "      <td>2</td>\n",
       "      <td>3</td>\n",
       "      <td>23</td>\n",
       "      <td>19</td>\n",
       "      <td>0</td>\n",
       "      <td>3</td>\n",
       "      <td>18</td>\n",
       "      <td>21</td>\n",
       "    </tr>\n",
       "  </tbody>\n",
       "</table>\n",
       "</div>"
      ],
      "text/plain": [
       "   Code Insee    Libelle de la commune  % immigrant  AGE400_IMMI1_SEXE1  \\\n",
       "0        1001  L'Abergement-Clemenciat     4.173623                   1   \n",
       "1        1002    L'Abergement-de-Varey     2.105263                   0   \n",
       "2        1004        Amberieu-en-Bugey    12.048946                  57   \n",
       "3        1005      Amberieux-en-Dombes     4.528012                   0   \n",
       "4        1006                  Ambleon     8.000000                   2   \n",
       "\n",
       "   AGE400_IMMI1_SEXE2  AGE400_IMMI2_SEXE1  AGE400_IMMI2_SEXE2  \\\n",
       "0                   3                  92                  83   \n",
       "1                   1                  25                  18   \n",
       "2                  53                1386                1542   \n",
       "3                   0                 176                 163   \n",
       "4                   1                   5                   4   \n",
       "\n",
       "   AGE415_IMMI1_SEXE1  AGE415_IMMI1_SEXE2  AGE415_IMMI2_SEXE1  \\\n",
       "0                   1                   0                  34   \n",
       "1                   1                   0                   6   \n",
       "2                  73                  61                 802   \n",
       "3                   0                   2                 108   \n",
       "4                   0                   0                   8   \n",
       "\n",
       "   AGE415_IMMI2_SEXE2  AGE425_IMMI1_SEXE1  AGE425_IMMI1_SEXE2  \\\n",
       "0                  32                   7                   9   \n",
       "1                  11                   2                   1   \n",
       "2                 872                 442                 403   \n",
       "3                 101                  18                  19   \n",
       "4                   3                   2                   3   \n",
       "\n",
       "   AGE425_IMMI2_SEXE1  AGE425_IMMI2_SEXE2  AGE455_IMMI1_SEXE1  \\\n",
       "0                 154                 137                   5   \n",
       "1                  52                  47                   0   \n",
       "2                2447                2386                 194   \n",
       "3                 334                 324                  11   \n",
       "4                  23                  19                   0   \n",
       "\n",
       "   AGE455_IMMI1_SEXE2  AGE455_IMMI2_SEXE1  AGE455_IMMI2_SEXE2  \n",
       "0                   3                 101                 116  \n",
       "1                   0                  38                  32  \n",
       "2                 176                1454                1886  \n",
       "3                   9                 182                 195  \n",
       "4                   3                  18                  21  "
      ]
     },
     "execution_count": 20,
     "metadata": {},
     "output_type": "execute_result"
    }
   ],
   "source": [
    "immigration_data.head()"
   ]
  },
  {
   "cell_type": "markdown",
   "metadata": {},
   "source": [
    "### In education data, we convert the data to percentage. "
   ]
  },
  {
   "cell_type": "code",
   "execution_count": 21,
   "metadata": {
    "collapsed": false
   },
   "outputs": [],
   "source": [
    "def education_level_in_percentage(data):\n",
    "    new_data = data.copy()\n",
    "    variable_list = ['Code Insee', 'Libelle de la commune']\n",
    "    for variable in new_data.columns.tolist(): \n",
    "        if '_NSCOL15P_' in variable:\n",
    "            variable_list.append(variable)\n",
    "    for chosen_variable in variable_list[2:]:\n",
    "        new_data[chosen_variable] = (new_data[chosen_variable] / new_data['P12_NSCOL15P']) * 100\n",
    "        #new_data[chosen_variable] = new_data['P12_NSCOL15P'] - new_data[variable_list].sum(axis=1)\n",
    "    return new_data[variable_list]"
   ]
  },
  {
   "cell_type": "code",
   "execution_count": 22,
   "metadata": {
    "collapsed": false
   },
   "outputs": [],
   "source": [
    "education_data = education_level_in_percentage(education_data)"
   ]
  },
  {
   "cell_type": "code",
   "execution_count": 23,
   "metadata": {
    "collapsed": false
   },
   "outputs": [
    {
     "data": {
      "text/html": [
       "<div>\n",
       "<table border=\"1\" class=\"dataframe\">\n",
       "  <thead>\n",
       "    <tr style=\"text-align: right;\">\n",
       "      <th></th>\n",
       "      <th>Code Insee</th>\n",
       "      <th>Libelle de la commune</th>\n",
       "      <th>P12_NSCOL15P_DIPL0</th>\n",
       "      <th>P12_NSCOL15P_CEP</th>\n",
       "      <th>P12_NSCOL15P_BEPC</th>\n",
       "      <th>P12_NSCOL15P_CAPBEP</th>\n",
       "      <th>P12_NSCOL15P_BAC</th>\n",
       "      <th>P12_NSCOL15P_BACP2</th>\n",
       "      <th>P12_NSCOL15P_SUP</th>\n",
       "    </tr>\n",
       "  </thead>\n",
       "  <tbody>\n",
       "    <tr>\n",
       "      <th>0</th>\n",
       "      <td>1001</td>\n",
       "      <td>L'Abergement-Clemenciat</td>\n",
       "      <td>14.000000</td>\n",
       "      <td>13.454545</td>\n",
       "      <td>5.818182</td>\n",
       "      <td>25.272727</td>\n",
       "      <td>16.909091</td>\n",
       "      <td>15.272727</td>\n",
       "      <td>9.454545</td>\n",
       "    </tr>\n",
       "    <tr>\n",
       "      <th>1</th>\n",
       "      <td>1002</td>\n",
       "      <td>L'Abergement-de-Varey</td>\n",
       "      <td>8.888889</td>\n",
       "      <td>6.666667</td>\n",
       "      <td>3.333333</td>\n",
       "      <td>22.222222</td>\n",
       "      <td>18.333333</td>\n",
       "      <td>21.111111</td>\n",
       "      <td>18.888889</td>\n",
       "    </tr>\n",
       "    <tr>\n",
       "      <th>2</th>\n",
       "      <td>1004</td>\n",
       "      <td>Amberieu-en-Bugey</td>\n",
       "      <td>17.637173</td>\n",
       "      <td>9.362333</td>\n",
       "      <td>5.783490</td>\n",
       "      <td>24.824518</td>\n",
       "      <td>19.110232</td>\n",
       "      <td>13.109244</td>\n",
       "      <td>10.173010</td>\n",
       "    </tr>\n",
       "    <tr>\n",
       "      <th>3</th>\n",
       "      <td>1005</td>\n",
       "      <td>Amberieux-en-Dombes</td>\n",
       "      <td>16.016949</td>\n",
       "      <td>12.033898</td>\n",
       "      <td>6.186441</td>\n",
       "      <td>29.491525</td>\n",
       "      <td>16.016949</td>\n",
       "      <td>11.610169</td>\n",
       "      <td>8.644068</td>\n",
       "    </tr>\n",
       "    <tr>\n",
       "      <th>4</th>\n",
       "      <td>1006</td>\n",
       "      <td>Ambleon</td>\n",
       "      <td>15.555556</td>\n",
       "      <td>7.777778</td>\n",
       "      <td>8.888889</td>\n",
       "      <td>32.222222</td>\n",
       "      <td>22.222222</td>\n",
       "      <td>6.666667</td>\n",
       "      <td>7.777778</td>\n",
       "    </tr>\n",
       "  </tbody>\n",
       "</table>\n",
       "</div>"
      ],
      "text/plain": [
       "   Code Insee    Libelle de la commune  P12_NSCOL15P_DIPL0  P12_NSCOL15P_CEP  \\\n",
       "0        1001  L'Abergement-Clemenciat           14.000000         13.454545   \n",
       "1        1002    L'Abergement-de-Varey            8.888889          6.666667   \n",
       "2        1004        Amberieu-en-Bugey           17.637173          9.362333   \n",
       "3        1005      Amberieux-en-Dombes           16.016949         12.033898   \n",
       "4        1006                  Ambleon           15.555556          7.777778   \n",
       "\n",
       "   P12_NSCOL15P_BEPC  P12_NSCOL15P_CAPBEP  P12_NSCOL15P_BAC  \\\n",
       "0           5.818182            25.272727         16.909091   \n",
       "1           3.333333            22.222222         18.333333   \n",
       "2           5.783490            24.824518         19.110232   \n",
       "3           6.186441            29.491525         16.016949   \n",
       "4           8.888889            32.222222         22.222222   \n",
       "\n",
       "   P12_NSCOL15P_BACP2  P12_NSCOL15P_SUP  \n",
       "0           15.272727          9.454545  \n",
       "1           21.111111         18.888889  \n",
       "2           13.109244         10.173010  \n",
       "3           11.610169          8.644068  \n",
       "4            6.666667          7.777778  "
      ]
     },
     "execution_count": 23,
     "metadata": {},
     "output_type": "execute_result"
    }
   ],
   "source": [
    "education_data.head()"
   ]
  },
  {
   "cell_type": "markdown",
   "metadata": {},
   "source": [
    "### In population data, we will transform the social status columns from quantity to percentage too."
   ]
  },
  {
   "cell_type": "code",
   "execution_count": 24,
   "metadata": {
    "collapsed": true
   },
   "outputs": [],
   "source": [
    "def social_status_percentage(data): \n",
    "    new_data = data.copy()\n",
    "    status_list = ['C12_POP15P_CS1', 'C12_POP15P_CS2','C12_POP15P_CS3','C12_POP15P_CS4','C12_POP15P_CS5',\n",
    "                   'C12_POP15P_CS6','C12_POP15P_CS7','C12_POP15P_CS8']\n",
    "    adult_population = new_data['C12_POP15P']\n",
    "    for col in status_list:\n",
    "        new_data['% '+ col] = (new_data[col] / adult_population)*100\n",
    "    return new_data"
   ]
  },
  {
   "cell_type": "code",
   "execution_count": 25,
   "metadata": {
    "collapsed": false
   },
   "outputs": [],
   "source": [
    "population_data = social_status_percentage(population_data)"
   ]
  },
  {
   "cell_type": "code",
   "execution_count": 26,
   "metadata": {
    "collapsed": false
   },
   "outputs": [
    {
     "data": {
      "text/html": [
       "<div>\n",
       "<table border=\"1\" class=\"dataframe\">\n",
       "  <thead>\n",
       "    <tr style=\"text-align: right;\">\n",
       "      <th></th>\n",
       "      <th>Code Insee</th>\n",
       "      <th>REG</th>\n",
       "      <th>DEP</th>\n",
       "      <th>Libelle de la commune</th>\n",
       "      <th>P12_POP</th>\n",
       "      <th>P12_POP0014</th>\n",
       "      <th>P12_POP1529</th>\n",
       "      <th>P12_POP3044</th>\n",
       "      <th>P12_POP4559</th>\n",
       "      <th>P12_POP6074</th>\n",
       "      <th>...</th>\n",
       "      <th>C12_POP55P_CS7</th>\n",
       "      <th>C12_POP55P_CS8</th>\n",
       "      <th>% C12_POP15P_CS1</th>\n",
       "      <th>% C12_POP15P_CS2</th>\n",
       "      <th>% C12_POP15P_CS3</th>\n",
       "      <th>% C12_POP15P_CS4</th>\n",
       "      <th>% C12_POP15P_CS5</th>\n",
       "      <th>% C12_POP15P_CS6</th>\n",
       "      <th>% C12_POP15P_CS7</th>\n",
       "      <th>% C12_POP15P_CS8</th>\n",
       "    </tr>\n",
       "  </thead>\n",
       "  <tbody>\n",
       "    <tr>\n",
       "      <th>0</th>\n",
       "      <td>1001</td>\n",
       "      <td>82</td>\n",
       "      <td>01</td>\n",
       "      <td>L'Abergement-Clemenciat</td>\n",
       "      <td>777</td>\n",
       "      <td>178</td>\n",
       "      <td>97</td>\n",
       "      <td>165</td>\n",
       "      <td>151</td>\n",
       "      <td>128</td>\n",
       "      <td>...</td>\n",
       "      <td>163</td>\n",
       "      <td>8</td>\n",
       "      <td>2.588997</td>\n",
       "      <td>0.647249</td>\n",
       "      <td>12.944984</td>\n",
       "      <td>14.239482</td>\n",
       "      <td>18.770227</td>\n",
       "      <td>11.650485</td>\n",
       "      <td>27.022654</td>\n",
       "      <td>12.297735</td>\n",
       "    </tr>\n",
       "    <tr>\n",
       "      <th>1</th>\n",
       "      <td>1002</td>\n",
       "      <td>82</td>\n",
       "      <td>01</td>\n",
       "      <td>L'Abergement-de-Varey</td>\n",
       "      <td>235</td>\n",
       "      <td>44</td>\n",
       "      <td>35</td>\n",
       "      <td>60</td>\n",
       "      <td>38</td>\n",
       "      <td>36</td>\n",
       "      <td>...</td>\n",
       "      <td>64</td>\n",
       "      <td>0</td>\n",
       "      <td>0.000000</td>\n",
       "      <td>2.116402</td>\n",
       "      <td>10.582011</td>\n",
       "      <td>27.513228</td>\n",
       "      <td>4.232804</td>\n",
       "      <td>16.931217</td>\n",
       "      <td>33.862434</td>\n",
       "      <td>4.232804</td>\n",
       "    </tr>\n",
       "    <tr>\n",
       "      <th>2</th>\n",
       "      <td>1004</td>\n",
       "      <td>82</td>\n",
       "      <td>01</td>\n",
       "      <td>Amberieu-en-Bugey</td>\n",
       "      <td>14233</td>\n",
       "      <td>3038</td>\n",
       "      <td>2904</td>\n",
       "      <td>2722</td>\n",
       "      <td>2655</td>\n",
       "      <td>1737</td>\n",
       "      <td>...</td>\n",
       "      <td>2816</td>\n",
       "      <td>251</td>\n",
       "      <td>0.000000</td>\n",
       "      <td>2.818540</td>\n",
       "      <td>6.451324</td>\n",
       "      <td>15.595920</td>\n",
       "      <td>17.143880</td>\n",
       "      <td>17.197566</td>\n",
       "      <td>25.590551</td>\n",
       "      <td>15.211167</td>\n",
       "    </tr>\n",
       "    <tr>\n",
       "      <th>3</th>\n",
       "      <td>1005</td>\n",
       "      <td>82</td>\n",
       "      <td>01</td>\n",
       "      <td>Amberieux-en-Dombes</td>\n",
       "      <td>1642</td>\n",
       "      <td>338</td>\n",
       "      <td>301</td>\n",
       "      <td>348</td>\n",
       "      <td>359</td>\n",
       "      <td>203</td>\n",
       "      <td>...</td>\n",
       "      <td>321</td>\n",
       "      <td>33</td>\n",
       "      <td>0.000000</td>\n",
       "      <td>5.611068</td>\n",
       "      <td>8.147579</td>\n",
       "      <td>17.524981</td>\n",
       "      <td>18.139892</td>\n",
       "      <td>14.681015</td>\n",
       "      <td>25.288240</td>\n",
       "      <td>10.607225</td>\n",
       "    </tr>\n",
       "    <tr>\n",
       "      <th>4</th>\n",
       "      <td>1006</td>\n",
       "      <td>82</td>\n",
       "      <td>01</td>\n",
       "      <td>Ambleon</td>\n",
       "      <td>110</td>\n",
       "      <td>12</td>\n",
       "      <td>18</td>\n",
       "      <td>24</td>\n",
       "      <td>27</td>\n",
       "      <td>20</td>\n",
       "      <td>...</td>\n",
       "      <td>35</td>\n",
       "      <td>0</td>\n",
       "      <td>0.000000</td>\n",
       "      <td>0.000000</td>\n",
       "      <td>4.651163</td>\n",
       "      <td>18.604651</td>\n",
       "      <td>18.604651</td>\n",
       "      <td>9.302326</td>\n",
       "      <td>40.697674</td>\n",
       "      <td>9.302326</td>\n",
       "    </tr>\n",
       "  </tbody>\n",
       "</table>\n",
       "<p>5 rows × 116 columns</p>\n",
       "</div>"
      ],
      "text/plain": [
       "   Code Insee  REG DEP    Libelle de la commune  P12_POP  P12_POP0014  \\\n",
       "0        1001   82  01  L'Abergement-Clemenciat      777          178   \n",
       "1        1002   82  01    L'Abergement-de-Varey      235           44   \n",
       "2        1004   82  01        Amberieu-en-Bugey    14233         3038   \n",
       "3        1005   82  01      Amberieux-en-Dombes     1642          338   \n",
       "4        1006   82  01                  Ambleon      110           12   \n",
       "\n",
       "   P12_POP1529  P12_POP3044  P12_POP4559  P12_POP6074        ...         \\\n",
       "0           97          165          151          128        ...          \n",
       "1           35           60           38           36        ...          \n",
       "2         2904         2722         2655         1737        ...          \n",
       "3          301          348          359          203        ...          \n",
       "4           18           24           27           20        ...          \n",
       "\n",
       "   C12_POP55P_CS7  C12_POP55P_CS8  % C12_POP15P_CS1  % C12_POP15P_CS2  \\\n",
       "0             163               8          2.588997          0.647249   \n",
       "1              64               0          0.000000          2.116402   \n",
       "2            2816             251          0.000000          2.818540   \n",
       "3             321              33          0.000000          5.611068   \n",
       "4              35               0          0.000000          0.000000   \n",
       "\n",
       "   % C12_POP15P_CS3  % C12_POP15P_CS4  % C12_POP15P_CS5  % C12_POP15P_CS6  \\\n",
       "0         12.944984         14.239482         18.770227         11.650485   \n",
       "1         10.582011         27.513228          4.232804         16.931217   \n",
       "2          6.451324         15.595920         17.143880         17.197566   \n",
       "3          8.147579         17.524981         18.139892         14.681015   \n",
       "4          4.651163         18.604651         18.604651          9.302326   \n",
       "\n",
       "   % C12_POP15P_CS7  % C12_POP15P_CS8  \n",
       "0         27.022654         12.297735  \n",
       "1         33.862434          4.232804  \n",
       "2         25.590551         15.211167  \n",
       "3         25.288240         10.607225  \n",
       "4         40.697674          9.302326  \n",
       "\n",
       "[5 rows x 116 columns]"
      ]
     },
     "execution_count": 26,
     "metadata": {},
     "output_type": "execute_result"
    }
   ],
   "source": [
    "population_data.head()"
   ]
  },
  {
   "cell_type": "markdown",
   "metadata": {},
   "source": [
    "### In logement data, we compute the percentage of house proprietor"
   ]
  },
  {
   "cell_type": "code",
   "execution_count": 27,
   "metadata": {
    "collapsed": true
   },
   "outputs": [],
   "source": [
    "def proprietor_percentage(data):\n",
    "    new_data = data.copy()\n",
    "    new_data['P12_NPER_RP_PROP'] = ((new_data['P12_NPER_RP_PROP'])/new_data['P12_NPER_RP'])*100\n",
    "    return new_data"
   ]
  },
  {
   "cell_type": "code",
   "execution_count": 28,
   "metadata": {
    "collapsed": false
   },
   "outputs": [],
   "source": [
    "logement_data = proprietor_percentage(logement_data)"
   ]
  },
  {
   "cell_type": "markdown",
   "metadata": {},
   "source": [
    "### -------------------------------------------------------------------- DATA MERGING -----------------------------------------------------------------"
   ]
  },
  {
   "cell_type": "markdown",
   "metadata": {},
   "source": [
    "### Now once we have all the ingredients needed, we can start merging them"
   ]
  },
  {
   "cell_type": "code",
   "execution_count": 29,
   "metadata": {
    "collapsed": true
   },
   "outputs": [],
   "source": [
    "def drop_col(data):\n",
    "    new_data = data.copy()\n",
    "    title = data.columns.tolist()\n",
    "    dropping_index = []\n",
    "    voting_col = [col for col in new_data.columns.tolist() if 'vote' in col]\n",
    "    keeping_variable = ['Code Insee'] + voting_col +['% immigrant','% C12_POP15P_CS1','% C12_POP15P_CS2','% C12_POP15P_CS3',\n",
    "                        '% C12_POP15P_CS4','% C12_POP15P_CS5', '% C12_POP15P_CS6','% C12_POP15P_CS7', '% C12_POP15P_CS8',\n",
    "                        'SNHM12','P12_NSCOL15P_DIPL0','P12_NSCOL15P_CEP','P12_NSCOL15P_BEPC','P12_NSCOL15P_CAPBEP','P12_NSCOL15P_BAC',\n",
    "                        'P12_NSCOL15P_BACP2','P12_NSCOL15P_SUP','P12_NPER_RP_PROP']\n",
    "    for index, variable in enumerate(title): \n",
    "        if variable not in keeping_variable:\n",
    "            dropping_index.append(index)\n",
    "    new_data = new_data.drop(new_data.columns[dropping_index], axis = 1)\n",
    "    return new_data"
   ]
  },
  {
   "cell_type": "code",
   "execution_count": 30,
   "metadata": {
    "collapsed": true
   },
   "outputs": [],
   "source": [
    "def merge_data(insee_data_list,voting_history_file_list, actual_voting_file_list):\n",
    "    insee_data = insee_data_list[0]\n",
    "    for x in xrange(1,len(insee_data_list)):\n",
    "        insee_data = pd.merge(insee_data,insee_data_list[x], on = ['Code Insee','Libelle de la commune'],\n",
    "                              how='outer') # outer means that we keep a row if either one of the 2 dataset is not null\n",
    "    for voting_file in actual_voting_file_list: \n",
    "        if 'right' in voting_file: \n",
    "            full_data_right = pd.read_excel(voting_file)\n",
    "        elif 'left' in voting_file: \n",
    "            full_data_left = pd.read_excel(voting_file)\n",
    "        else: \n",
    "            full_data_er = pd.read_excel(voting_file)\n",
    "    \n",
    "    for voting_history_file in voting_history_file_list:\n",
    "        if 'right' in voting_history_file: \n",
    "            voting_history_right = pd.read_excel(voting_history_file)\n",
    "            full_data_right = pd.merge(full_data_right, voting_history_right, on = 'Code Insee', how = 'left')\n",
    "        elif 'left' in voting_history_file: \n",
    "            voting_history_left = pd.read_excel(voting_history_file)\n",
    "            full_data_left = pd.merge(full_data_left, voting_history_left, on = 'Code Insee', how = 'left')\n",
    "        else:\n",
    "            voting_history_er = pd.read_excel(voting_history_file)\n",
    "            full_data_er = pd.merge(full_data_er, voting_history_er, on = 'Code Insee', how = 'left')\n",
    "    \n",
    "    full_data_right = pd.merge(full_data_right, insee_data, on = 'Code Insee', how = 'left')\n",
    "    full_data_left = pd.merge(full_data_left, insee_data, on = 'Code Insee', how = 'left')\n",
    "    full_data_er = pd.merge(full_data_er, insee_data, on = 'Code Insee', how = 'left')\n",
    "    \n",
    "    full_data_right = drop_col(full_data_right)\n",
    "    full_data_left = drop_col(full_data_left)\n",
    "    full_data_er = drop_col(full_data_er)\n",
    "    \n",
    "    return full_data_right, full_data_left, full_data_er"
   ]
  },
  {
   "cell_type": "code",
   "execution_count": 34,
   "metadata": {
    "collapsed": true
   },
   "outputs": [],
   "source": [
    "insee_data_list = [immigration_data, salary_data, population_data, education_data, logement_data]\n",
    "voting_history_file_list = ['regionale2004_right.xlsx','regionale2004_left.xlsx','regionale2004_er.xlsx',\n",
    "                            'regionale2010_right.xlsx','regionale2010_left.xlsx', 'regionale2010_er.xlsx']\n",
    "actual_voting_file_list = ['regionale2015_left.xlsx','regionale2015_right.xlsx','regionale2015_er.xlsx']\n",
    "\n",
    "voting_history_file_list = map(lambda x: 'cleaned_data/'+x, voting_history_file_list)\n",
    "actual_voting_file_list = map(lambda x:'cleaned_data/'+x, actual_voting_file_list)"
   ]
  },
  {
   "cell_type": "code",
   "execution_count": 35,
   "metadata": {
    "collapsed": false
   },
   "outputs": [],
   "source": [
    "right,left,er = merge_data(insee_data_list,voting_history_file_list,actual_voting_file_list)"
   ]
  },
  {
   "cell_type": "code",
   "execution_count": 37,
   "metadata": {
    "collapsed": false
   },
   "outputs": [],
   "source": [
    "columns_list = ['Immigrant','Salaire','Agriculteurs','Artisans','Cadres','Prof_Intermediaire','Employes',\n",
    "                'Ouvrier', 'Retraite', 'Autre','Sans diplome','CEP','BEPC','CAP-BEP','BAC','Enseignement_sup_court',\n",
    "                'Enseignement_sup_long', 'Proprietaire'] \n",
    "                # this list must be in the order of the data's column list \n",
    "right.columns = right.columns.tolist()[:4] + columns_list\n",
    "left.columns = left.columns.tolist()[:4] + columns_list\n",
    "er.columns = er.columns.tolist()[:4] + columns_list"
   ]
  },
  {
   "cell_type": "markdown",
   "metadata": {},
   "source": [
    "#### (We would love to put the above cell in a function, but it is quite tricky as we don't know the order of the columns. A revoir...)"
   ]
  },
  {
   "cell_type": "code",
   "execution_count": 38,
   "metadata": {
    "collapsed": true
   },
   "outputs": [],
   "source": [
    "writer = pd.ExcelWriter('analyze_data/analyze_data_right.xlsx')\n",
    "right.to_excel(writer,'Sheet1')\n",
    "writer.save()\n",
    "    \n",
    "writer = pd.ExcelWriter('analyze_data/analyze_data_left.xlsx')\n",
    "left.to_excel(writer,'Sheet1')\n",
    "writer.save()\n",
    "    \n",
    "writer = pd.ExcelWriter('analyze_data/analyze_data_er.xlsx')\n",
    "er.to_excel(writer,'Sheet1')\n",
    "writer.save()"
   ]
  },
  {
   "cell_type": "code",
   "execution_count": null,
   "metadata": {
    "collapsed": false
   },
   "outputs": [],
   "source": [
    "import cProfile\n",
    "\n",
    "#cProfile.run(\"merge_data(insee_data_list, voting_history_file_list, actual_voting_file_list)\")"
   ]
  }
 ],
 "metadata": {
  "kernelspec": {
   "display_name": "Python 2",
   "language": "python",
   "name": "python2"
  },
  "language_info": {
   "codemirror_mode": {
    "name": "ipython",
    "version": 2
   },
   "file_extension": ".py",
   "mimetype": "text/x-python",
   "name": "python",
   "nbconvert_exporter": "python",
   "pygments_lexer": "ipython2",
   "version": "2.7.11"
  }
 },
 "nbformat": 4,
 "nbformat_minor": 0
}
