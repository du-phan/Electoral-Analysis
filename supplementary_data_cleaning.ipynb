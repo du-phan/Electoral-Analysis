{
 "cells": [
  {
   "cell_type": "code",
   "execution_count": 2,
   "metadata": {
    "collapsed": false
   },
   "outputs": [],
   "source": [
    "import pandas as pd\n",
    "import numpy as np"
   ]
  },
  {
   "cell_type": "code",
   "execution_count": 2,
   "metadata": {
    "collapsed": false
   },
   "outputs": [
    {
     "ename": "KeyboardInterrupt",
     "evalue": "",
     "output_type": "error",
     "traceback": [
      "\u001b[0;31m---------------------------------------------------------------------------\u001b[0m",
      "\u001b[0;31mKeyboardInterrupt\u001b[0m                         Traceback (most recent call last)",
      "\u001b[0;32m<ipython-input-2-ae4a9ad7791c>\u001b[0m in \u001b[0;36m<module>\u001b[0;34m()\u001b[0m\n\u001b[1;32m      1\u001b[0m \u001b[0msalary_data\u001b[0m \u001b[0;34m=\u001b[0m \u001b[0mpd\u001b[0m\u001b[0;34m.\u001b[0m\u001b[0mread_excel\u001b[0m\u001b[0;34m(\u001b[0m\u001b[0;34m\"salaire.xls\"\u001b[0m\u001b[0;34m,\u001b[0m \u001b[0mskiprows\u001b[0m\u001b[0;34m=\u001b[0m\u001b[0;36m5\u001b[0m\u001b[0;34m)\u001b[0m\u001b[0;34m\u001b[0m\u001b[0m\n\u001b[1;32m      2\u001b[0m \u001b[0mimmigration_data\u001b[0m \u001b[0;34m=\u001b[0m \u001b[0mpd\u001b[0m\u001b[0;34m.\u001b[0m\u001b[0mread_excel\u001b[0m\u001b[0;34m(\u001b[0m\u001b[0;34m\"immigration.xls\"\u001b[0m\u001b[0;34m,\u001b[0m \u001b[0mskiprows\u001b[0m\u001b[0;34m=\u001b[0m\u001b[0;36m10\u001b[0m\u001b[0;34m)\u001b[0m\u001b[0;34m\u001b[0m\u001b[0m\n\u001b[0;32m----> 3\u001b[0;31m \u001b[0mpopulation_data\u001b[0m \u001b[0;34m=\u001b[0m \u001b[0mpd\u001b[0m\u001b[0;34m.\u001b[0m\u001b[0mread_excel\u001b[0m\u001b[0;34m(\u001b[0m\u001b[0;34m\"population.xls\"\u001b[0m\u001b[0;34m,\u001b[0m \u001b[0mskiprows\u001b[0m\u001b[0;34m=\u001b[0m\u001b[0;36m5\u001b[0m\u001b[0;34m)\u001b[0m\u001b[0;34m\u001b[0m\u001b[0m\n\u001b[0m\u001b[1;32m      4\u001b[0m \u001b[0meducation_data\u001b[0m \u001b[0;34m=\u001b[0m \u001b[0mpd\u001b[0m\u001b[0;34m.\u001b[0m\u001b[0mread_excel\u001b[0m\u001b[0;34m(\u001b[0m\u001b[0;34m\"education.xls\"\u001b[0m\u001b[0;34m,\u001b[0m \u001b[0mskiprows\u001b[0m\u001b[0;34m=\u001b[0m\u001b[0;36m5\u001b[0m\u001b[0;34m)\u001b[0m\u001b[0;34m\u001b[0m\u001b[0m\n\u001b[1;32m      5\u001b[0m \u001b[0mlogement_data\u001b[0m \u001b[0;34m=\u001b[0m \u001b[0mpd\u001b[0m\u001b[0;34m.\u001b[0m\u001b[0mread_excel\u001b[0m\u001b[0;34m(\u001b[0m\u001b[0;34m\"logement.xls\"\u001b[0m\u001b[0;34m,\u001b[0m \u001b[0mskiprows\u001b[0m\u001b[0;34m=\u001b[0m\u001b[0;36m5\u001b[0m\u001b[0;34m)\u001b[0m\u001b[0;34m\u001b[0m\u001b[0m\n",
      "\u001b[0;32m//anaconda/lib/python2.7/site-packages/pandas/io/excel.pyc\u001b[0m in \u001b[0;36mread_excel\u001b[0;34m(io, sheetname, header, skiprows, skip_footer, index_col, parse_cols, parse_dates, date_parser, na_values, thousands, convert_float, has_index_names, converters, engine, **kwds)\u001b[0m\n\u001b[1;32m    161\u001b[0m \u001b[0;34m\u001b[0m\u001b[0m\n\u001b[1;32m    162\u001b[0m     \u001b[0;32mif\u001b[0m \u001b[0;32mnot\u001b[0m \u001b[0misinstance\u001b[0m\u001b[0;34m(\u001b[0m\u001b[0mio\u001b[0m\u001b[0;34m,\u001b[0m \u001b[0mExcelFile\u001b[0m\u001b[0;34m)\u001b[0m\u001b[0;34m:\u001b[0m\u001b[0;34m\u001b[0m\u001b[0m\n\u001b[0;32m--> 163\u001b[0;31m         \u001b[0mio\u001b[0m \u001b[0;34m=\u001b[0m \u001b[0mExcelFile\u001b[0m\u001b[0;34m(\u001b[0m\u001b[0mio\u001b[0m\u001b[0;34m,\u001b[0m \u001b[0mengine\u001b[0m\u001b[0;34m=\u001b[0m\u001b[0mengine\u001b[0m\u001b[0;34m)\u001b[0m\u001b[0;34m\u001b[0m\u001b[0m\n\u001b[0m\u001b[1;32m    164\u001b[0m \u001b[0;34m\u001b[0m\u001b[0m\n\u001b[1;32m    165\u001b[0m     return io._parse_excel(\n",
      "\u001b[0;32m//anaconda/lib/python2.7/site-packages/pandas/io/excel.pyc\u001b[0m in \u001b[0;36m__init__\u001b[0;34m(self, io, **kwds)\u001b[0m\n\u001b[1;32m    204\u001b[0m                 \u001b[0mself\u001b[0m\u001b[0;34m.\u001b[0m\u001b[0mbook\u001b[0m \u001b[0;34m=\u001b[0m \u001b[0mxlrd\u001b[0m\u001b[0;34m.\u001b[0m\u001b[0mopen_workbook\u001b[0m\u001b[0;34m(\u001b[0m\u001b[0mfile_contents\u001b[0m\u001b[0;34m=\u001b[0m\u001b[0mdata\u001b[0m\u001b[0;34m)\u001b[0m\u001b[0;34m\u001b[0m\u001b[0m\n\u001b[1;32m    205\u001b[0m             \u001b[0;32melse\u001b[0m\u001b[0;34m:\u001b[0m\u001b[0;34m\u001b[0m\u001b[0m\n\u001b[0;32m--> 206\u001b[0;31m                 \u001b[0mself\u001b[0m\u001b[0;34m.\u001b[0m\u001b[0mbook\u001b[0m \u001b[0;34m=\u001b[0m \u001b[0mxlrd\u001b[0m\u001b[0;34m.\u001b[0m\u001b[0mopen_workbook\u001b[0m\u001b[0;34m(\u001b[0m\u001b[0mio\u001b[0m\u001b[0;34m)\u001b[0m\u001b[0;34m\u001b[0m\u001b[0m\n\u001b[0m\u001b[1;32m    207\u001b[0m         \u001b[0;32melif\u001b[0m \u001b[0mengine\u001b[0m \u001b[0;34m==\u001b[0m \u001b[0;34m'xlrd'\u001b[0m \u001b[0;32mand\u001b[0m \u001b[0misinstance\u001b[0m\u001b[0;34m(\u001b[0m\u001b[0mio\u001b[0m\u001b[0;34m,\u001b[0m \u001b[0mxlrd\u001b[0m\u001b[0;34m.\u001b[0m\u001b[0mBook\u001b[0m\u001b[0;34m)\u001b[0m\u001b[0;34m:\u001b[0m\u001b[0;34m\u001b[0m\u001b[0m\n\u001b[1;32m    208\u001b[0m             \u001b[0mself\u001b[0m\u001b[0;34m.\u001b[0m\u001b[0mbook\u001b[0m \u001b[0;34m=\u001b[0m \u001b[0mio\u001b[0m\u001b[0;34m\u001b[0m\u001b[0m\n",
      "\u001b[0;32m//anaconda/lib/python2.7/site-packages/xlrd/__init__.pyc\u001b[0m in \u001b[0;36mopen_workbook\u001b[0;34m(filename, logfile, verbosity, use_mmap, file_contents, encoding_override, formatting_info, on_demand, ragged_rows)\u001b[0m\n\u001b[1;32m    433\u001b[0m         \u001b[0mformatting_info\u001b[0m\u001b[0;34m=\u001b[0m\u001b[0mformatting_info\u001b[0m\u001b[0;34m,\u001b[0m\u001b[0;34m\u001b[0m\u001b[0m\n\u001b[1;32m    434\u001b[0m         \u001b[0mon_demand\u001b[0m\u001b[0;34m=\u001b[0m\u001b[0mon_demand\u001b[0m\u001b[0;34m,\u001b[0m\u001b[0;34m\u001b[0m\u001b[0m\n\u001b[0;32m--> 435\u001b[0;31m         \u001b[0mragged_rows\u001b[0m\u001b[0;34m=\u001b[0m\u001b[0mragged_rows\u001b[0m\u001b[0;34m,\u001b[0m\u001b[0;34m\u001b[0m\u001b[0m\n\u001b[0m\u001b[1;32m    436\u001b[0m         )\n\u001b[1;32m    437\u001b[0m     \u001b[0;32mreturn\u001b[0m \u001b[0mbk\u001b[0m\u001b[0;34m\u001b[0m\u001b[0m\n",
      "\u001b[0;32m//anaconda/lib/python2.7/site-packages/xlrd/book.pyc\u001b[0m in \u001b[0;36mopen_workbook_xls\u001b[0;34m(filename, logfile, verbosity, use_mmap, file_contents, encoding_override, formatting_info, on_demand, ragged_rows)\u001b[0m\n\u001b[1;32m    114\u001b[0m                 \u001b[0mbk\u001b[0m\u001b[0;34m.\u001b[0m\u001b[0mon_demand\u001b[0m \u001b[0;34m=\u001b[0m \u001b[0mon_demand\u001b[0m \u001b[0;34m=\u001b[0m \u001b[0mFalse\u001b[0m\u001b[0;34m\u001b[0m\u001b[0m\n\u001b[1;32m    115\u001b[0m         \u001b[0;32melse\u001b[0m\u001b[0;34m:\u001b[0m\u001b[0;34m\u001b[0m\u001b[0m\n\u001b[0;32m--> 116\u001b[0;31m             \u001b[0mbk\u001b[0m\u001b[0;34m.\u001b[0m\u001b[0mparse_globals\u001b[0m\u001b[0;34m(\u001b[0m\u001b[0;34m)\u001b[0m\u001b[0;34m\u001b[0m\u001b[0m\n\u001b[0m\u001b[1;32m    117\u001b[0m             \u001b[0mbk\u001b[0m\u001b[0;34m.\u001b[0m\u001b[0m_sheet_list\u001b[0m \u001b[0;34m=\u001b[0m \u001b[0;34m[\u001b[0m\u001b[0mNone\u001b[0m \u001b[0;32mfor\u001b[0m \u001b[0msh\u001b[0m \u001b[0;32min\u001b[0m \u001b[0mbk\u001b[0m\u001b[0;34m.\u001b[0m\u001b[0m_sheet_names\u001b[0m\u001b[0;34m]\u001b[0m\u001b[0;34m\u001b[0m\u001b[0m\n\u001b[1;32m    118\u001b[0m             \u001b[0;32mif\u001b[0m \u001b[0;32mnot\u001b[0m \u001b[0mon_demand\u001b[0m\u001b[0;34m:\u001b[0m\u001b[0;34m\u001b[0m\u001b[0m\n",
      "\u001b[0;32m//anaconda/lib/python2.7/site-packages/xlrd/book.pyc\u001b[0m in \u001b[0;36mparse_globals\u001b[0;34m(self)\u001b[0m\n\u001b[1;32m   1156\u001b[0m             \u001b[0;32mif\u001b[0m \u001b[0mDEBUG\u001b[0m\u001b[0;34m:\u001b[0m \u001b[0;32mprint\u001b[0m\u001b[0;34m(\u001b[0m\u001b[0;34m\"parse_globals: record code is 0x%04x\"\u001b[0m \u001b[0;34m%\u001b[0m \u001b[0mrc\u001b[0m\u001b[0;34m,\u001b[0m \u001b[0mfile\u001b[0m\u001b[0;34m=\u001b[0m\u001b[0mself\u001b[0m\u001b[0;34m.\u001b[0m\u001b[0mlogfile\u001b[0m\u001b[0;34m)\u001b[0m\u001b[0;34m\u001b[0m\u001b[0m\n\u001b[1;32m   1157\u001b[0m             \u001b[0;32mif\u001b[0m \u001b[0mrc\u001b[0m \u001b[0;34m==\u001b[0m \u001b[0mXL_SST\u001b[0m\u001b[0;34m:\u001b[0m\u001b[0;34m\u001b[0m\u001b[0m\n\u001b[0;32m-> 1158\u001b[0;31m                 \u001b[0mself\u001b[0m\u001b[0;34m.\u001b[0m\u001b[0mhandle_sst\u001b[0m\u001b[0;34m(\u001b[0m\u001b[0mdata\u001b[0m\u001b[0;34m)\u001b[0m\u001b[0;34m\u001b[0m\u001b[0m\n\u001b[0m\u001b[1;32m   1159\u001b[0m             \u001b[0;32melif\u001b[0m \u001b[0mrc\u001b[0m \u001b[0;34m==\u001b[0m \u001b[0mXL_FONT\u001b[0m \u001b[0;32mor\u001b[0m \u001b[0mrc\u001b[0m \u001b[0;34m==\u001b[0m \u001b[0mXL_FONT_B3B4\u001b[0m\u001b[0;34m:\u001b[0m\u001b[0;34m\u001b[0m\u001b[0m\n\u001b[1;32m   1160\u001b[0m                 \u001b[0mself\u001b[0m\u001b[0;34m.\u001b[0m\u001b[0mhandle_font\u001b[0m\u001b[0;34m(\u001b[0m\u001b[0mdata\u001b[0m\u001b[0;34m)\u001b[0m\u001b[0;34m\u001b[0m\u001b[0m\n",
      "\u001b[0;32m//anaconda/lib/python2.7/site-packages/xlrd/book.pyc\u001b[0m in \u001b[0;36mhandle_sst\u001b[0;34m(self, data)\u001b[0m\n\u001b[1;32m   1127\u001b[0m                 \u001b[0mfprintf\u001b[0m\u001b[0;34m(\u001b[0m\u001b[0mself\u001b[0m\u001b[0;34m.\u001b[0m\u001b[0mlogfile\u001b[0m\u001b[0;34m,\u001b[0m \u001b[0;34m\"CONTINUE: adding %d bytes to SST -> %d\\n\"\u001b[0m\u001b[0;34m,\u001b[0m \u001b[0mnb\u001b[0m\u001b[0;34m,\u001b[0m \u001b[0mnbt\u001b[0m\u001b[0;34m)\u001b[0m\u001b[0;34m\u001b[0m\u001b[0m\n\u001b[1;32m   1128\u001b[0m             \u001b[0mstrlist\u001b[0m\u001b[0;34m.\u001b[0m\u001b[0mappend\u001b[0m\u001b[0;34m(\u001b[0m\u001b[0mdata\u001b[0m\u001b[0;34m)\u001b[0m\u001b[0;34m\u001b[0m\u001b[0m\n\u001b[0;32m-> 1129\u001b[0;31m         \u001b[0mself\u001b[0m\u001b[0;34m.\u001b[0m\u001b[0m_sharedstrings\u001b[0m\u001b[0;34m,\u001b[0m \u001b[0mrt_runlist\u001b[0m \u001b[0;34m=\u001b[0m \u001b[0munpack_SST_table\u001b[0m\u001b[0;34m(\u001b[0m\u001b[0mstrlist\u001b[0m\u001b[0;34m,\u001b[0m \u001b[0muniquestrings\u001b[0m\u001b[0;34m)\u001b[0m\u001b[0;34m\u001b[0m\u001b[0m\n\u001b[0m\u001b[1;32m   1130\u001b[0m         \u001b[0;32mif\u001b[0m \u001b[0mself\u001b[0m\u001b[0;34m.\u001b[0m\u001b[0mformatting_info\u001b[0m\u001b[0;34m:\u001b[0m\u001b[0;34m\u001b[0m\u001b[0m\n\u001b[1;32m   1131\u001b[0m             \u001b[0mself\u001b[0m\u001b[0;34m.\u001b[0m\u001b[0m_rich_text_runlist_map\u001b[0m \u001b[0;34m=\u001b[0m \u001b[0mrt_runlist\u001b[0m\u001b[0;34m\u001b[0m\u001b[0m\n",
      "\u001b[0;32m//anaconda/lib/python2.7/site-packages/xlrd/book.pyc\u001b[0m in \u001b[0;36munpack_SST_table\u001b[0;34m(datatab, nstrings)\u001b[0m\n\u001b[1;32m   1384\u001b[0m                 \u001b[0mrawstrg\u001b[0m \u001b[0;34m=\u001b[0m \u001b[0mdata\u001b[0m\u001b[0;34m[\u001b[0m\u001b[0mpos\u001b[0m\u001b[0;34m:\u001b[0m\u001b[0mpos\u001b[0m\u001b[0;34m+\u001b[0m\u001b[0mcharsavail\u001b[0m\u001b[0;34m]\u001b[0m\u001b[0;34m\u001b[0m\u001b[0m\n\u001b[1;32m   1385\u001b[0m                 \u001b[0;31m# if DEBUG: print \"SST CMPRSD: nchars=%d pos=%d rawstrg=%r\" % (nchars, pos, rawstrg)\u001b[0m\u001b[0;34m\u001b[0m\u001b[0;34m\u001b[0m\u001b[0m\n\u001b[0;32m-> 1386\u001b[0;31m                 \u001b[0maccstrg\u001b[0m \u001b[0;34m+=\u001b[0m \u001b[0municode\u001b[0m\u001b[0;34m(\u001b[0m\u001b[0mrawstrg\u001b[0m\u001b[0;34m,\u001b[0m \u001b[0mlatin_1\u001b[0m\u001b[0;34m)\u001b[0m\u001b[0;34m\u001b[0m\u001b[0m\n\u001b[0m\u001b[1;32m   1387\u001b[0m                 \u001b[0mpos\u001b[0m \u001b[0;34m+=\u001b[0m \u001b[0mcharsavail\u001b[0m\u001b[0;34m\u001b[0m\u001b[0m\n\u001b[1;32m   1388\u001b[0m             \u001b[0mcharsgot\u001b[0m \u001b[0;34m+=\u001b[0m \u001b[0mcharsavail\u001b[0m\u001b[0;34m\u001b[0m\u001b[0m\n",
      "\u001b[0;31mKeyboardInterrupt\u001b[0m: "
     ]
    }
   ],
   "source": [
    "salary_data = pd.read_excel(\"salaire.xls\", skiprows=5)\n",
    "immigration_data = pd.read_excel(\"immigration.xls\", skiprows=10)\n",
    "population_data = pd.read_excel(\"population.xls\", skiprows=5)\n",
    "education_data = pd.read_excel(\"education.xls\", skiprows=5)\n",
    "logement_data = pd.read_excel(\"logement.xls\", skiprows=5)"
   ]
  },
  {
   "cell_type": "markdown",
   "metadata": {},
   "source": [
    "### First, as usual, we convert unicode to string."
   ]
  },
  {
   "cell_type": "code",
   "execution_count": null,
   "metadata": {
    "collapsed": false
   },
   "outputs": [],
   "source": [
    "import unicodedata\n",
    "\n",
    "def unicode_to_string(word):\n",
    "    if pd.isnull(word):\n",
    "        return \n",
    "    else:\n",
    "        return unicodedata.normalize('NFKD', word).encode('ascii','ignore')\n",
    "    \n",
    "def data_to_string(data):\n",
    "    new_data = data.copy()\n",
    "    \n",
    "    col_title_unicode = new_data.columns.values.tolist()\n",
    "    col_title = map(unicode_to_string,col_title_unicode)\n",
    "    new_data.columns = col_title\n",
    "    \n",
    "    for col in new_data.columns:\n",
    "        not_nan_index = [not ind for ind in new_data[col].isnull()]\n",
    "        not_nan_value = new_data[col][not_nan_index]\n",
    "        if type(not_nan_value.iloc[0]) == unicode: #check the first not-NaN value\n",
    "            new_data[col] = map(unicode_to_string,new_data[col])\n",
    "            \n",
    "    return new_data"
   ]
  },
  {
   "cell_type": "code",
   "execution_count": null,
   "metadata": {
    "collapsed": false
   },
   "outputs": [],
   "source": [
    "salary_data = data_to_string(salary_data)\n",
    "immigration_data = data_to_string(immigration_data)\n",
    "population_data = data_to_string(population_data)\n",
    "education_data = data_to_string(education_data)\n",
    "logement_data = data_to_string(logement_data)"
   ]
  },
  {
   "cell_type": "markdown",
   "metadata": {},
   "source": [
    "### Now we will rename the column headers so that we have at least 1 common column for all the data frames. "
   ]
  },
  {
   "cell_type": "code",
   "execution_count": null,
   "metadata": {
    "collapsed": true
   },
   "outputs": [],
   "source": [
    "def rename_column(data): \n",
    "    new_data = data.copy()\n",
    "    col_title = new_data.columns.tolist()\n",
    "    for x in xrange(len(col_title)):\n",
    "        if col_title[x] == 'CODGEO':\n",
    "            col_title[x] = 'Code Insee' # this will be the pivot column for merging\n",
    "        if col_title[x] == 'LIBGEO':\n",
    "            col_title[x] = 'Libelle de la commune'\n",
    "    new_data.columns = col_title\n",
    "    return new_data"
   ]
  },
  {
   "cell_type": "code",
   "execution_count": null,
   "metadata": {
    "collapsed": false
   },
   "outputs": [],
   "source": [
    "salary_data = rename_column(salary_data)\n",
    "immigration_data = rename_column(immigration_data)\n",
    "population_data = rename_column(population_data)\n",
    "education_data = rename_column(education_data)\n",
    "logement_data = rename_column(logement_data)"
   ]
  },
  {
   "cell_type": "markdown",
   "metadata": {},
   "source": [
    "### We still have problem with departemental code of Corse because they are not in numerical form (2A... or 2B...)."
   ]
  },
  {
   "cell_type": "code",
   "execution_count": null,
   "metadata": {
    "collapsed": true
   },
   "outputs": [],
   "source": [
    "def to_digit(string):\n",
    "    new_string = list(string)[:]\n",
    "    for x in xrange(len(new_string)): \n",
    "        if not new_string[x].isdigit():\n",
    "            new_string[x] = '0'\n",
    "    return int(''.join(new_string))"
   ]
  },
  {
   "cell_type": "code",
   "execution_count": null,
   "metadata": {
    "collapsed": true
   },
   "outputs": [],
   "source": [
    "def replace_insee_code(data): #replace 2AXXX or 2BXXX by 20XXX \n",
    "        new_data = data.copy()\n",
    "        insee_list = new_data['Code Insee'].tolist() \n",
    "        new_insee_list = [int(code) if code.isdigit() else to_digit(code) for code in insee_list]\n",
    "        new_data['Code Insee'] = new_insee_list\n",
    "        return new_data"
   ]
  },
  {
   "cell_type": "code",
   "execution_count": null,
   "metadata": {
    "collapsed": false
   },
   "outputs": [],
   "source": [
    "salary_data = replace_insee_code(salary_data)\n",
    "immigration_data = replace_insee_code(immigration_data)\n",
    "population_data = replace_insee_code(population_data)\n",
    "education_data = replace_insee_code(education_data)\n",
    "logement_data = replace_insee_code(logement_data)"
   ]
  },
  {
   "cell_type": "markdown",
   "metadata": {},
   "source": [
    "### There is still another problem: all the numbers in our excel sheet are read in float format. We need to convert them to int for the immigration and population data because they contain quantity-format data."
   ]
  },
  {
   "cell_type": "code",
   "execution_count": null,
   "metadata": {
    "collapsed": true
   },
   "outputs": [],
   "source": [
    "def float_to_int(data):\n",
    "    new_data = data.copy()    \n",
    "    for col in new_data.columns:\n",
    "        not_nan_index = [not ind for ind in new_data[col].isnull()]\n",
    "        not_nan_value = new_data[col][not_nan_index]\n",
    "        if type(not_nan_value.iloc[0]) == np.float64: #check the first not-NaN value\n",
    "            new_data[col] = new_data[col].round()\n",
    "    return new_data"
   ]
  },
  {
   "cell_type": "code",
   "execution_count": null,
   "metadata": {
    "collapsed": false
   },
   "outputs": [],
   "source": [
    "immigration_data = float_to_int(immigration_data)\n",
    "population_data = float_to_int(population_data)\n",
    "education_data = float_to_int(education_data)\n",
    "logement_data = float_to_int(logement_data )"
   ]
  },
  {
   "cell_type": "markdown",
   "metadata": {},
   "source": [
    "### In immigration data, we will add a column which shows us the percentage of adult immigrants  in each town."
   ]
  },
  {
   "cell_type": "code",
   "execution_count": null,
   "metadata": {
    "collapsed": false
   },
   "outputs": [],
   "source": [
    "def add_total_immigrant_variable(data): \n",
    "    new_data = data.copy()\n",
    "    variable_list = []\n",
    "    sum_list = []\n",
    "    for variable in data.columns.tolist(): \n",
    "        if 'IMMI' in variable and 'AGE400' not in variable: \n",
    "            sum_list.append(variable)\n",
    "            if 'IMMI1' in variable:\n",
    "                variable_list.append(variable)\n",
    "    new_data['% immigrant'] = (new_data[variable_list].sum(axis=1)/ new_data[sum_list].sum(axis=1)) * 100\n",
    "    col = new_data.columns.tolist()\n",
    "    col = col[:2] + col[-1:] + col[2:-1]\n",
    "    new_data = new_data[col]\n",
    "    return new_data"
   ]
  },
  {
   "cell_type": "code",
   "execution_count": null,
   "metadata": {
    "collapsed": false
   },
   "outputs": [],
   "source": [
    "immigration_data = add_total_immigrant_variable(immigration_data)"
   ]
  },
  {
   "cell_type": "code",
   "execution_count": null,
   "metadata": {
    "collapsed": false
   },
   "outputs": [],
   "source": [
    "immigration_data.head()"
   ]
  },
  {
   "cell_type": "markdown",
   "metadata": {},
   "source": [
    "### In education data, we convert the data to percentage. "
   ]
  },
  {
   "cell_type": "code",
   "execution_count": null,
   "metadata": {
    "collapsed": false
   },
   "outputs": [],
   "source": [
    "def education_level_in_percentage(data):\n",
    "    new_data = data.copy()\n",
    "    variable_list = ['Code Insee', 'Libelle de la commune']\n",
    "    for variable in new_data.columns.tolist(): \n",
    "        if '_NSCOL15P_' in variable:\n",
    "            variable_list.append(variable)\n",
    "    for chosen_variable in variable_list[2:]:\n",
    "        new_data[chosen_variable] = (new_data[chosen_variable] / new_data['P12_NSCOL15P']) * 100\n",
    "        #new_data[chosen_variable] = new_data['P12_NSCOL15P'] - new_data[variable_list].sum(axis=1)\n",
    "    return new_data[variable_list]"
   ]
  },
  {
   "cell_type": "code",
   "execution_count": null,
   "metadata": {
    "collapsed": false
   },
   "outputs": [],
   "source": [
    "education_data = education_level_in_percentage(education_data)"
   ]
  },
  {
   "cell_type": "code",
   "execution_count": null,
   "metadata": {
    "collapsed": false
   },
   "outputs": [],
   "source": [
    "education_data.head()"
   ]
  },
  {
   "cell_type": "markdown",
   "metadata": {},
   "source": [
    "### In population data, we will transform the social status columns from quantity to percentage too."
   ]
  },
  {
   "cell_type": "code",
   "execution_count": null,
   "metadata": {
    "collapsed": true
   },
   "outputs": [],
   "source": [
    "def social_status_percentage(data): \n",
    "    new_data = data.copy()\n",
    "    status_list = ['C12_POP15P_CS1', 'C12_POP15P_CS2','C12_POP15P_CS3','C12_POP15P_CS4','C12_POP15P_CS5',\n",
    "                   'C12_POP15P_CS6','C12_POP15P_CS7','C12_POP15P_CS8']\n",
    "    adult_population = new_data['C12_POP15P']\n",
    "    for col in status_list:\n",
    "        new_data['% '+ col] = (new_data[col] / adult_population)*100\n",
    "    return new_data"
   ]
  },
  {
   "cell_type": "code",
   "execution_count": null,
   "metadata": {
    "collapsed": false
   },
   "outputs": [],
   "source": [
    "population_data = social_status_percentage(population_data)"
   ]
  },
  {
   "cell_type": "code",
   "execution_count": null,
   "metadata": {
    "collapsed": false
   },
   "outputs": [],
   "source": [
    "population_data.head()"
   ]
  },
  {
   "cell_type": "markdown",
   "metadata": {},
   "source": [
    "### In logement data, we compute the percentage of house proprietor"
   ]
  },
  {
   "cell_type": "code",
   "execution_count": null,
   "metadata": {
    "collapsed": true
   },
   "outputs": [],
   "source": [
    "def proprietor_percentage(data):\n",
    "    new_data = data.copy()\n",
    "    new_data['P12_NPER_RP_PROP'] = ((new_data['P12_NPER_RP_PROP'])/new_data['P12_NPER_RP'])*100\n",
    "    return new_data"
   ]
  },
  {
   "cell_type": "code",
   "execution_count": null,
   "metadata": {
    "collapsed": false
   },
   "outputs": [],
   "source": [
    "logement_data = proprietor_percentage(logement_data)"
   ]
  },
  {
   "cell_type": "markdown",
   "metadata": {},
   "source": [
    "### Now we try to merge all the data frames"
   ]
  },
  {
   "cell_type": "code",
   "execution_count": 40,
   "metadata": {
    "collapsed": false
   },
   "outputs": [],
   "source": [
    "right_party_vote = pd.read_excel(\"right_party_vote.xlsx\")\n",
    "left_party_vote = pd.read_excel(\"left_party_vote.xlsx\")\n",
    "er_party_vote = pd.read_excel(\"er_party_vote.xlsx\")\n"
   ]
  },
  {
   "cell_type": "code",
   "execution_count": 42,
   "metadata": {
    "collapsed": false
   },
   "outputs": [],
   "source": [
    "immigration_salary = pd.merge(immigration_data, salary_data, on = ['Code Insee','Libelle de la commune'], how = 'outer')"
   ]
  },
  {
   "cell_type": "code",
   "execution_count": 43,
   "metadata": {
    "collapsed": false
   },
   "outputs": [],
   "source": [
    "immigration_salary_population = pd.merge(population_data, immigration_salary, on = ['Code Insee','Libelle de la commune'], how = 'outer')"
   ]
  },
  {
   "cell_type": "code",
   "execution_count": 44,
   "metadata": {
    "collapsed": false
   },
   "outputs": [],
   "source": [
    "immigration_salary_population_education = pd.merge(education_data, immigration_salary_population, on = ['Code Insee','Libelle de la commune'], how = 'outer')"
   ]
  },
  {
   "cell_type": "code",
   "execution_count": 45,
   "metadata": {
    "collapsed": false
   },
   "outputs": [],
   "source": [
    "im_sal_pop_edu_log = pd.merge(logement_data, immigration_salary_population_education, on = ['Code Insee','Libelle de la commune'], how = 'outer')"
   ]
  },
  {
   "cell_type": "code",
   "execution_count": 46,
   "metadata": {
    "collapsed": false
   },
   "outputs": [],
   "source": [
    "full_data_right = pd.merge(right_party_vote, im_sal_pop_edu_log, on = 'Code Insee', how = 'left')\n",
    "full_data_left = pd.merge(left_party_vote, im_sal_pop_edu_log, on = 'Code Insee', how = 'left')\n",
    "full_data_er = pd.merge(er_party_vote, im_sal_pop_edu_log, on = 'Code Insee', how = 'left')"
   ]
  },
  {
   "cell_type": "code",
   "execution_count": 47,
   "metadata": {
    "collapsed": false
   },
   "outputs": [
    {
     "data": {
      "text/html": [
       "<div>\n",
       "<table border=\"1\" class=\"dataframe\">\n",
       "  <thead>\n",
       "    <tr style=\"text-align: right;\">\n",
       "      <th></th>\n",
       "      <th>Code Insee</th>\n",
       "      <th>Voix</th>\n",
       "      <th>% Voix/Ins</th>\n",
       "      <th>% Voix/Exp</th>\n",
       "      <th>% Abs/Ins</th>\n",
       "      <th>REG_x</th>\n",
       "      <th>DEP_x</th>\n",
       "      <th>Libelle de la commune</th>\n",
       "      <th>P12_LOG</th>\n",
       "      <th>P12_RP</th>\n",
       "      <th>...</th>\n",
       "      <th>SNHMHO12</th>\n",
       "      <th>SNHM1812</th>\n",
       "      <th>SNHM2612</th>\n",
       "      <th>SNHM5012</th>\n",
       "      <th>SNHMF1812</th>\n",
       "      <th>SNHMF2612</th>\n",
       "      <th>SNHMF5012</th>\n",
       "      <th>SNHMH1812</th>\n",
       "      <th>SNHMH2612</th>\n",
       "      <th>SNHMH5012</th>\n",
       "    </tr>\n",
       "  </thead>\n",
       "  <tbody>\n",
       "    <tr>\n",
       "      <th>0</th>\n",
       "      <td>1001</td>\n",
       "      <td>107</td>\n",
       "      <td>18.32</td>\n",
       "      <td>33.44</td>\n",
       "      <td>44.69</td>\n",
       "      <td>82</td>\n",
       "      <td>01</td>\n",
       "      <td>L'Abergement-Clemenciat</td>\n",
       "      <td>335</td>\n",
       "      <td>301</td>\n",
       "      <td>...</td>\n",
       "      <td>NaN</td>\n",
       "      <td>NaN</td>\n",
       "      <td>NaN</td>\n",
       "      <td>NaN</td>\n",
       "      <td>NaN</td>\n",
       "      <td>NaN</td>\n",
       "      <td>NaN</td>\n",
       "      <td>NaN</td>\n",
       "      <td>NaN</td>\n",
       "      <td>NaN</td>\n",
       "    </tr>\n",
       "    <tr>\n",
       "      <th>1</th>\n",
       "      <td>1002</td>\n",
       "      <td>32</td>\n",
       "      <td>14.28</td>\n",
       "      <td>25.20</td>\n",
       "      <td>41.52</td>\n",
       "      <td>82</td>\n",
       "      <td>01</td>\n",
       "      <td>L'Abergement-de-Varey</td>\n",
       "      <td>160</td>\n",
       "      <td>101</td>\n",
       "      <td>...</td>\n",
       "      <td>NaN</td>\n",
       "      <td>NaN</td>\n",
       "      <td>NaN</td>\n",
       "      <td>NaN</td>\n",
       "      <td>NaN</td>\n",
       "      <td>NaN</td>\n",
       "      <td>NaN</td>\n",
       "      <td>NaN</td>\n",
       "      <td>NaN</td>\n",
       "      <td>NaN</td>\n",
       "    </tr>\n",
       "    <tr>\n",
       "      <th>2</th>\n",
       "      <td>1004</td>\n",
       "      <td>1096</td>\n",
       "      <td>13.45</td>\n",
       "      <td>29.76</td>\n",
       "      <td>53.34</td>\n",
       "      <td>82</td>\n",
       "      <td>01</td>\n",
       "      <td>Amberieu-en-Bugey</td>\n",
       "      <td>6629</td>\n",
       "      <td>6012</td>\n",
       "      <td>...</td>\n",
       "      <td>10.945976</td>\n",
       "      <td>9.724445</td>\n",
       "      <td>13.042454</td>\n",
       "      <td>15.461354</td>\n",
       "      <td>9.049192</td>\n",
       "      <td>11.33007</td>\n",
       "      <td>12.313855</td>\n",
       "      <td>10.194692</td>\n",
       "      <td>14.088531</td>\n",
       "      <td>17.557177</td>\n",
       "    </tr>\n",
       "    <tr>\n",
       "      <th>3</th>\n",
       "      <td>1005</td>\n",
       "      <td>168</td>\n",
       "      <td>14.38</td>\n",
       "      <td>31.22</td>\n",
       "      <td>52.23</td>\n",
       "      <td>82</td>\n",
       "      <td>01</td>\n",
       "      <td>Amberieux-en-Dombes</td>\n",
       "      <td>647</td>\n",
       "      <td>615</td>\n",
       "      <td>...</td>\n",
       "      <td>NaN</td>\n",
       "      <td>NaN</td>\n",
       "      <td>NaN</td>\n",
       "      <td>NaN</td>\n",
       "      <td>NaN</td>\n",
       "      <td>NaN</td>\n",
       "      <td>NaN</td>\n",
       "      <td>NaN</td>\n",
       "      <td>NaN</td>\n",
       "      <td>NaN</td>\n",
       "    </tr>\n",
       "    <tr>\n",
       "      <th>4</th>\n",
       "      <td>1006</td>\n",
       "      <td>22</td>\n",
       "      <td>20.56</td>\n",
       "      <td>42.31</td>\n",
       "      <td>49.53</td>\n",
       "      <td>82</td>\n",
       "      <td>01</td>\n",
       "      <td>Ambleon</td>\n",
       "      <td>70</td>\n",
       "      <td>52</td>\n",
       "      <td>...</td>\n",
       "      <td>NaN</td>\n",
       "      <td>NaN</td>\n",
       "      <td>NaN</td>\n",
       "      <td>NaN</td>\n",
       "      <td>NaN</td>\n",
       "      <td>NaN</td>\n",
       "      <td>NaN</td>\n",
       "      <td>NaN</td>\n",
       "      <td>NaN</td>\n",
       "      <td>NaN</td>\n",
       "    </tr>\n",
       "  </tbody>\n",
       "</table>\n",
       "<p>5 rows × 245 columns</p>\n",
       "</div>"
      ],
      "text/plain": [
       "   Code Insee  Voix  % Voix/Ins  % Voix/Exp  % Abs/Ins  REG_x DEP_x  \\\n",
       "0        1001   107       18.32       33.44      44.69     82    01   \n",
       "1        1002    32       14.28       25.20      41.52     82    01   \n",
       "2        1004  1096       13.45       29.76      53.34     82    01   \n",
       "3        1005   168       14.38       31.22      52.23     82    01   \n",
       "4        1006    22       20.56       42.31      49.53     82    01   \n",
       "\n",
       "     Libelle de la commune  P12_LOG  P12_RP    ...       SNHMHO12  SNHM1812  \\\n",
       "0  L'Abergement-Clemenciat      335     301    ...            NaN       NaN   \n",
       "1    L'Abergement-de-Varey      160     101    ...            NaN       NaN   \n",
       "2        Amberieu-en-Bugey     6629    6012    ...      10.945976  9.724445   \n",
       "3      Amberieux-en-Dombes      647     615    ...            NaN       NaN   \n",
       "4                  Ambleon       70      52    ...            NaN       NaN   \n",
       "\n",
       "    SNHM2612   SNHM5012  SNHMF1812  SNHMF2612  SNHMF5012  SNHMH1812  \\\n",
       "0        NaN        NaN        NaN        NaN        NaN        NaN   \n",
       "1        NaN        NaN        NaN        NaN        NaN        NaN   \n",
       "2  13.042454  15.461354   9.049192   11.33007  12.313855  10.194692   \n",
       "3        NaN        NaN        NaN        NaN        NaN        NaN   \n",
       "4        NaN        NaN        NaN        NaN        NaN        NaN   \n",
       "\n",
       "   SNHMH2612  SNHMH5012  \n",
       "0        NaN        NaN  \n",
       "1        NaN        NaN  \n",
       "2  14.088531  17.557177  \n",
       "3        NaN        NaN  \n",
       "4        NaN        NaN  \n",
       "\n",
       "[5 rows x 245 columns]"
      ]
     },
     "execution_count": 47,
     "metadata": {},
     "output_type": "execute_result"
    }
   ],
   "source": [
    "full_data_right.head()"
   ]
  },
  {
   "cell_type": "code",
   "execution_count": 3,
   "metadata": {
    "collapsed": false
   },
   "outputs": [],
   "source": [
    "#right_vote = pd.read_excel(\"full_data_right.xlsx\")\n",
    "left_vote = pd.read_excel(\"full_data_left.xlsx\")\n",
    "#er_vote = pd.read_excel(\"full_data_er.xlsx\")\n",
    "#right_vote_2010 = pd.read_excel(\"2010_right_party_vote\")\n",
    "\n"
   ]
  },
  {
   "cell_type": "code",
   "execution_count": 4,
   "metadata": {
    "collapsed": false
   },
   "outputs": [],
   "source": [
    "#right_vote_2010 = pd.read_excel(\"2010_right_party_vote.xlsx\")\n",
    "left_vote_2010 = pd.read_excel(\"2010_left_party_vote.xlsx\")\n",
    "#er_party_vote = pd.read_excel(\"2010_er_party_vote\")"
   ]
  },
  {
   "cell_type": "code",
   "execution_count": 7,
   "metadata": {
    "collapsed": false
   },
   "outputs": [
    {
     "data": {
      "text/html": [
       "<div>\n",
       "<table border=\"1\" class=\"dataframe\">\n",
       "  <thead>\n",
       "    <tr style=\"text-align: right;\">\n",
       "      <th></th>\n",
       "      <th>Code Insee</th>\n",
       "      <th>Voix</th>\n",
       "      <th>% Voix/Ins</th>\n",
       "      <th>% Voix/Exp</th>\n",
       "      <th>% Abs/Ins</th>\n",
       "      <th>REG_x</th>\n",
       "      <th>DEP_x</th>\n",
       "      <th>Libelle de la commune</th>\n",
       "      <th>P12_LOG</th>\n",
       "      <th>P12_RP</th>\n",
       "      <th>...</th>\n",
       "      <th>SNHMHO12</th>\n",
       "      <th>SNHM1812</th>\n",
       "      <th>SNHM2612</th>\n",
       "      <th>SNHM5012</th>\n",
       "      <th>SNHMF1812</th>\n",
       "      <th>SNHMF2612</th>\n",
       "      <th>SNHMF5012</th>\n",
       "      <th>SNHMH1812</th>\n",
       "      <th>SNHMH2612</th>\n",
       "      <th>SNHMH5012</th>\n",
       "    </tr>\n",
       "  </thead>\n",
       "  <tbody>\n",
       "    <tr>\n",
       "      <th>0</th>\n",
       "      <td>1001</td>\n",
       "      <td>107</td>\n",
       "      <td>18.32</td>\n",
       "      <td>33.44</td>\n",
       "      <td>44.69</td>\n",
       "      <td>82</td>\n",
       "      <td>01</td>\n",
       "      <td>L'Abergement-Clemenciat</td>\n",
       "      <td>335</td>\n",
       "      <td>301</td>\n",
       "      <td>...</td>\n",
       "      <td>NaN</td>\n",
       "      <td>NaN</td>\n",
       "      <td>NaN</td>\n",
       "      <td>NaN</td>\n",
       "      <td>NaN</td>\n",
       "      <td>NaN</td>\n",
       "      <td>NaN</td>\n",
       "      <td>NaN</td>\n",
       "      <td>NaN</td>\n",
       "      <td>NaN</td>\n",
       "    </tr>\n",
       "    <tr>\n",
       "      <th>1</th>\n",
       "      <td>1002</td>\n",
       "      <td>32</td>\n",
       "      <td>14.28</td>\n",
       "      <td>25.20</td>\n",
       "      <td>41.52</td>\n",
       "      <td>82</td>\n",
       "      <td>01</td>\n",
       "      <td>L'Abergement-de-Varey</td>\n",
       "      <td>160</td>\n",
       "      <td>101</td>\n",
       "      <td>...</td>\n",
       "      <td>NaN</td>\n",
       "      <td>NaN</td>\n",
       "      <td>NaN</td>\n",
       "      <td>NaN</td>\n",
       "      <td>NaN</td>\n",
       "      <td>NaN</td>\n",
       "      <td>NaN</td>\n",
       "      <td>NaN</td>\n",
       "      <td>NaN</td>\n",
       "      <td>NaN</td>\n",
       "    </tr>\n",
       "    <tr>\n",
       "      <th>2</th>\n",
       "      <td>1004</td>\n",
       "      <td>1096</td>\n",
       "      <td>13.45</td>\n",
       "      <td>29.76</td>\n",
       "      <td>53.34</td>\n",
       "      <td>82</td>\n",
       "      <td>01</td>\n",
       "      <td>Amberieu-en-Bugey</td>\n",
       "      <td>6629</td>\n",
       "      <td>6012</td>\n",
       "      <td>...</td>\n",
       "      <td>10.945976</td>\n",
       "      <td>9.724445</td>\n",
       "      <td>13.042454</td>\n",
       "      <td>15.461354</td>\n",
       "      <td>9.049192</td>\n",
       "      <td>11.33007</td>\n",
       "      <td>12.313855</td>\n",
       "      <td>10.194692</td>\n",
       "      <td>14.088531</td>\n",
       "      <td>17.557177</td>\n",
       "    </tr>\n",
       "    <tr>\n",
       "      <th>3</th>\n",
       "      <td>1005</td>\n",
       "      <td>168</td>\n",
       "      <td>14.38</td>\n",
       "      <td>31.22</td>\n",
       "      <td>52.23</td>\n",
       "      <td>82</td>\n",
       "      <td>01</td>\n",
       "      <td>Amberieux-en-Dombes</td>\n",
       "      <td>647</td>\n",
       "      <td>615</td>\n",
       "      <td>...</td>\n",
       "      <td>NaN</td>\n",
       "      <td>NaN</td>\n",
       "      <td>NaN</td>\n",
       "      <td>NaN</td>\n",
       "      <td>NaN</td>\n",
       "      <td>NaN</td>\n",
       "      <td>NaN</td>\n",
       "      <td>NaN</td>\n",
       "      <td>NaN</td>\n",
       "      <td>NaN</td>\n",
       "    </tr>\n",
       "    <tr>\n",
       "      <th>4</th>\n",
       "      <td>1006</td>\n",
       "      <td>22</td>\n",
       "      <td>20.56</td>\n",
       "      <td>42.31</td>\n",
       "      <td>49.53</td>\n",
       "      <td>82</td>\n",
       "      <td>01</td>\n",
       "      <td>Ambleon</td>\n",
       "      <td>70</td>\n",
       "      <td>52</td>\n",
       "      <td>...</td>\n",
       "      <td>NaN</td>\n",
       "      <td>NaN</td>\n",
       "      <td>NaN</td>\n",
       "      <td>NaN</td>\n",
       "      <td>NaN</td>\n",
       "      <td>NaN</td>\n",
       "      <td>NaN</td>\n",
       "      <td>NaN</td>\n",
       "      <td>NaN</td>\n",
       "      <td>NaN</td>\n",
       "    </tr>\n",
       "  </tbody>\n",
       "</table>\n",
       "<p>5 rows × 245 columns</p>\n",
       "</div>"
      ],
      "text/plain": [
       "   Code Insee  Voix  % Voix/Ins  % Voix/Exp  % Abs/Ins  REG_x DEP_x  \\\n",
       "0        1001   107       18.32       33.44      44.69     82    01   \n",
       "1        1002    32       14.28       25.20      41.52     82    01   \n",
       "2        1004  1096       13.45       29.76      53.34     82    01   \n",
       "3        1005   168       14.38       31.22      52.23     82    01   \n",
       "4        1006    22       20.56       42.31      49.53     82    01   \n",
       "\n",
       "     Libelle de la commune  P12_LOG  P12_RP    ...       SNHMHO12  SNHM1812  \\\n",
       "0  L'Abergement-Clemenciat      335     301    ...            NaN       NaN   \n",
       "1    L'Abergement-de-Varey      160     101    ...            NaN       NaN   \n",
       "2        Amberieu-en-Bugey     6629    6012    ...      10.945976  9.724445   \n",
       "3      Amberieux-en-Dombes      647     615    ...            NaN       NaN   \n",
       "4                  Ambleon       70      52    ...            NaN       NaN   \n",
       "\n",
       "    SNHM2612   SNHM5012  SNHMF1812  SNHMF2612  SNHMF5012  SNHMH1812  \\\n",
       "0        NaN        NaN        NaN        NaN        NaN        NaN   \n",
       "1        NaN        NaN        NaN        NaN        NaN        NaN   \n",
       "2  13.042454  15.461354   9.049192   11.33007  12.313855  10.194692   \n",
       "3        NaN        NaN        NaN        NaN        NaN        NaN   \n",
       "4        NaN        NaN        NaN        NaN        NaN        NaN   \n",
       "\n",
       "   SNHMH2612  SNHMH5012  \n",
       "0        NaN        NaN  \n",
       "1        NaN        NaN  \n",
       "2  14.088531  17.557177  \n",
       "3        NaN        NaN  \n",
       "4        NaN        NaN  \n",
       "\n",
       "[5 rows x 245 columns]"
      ]
     },
     "execution_count": 7,
     "metadata": {},
     "output_type": "execute_result"
    }
   ],
   "source": [
    "right_vote.head()"
   ]
  },
  {
   "cell_type": "code",
   "execution_count": 7,
   "metadata": {
    "collapsed": true
   },
   "outputs": [],
   "source": [
    "#right_vote_2010 = right_vote_2010[['Code Insee',\"% Voix/Exp\"]]\n",
    "left_vote_2010 = left_vote_2010[['Code Insee',\"% Voix/Exp\"]]\n",
    "#er_vote_2010 = left_vote_2010[['Code Insee',\"% Voix/Exp\"]]"
   ]
  },
  {
   "cell_type": "code",
   "execution_count": 8,
   "metadata": {
    "collapsed": false
   },
   "outputs": [],
   "source": [
    "#right_vote_2010.columns = ['Code Insee','2010 Voix/Exp']\n",
    "left_vote_2010.columns = ['Code Insee','2010 Voix/Exp']\n",
    "#er_vote_2010.columns = ['Code Insee','2010 Voix/Exp']"
   ]
  },
  {
   "cell_type": "code",
   "execution_count": 9,
   "metadata": {
    "collapsed": false
   },
   "outputs": [
    {
     "data": {
      "text/html": [
       "<div>\n",
       "<table border=\"1\" class=\"dataframe\">\n",
       "  <thead>\n",
       "    <tr style=\"text-align: right;\">\n",
       "      <th></th>\n",
       "      <th>Code Insee</th>\n",
       "      <th>2010 Voix/Exp</th>\n",
       "    </tr>\n",
       "  </thead>\n",
       "  <tbody>\n",
       "    <tr>\n",
       "      <th>0</th>\n",
       "      <td>1001</td>\n",
       "      <td>32.81</td>\n",
       "    </tr>\n",
       "    <tr>\n",
       "      <th>1</th>\n",
       "      <td>1002</td>\n",
       "      <td>30.08</td>\n",
       "    </tr>\n",
       "    <tr>\n",
       "      <th>2</th>\n",
       "      <td>1004</td>\n",
       "      <td>41.11</td>\n",
       "    </tr>\n",
       "    <tr>\n",
       "      <th>3</th>\n",
       "      <td>1005</td>\n",
       "      <td>34.73</td>\n",
       "    </tr>\n",
       "    <tr>\n",
       "      <th>4</th>\n",
       "      <td>1006</td>\n",
       "      <td>34.00</td>\n",
       "    </tr>\n",
       "  </tbody>\n",
       "</table>\n",
       "</div>"
      ],
      "text/plain": [
       "   Code Insee  2010 Voix/Exp\n",
       "0        1001          32.81\n",
       "1        1002          30.08\n",
       "2        1004          41.11\n",
       "3        1005          34.73\n",
       "4        1006          34.00"
      ]
     },
     "execution_count": 9,
     "metadata": {},
     "output_type": "execute_result"
    }
   ],
   "source": [
    "left_vote_2010.head()"
   ]
  },
  {
   "cell_type": "code",
   "execution_count": 13,
   "metadata": {
    "collapsed": true
   },
   "outputs": [],
   "source": [
    "full_data_right = pd.merge(right_vote, right_vote_2010, on = 'Code Insee', how = 'left')"
   ]
  },
  {
   "cell_type": "code",
   "execution_count": 10,
   "metadata": {
    "collapsed": true
   },
   "outputs": [],
   "source": [
    "full_data_left = pd.merge(left_vote, left_vote_2010, on = 'Code Insee', how = 'left')"
   ]
  },
  {
   "cell_type": "code",
   "execution_count": null,
   "metadata": {
    "collapsed": true
   },
   "outputs": [],
   "source": [
    "full_data_er = pd.merge(er_vote, er_vote_2010, on = 'Code Insee', how = 'left')"
   ]
  },
  {
   "cell_type": "markdown",
   "metadata": {},
   "source": [
    "### Export the full data frame"
   ]
  },
  {
   "cell_type": "code",
   "execution_count": 17,
   "metadata": {
    "collapsed": false
   },
   "outputs": [],
   "source": [
    "writer = pd.ExcelWriter('full_data_right.xlsx')\n",
    "full_data_right.to_excel(writer,'Sheet1')\n",
    "writer.save()"
   ]
  },
  {
   "cell_type": "code",
   "execution_count": 11,
   "metadata": {
    "collapsed": true
   },
   "outputs": [],
   "source": [
    "writer = pd.ExcelWriter('full_data_left.xlsx')\n",
    "full_data_left.to_excel(writer,'Sheet1')\n",
    "writer.save()"
   ]
  },
  {
   "cell_type": "code",
   "execution_count": 52,
   "metadata": {
    "collapsed": true
   },
   "outputs": [],
   "source": [
    "writer = pd.ExcelWriter('full_data_er.xlsx')\n",
    "full_data_er.to_excel(writer,'Sheet1')\n",
    "writer.save()"
   ]
  }
 ],
 "metadata": {
  "kernelspec": {
   "display_name": "Python 2",
   "language": "python",
   "name": "python2"
  },
  "language_info": {
   "codemirror_mode": {
    "name": "ipython",
    "version": 2
   },
   "file_extension": ".py",
   "mimetype": "text/x-python",
   "name": "python",
   "nbconvert_exporter": "python",
   "pygments_lexer": "ipython2",
   "version": "2.7.11"
  }
 },
 "nbformat": 4,
 "nbformat_minor": 0
}
