{
 "cells": [
  {
   "cell_type": "code",
   "execution_count": 1,
   "metadata": {
    "collapsed": false
   },
   "outputs": [],
   "source": [
    "import pandas as pd\n",
    "import numpy as np"
   ]
  },
  {
   "cell_type": "code",
   "execution_count": 9,
   "metadata": {
    "collapsed": false
   },
   "outputs": [],
   "source": [
    "salary_data = pd.read_excel(\"salaire.xls\", skiprows=5)\n",
    "immigration_data = pd.read_excel(\"immigration.xls\", skiprows=10)\n",
    "population_data = pd.read_excel(\"population.xls\", skiprows=5)\n",
    "education_data = pd.read_excel(\"education.xls\", skiprows=5)\n",
    "logement_data = pd.read_excel(\"logement.xls\", skiprows=5)"
   ]
  },
  {
   "cell_type": "markdown",
   "metadata": {},
   "source": [
    "### First, as usual, we convert unicode to string."
   ]
  },
  {
   "cell_type": "code",
   "execution_count": 12,
   "metadata": {
    "collapsed": false
   },
   "outputs": [],
   "source": [
    "import unicodedata\n",
    "\n",
    "def unicode_to_string(word):\n",
    "    if pd.isnull(word):\n",
    "        return \n",
    "    else:\n",
    "        return unicodedata.normalize('NFKD', word).encode('ascii','ignore')\n",
    "    \n",
    "def data_to_string(data):\n",
    "    new_data = data.copy()\n",
    "    \n",
    "    col_title_unicode = new_data.columns.values.tolist()\n",
    "    col_title = map(unicode_to_string,col_title_unicode)\n",
    "    new_data.columns = col_title\n",
    "    \n",
    "    for col in new_data.columns:\n",
    "        not_nan_index = [not ind for ind in new_data[col].isnull()]\n",
    "        not_nan_value = new_data[col][not_nan_index]\n",
    "        if type(not_nan_value.iloc[0]) == unicode: #check the first not-NaN value\n",
    "            new_data[col] = map(unicode_to_string,new_data[col])\n",
    "            \n",
    "    return new_data"
   ]
  },
  {
   "cell_type": "code",
   "execution_count": 13,
   "metadata": {
    "collapsed": false
   },
   "outputs": [],
   "source": [
    "salary_data = data_to_string(salary_data)\n",
    "immigration_data = data_to_string(immigration_data)\n",
    "population_data = data_to_string(population_data)\n",
    "education_data = data_to_string(education_data)\n",
    "logement_data = data_to_string(logement_data)"
   ]
  },
  {
   "cell_type": "markdown",
   "metadata": {},
   "source": [
    "### Now we will rename the column headers so that we have at least 1 common column for all the data frames. "
   ]
  },
  {
   "cell_type": "code",
   "execution_count": 14,
   "metadata": {
    "collapsed": true
   },
   "outputs": [],
   "source": [
    "def rename_column(data): \n",
    "    new_data = data.copy()\n",
    "    col_title = new_data.columns.tolist()\n",
    "    for x in xrange(len(col_title)):\n",
    "        if col_title[x] == 'CODGEO':\n",
    "            col_title[x] = 'Code Insee' # this will be the pivot column for merging\n",
    "        if col_title[x] == 'LIBGEO':\n",
    "            col_title[x] = 'Libelle de la commune'\n",
    "    new_data.columns = col_title\n",
    "    return new_data"
   ]
  },
  {
   "cell_type": "code",
   "execution_count": 16,
   "metadata": {
    "collapsed": false
   },
   "outputs": [],
   "source": [
    "salary_data = rename_column(salary_data)\n",
    "immigration_data = rename_column(immigration_data)\n",
    "population_data = rename_column(population_data)\n",
    "education_data = rename_column(education_data)\n",
    "logement_data = rename_column(logement_data)"
   ]
  },
  {
   "cell_type": "markdown",
   "metadata": {},
   "source": [
    "### We still have problem with departemental code of Corse because they are not in numerical form (2A... or 2B...)."
   ]
  },
  {
   "cell_type": "code",
   "execution_count": 17,
   "metadata": {
    "collapsed": true
   },
   "outputs": [],
   "source": [
    "def to_digit(string):\n",
    "    new_string = list(string)[:]\n",
    "    for x in xrange(len(new_string)): \n",
    "        if not new_string[x].isdigit():\n",
    "            new_string[x] = '0'\n",
    "    return int(''.join(new_string))"
   ]
  },
  {
   "cell_type": "code",
   "execution_count": 18,
   "metadata": {
    "collapsed": true
   },
   "outputs": [],
   "source": [
    "def replace_insee_code(data): #replace 2AXXX or 2BXXX by 20XXX \n",
    "        new_data = data.copy()\n",
    "        insee_list = new_data['Code Insee'].tolist() \n",
    "        new_insee_list = [int(code) if code.isdigit() else to_digit(code) for code in insee_list]\n",
    "        new_data['Code Insee'] = new_insee_list\n",
    "        return new_data"
   ]
  },
  {
   "cell_type": "code",
   "execution_count": 19,
   "metadata": {
    "collapsed": false
   },
   "outputs": [],
   "source": [
    "salary_data = replace_insee_code(salary_data)\n",
    "immigration_data = replace_insee_code(immigration_data)\n",
    "population_data = replace_insee_code(population_data)\n",
    "education_data = replace_insee_code(education_data)\n",
    "logement_data = replace_insee_code(logement_data)"
   ]
  },
  {
   "cell_type": "markdown",
   "metadata": {},
   "source": [
    "### There is still another problem: all the numbers in our excel sheet are read in float format. We need to convert them to int for the immigration and population data because they contain quantity-format data."
   ]
  },
  {
   "cell_type": "code",
   "execution_count": 20,
   "metadata": {
    "collapsed": true
   },
   "outputs": [],
   "source": [
    "def float_to_int(data):\n",
    "    new_data = data.copy()    \n",
    "    for col in new_data.columns:\n",
    "        not_nan_index = [not ind for ind in new_data[col].isnull()]\n",
    "        not_nan_value = new_data[col][not_nan_index]\n",
    "        if type(not_nan_value.iloc[0]) == np.float64: #check the first not-NaN value\n",
    "            new_data[col] = new_data[col].round()\n",
    "    return new_data"
   ]
  },
  {
   "cell_type": "code",
   "execution_count": 23,
   "metadata": {
    "collapsed": false
   },
   "outputs": [],
   "source": [
    "immigration_data = float_to_int(immigration_data)\n",
    "population_data = float_to_int(population_data)\n",
    "education_data = float_to_int(education_data)\n",
    "logement_data = float_to_int(logement_data )"
   ]
  },
  {
   "cell_type": "markdown",
   "metadata": {},
   "source": [
    "### In immigration data, we will add a column which shows us the percentage of adult immigrants  in each town."
   ]
  },
  {
   "cell_type": "code",
   "execution_count": 25,
   "metadata": {
    "collapsed": false
   },
   "outputs": [],
   "source": [
    "def add_total_immigrant_variable(data): \n",
    "    new_data = data.copy()\n",
    "    variable_list = []\n",
    "    sum_list = []\n",
    "    for variable in data.columns.tolist(): \n",
    "        if 'IMMI' in variable and 'AGE400' not in variable: \n",
    "            sum_list.append(variable)\n",
    "            if 'IMMI1' in variable:\n",
    "                variable_list.append(variable)\n",
    "    new_data['% immigrant'] = (new_data[variable_list].sum(axis=1)/ new_data[sum_list].sum(axis=1)) * 100\n",
    "    col = new_data.columns.tolist()\n",
    "    col = col[:2] + col[-1:] + col[2:-1]\n",
    "    new_data = new_data[col]\n",
    "    return new_data"
   ]
  },
  {
   "cell_type": "code",
   "execution_count": 26,
   "metadata": {
    "collapsed": false
   },
   "outputs": [],
   "source": [
    "immigration_data = add_total_immigrant_variable(immigration_data)"
   ]
  },
  {
   "cell_type": "code",
   "execution_count": 27,
   "metadata": {
    "collapsed": false
   },
   "outputs": [
    {
     "data": {
      "text/html": [
       "<div>\n",
       "<table border=\"1\" class=\"dataframe\">\n",
       "  <thead>\n",
       "    <tr style=\"text-align: right;\">\n",
       "      <th></th>\n",
       "      <th>Code Insee</th>\n",
       "      <th>Libelle de la commune</th>\n",
       "      <th>% immigrant</th>\n",
       "      <th>AGE400_IMMI1_SEXE1</th>\n",
       "      <th>AGE400_IMMI1_SEXE2</th>\n",
       "      <th>AGE400_IMMI2_SEXE1</th>\n",
       "      <th>AGE400_IMMI2_SEXE2</th>\n",
       "      <th>AGE415_IMMI1_SEXE1</th>\n",
       "      <th>AGE415_IMMI1_SEXE2</th>\n",
       "      <th>AGE415_IMMI2_SEXE1</th>\n",
       "      <th>AGE415_IMMI2_SEXE2</th>\n",
       "      <th>AGE425_IMMI1_SEXE1</th>\n",
       "      <th>AGE425_IMMI1_SEXE2</th>\n",
       "      <th>AGE425_IMMI2_SEXE1</th>\n",
       "      <th>AGE425_IMMI2_SEXE2</th>\n",
       "      <th>AGE455_IMMI1_SEXE1</th>\n",
       "      <th>AGE455_IMMI1_SEXE2</th>\n",
       "      <th>AGE455_IMMI2_SEXE1</th>\n",
       "      <th>AGE455_IMMI2_SEXE2</th>\n",
       "    </tr>\n",
       "  </thead>\n",
       "  <tbody>\n",
       "    <tr>\n",
       "      <th>0</th>\n",
       "      <td>1001</td>\n",
       "      <td>L'Abergement-Clemenciat</td>\n",
       "      <td>4.173623</td>\n",
       "      <td>1</td>\n",
       "      <td>3</td>\n",
       "      <td>92</td>\n",
       "      <td>83</td>\n",
       "      <td>1</td>\n",
       "      <td>0</td>\n",
       "      <td>34</td>\n",
       "      <td>32</td>\n",
       "      <td>7</td>\n",
       "      <td>9</td>\n",
       "      <td>154</td>\n",
       "      <td>137</td>\n",
       "      <td>5</td>\n",
       "      <td>3</td>\n",
       "      <td>101</td>\n",
       "      <td>116</td>\n",
       "    </tr>\n",
       "    <tr>\n",
       "      <th>1</th>\n",
       "      <td>1002</td>\n",
       "      <td>L'Abergement-de-Varey</td>\n",
       "      <td>2.105263</td>\n",
       "      <td>0</td>\n",
       "      <td>1</td>\n",
       "      <td>25</td>\n",
       "      <td>18</td>\n",
       "      <td>1</td>\n",
       "      <td>0</td>\n",
       "      <td>6</td>\n",
       "      <td>11</td>\n",
       "      <td>2</td>\n",
       "      <td>1</td>\n",
       "      <td>52</td>\n",
       "      <td>47</td>\n",
       "      <td>0</td>\n",
       "      <td>0</td>\n",
       "      <td>38</td>\n",
       "      <td>32</td>\n",
       "    </tr>\n",
       "    <tr>\n",
       "      <th>2</th>\n",
       "      <td>1004</td>\n",
       "      <td>Amberieu-en-Bugey</td>\n",
       "      <td>12.048946</td>\n",
       "      <td>57</td>\n",
       "      <td>53</td>\n",
       "      <td>1386</td>\n",
       "      <td>1542</td>\n",
       "      <td>73</td>\n",
       "      <td>61</td>\n",
       "      <td>802</td>\n",
       "      <td>872</td>\n",
       "      <td>442</td>\n",
       "      <td>403</td>\n",
       "      <td>2447</td>\n",
       "      <td>2386</td>\n",
       "      <td>194</td>\n",
       "      <td>176</td>\n",
       "      <td>1454</td>\n",
       "      <td>1886</td>\n",
       "    </tr>\n",
       "    <tr>\n",
       "      <th>3</th>\n",
       "      <td>1005</td>\n",
       "      <td>Amberieux-en-Dombes</td>\n",
       "      <td>4.528012</td>\n",
       "      <td>0</td>\n",
       "      <td>0</td>\n",
       "      <td>176</td>\n",
       "      <td>163</td>\n",
       "      <td>0</td>\n",
       "      <td>2</td>\n",
       "      <td>108</td>\n",
       "      <td>101</td>\n",
       "      <td>18</td>\n",
       "      <td>19</td>\n",
       "      <td>334</td>\n",
       "      <td>324</td>\n",
       "      <td>11</td>\n",
       "      <td>9</td>\n",
       "      <td>182</td>\n",
       "      <td>195</td>\n",
       "    </tr>\n",
       "    <tr>\n",
       "      <th>4</th>\n",
       "      <td>1006</td>\n",
       "      <td>Ambleon</td>\n",
       "      <td>8.000000</td>\n",
       "      <td>2</td>\n",
       "      <td>1</td>\n",
       "      <td>5</td>\n",
       "      <td>4</td>\n",
       "      <td>0</td>\n",
       "      <td>0</td>\n",
       "      <td>8</td>\n",
       "      <td>3</td>\n",
       "      <td>2</td>\n",
       "      <td>3</td>\n",
       "      <td>23</td>\n",
       "      <td>19</td>\n",
       "      <td>0</td>\n",
       "      <td>3</td>\n",
       "      <td>18</td>\n",
       "      <td>21</td>\n",
       "    </tr>\n",
       "  </tbody>\n",
       "</table>\n",
       "</div>"
      ],
      "text/plain": [
       "   Code Insee    Libelle de la commune  % immigrant  AGE400_IMMI1_SEXE1  \\\n",
       "0        1001  L'Abergement-Clemenciat     4.173623                   1   \n",
       "1        1002    L'Abergement-de-Varey     2.105263                   0   \n",
       "2        1004        Amberieu-en-Bugey    12.048946                  57   \n",
       "3        1005      Amberieux-en-Dombes     4.528012                   0   \n",
       "4        1006                  Ambleon     8.000000                   2   \n",
       "\n",
       "   AGE400_IMMI1_SEXE2  AGE400_IMMI2_SEXE1  AGE400_IMMI2_SEXE2  \\\n",
       "0                   3                  92                  83   \n",
       "1                   1                  25                  18   \n",
       "2                  53                1386                1542   \n",
       "3                   0                 176                 163   \n",
       "4                   1                   5                   4   \n",
       "\n",
       "   AGE415_IMMI1_SEXE1  AGE415_IMMI1_SEXE2  AGE415_IMMI2_SEXE1  \\\n",
       "0                   1                   0                  34   \n",
       "1                   1                   0                   6   \n",
       "2                  73                  61                 802   \n",
       "3                   0                   2                 108   \n",
       "4                   0                   0                   8   \n",
       "\n",
       "   AGE415_IMMI2_SEXE2  AGE425_IMMI1_SEXE1  AGE425_IMMI1_SEXE2  \\\n",
       "0                  32                   7                   9   \n",
       "1                  11                   2                   1   \n",
       "2                 872                 442                 403   \n",
       "3                 101                  18                  19   \n",
       "4                   3                   2                   3   \n",
       "\n",
       "   AGE425_IMMI2_SEXE1  AGE425_IMMI2_SEXE2  AGE455_IMMI1_SEXE1  \\\n",
       "0                 154                 137                   5   \n",
       "1                  52                  47                   0   \n",
       "2                2447                2386                 194   \n",
       "3                 334                 324                  11   \n",
       "4                  23                  19                   0   \n",
       "\n",
       "   AGE455_IMMI1_SEXE2  AGE455_IMMI2_SEXE1  AGE455_IMMI2_SEXE2  \n",
       "0                   3                 101                 116  \n",
       "1                   0                  38                  32  \n",
       "2                 176                1454                1886  \n",
       "3                   9                 182                 195  \n",
       "4                   3                  18                  21  "
      ]
     },
     "execution_count": 27,
     "metadata": {},
     "output_type": "execute_result"
    }
   ],
   "source": [
    "immigration_data.head()"
   ]
  },
  {
   "cell_type": "markdown",
   "metadata": {},
   "source": [
    "### In education data, we convert the data to percentage. "
   ]
  },
  {
   "cell_type": "code",
   "execution_count": 28,
   "metadata": {
    "collapsed": false
   },
   "outputs": [],
   "source": [
    "def education_level_in_percentage(data):\n",
    "    new_data = data.copy()\n",
    "    variable_list = ['Code Insee', 'Libelle de la commune']\n",
    "    for variable in new_data.columns.tolist(): \n",
    "        if '_NSCOL15P_' in variable:\n",
    "            variable_list.append(variable)\n",
    "    for chosen_variable in variable_list[2:]:\n",
    "        new_data[chosen_variable] = (new_data[chosen_variable] / new_data['P12_NSCOL15P']) * 100\n",
    "        #new_data[chosen_variable] = new_data['P12_NSCOL15P'] - new_data[variable_list].sum(axis=1)\n",
    "    return new_data[variable_list]"
   ]
  },
  {
   "cell_type": "code",
   "execution_count": 29,
   "metadata": {
    "collapsed": false
   },
   "outputs": [],
   "source": [
    "education_data = education_level_in_percentage(education_data)"
   ]
  },
  {
   "cell_type": "code",
   "execution_count": 30,
   "metadata": {
    "collapsed": false
   },
   "outputs": [
    {
     "data": {
      "text/html": [
       "<div>\n",
       "<table border=\"1\" class=\"dataframe\">\n",
       "  <thead>\n",
       "    <tr style=\"text-align: right;\">\n",
       "      <th></th>\n",
       "      <th>Code Insee</th>\n",
       "      <th>Libelle de la commune</th>\n",
       "      <th>P12_NSCOL15P_DIPL0</th>\n",
       "      <th>P12_NSCOL15P_CEP</th>\n",
       "      <th>P12_NSCOL15P_BEPC</th>\n",
       "      <th>P12_NSCOL15P_CAPBEP</th>\n",
       "      <th>P12_NSCOL15P_BAC</th>\n",
       "      <th>P12_NSCOL15P_BACP2</th>\n",
       "      <th>P12_NSCOL15P_SUP</th>\n",
       "    </tr>\n",
       "  </thead>\n",
       "  <tbody>\n",
       "    <tr>\n",
       "      <th>0</th>\n",
       "      <td>1001</td>\n",
       "      <td>L'Abergement-Clemenciat</td>\n",
       "      <td>14.000000</td>\n",
       "      <td>13.454545</td>\n",
       "      <td>5.818182</td>\n",
       "      <td>25.272727</td>\n",
       "      <td>16.909091</td>\n",
       "      <td>15.272727</td>\n",
       "      <td>9.454545</td>\n",
       "    </tr>\n",
       "    <tr>\n",
       "      <th>1</th>\n",
       "      <td>1002</td>\n",
       "      <td>L'Abergement-de-Varey</td>\n",
       "      <td>8.888889</td>\n",
       "      <td>6.666667</td>\n",
       "      <td>3.333333</td>\n",
       "      <td>22.222222</td>\n",
       "      <td>18.333333</td>\n",
       "      <td>21.111111</td>\n",
       "      <td>18.888889</td>\n",
       "    </tr>\n",
       "    <tr>\n",
       "      <th>2</th>\n",
       "      <td>1004</td>\n",
       "      <td>Amberieu-en-Bugey</td>\n",
       "      <td>17.637173</td>\n",
       "      <td>9.362333</td>\n",
       "      <td>5.783490</td>\n",
       "      <td>24.824518</td>\n",
       "      <td>19.110232</td>\n",
       "      <td>13.109244</td>\n",
       "      <td>10.173010</td>\n",
       "    </tr>\n",
       "    <tr>\n",
       "      <th>3</th>\n",
       "      <td>1005</td>\n",
       "      <td>Amberieux-en-Dombes</td>\n",
       "      <td>16.016949</td>\n",
       "      <td>12.033898</td>\n",
       "      <td>6.186441</td>\n",
       "      <td>29.491525</td>\n",
       "      <td>16.016949</td>\n",
       "      <td>11.610169</td>\n",
       "      <td>8.644068</td>\n",
       "    </tr>\n",
       "    <tr>\n",
       "      <th>4</th>\n",
       "      <td>1006</td>\n",
       "      <td>Ambleon</td>\n",
       "      <td>15.555556</td>\n",
       "      <td>7.777778</td>\n",
       "      <td>8.888889</td>\n",
       "      <td>32.222222</td>\n",
       "      <td>22.222222</td>\n",
       "      <td>6.666667</td>\n",
       "      <td>7.777778</td>\n",
       "    </tr>\n",
       "  </tbody>\n",
       "</table>\n",
       "</div>"
      ],
      "text/plain": [
       "   Code Insee    Libelle de la commune  P12_NSCOL15P_DIPL0  P12_NSCOL15P_CEP  \\\n",
       "0        1001  L'Abergement-Clemenciat           14.000000         13.454545   \n",
       "1        1002    L'Abergement-de-Varey            8.888889          6.666667   \n",
       "2        1004        Amberieu-en-Bugey           17.637173          9.362333   \n",
       "3        1005      Amberieux-en-Dombes           16.016949         12.033898   \n",
       "4        1006                  Ambleon           15.555556          7.777778   \n",
       "\n",
       "   P12_NSCOL15P_BEPC  P12_NSCOL15P_CAPBEP  P12_NSCOL15P_BAC  \\\n",
       "0           5.818182            25.272727         16.909091   \n",
       "1           3.333333            22.222222         18.333333   \n",
       "2           5.783490            24.824518         19.110232   \n",
       "3           6.186441            29.491525         16.016949   \n",
       "4           8.888889            32.222222         22.222222   \n",
       "\n",
       "   P12_NSCOL15P_BACP2  P12_NSCOL15P_SUP  \n",
       "0           15.272727          9.454545  \n",
       "1           21.111111         18.888889  \n",
       "2           13.109244         10.173010  \n",
       "3           11.610169          8.644068  \n",
       "4            6.666667          7.777778  "
      ]
     },
     "execution_count": 30,
     "metadata": {},
     "output_type": "execute_result"
    }
   ],
   "source": [
    "education_data.head()"
   ]
  },
  {
   "cell_type": "markdown",
   "metadata": {},
   "source": [
    "### In population data, we will transform the social status columns from quantity to percentage too."
   ]
  },
  {
   "cell_type": "code",
   "execution_count": 31,
   "metadata": {
    "collapsed": true
   },
   "outputs": [],
   "source": [
    "def social_status_percentage(data): \n",
    "    new_data = data.copy()\n",
    "    status_list = ['C12_POP15P_CS1', 'C12_POP15P_CS2','C12_POP15P_CS3','C12_POP15P_CS4','C12_POP15P_CS5',\n",
    "                   'C12_POP15P_CS6','C12_POP15P_CS7','C12_POP15P_CS8']\n",
    "    adult_population = new_data['C12_POP15P']\n",
    "    for col in status_list:\n",
    "        new_data['% '+ col] = (new_data[col] / adult_population)*100\n",
    "    return new_data"
   ]
  },
  {
   "cell_type": "code",
   "execution_count": 32,
   "metadata": {
    "collapsed": false
   },
   "outputs": [],
   "source": [
    "population_data = social_status_percentage(population_data)"
   ]
  },
  {
   "cell_type": "code",
   "execution_count": 33,
   "metadata": {
    "collapsed": false
   },
   "outputs": [
    {
     "data": {
      "text/html": [
       "<div>\n",
       "<table border=\"1\" class=\"dataframe\">\n",
       "  <thead>\n",
       "    <tr style=\"text-align: right;\">\n",
       "      <th></th>\n",
       "      <th>Code Insee</th>\n",
       "      <th>REG</th>\n",
       "      <th>DEP</th>\n",
       "      <th>Libelle de la commune</th>\n",
       "      <th>P12_POP</th>\n",
       "      <th>P12_POP0014</th>\n",
       "      <th>P12_POP1529</th>\n",
       "      <th>P12_POP3044</th>\n",
       "      <th>P12_POP4559</th>\n",
       "      <th>P12_POP6074</th>\n",
       "      <th>...</th>\n",
       "      <th>C12_POP55P_CS7</th>\n",
       "      <th>C12_POP55P_CS8</th>\n",
       "      <th>% C12_POP15P_CS1</th>\n",
       "      <th>% C12_POP15P_CS2</th>\n",
       "      <th>% C12_POP15P_CS3</th>\n",
       "      <th>% C12_POP15P_CS4</th>\n",
       "      <th>% C12_POP15P_CS5</th>\n",
       "      <th>% C12_POP15P_CS6</th>\n",
       "      <th>% C12_POP15P_CS7</th>\n",
       "      <th>% C12_POP15P_CS8</th>\n",
       "    </tr>\n",
       "  </thead>\n",
       "  <tbody>\n",
       "    <tr>\n",
       "      <th>0</th>\n",
       "      <td>1001</td>\n",
       "      <td>82</td>\n",
       "      <td>01</td>\n",
       "      <td>L'Abergement-Clemenciat</td>\n",
       "      <td>777</td>\n",
       "      <td>178</td>\n",
       "      <td>97</td>\n",
       "      <td>165</td>\n",
       "      <td>151</td>\n",
       "      <td>128</td>\n",
       "      <td>...</td>\n",
       "      <td>163</td>\n",
       "      <td>8</td>\n",
       "      <td>2.588997</td>\n",
       "      <td>0.647249</td>\n",
       "      <td>12.944984</td>\n",
       "      <td>14.239482</td>\n",
       "      <td>18.770227</td>\n",
       "      <td>11.650485</td>\n",
       "      <td>27.022654</td>\n",
       "      <td>12.297735</td>\n",
       "    </tr>\n",
       "    <tr>\n",
       "      <th>1</th>\n",
       "      <td>1002</td>\n",
       "      <td>82</td>\n",
       "      <td>01</td>\n",
       "      <td>L'Abergement-de-Varey</td>\n",
       "      <td>235</td>\n",
       "      <td>44</td>\n",
       "      <td>35</td>\n",
       "      <td>60</td>\n",
       "      <td>38</td>\n",
       "      <td>36</td>\n",
       "      <td>...</td>\n",
       "      <td>64</td>\n",
       "      <td>0</td>\n",
       "      <td>0.000000</td>\n",
       "      <td>2.116402</td>\n",
       "      <td>10.582011</td>\n",
       "      <td>27.513228</td>\n",
       "      <td>4.232804</td>\n",
       "      <td>16.931217</td>\n",
       "      <td>33.862434</td>\n",
       "      <td>4.232804</td>\n",
       "    </tr>\n",
       "    <tr>\n",
       "      <th>2</th>\n",
       "      <td>1004</td>\n",
       "      <td>82</td>\n",
       "      <td>01</td>\n",
       "      <td>Amberieu-en-Bugey</td>\n",
       "      <td>14233</td>\n",
       "      <td>3038</td>\n",
       "      <td>2904</td>\n",
       "      <td>2722</td>\n",
       "      <td>2655</td>\n",
       "      <td>1737</td>\n",
       "      <td>...</td>\n",
       "      <td>2816</td>\n",
       "      <td>251</td>\n",
       "      <td>0.000000</td>\n",
       "      <td>2.818540</td>\n",
       "      <td>6.451324</td>\n",
       "      <td>15.595920</td>\n",
       "      <td>17.143880</td>\n",
       "      <td>17.197566</td>\n",
       "      <td>25.590551</td>\n",
       "      <td>15.211167</td>\n",
       "    </tr>\n",
       "    <tr>\n",
       "      <th>3</th>\n",
       "      <td>1005</td>\n",
       "      <td>82</td>\n",
       "      <td>01</td>\n",
       "      <td>Amberieux-en-Dombes</td>\n",
       "      <td>1642</td>\n",
       "      <td>338</td>\n",
       "      <td>301</td>\n",
       "      <td>348</td>\n",
       "      <td>359</td>\n",
       "      <td>203</td>\n",
       "      <td>...</td>\n",
       "      <td>321</td>\n",
       "      <td>33</td>\n",
       "      <td>0.000000</td>\n",
       "      <td>5.611068</td>\n",
       "      <td>8.147579</td>\n",
       "      <td>17.524981</td>\n",
       "      <td>18.139892</td>\n",
       "      <td>14.681015</td>\n",
       "      <td>25.288240</td>\n",
       "      <td>10.607225</td>\n",
       "    </tr>\n",
       "    <tr>\n",
       "      <th>4</th>\n",
       "      <td>1006</td>\n",
       "      <td>82</td>\n",
       "      <td>01</td>\n",
       "      <td>Ambleon</td>\n",
       "      <td>110</td>\n",
       "      <td>12</td>\n",
       "      <td>18</td>\n",
       "      <td>24</td>\n",
       "      <td>27</td>\n",
       "      <td>20</td>\n",
       "      <td>...</td>\n",
       "      <td>35</td>\n",
       "      <td>0</td>\n",
       "      <td>0.000000</td>\n",
       "      <td>0.000000</td>\n",
       "      <td>4.651163</td>\n",
       "      <td>18.604651</td>\n",
       "      <td>18.604651</td>\n",
       "      <td>9.302326</td>\n",
       "      <td>40.697674</td>\n",
       "      <td>9.302326</td>\n",
       "    </tr>\n",
       "  </tbody>\n",
       "</table>\n",
       "<p>5 rows × 116 columns</p>\n",
       "</div>"
      ],
      "text/plain": [
       "   Code Insee  REG DEP    Libelle de la commune  P12_POP  P12_POP0014  \\\n",
       "0        1001   82  01  L'Abergement-Clemenciat      777          178   \n",
       "1        1002   82  01    L'Abergement-de-Varey      235           44   \n",
       "2        1004   82  01        Amberieu-en-Bugey    14233         3038   \n",
       "3        1005   82  01      Amberieux-en-Dombes     1642          338   \n",
       "4        1006   82  01                  Ambleon      110           12   \n",
       "\n",
       "   P12_POP1529  P12_POP3044  P12_POP4559  P12_POP6074        ...         \\\n",
       "0           97          165          151          128        ...          \n",
       "1           35           60           38           36        ...          \n",
       "2         2904         2722         2655         1737        ...          \n",
       "3          301          348          359          203        ...          \n",
       "4           18           24           27           20        ...          \n",
       "\n",
       "   C12_POP55P_CS7  C12_POP55P_CS8  % C12_POP15P_CS1  % C12_POP15P_CS2  \\\n",
       "0             163               8          2.588997          0.647249   \n",
       "1              64               0          0.000000          2.116402   \n",
       "2            2816             251          0.000000          2.818540   \n",
       "3             321              33          0.000000          5.611068   \n",
       "4              35               0          0.000000          0.000000   \n",
       "\n",
       "   % C12_POP15P_CS3  % C12_POP15P_CS4  % C12_POP15P_CS5  % C12_POP15P_CS6  \\\n",
       "0         12.944984         14.239482         18.770227         11.650485   \n",
       "1         10.582011         27.513228          4.232804         16.931217   \n",
       "2          6.451324         15.595920         17.143880         17.197566   \n",
       "3          8.147579         17.524981         18.139892         14.681015   \n",
       "4          4.651163         18.604651         18.604651          9.302326   \n",
       "\n",
       "   % C12_POP15P_CS7  % C12_POP15P_CS8  \n",
       "0         27.022654         12.297735  \n",
       "1         33.862434          4.232804  \n",
       "2         25.590551         15.211167  \n",
       "3         25.288240         10.607225  \n",
       "4         40.697674          9.302326  \n",
       "\n",
       "[5 rows x 116 columns]"
      ]
     },
     "execution_count": 33,
     "metadata": {},
     "output_type": "execute_result"
    }
   ],
   "source": [
    "population_data.head()"
   ]
  },
  {
   "cell_type": "markdown",
   "metadata": {},
   "source": [
    "### In logement data, we compute the percentage of house proprietor"
   ]
  },
  {
   "cell_type": "code",
   "execution_count": 36,
   "metadata": {
    "collapsed": true
   },
   "outputs": [],
   "source": [
    "def proprietor_percentage(data):\n",
    "    new_data = data.copy()\n",
    "    new_data['P12_NPER_RP_PROP'] = ((new_data['P12_NPER_RP_PROP'])/new_data['P12_NPER_RP'])*100\n",
    "    return new_data"
   ]
  },
  {
   "cell_type": "code",
   "execution_count": 39,
   "metadata": {
    "collapsed": false
   },
   "outputs": [],
   "source": [
    "logement_data = proprietor_percentage(logement_data)"
   ]
  },
  {
   "cell_type": "markdown",
   "metadata": {},
   "source": [
    "### Now we try to merge all the data frames"
   ]
  },
  {
   "cell_type": "code",
   "execution_count": 40,
   "metadata": {
    "collapsed": false
   },
   "outputs": [],
   "source": [
    "right_party_vote = pd.read_excel(\"right_party_vote.xlsx\")\n",
    "left_party_vote = pd.read_excel(\"left_party_vote.xlsx\")\n",
    "er_party_vote = pd.read_excel(\"er_party_vote.xlsx\")"
   ]
  },
  {
   "cell_type": "code",
   "execution_count": 42,
   "metadata": {
    "collapsed": false
   },
   "outputs": [],
   "source": [
    "immigration_salary = pd.merge(immigration_data, salary_data, on = ['Code Insee','Libelle de la commune'], how = 'outer')"
   ]
  },
  {
   "cell_type": "code",
   "execution_count": 43,
   "metadata": {
    "collapsed": false
   },
   "outputs": [],
   "source": [
    "immigration_salary_population = pd.merge(population_data, immigration_salary, on = ['Code Insee','Libelle de la commune'], how = 'outer')"
   ]
  },
  {
   "cell_type": "code",
   "execution_count": 44,
   "metadata": {
    "collapsed": false
   },
   "outputs": [],
   "source": [
    "immigration_salary_population_education = pd.merge(education_data, immigration_salary_population, on = ['Code Insee','Libelle de la commune'], how = 'outer')"
   ]
  },
  {
   "cell_type": "code",
   "execution_count": 45,
   "metadata": {
    "collapsed": false
   },
   "outputs": [],
   "source": [
    "im_sal_pop_edu_log = pd.merge(logement_data, immigration_salary_population_education, on = ['Code Insee','Libelle de la commune'], how = 'outer')"
   ]
  },
  {
   "cell_type": "code",
   "execution_count": 46,
   "metadata": {
    "collapsed": false
   },
   "outputs": [],
   "source": [
    "full_data_right = pd.merge(right_party_vote, im_sal_pop_edu_log, on = 'Code Insee', how = 'left')\n",
    "full_data_left = pd.merge(left_party_vote, im_sal_pop_edu_log, on = 'Code Insee', how = 'left')\n",
    "full_data_er = pd.merge(er_party_vote, im_sal_pop_edu_log, on = 'Code Insee', how = 'left')"
   ]
  },
  {
   "cell_type": "code",
   "execution_count": 47,
   "metadata": {
    "collapsed": false
   },
   "outputs": [
    {
     "data": {
      "text/html": [
       "<div>\n",
       "<table border=\"1\" class=\"dataframe\">\n",
       "  <thead>\n",
       "    <tr style=\"text-align: right;\">\n",
       "      <th></th>\n",
       "      <th>Code Insee</th>\n",
       "      <th>Voix</th>\n",
       "      <th>% Voix/Ins</th>\n",
       "      <th>% Voix/Exp</th>\n",
       "      <th>% Abs/Ins</th>\n",
       "      <th>REG_x</th>\n",
       "      <th>DEP_x</th>\n",
       "      <th>Libelle de la commune</th>\n",
       "      <th>P12_LOG</th>\n",
       "      <th>P12_RP</th>\n",
       "      <th>...</th>\n",
       "      <th>SNHMHO12</th>\n",
       "      <th>SNHM1812</th>\n",
       "      <th>SNHM2612</th>\n",
       "      <th>SNHM5012</th>\n",
       "      <th>SNHMF1812</th>\n",
       "      <th>SNHMF2612</th>\n",
       "      <th>SNHMF5012</th>\n",
       "      <th>SNHMH1812</th>\n",
       "      <th>SNHMH2612</th>\n",
       "      <th>SNHMH5012</th>\n",
       "    </tr>\n",
       "  </thead>\n",
       "  <tbody>\n",
       "    <tr>\n",
       "      <th>0</th>\n",
       "      <td>1001</td>\n",
       "      <td>107</td>\n",
       "      <td>18.32</td>\n",
       "      <td>33.44</td>\n",
       "      <td>44.69</td>\n",
       "      <td>82</td>\n",
       "      <td>01</td>\n",
       "      <td>L'Abergement-Clemenciat</td>\n",
       "      <td>335</td>\n",
       "      <td>301</td>\n",
       "      <td>...</td>\n",
       "      <td>NaN</td>\n",
       "      <td>NaN</td>\n",
       "      <td>NaN</td>\n",
       "      <td>NaN</td>\n",
       "      <td>NaN</td>\n",
       "      <td>NaN</td>\n",
       "      <td>NaN</td>\n",
       "      <td>NaN</td>\n",
       "      <td>NaN</td>\n",
       "      <td>NaN</td>\n",
       "    </tr>\n",
       "    <tr>\n",
       "      <th>1</th>\n",
       "      <td>1002</td>\n",
       "      <td>32</td>\n",
       "      <td>14.28</td>\n",
       "      <td>25.20</td>\n",
       "      <td>41.52</td>\n",
       "      <td>82</td>\n",
       "      <td>01</td>\n",
       "      <td>L'Abergement-de-Varey</td>\n",
       "      <td>160</td>\n",
       "      <td>101</td>\n",
       "      <td>...</td>\n",
       "      <td>NaN</td>\n",
       "      <td>NaN</td>\n",
       "      <td>NaN</td>\n",
       "      <td>NaN</td>\n",
       "      <td>NaN</td>\n",
       "      <td>NaN</td>\n",
       "      <td>NaN</td>\n",
       "      <td>NaN</td>\n",
       "      <td>NaN</td>\n",
       "      <td>NaN</td>\n",
       "    </tr>\n",
       "    <tr>\n",
       "      <th>2</th>\n",
       "      <td>1004</td>\n",
       "      <td>1096</td>\n",
       "      <td>13.45</td>\n",
       "      <td>29.76</td>\n",
       "      <td>53.34</td>\n",
       "      <td>82</td>\n",
       "      <td>01</td>\n",
       "      <td>Amberieu-en-Bugey</td>\n",
       "      <td>6629</td>\n",
       "      <td>6012</td>\n",
       "      <td>...</td>\n",
       "      <td>10.945976</td>\n",
       "      <td>9.724445</td>\n",
       "      <td>13.042454</td>\n",
       "      <td>15.461354</td>\n",
       "      <td>9.049192</td>\n",
       "      <td>11.33007</td>\n",
       "      <td>12.313855</td>\n",
       "      <td>10.194692</td>\n",
       "      <td>14.088531</td>\n",
       "      <td>17.557177</td>\n",
       "    </tr>\n",
       "    <tr>\n",
       "      <th>3</th>\n",
       "      <td>1005</td>\n",
       "      <td>168</td>\n",
       "      <td>14.38</td>\n",
       "      <td>31.22</td>\n",
       "      <td>52.23</td>\n",
       "      <td>82</td>\n",
       "      <td>01</td>\n",
       "      <td>Amberieux-en-Dombes</td>\n",
       "      <td>647</td>\n",
       "      <td>615</td>\n",
       "      <td>...</td>\n",
       "      <td>NaN</td>\n",
       "      <td>NaN</td>\n",
       "      <td>NaN</td>\n",
       "      <td>NaN</td>\n",
       "      <td>NaN</td>\n",
       "      <td>NaN</td>\n",
       "      <td>NaN</td>\n",
       "      <td>NaN</td>\n",
       "      <td>NaN</td>\n",
       "      <td>NaN</td>\n",
       "    </tr>\n",
       "    <tr>\n",
       "      <th>4</th>\n",
       "      <td>1006</td>\n",
       "      <td>22</td>\n",
       "      <td>20.56</td>\n",
       "      <td>42.31</td>\n",
       "      <td>49.53</td>\n",
       "      <td>82</td>\n",
       "      <td>01</td>\n",
       "      <td>Ambleon</td>\n",
       "      <td>70</td>\n",
       "      <td>52</td>\n",
       "      <td>...</td>\n",
       "      <td>NaN</td>\n",
       "      <td>NaN</td>\n",
       "      <td>NaN</td>\n",
       "      <td>NaN</td>\n",
       "      <td>NaN</td>\n",
       "      <td>NaN</td>\n",
       "      <td>NaN</td>\n",
       "      <td>NaN</td>\n",
       "      <td>NaN</td>\n",
       "      <td>NaN</td>\n",
       "    </tr>\n",
       "  </tbody>\n",
       "</table>\n",
       "<p>5 rows × 245 columns</p>\n",
       "</div>"
      ],
      "text/plain": [
       "   Code Insee  Voix  % Voix/Ins  % Voix/Exp  % Abs/Ins  REG_x DEP_x  \\\n",
       "0        1001   107       18.32       33.44      44.69     82    01   \n",
       "1        1002    32       14.28       25.20      41.52     82    01   \n",
       "2        1004  1096       13.45       29.76      53.34     82    01   \n",
       "3        1005   168       14.38       31.22      52.23     82    01   \n",
       "4        1006    22       20.56       42.31      49.53     82    01   \n",
       "\n",
       "     Libelle de la commune  P12_LOG  P12_RP    ...       SNHMHO12  SNHM1812  \\\n",
       "0  L'Abergement-Clemenciat      335     301    ...            NaN       NaN   \n",
       "1    L'Abergement-de-Varey      160     101    ...            NaN       NaN   \n",
       "2        Amberieu-en-Bugey     6629    6012    ...      10.945976  9.724445   \n",
       "3      Amberieux-en-Dombes      647     615    ...            NaN       NaN   \n",
       "4                  Ambleon       70      52    ...            NaN       NaN   \n",
       "\n",
       "    SNHM2612   SNHM5012  SNHMF1812  SNHMF2612  SNHMF5012  SNHMH1812  \\\n",
       "0        NaN        NaN        NaN        NaN        NaN        NaN   \n",
       "1        NaN        NaN        NaN        NaN        NaN        NaN   \n",
       "2  13.042454  15.461354   9.049192   11.33007  12.313855  10.194692   \n",
       "3        NaN        NaN        NaN        NaN        NaN        NaN   \n",
       "4        NaN        NaN        NaN        NaN        NaN        NaN   \n",
       "\n",
       "   SNHMH2612  SNHMH5012  \n",
       "0        NaN        NaN  \n",
       "1        NaN        NaN  \n",
       "2  14.088531  17.557177  \n",
       "3        NaN        NaN  \n",
       "4        NaN        NaN  \n",
       "\n",
       "[5 rows x 245 columns]"
      ]
     },
     "execution_count": 47,
     "metadata": {},
     "output_type": "execute_result"
    }
   ],
   "source": [
    "full_data_right.head()"
   ]
  },
  {
   "cell_type": "markdown",
   "metadata": {},
   "source": [
    "### Export the full data frame"
   ]
  },
  {
   "cell_type": "code",
   "execution_count": 50,
   "metadata": {
    "collapsed": false
   },
   "outputs": [],
   "source": [
    "writer = pd.ExcelWriter('full_data_right.xlsx')\n",
    "full_data_right.to_excel(writer,'Sheet1')\n",
    "writer.save()"
   ]
  },
  {
   "cell_type": "code",
   "execution_count": 51,
   "metadata": {
    "collapsed": true
   },
   "outputs": [],
   "source": [
    "writer = pd.ExcelWriter('full_data_left.xlsx')\n",
    "full_data_left.to_excel(writer,'Sheet1')\n",
    "writer.save()"
   ]
  },
  {
   "cell_type": "code",
   "execution_count": 52,
   "metadata": {
    "collapsed": true
   },
   "outputs": [],
   "source": [
    "writer = pd.ExcelWriter('full_data_er.xlsx')\n",
    "full_data_er.to_excel(writer,'Sheet1')\n",
    "writer.save()"
   ]
  }
 ],
 "metadata": {
  "kernelspec": {
   "display_name": "Python 2",
   "language": "python",
   "name": "python2"
  },
  "language_info": {
   "codemirror_mode": {
    "name": "ipython",
    "version": 2
   },
   "file_extension": ".py",
   "mimetype": "text/x-python",
   "name": "python",
   "nbconvert_exporter": "python",
   "pygments_lexer": "ipython2",
   "version": "2.7.11"
  }
 },
 "nbformat": 4,
 "nbformat_minor": 0
}
