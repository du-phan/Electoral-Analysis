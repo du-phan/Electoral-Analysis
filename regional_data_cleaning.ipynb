{
 "cells": [
  {
   "cell_type": "code",
   "execution_count": 55,
   "metadata": {
    "collapsed": false
   },
   "outputs": [],
   "source": [
    "import pandas as pd\n",
    "import numpy as np "
   ]
  },
  {
   "cell_type": "code",
   "execution_count": 56,
   "metadata": {
    "collapsed": false
   },
   "outputs": [],
   "source": [
    "data = pd.read_excel(\"regional2014.xls\")"
   ]
  },
  {
   "cell_type": "code",
   "execution_count": 57,
   "metadata": {
    "collapsed": true
   },
   "outputs": [],
   "source": [
    "data2 = data.copy()"
   ]
  },
  {
   "cell_type": "code",
   "execution_count": 58,
   "metadata": {
    "collapsed": false
   },
   "outputs": [],
   "source": [
    "col_title_unicode = data.columns.values.tolist()"
   ]
  },
  {
   "cell_type": "markdown",
   "metadata": {
    "collapsed": true
   },
   "source": [
    "### We see that the data is in Unicode format, which will cause some trouble later. We will try to convert it to string."
   ]
  },
  {
   "cell_type": "code",
   "execution_count": 33,
   "metadata": {
    "collapsed": false
   },
   "outputs": [],
   "source": [
    "import unicodedata\n",
    "\n",
    "def unicode_to_string(word):\n",
    "    if pd.isnull(word):\n",
    "        return \n",
    "    else:\n",
    "        return unicodedata.normalize('NFKD', word).encode('ascii','ignore')"
   ]
  },
  {
   "cell_type": "code",
   "execution_count": 34,
   "metadata": {
    "collapsed": true
   },
   "outputs": [],
   "source": [
    "col_title = map(unicode_to_string,col_title_unicode)"
   ]
  },
  {
   "cell_type": "markdown",
   "metadata": {},
   "source": [
    "### We replace the column head by new string-format"
   ]
  },
  {
   "cell_type": "code",
   "execution_count": 35,
   "metadata": {
    "collapsed": false
   },
   "outputs": [],
   "source": [
    "data.columns = col_title"
   ]
  },
  {
   "cell_type": "code",
   "execution_count": 36,
   "metadata": {
    "collapsed": false
   },
   "outputs": [
    {
     "data": {
      "text/plain": [
       "['Code du departement',\n",
       " 'Libelle du departement',\n",
       " 'Code de la commune',\n",
       " 'Libelle de la commune',\n",
       " 'Inscrits',\n",
       " 'Abstentions',\n",
       " '% Abs/Ins',\n",
       " 'Votants',\n",
       " '% Vot/Ins',\n",
       " 'Blancs et nuls',\n",
       " '% BlNuls/Ins',\n",
       " '% BlNuls/Vot',\n",
       " 'Exprimes',\n",
       " '% Exp/Ins',\n",
       " '% Exp/Vot',\n",
       " 'Nuance Liste',\n",
       " 'Libelle Abrege Liste',\n",
       " 'Libelle Etendu Liste',\n",
       " 'Voix',\n",
       " '% Voix/Ins',\n",
       " '% Voix/Exp',\n",
       " 'Nuance Liste.1',\n",
       " 'Libelle Abrege Liste.1',\n",
       " 'Libelle Etendu Liste.1',\n",
       " 'Voix.1',\n",
       " '% Voix/Ins.1',\n",
       " '% Voix/Exp.1',\n",
       " 'Nuance Liste.2',\n",
       " 'Libelle Abrege Liste.2',\n",
       " 'Libelle Etendu Liste.2',\n",
       " 'Voix.2',\n",
       " '% Voix/Ins.2',\n",
       " '% Voix/Exp.2',\n",
       " 'Nuance Liste.3',\n",
       " 'Libelle Abrege Liste.3',\n",
       " 'Libelle Etendu Liste.3',\n",
       " 'Voix.3',\n",
       " '% Voix/Ins.3',\n",
       " '% Voix/Exp.3',\n",
       " 'Nuance Liste.4',\n",
       " 'Libelle Abrege Liste.4',\n",
       " 'Libelle Etendu Liste.4',\n",
       " 'Voix.4',\n",
       " '% Voix/Ins.4',\n",
       " '% Voix/Exp.4',\n",
       " 'Nuance Liste.5',\n",
       " 'Libelle Abrege Liste.5',\n",
       " 'Libelle Etendu Liste.5',\n",
       " 'Voix.5',\n",
       " '% Voix/Ins.5',\n",
       " '% Voix/Exp.5',\n",
       " 'Nuance Liste.6',\n",
       " 'Libelle Abrege Liste.6',\n",
       " 'Libelle Etendu Liste.6',\n",
       " 'Voix.6',\n",
       " '% Voix/Ins.6',\n",
       " '% Voix/Exp.6',\n",
       " 'Nuance Liste.7',\n",
       " 'Libelle Abrege Liste.7',\n",
       " 'Libelle Etendu Liste.7',\n",
       " 'Voix.7',\n",
       " '% Voix/Ins.7',\n",
       " '% Voix/Exp.7',\n",
       " 'Nuance Liste.8',\n",
       " 'Libelle Abrege Liste.8',\n",
       " 'Libelle Etendu Liste.8',\n",
       " 'Voix.8',\n",
       " '% Voix/Ins.8',\n",
       " '% Voix/Exp.8',\n",
       " 'Nuance Liste.9',\n",
       " 'Libelle Abrege Liste.9',\n",
       " 'Libelle Etendu Liste.9',\n",
       " 'Voix.9',\n",
       " '% Voix/Ins.9',\n",
       " '% Voix/Exp.9',\n",
       " 'Nuance Liste.10',\n",
       " 'Libelle Abrege Liste.10',\n",
       " 'Libelle Etendu Liste.10',\n",
       " 'Voix.10',\n",
       " '% Voix/Ins.10',\n",
       " '% Voix/Exp.10',\n",
       " 'Nuance Liste.11',\n",
       " 'Libelle Abrege Liste.11',\n",
       " 'Libelle Etendu Liste.11',\n",
       " 'Voix.11',\n",
       " '% Voix/Ins.11',\n",
       " '% Voix/Exp.11',\n",
       " 'Nuance Liste.12',\n",
       " 'Libelle Abrege Liste.12',\n",
       " 'Libelle Etendu Liste.12',\n",
       " 'Voix.12',\n",
       " '% Voix/Ins.12',\n",
       " '% Voix/Exp.12']"
      ]
     },
     "execution_count": 36,
     "metadata": {},
     "output_type": "execute_result"
    }
   ],
   "source": [
    "data.columns.values.tolist()"
   ]
  },
  {
   "cell_type": "markdown",
   "metadata": {},
   "source": [
    "###  We see that not only the column header but all the text-format cells in the dataset are in unicode. We will now convert all to string."
   ]
  },
  {
   "cell_type": "code",
   "execution_count": 26,
   "metadata": {
    "collapsed": true
   },
   "outputs": [],
   "source": [
    "def data_to_string(data):\n",
    "    new_data = data.copy()\n",
    "    for col in new_data.columns:\n",
    "        not_nan_index = [not ind for ind in new_data[col].isnull()]\n",
    "        not_nan_value = new_data[col][not_nan_index]\n",
    "        if type(not_nan_value.iloc[0]) == unicode: #check the first not-NaN value\n",
    "            new_data[col] = map(unicode_to_string,new_data[col])\n",
    "    return new_data"
   ]
  },
  {
   "cell_type": "code",
   "execution_count": 59,
   "metadata": {
    "collapsed": true
   },
   "outputs": [],
   "source": [
    "import unicodedata\n",
    "\n",
    "def unicode_to_string(word):\n",
    "    if pd.isnull(word):\n",
    "        return \n",
    "    else:\n",
    "        return unicodedata.normalize('NFKD', word).encode('ascii','ignore')\n",
    "    \n",
    "def data_to_string(data):\n",
    "    new_data = data.copy()\n",
    "    \n",
    "    col_title_unicode = new_data.columns.values.tolist()\n",
    "    col_title = map(unicode_to_string,col_title_unicode)\n",
    "    new_data.columns = col_title\n",
    "    \n",
    "    for col in new_data.columns:\n",
    "        not_nan_index = [not ind for ind in new_data[col].isnull()]\n",
    "        not_nan_value = new_data[col][not_nan_index]\n",
    "        if type(not_nan_value.iloc[0]) == unicode: #check the first not-NaN value\n",
    "            new_data[col] = map(unicode_to_string,new_data[col]) \n",
    "    return new_data"
   ]
  },
  {
   "cell_type": "code",
   "execution_count": 60,
   "metadata": {
    "collapsed": false
   },
   "outputs": [],
   "source": [
    "data = data_to_string(data)"
   ]
  },
  {
   "cell_type": "markdown",
   "metadata": {},
   "source": [
    "### Check if there are NaN values in Numeric columns"
   ]
  },
  {
   "cell_type": "code",
   "execution_count": 61,
   "metadata": {
    "collapsed": true
   },
   "outputs": [],
   "source": [
    "def check_nan_in_numeric(data):\n",
    "    new_data = data.copy()\n",
    "    for col in new_data.columns:\n",
    "        not_nan_index = [not ind for ind in new_data[col].isnull()]\n",
    "        not_nan_value = new_data[col][not_nan_index]\n",
    "        if type(not_nan_value.iloc[0]) is not str : #check the first not-NaN value to eliminate all string column\n",
    "            if new_data[col].isnull().any(): \n",
    "                print col"
   ]
  },
  {
   "cell_type": "code",
   "execution_count": 62,
   "metadata": {
    "collapsed": false
   },
   "outputs": [
    {
     "name": "stdout",
     "output_type": "stream",
     "text": [
      "Voix.8\n",
      "% Voix/Ins.8\n",
      "% Voix/Exp.8\n",
      "Voix.9\n",
      "% Voix/Ins.9\n",
      "% Voix/Exp.9\n",
      "Voix.10\n",
      "% Voix/Ins.10\n",
      "% Voix/Exp.10\n",
      "Voix.11\n",
      "% Voix/Ins.11\n",
      "% Voix/Exp.11\n",
      "Voix.12\n",
      "% Voix/Ins.12\n",
      "% Voix/Exp.12\n"
     ]
    }
   ],
   "source": [
    "check_nan_in_numeric(data)"
   ]
  },
  {
   "cell_type": "markdown",
   "metadata": {},
   "source": [
    "### The problem here is that the number of parties is not the same in all communities: most of them have 8 parties, but some of them have more than 8. \n",
    "### Therefore, before checking for NaN value, we need to re-organize the data.\n",
    "### We will create a new dataframe that has only 1 voting result per row.\n",
    "### We start by adding a new column in the original dataset: Code Insee. We will use this as our pivot column."
   ]
  },
  {
   "cell_type": "code",
   "execution_count": 63,
   "metadata": {
    "collapsed": true
   },
   "outputs": [],
   "source": [
    "def add_insee_code(data):\n",
    "    new_data = data.copy()\n",
    "    insee_code = []\n",
    "    for x in xrange(len(new_data)):\n",
    "        if new_data['Code du departement'][x] < 100:\n",
    "            code = new_data['Code du departement'][x]*1000 + new_data['Code de la commune'][x]\n",
    "        else:\n",
    "            code = (new_data['Code du departement'][x]/10)*1000 + new_data['Code de la commune'][x]\n",
    "        insee_code.append(code)\n",
    "    new_data['Code Insee'] = insee_code\n",
    "    cols = new_data.columns.tolist()\n",
    "    cols = cols[-1:] + cols[:-1] # we move the new variable to the first column of our dataframe\n",
    "    new_data = new_data[cols]\n",
    "    return new_data"
   ]
  },
  {
   "cell_type": "code",
   "execution_count": 64,
   "metadata": {
    "collapsed": false
   },
   "outputs": [],
   "source": [
    "data = add_insee_code(data)"
   ]
  },
  {
   "cell_type": "code",
   "execution_count": 70,
   "metadata": {
    "collapsed": false
   },
   "outputs": [
    {
     "data": {
      "text/plain": [
       "['Code Insee',\n",
       " 'Code du departement',\n",
       " 'Libelle du departement',\n",
       " 'Code de la commune',\n",
       " 'Libelle de la commune',\n",
       " 'Inscrits',\n",
       " 'Abstentions',\n",
       " '% Abs/Ins',\n",
       " 'Votants',\n",
       " '% Vot/Ins',\n",
       " 'Blancs et nuls',\n",
       " '% BlNuls/Ins',\n",
       " '% BlNuls/Vot',\n",
       " 'Exprimes',\n",
       " '% Exp/Ins',\n",
       " '% Exp/Vot',\n",
       " 'Nuance Liste',\n",
       " 'Libelle Abrege Liste',\n",
       " 'Libelle Etendu Liste',\n",
       " 'Voix',\n",
       " '% Voix/Ins',\n",
       " '% Voix/Exp',\n",
       " 'Nuance Liste.1',\n",
       " 'Libelle Abrege Liste.1',\n",
       " 'Libelle Etendu Liste.1',\n",
       " 'Voix.1',\n",
       " '% Voix/Ins.1',\n",
       " '% Voix/Exp.1',\n",
       " 'Nuance Liste.2',\n",
       " 'Libelle Abrege Liste.2',\n",
       " 'Libelle Etendu Liste.2',\n",
       " 'Voix.2',\n",
       " '% Voix/Ins.2',\n",
       " '% Voix/Exp.2',\n",
       " 'Nuance Liste.3',\n",
       " 'Libelle Abrege Liste.3',\n",
       " 'Libelle Etendu Liste.3',\n",
       " 'Voix.3',\n",
       " '% Voix/Ins.3',\n",
       " '% Voix/Exp.3',\n",
       " 'Nuance Liste.4',\n",
       " 'Libelle Abrege Liste.4',\n",
       " 'Libelle Etendu Liste.4',\n",
       " 'Voix.4',\n",
       " '% Voix/Ins.4',\n",
       " '% Voix/Exp.4',\n",
       " 'Nuance Liste.5',\n",
       " 'Libelle Abrege Liste.5',\n",
       " 'Libelle Etendu Liste.5',\n",
       " 'Voix.5',\n",
       " '% Voix/Ins.5',\n",
       " '% Voix/Exp.5',\n",
       " 'Nuance Liste.6',\n",
       " 'Libelle Abrege Liste.6',\n",
       " 'Libelle Etendu Liste.6',\n",
       " 'Voix.6',\n",
       " '% Voix/Ins.6',\n",
       " '% Voix/Exp.6',\n",
       " 'Nuance Liste.7',\n",
       " 'Libelle Abrege Liste.7',\n",
       " 'Libelle Etendu Liste.7',\n",
       " 'Voix.7',\n",
       " '% Voix/Ins.7',\n",
       " '% Voix/Exp.7',\n",
       " 'Nuance Liste.8',\n",
       " 'Libelle Abrege Liste.8',\n",
       " 'Libelle Etendu Liste.8',\n",
       " 'Voix.8',\n",
       " '% Voix/Ins.8',\n",
       " '% Voix/Exp.8',\n",
       " 'Nuance Liste.9',\n",
       " 'Libelle Abrege Liste.9',\n",
       " 'Libelle Etendu Liste.9',\n",
       " 'Voix.9',\n",
       " '% Voix/Ins.9',\n",
       " '% Voix/Exp.9',\n",
       " 'Nuance Liste.10',\n",
       " 'Libelle Abrege Liste.10',\n",
       " 'Libelle Etendu Liste.10',\n",
       " 'Voix.10',\n",
       " '% Voix/Ins.10',\n",
       " '% Voix/Exp.10',\n",
       " 'Nuance Liste.11',\n",
       " 'Libelle Abrege Liste.11',\n",
       " 'Libelle Etendu Liste.11',\n",
       " 'Voix.11',\n",
       " '% Voix/Ins.11',\n",
       " '% Voix/Exp.11',\n",
       " 'Nuance Liste.12',\n",
       " 'Libelle Abrege Liste.12',\n",
       " 'Libelle Etendu Liste.12',\n",
       " 'Voix.12',\n",
       " '% Voix/Ins.12',\n",
       " '% Voix/Exp.12']"
      ]
     },
     "execution_count": 70,
     "metadata": {},
     "output_type": "execute_result"
    }
   ],
   "source": [
    "data.columns.tolist()"
   ]
  },
  {
   "cell_type": "markdown",
   "metadata": {},
   "source": [
    "#### (NB: we had to manually modify some departement codes like those of Corse, Reunion, Martinique,.... because they were not in numerical form)."
   ]
  },
  {
   "cell_type": "markdown",
   "metadata": {},
   "source": [
    "### Now we create the new dataframe. "
   ]
  },
  {
   "cell_type": "code",
   "execution_count": 65,
   "metadata": {
    "collapsed": true
   },
   "outputs": [],
   "source": [
    "def remove_nan(data):\n",
    "    new_data = data.copy()\n",
    "    boolean_df = pd.notnull(new_data[new_data.columns.tolist()[1:]])\n",
    "    boolean_list = [any(row) for index, row in boolean_df.iterrows()]\n",
    "    new_data = new_data[boolean_list]\n",
    "    return new_data"
   ]
  },
  {
   "cell_type": "code",
   "execution_count": 82,
   "metadata": {
    "collapsed": false
   },
   "outputs": [],
   "source": [
    "def create_voting_data(data):\n",
    "    data_index = ['Code Insee', 'Nuance Liste', 'Voix', '% Voix/Ins','% Voix/Exp']\n",
    "\n",
    "    code_insee = 'Code Insee'\n",
    "    #nListe = 'NListe'\n",
    "    nuance_liste = 'Nuance Liste'\n",
    "    voix = 'Voix'\n",
    "    voix_ins = '% Voix/Ins'\n",
    "    voix_exp = '% Voix/Exp'\n",
    "\n",
    "    voting_data = data[data_index] \n",
    "    counter = 1\n",
    "\n",
    "    while True:\n",
    "        #new_nListe = nListe + '.' + str(counter)\n",
    "        new_nuance_liste = nuance_liste + '.' + str(counter)\n",
    "        new_voix = voix + '.' + str(counter)\n",
    "        new_voix_ins = voix_ins + '.' + str(counter)\n",
    "        new_voix_exp = voix_exp + '.' + str(counter)\n",
    "\n",
    "        try: # condition to stop\n",
    "            data[new_nuance_liste]  \n",
    "        except: \n",
    "            break\n",
    "\n",
    "        new_data_index = ['Code Insee',new_nuance_liste, new_voix,new_voix_ins, new_voix_exp]\n",
    "        new_data = data[new_data_index]\n",
    "        new_data.columns = data_index\n",
    "        voting_data = pd.concat([voting_data, new_data])\n",
    "        counter += 1\n",
    "\n",
    "    voting_data = remove_nan(voting_data)\n",
    "    voting_data = voting_data.sort_index() \n",
    "    voting_data.index = range(0,len(voting_data))\n",
    "    \n",
    "    return voting_data"
   ]
  },
  {
   "cell_type": "code",
   "execution_count": 83,
   "metadata": {
    "collapsed": false
   },
   "outputs": [],
   "source": [
    "voting_data = create_voting_data(data)"
   ]
  },
  {
   "cell_type": "code",
   "execution_count": 84,
   "metadata": {
    "collapsed": false
   },
   "outputs": [
    {
     "data": {
      "text/plain": [
       "(353727, 5)"
      ]
     },
     "execution_count": 84,
     "metadata": {},
     "output_type": "execute_result"
    }
   ],
   "source": [
    "voting_data.shape"
   ]
  },
  {
   "cell_type": "markdown",
   "metadata": {},
   "source": [
    "### Once we have a clean list, we will divide it into 3 groups corresponding to the 3 political orienatations: Left, Right and Extreme Right "
   ]
  },
  {
   "cell_type": "code",
   "execution_count": 87,
   "metadata": {
    "collapsed": false
   },
   "outputs": [
    {
     "data": {
      "text/plain": [
       "array(['LEXG', 'LMAJ', 'LCMD', 'LAUT', 'LVEC', 'LSOC', 'LCOP', 'LFN',\n",
       "       'LDVG', 'LEXD', 'LUG', 'LDVD', 'LREG'], dtype=object)"
      ]
     },
     "execution_count": 87,
     "metadata": {},
     "output_type": "execute_result"
    }
   ],
   "source": [
    "voting_data['Nuance Liste'].unique()"
   ]
  },
  {
   "cell_type": "code",
   "execution_count": 88,
   "metadata": {
    "collapsed": true
   },
   "outputs": [],
   "source": [
    "left_party = ['LDVG', 'LCOM', 'LFG', 'LEXG','LSOC','LVEG','LREG','LUG','LCOP']\n",
    "right_party = ['LDVD','LDLF', 'LUDI','LUD','LMDM', 'LRDG','LLR', 'LAUT'] \n",
    "er_party = ['LFN','LEXD',] \n",
    "other_party = ['LECO','LDIV', 'LVEC', 'LMAJ', 'LCMD']"
   ]
  },
  {
   "cell_type": "code",
   "execution_count": 89,
   "metadata": {
    "collapsed": false
   },
   "outputs": [],
   "source": [
    "left_party_vote = voting_data[voting_data['Nuance Liste'].isin(left_party)]\n",
    "left_party_vote.index = range(0, len(left_party_vote))\n",
    "                              \n",
    "right_party_vote = voting_data[voting_data['Nuance Liste'].isin(right_party)]\n",
    "right_party_vote.index = range(0, len(right_party_vote))\n",
    "                               \n",
    "er_party_vote = voting_data[voting_data['Nuance Liste'].isin(er_party)]\n",
    "er_party_vote.index = range(0, len(er_party_vote))\n",
    "                            \n",
    "other_party_vote = voting_data[voting_data['Nuance Liste'].isin(other_party)]\n",
    "other_party_vote.index = range(0, len(other_party_vote))"
   ]
  },
  {
   "cell_type": "markdown",
   "metadata": {},
   "source": [
    "### Now we group all the result of the right/left party in each town"
   ]
  },
  {
   "cell_type": "code",
   "execution_count": 92,
   "metadata": {
    "collapsed": true
   },
   "outputs": [],
   "source": [
    "def groupby_town(data, original_data):\n",
    "    new_data = data.copy()\n",
    "    #new_data = new_data.drop(['NListe','Nuance Liste'],1)\n",
    "    new_data = new_data.groupby('Code Insee')\n",
    "    new_data = new_data.aggregate(np.sum).reset_index()\n",
    "    abs_ins = original_data[['Code Insee','% Abs/Ins']] # we add abstention information\n",
    "    new_data = pd.merge(new_data,abs_ins, on = 'Code Insee',how='left')\n",
    "    return new_data"
   ]
  },
  {
   "cell_type": "code",
   "execution_count": 93,
   "metadata": {
    "collapsed": false
   },
   "outputs": [],
   "source": [
    "left_party_vote = groupby_town(left_party_vote,data) \n",
    "right_party_vote = groupby_town(right_party_vote,data)\n",
    "er_party_vote = groupby_town(er_party_vote,data)\n",
    "other_party_vote = groupby_town(other_party_vote,data)"
   ]
  },
  {
   "cell_type": "code",
   "execution_count": 102,
   "metadata": {
    "collapsed": false
   },
   "outputs": [
    {
     "data": {
      "text/html": [
       "<div>\n",
       "<table border=\"1\" class=\"dataframe\">\n",
       "  <thead>\n",
       "    <tr style=\"text-align: right;\">\n",
       "      <th></th>\n",
       "      <th>Code Insee</th>\n",
       "      <th>Voix</th>\n",
       "      <th>% Voix/Ins</th>\n",
       "      <th>% Voix/Exp</th>\n",
       "      <th>% Abs/Ins</th>\n",
       "    </tr>\n",
       "  </thead>\n",
       "  <tbody>\n",
       "    <tr>\n",
       "      <th>0</th>\n",
       "      <td>1001</td>\n",
       "      <td>9</td>\n",
       "      <td>1.53</td>\n",
       "      <td>3.52</td>\n",
       "      <td>55.10</td>\n",
       "    </tr>\n",
       "    <tr>\n",
       "      <th>1</th>\n",
       "      <td>1002</td>\n",
       "      <td>3</td>\n",
       "      <td>1.32</td>\n",
       "      <td>2.65</td>\n",
       "      <td>47.58</td>\n",
       "    </tr>\n",
       "    <tr>\n",
       "      <th>2</th>\n",
       "      <td>1004</td>\n",
       "      <td>61</td>\n",
       "      <td>0.79</td>\n",
       "      <td>1.97</td>\n",
       "      <td>58.70</td>\n",
       "    </tr>\n",
       "    <tr>\n",
       "      <th>3</th>\n",
       "      <td>1005</td>\n",
       "      <td>10</td>\n",
       "      <td>0.90</td>\n",
       "      <td>2.46</td>\n",
       "      <td>62.21</td>\n",
       "    </tr>\n",
       "    <tr>\n",
       "      <th>4</th>\n",
       "      <td>1006</td>\n",
       "      <td>0</td>\n",
       "      <td>0.00</td>\n",
       "      <td>0.00</td>\n",
       "      <td>52.83</td>\n",
       "    </tr>\n",
       "  </tbody>\n",
       "</table>\n",
       "</div>"
      ],
      "text/plain": [
       "   Code Insee  Voix  % Voix/Ins  % Voix/Exp  % Abs/Ins\n",
       "0        1001     9        1.53        3.52      55.10\n",
       "1        1002     3        1.32        2.65      47.58\n",
       "2        1004    61        0.79        1.97      58.70\n",
       "3        1005    10        0.90        2.46      62.21\n",
       "4        1006     0        0.00        0.00      52.83"
      ]
     },
     "execution_count": 102,
     "metadata": {},
     "output_type": "execute_result"
    }
   ],
   "source": [
    "right_party_vote.head() "
   ]
  },
  {
   "cell_type": "code",
   "execution_count": 95,
   "metadata": {
    "collapsed": false
   },
   "outputs": [
    {
     "data": {
      "text/html": [
       "<div>\n",
       "<table border=\"1\" class=\"dataframe\">\n",
       "  <thead>\n",
       "    <tr style=\"text-align: right;\">\n",
       "      <th></th>\n",
       "      <th>Code Insee</th>\n",
       "      <th>Voix</th>\n",
       "      <th>% Voix/Ins</th>\n",
       "      <th>% Voix/Exp</th>\n",
       "      <th>% Abs/Ins</th>\n",
       "    </tr>\n",
       "  </thead>\n",
       "  <tbody>\n",
       "    <tr>\n",
       "      <th>0</th>\n",
       "      <td>1001</td>\n",
       "      <td>84</td>\n",
       "      <td>14.28</td>\n",
       "      <td>32.81</td>\n",
       "      <td>55.10</td>\n",
       "    </tr>\n",
       "    <tr>\n",
       "      <th>1</th>\n",
       "      <td>1002</td>\n",
       "      <td>34</td>\n",
       "      <td>14.97</td>\n",
       "      <td>30.08</td>\n",
       "      <td>47.58</td>\n",
       "    </tr>\n",
       "    <tr>\n",
       "      <th>2</th>\n",
       "      <td>1004</td>\n",
       "      <td>1270</td>\n",
       "      <td>16.46</td>\n",
       "      <td>41.11</td>\n",
       "      <td>58.70</td>\n",
       "    </tr>\n",
       "    <tr>\n",
       "      <th>3</th>\n",
       "      <td>1005</td>\n",
       "      <td>141</td>\n",
       "      <td>12.74</td>\n",
       "      <td>34.73</td>\n",
       "      <td>62.21</td>\n",
       "    </tr>\n",
       "    <tr>\n",
       "      <th>4</th>\n",
       "      <td>1006</td>\n",
       "      <td>17</td>\n",
       "      <td>16.04</td>\n",
       "      <td>34.00</td>\n",
       "      <td>52.83</td>\n",
       "    </tr>\n",
       "  </tbody>\n",
       "</table>\n",
       "</div>"
      ],
      "text/plain": [
       "   Code Insee  Voix  % Voix/Ins  % Voix/Exp  % Abs/Ins\n",
       "0        1001    84       14.28       32.81      55.10\n",
       "1        1002    34       14.97       30.08      47.58\n",
       "2        1004  1270       16.46       41.11      58.70\n",
       "3        1005   141       12.74       34.73      62.21\n",
       "4        1006    17       16.04       34.00      52.83"
      ]
     },
     "execution_count": 95,
     "metadata": {},
     "output_type": "execute_result"
    }
   ],
   "source": [
    "left_party_vote.head()"
   ]
  },
  {
   "cell_type": "code",
   "execution_count": 101,
   "metadata": {
    "collapsed": false
   },
   "outputs": [
    {
     "data": {
      "text/html": [
       "<div>\n",
       "<table border=\"1\" class=\"dataframe\">\n",
       "  <thead>\n",
       "    <tr style=\"text-align: right;\">\n",
       "      <th></th>\n",
       "      <th>Code Insee</th>\n",
       "      <th>Voix</th>\n",
       "      <th>% Voix/Ins</th>\n",
       "      <th>% Voix/Exp</th>\n",
       "      <th>% Abs/Ins</th>\n",
       "    </tr>\n",
       "  </thead>\n",
       "  <tbody>\n",
       "    <tr>\n",
       "      <th>0</th>\n",
       "      <td>1001</td>\n",
       "      <td>58</td>\n",
       "      <td>9.86</td>\n",
       "      <td>22.66</td>\n",
       "      <td>55.10</td>\n",
       "    </tr>\n",
       "    <tr>\n",
       "      <th>1</th>\n",
       "      <td>1002</td>\n",
       "      <td>19</td>\n",
       "      <td>8.37</td>\n",
       "      <td>16.81</td>\n",
       "      <td>47.58</td>\n",
       "    </tr>\n",
       "    <tr>\n",
       "      <th>2</th>\n",
       "      <td>1004</td>\n",
       "      <td>465</td>\n",
       "      <td>6.03</td>\n",
       "      <td>15.05</td>\n",
       "      <td>58.70</td>\n",
       "    </tr>\n",
       "    <tr>\n",
       "      <th>3</th>\n",
       "      <td>1005</td>\n",
       "      <td>84</td>\n",
       "      <td>7.59</td>\n",
       "      <td>20.69</td>\n",
       "      <td>62.21</td>\n",
       "    </tr>\n",
       "    <tr>\n",
       "      <th>4</th>\n",
       "      <td>1006</td>\n",
       "      <td>8</td>\n",
       "      <td>7.55</td>\n",
       "      <td>16.00</td>\n",
       "      <td>52.83</td>\n",
       "    </tr>\n",
       "  </tbody>\n",
       "</table>\n",
       "</div>"
      ],
      "text/plain": [
       "   Code Insee  Voix  % Voix/Ins  % Voix/Exp  % Abs/Ins\n",
       "0        1001    58        9.86       22.66      55.10\n",
       "1        1002    19        8.37       16.81      47.58\n",
       "2        1004   465        6.03       15.05      58.70\n",
       "3        1005    84        7.59       20.69      62.21\n",
       "4        1006     8        7.55       16.00      52.83"
      ]
     },
     "execution_count": 101,
     "metadata": {},
     "output_type": "execute_result"
    }
   ],
   "source": [
    "er_party_vote.head()"
   ]
  },
  {
   "cell_type": "markdown",
   "metadata": {},
   "source": [
    "### We export these dataframes to excel files"
   ]
  },
  {
   "cell_type": "code",
   "execution_count": 97,
   "metadata": {
    "collapsed": false
   },
   "outputs": [],
   "source": [
    "writer = pd.ExcelWriter('2010_left_party_vote.xlsx')\n",
    "left_party_vote.to_excel(writer,'Sheet1')\n",
    "writer.save()"
   ]
  },
  {
   "cell_type": "code",
   "execution_count": 98,
   "metadata": {
    "collapsed": true
   },
   "outputs": [],
   "source": [
    "writer = pd.ExcelWriter('2010_right_party_vote.xlsx')\n",
    "right_party_vote.to_excel(writer,'Sheet1')\n",
    "writer.save()"
   ]
  },
  {
   "cell_type": "code",
   "execution_count": 96,
   "metadata": {
    "collapsed": true
   },
   "outputs": [],
   "source": [
    "writer = pd.ExcelWriter('2010_er_party_vote.xlsx')\n",
    "er_party_vote.to_excel(writer,'Sheet1')\n",
    "writer.save()"
   ]
  }
 ],
 "metadata": {
  "kernelspec": {
   "display_name": "Python 2",
   "language": "python",
   "name": "python2"
  },
  "language_info": {
   "codemirror_mode": {
    "name": "ipython",
    "version": 2
   },
   "file_extension": ".py",
   "mimetype": "text/x-python",
   "name": "python",
   "nbconvert_exporter": "python",
   "pygments_lexer": "ipython2",
   "version": "2.7.11"
  }
 },
 "nbformat": 4,
 "nbformat_minor": 0
}
